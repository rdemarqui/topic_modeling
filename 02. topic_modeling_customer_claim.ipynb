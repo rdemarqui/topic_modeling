{
  "nbformat": 4,
  "nbformat_minor": 0,
  "metadata": {
    "colab": {
      "provenance": [],
      "toc_visible": true,
      "gpuType": "T4",
      "authorship_tag": "ABX9TyNYLRtjmH1TvuRLxmLw5I2r",
      "include_colab_link": true
    },
    "kernelspec": {
      "name": "python3",
      "display_name": "Python 3"
    },
    "language_info": {
      "name": "python"
    },
    "accelerator": "GPU"
  },
  "cells": [
    {
      "cell_type": "markdown",
      "metadata": {
        "id": "view-in-github",
        "colab_type": "text"
      },
      "source": [
        "<a href=\"https://colab.research.google.com/github/rdemarqui/topic_modeling/blob/main/02.%20topic_modeling_customer_claim.ipynb\" target=\"_parent\"><img src=\"https://colab.research.google.com/assets/colab-badge.svg\" alt=\"Open In Colab\"/></a>"
      ]
    },
    {
      "cell_type": "markdown",
      "source": [
        "# Customer claims analysis"
      ],
      "metadata": {
        "id": "SYGjlAwUQLsI"
      }
    },
    {
      "cell_type": "markdown",
      "source": [
        "## Open Dataset"
      ],
      "metadata": {
        "id": "8adBRjDEQsTx"
      }
    },
    {
      "cell_type": "code",
      "source": [
        "from IPython.display import clear_output\n",
        "import warnings\n",
        "warnings.filterwarnings('ignore', 'error')"
      ],
      "metadata": {
        "id": "qpIyT-1VY2qO"
      },
      "execution_count": 1,
      "outputs": []
    },
    {
      "cell_type": "code",
      "execution_count": 2,
      "metadata": {
        "id": "Ez3anRREQBSZ"
      },
      "outputs": [],
      "source": [
        "import pandas as pd"
      ]
    },
    {
      "cell_type": "code",
      "source": [
        "data_url = 'https://raw.githubusercontent.com/rdemarqui/topic_modeling/main/datasets/full_dataset_claro.xlsx'\n",
        "df = pd.read_excel(data_url)\n",
        "print(df.shape)\n",
        "df.head()"
      ],
      "metadata": {
        "colab": {
          "base_uri": "https://localhost:8080/",
          "height": 310
        },
        "id": "MvciBgf2QQb4",
        "outputId": "cc047c18-3e9f-4cbb-d4f6-169d0b54f999"
      },
      "execution_count": 3,
      "outputs": [
        {
          "output_type": "stream",
          "name": "stdout",
          "text": [
            "(7000, 4)\n"
          ]
        },
        {
          "output_type": "execute_result",
          "data": {
            "text/plain": [
              "                                               title  \\\n",
              "0                                  Cobrança indevida   \n",
              "1                                  Cobrança indevida   \n",
              "2                    Recarga por aplicativo da claro   \n",
              "3                                 Cobrança duplicada   \n",
              "4  EMPRESA CLARO MOVEL NÃO ESTÁ CREDITANDO RECARG...   \n",
              "\n",
              "                                                link            problem  \\\n",
              "0         /claro/cobranca-indevida_T1CYGOYSZNTs1n-3/  Cobrança indevida   \n",
              "1         /claro/cobranca-indevida_SjlfHnzsQ6W7KVee/  Cobrança indevida   \n",
              "2  /claro/recarga-por-aplicativo-da-claro_8WMAcH4...  Cobrança indevida   \n",
              "3        /claro/cobranca-duplicada__97YKYI-f-o1AkRd/  Cobrança indevida   \n",
              "4  /claro/empresa-claro-movel-nao-esta-creditando...  Cobrança indevida   \n",
              "\n",
              "                                         description  \n",
              "0  Recebi um e-mail spam com uma fatura no valor ...  \n",
              "1  Compra não autoriza na meu cartão, chip de núm...  \n",
              "2  No dia 11 de outubro realizei uma recarga pelo...  \n",
              "3  segue o número de protocolo do atendimento rea...  \n",
              "4  FIZ HOJE DIA 12/10/2023 UMA RECARGA DE CELULAR...  "
            ],
            "text/html": [
              "\n",
              "  <div id=\"df-7e2bbfd9-1dee-4d13-9048-a623382bd068\" class=\"colab-df-container\">\n",
              "    <div>\n",
              "<style scoped>\n",
              "    .dataframe tbody tr th:only-of-type {\n",
              "        vertical-align: middle;\n",
              "    }\n",
              "\n",
              "    .dataframe tbody tr th {\n",
              "        vertical-align: top;\n",
              "    }\n",
              "\n",
              "    .dataframe thead th {\n",
              "        text-align: right;\n",
              "    }\n",
              "</style>\n",
              "<table border=\"1\" class=\"dataframe\">\n",
              "  <thead>\n",
              "    <tr style=\"text-align: right;\">\n",
              "      <th></th>\n",
              "      <th>title</th>\n",
              "      <th>link</th>\n",
              "      <th>problem</th>\n",
              "      <th>description</th>\n",
              "    </tr>\n",
              "  </thead>\n",
              "  <tbody>\n",
              "    <tr>\n",
              "      <th>0</th>\n",
              "      <td>Cobrança indevida</td>\n",
              "      <td>/claro/cobranca-indevida_T1CYGOYSZNTs1n-3/</td>\n",
              "      <td>Cobrança indevida</td>\n",
              "      <td>Recebi um e-mail spam com uma fatura no valor ...</td>\n",
              "    </tr>\n",
              "    <tr>\n",
              "      <th>1</th>\n",
              "      <td>Cobrança indevida</td>\n",
              "      <td>/claro/cobranca-indevida_SjlfHnzsQ6W7KVee/</td>\n",
              "      <td>Cobrança indevida</td>\n",
              "      <td>Compra não autoriza na meu cartão, chip de núm...</td>\n",
              "    </tr>\n",
              "    <tr>\n",
              "      <th>2</th>\n",
              "      <td>Recarga por aplicativo da claro</td>\n",
              "      <td>/claro/recarga-por-aplicativo-da-claro_8WMAcH4...</td>\n",
              "      <td>Cobrança indevida</td>\n",
              "      <td>No dia 11 de outubro realizei uma recarga pelo...</td>\n",
              "    </tr>\n",
              "    <tr>\n",
              "      <th>3</th>\n",
              "      <td>Cobrança duplicada</td>\n",
              "      <td>/claro/cobranca-duplicada__97YKYI-f-o1AkRd/</td>\n",
              "      <td>Cobrança indevida</td>\n",
              "      <td>segue o número de protocolo do atendimento rea...</td>\n",
              "    </tr>\n",
              "    <tr>\n",
              "      <th>4</th>\n",
              "      <td>EMPRESA CLARO MOVEL NÃO ESTÁ CREDITANDO RECARG...</td>\n",
              "      <td>/claro/empresa-claro-movel-nao-esta-creditando...</td>\n",
              "      <td>Cobrança indevida</td>\n",
              "      <td>FIZ HOJE DIA 12/10/2023 UMA RECARGA DE CELULAR...</td>\n",
              "    </tr>\n",
              "  </tbody>\n",
              "</table>\n",
              "</div>\n",
              "    <div class=\"colab-df-buttons\">\n",
              "\n",
              "  <div class=\"colab-df-container\">\n",
              "    <button class=\"colab-df-convert\" onclick=\"convertToInteractive('df-7e2bbfd9-1dee-4d13-9048-a623382bd068')\"\n",
              "            title=\"Convert this dataframe to an interactive table.\"\n",
              "            style=\"display:none;\">\n",
              "\n",
              "  <svg xmlns=\"http://www.w3.org/2000/svg\" height=\"24px\" viewBox=\"0 -960 960 960\">\n",
              "    <path d=\"M120-120v-720h720v720H120Zm60-500h600v-160H180v160Zm220 220h160v-160H400v160Zm0 220h160v-160H400v160ZM180-400h160v-160H180v160Zm440 0h160v-160H620v160ZM180-180h160v-160H180v160Zm440 0h160v-160H620v160Z\"/>\n",
              "  </svg>\n",
              "    </button>\n",
              "\n",
              "  <style>\n",
              "    .colab-df-container {\n",
              "      display:flex;\n",
              "      gap: 12px;\n",
              "    }\n",
              "\n",
              "    .colab-df-convert {\n",
              "      background-color: #E8F0FE;\n",
              "      border: none;\n",
              "      border-radius: 50%;\n",
              "      cursor: pointer;\n",
              "      display: none;\n",
              "      fill: #1967D2;\n",
              "      height: 32px;\n",
              "      padding: 0 0 0 0;\n",
              "      width: 32px;\n",
              "    }\n",
              "\n",
              "    .colab-df-convert:hover {\n",
              "      background-color: #E2EBFA;\n",
              "      box-shadow: 0px 1px 2px rgba(60, 64, 67, 0.3), 0px 1px 3px 1px rgba(60, 64, 67, 0.15);\n",
              "      fill: #174EA6;\n",
              "    }\n",
              "\n",
              "    .colab-df-buttons div {\n",
              "      margin-bottom: 4px;\n",
              "    }\n",
              "\n",
              "    [theme=dark] .colab-df-convert {\n",
              "      background-color: #3B4455;\n",
              "      fill: #D2E3FC;\n",
              "    }\n",
              "\n",
              "    [theme=dark] .colab-df-convert:hover {\n",
              "      background-color: #434B5C;\n",
              "      box-shadow: 0px 1px 3px 1px rgba(0, 0, 0, 0.15);\n",
              "      filter: drop-shadow(0px 1px 2px rgba(0, 0, 0, 0.3));\n",
              "      fill: #FFFFFF;\n",
              "    }\n",
              "  </style>\n",
              "\n",
              "    <script>\n",
              "      const buttonEl =\n",
              "        document.querySelector('#df-7e2bbfd9-1dee-4d13-9048-a623382bd068 button.colab-df-convert');\n",
              "      buttonEl.style.display =\n",
              "        google.colab.kernel.accessAllowed ? 'block' : 'none';\n",
              "\n",
              "      async function convertToInteractive(key) {\n",
              "        const element = document.querySelector('#df-7e2bbfd9-1dee-4d13-9048-a623382bd068');\n",
              "        const dataTable =\n",
              "          await google.colab.kernel.invokeFunction('convertToInteractive',\n",
              "                                                    [key], {});\n",
              "        if (!dataTable) return;\n",
              "\n",
              "        const docLinkHtml = 'Like what you see? Visit the ' +\n",
              "          '<a target=\"_blank\" href=https://colab.research.google.com/notebooks/data_table.ipynb>data table notebook</a>'\n",
              "          + ' to learn more about interactive tables.';\n",
              "        element.innerHTML = '';\n",
              "        dataTable['output_type'] = 'display_data';\n",
              "        await google.colab.output.renderOutput(dataTable, element);\n",
              "        const docLink = document.createElement('div');\n",
              "        docLink.innerHTML = docLinkHtml;\n",
              "        element.appendChild(docLink);\n",
              "      }\n",
              "    </script>\n",
              "  </div>\n",
              "\n",
              "\n",
              "<div id=\"df-f9f2c60a-5e58-46bd-9868-ff15c7c7d0db\">\n",
              "  <button class=\"colab-df-quickchart\" onclick=\"quickchart('df-f9f2c60a-5e58-46bd-9868-ff15c7c7d0db')\"\n",
              "            title=\"Suggest charts.\"\n",
              "            style=\"display:none;\">\n",
              "\n",
              "<svg xmlns=\"http://www.w3.org/2000/svg\" height=\"24px\"viewBox=\"0 0 24 24\"\n",
              "     width=\"24px\">\n",
              "    <g>\n",
              "        <path d=\"M19 3H5c-1.1 0-2 .9-2 2v14c0 1.1.9 2 2 2h14c1.1 0 2-.9 2-2V5c0-1.1-.9-2-2-2zM9 17H7v-7h2v7zm4 0h-2V7h2v10zm4 0h-2v-4h2v4z\"/>\n",
              "    </g>\n",
              "</svg>\n",
              "  </button>\n",
              "\n",
              "<style>\n",
              "  .colab-df-quickchart {\n",
              "      --bg-color: #E8F0FE;\n",
              "      --fill-color: #1967D2;\n",
              "      --hover-bg-color: #E2EBFA;\n",
              "      --hover-fill-color: #174EA6;\n",
              "      --disabled-fill-color: #AAA;\n",
              "      --disabled-bg-color: #DDD;\n",
              "  }\n",
              "\n",
              "  [theme=dark] .colab-df-quickchart {\n",
              "      --bg-color: #3B4455;\n",
              "      --fill-color: #D2E3FC;\n",
              "      --hover-bg-color: #434B5C;\n",
              "      --hover-fill-color: #FFFFFF;\n",
              "      --disabled-bg-color: #3B4455;\n",
              "      --disabled-fill-color: #666;\n",
              "  }\n",
              "\n",
              "  .colab-df-quickchart {\n",
              "    background-color: var(--bg-color);\n",
              "    border: none;\n",
              "    border-radius: 50%;\n",
              "    cursor: pointer;\n",
              "    display: none;\n",
              "    fill: var(--fill-color);\n",
              "    height: 32px;\n",
              "    padding: 0;\n",
              "    width: 32px;\n",
              "  }\n",
              "\n",
              "  .colab-df-quickchart:hover {\n",
              "    background-color: var(--hover-bg-color);\n",
              "    box-shadow: 0 1px 2px rgba(60, 64, 67, 0.3), 0 1px 3px 1px rgba(60, 64, 67, 0.15);\n",
              "    fill: var(--button-hover-fill-color);\n",
              "  }\n",
              "\n",
              "  .colab-df-quickchart-complete:disabled,\n",
              "  .colab-df-quickchart-complete:disabled:hover {\n",
              "    background-color: var(--disabled-bg-color);\n",
              "    fill: var(--disabled-fill-color);\n",
              "    box-shadow: none;\n",
              "  }\n",
              "\n",
              "  .colab-df-spinner {\n",
              "    border: 2px solid var(--fill-color);\n",
              "    border-color: transparent;\n",
              "    border-bottom-color: var(--fill-color);\n",
              "    animation:\n",
              "      spin 1s steps(1) infinite;\n",
              "  }\n",
              "\n",
              "  @keyframes spin {\n",
              "    0% {\n",
              "      border-color: transparent;\n",
              "      border-bottom-color: var(--fill-color);\n",
              "      border-left-color: var(--fill-color);\n",
              "    }\n",
              "    20% {\n",
              "      border-color: transparent;\n",
              "      border-left-color: var(--fill-color);\n",
              "      border-top-color: var(--fill-color);\n",
              "    }\n",
              "    30% {\n",
              "      border-color: transparent;\n",
              "      border-left-color: var(--fill-color);\n",
              "      border-top-color: var(--fill-color);\n",
              "      border-right-color: var(--fill-color);\n",
              "    }\n",
              "    40% {\n",
              "      border-color: transparent;\n",
              "      border-right-color: var(--fill-color);\n",
              "      border-top-color: var(--fill-color);\n",
              "    }\n",
              "    60% {\n",
              "      border-color: transparent;\n",
              "      border-right-color: var(--fill-color);\n",
              "    }\n",
              "    80% {\n",
              "      border-color: transparent;\n",
              "      border-right-color: var(--fill-color);\n",
              "      border-bottom-color: var(--fill-color);\n",
              "    }\n",
              "    90% {\n",
              "      border-color: transparent;\n",
              "      border-bottom-color: var(--fill-color);\n",
              "    }\n",
              "  }\n",
              "</style>\n",
              "\n",
              "  <script>\n",
              "    async function quickchart(key) {\n",
              "      const quickchartButtonEl =\n",
              "        document.querySelector('#' + key + ' button');\n",
              "      quickchartButtonEl.disabled = true;  // To prevent multiple clicks.\n",
              "      quickchartButtonEl.classList.add('colab-df-spinner');\n",
              "      try {\n",
              "        const charts = await google.colab.kernel.invokeFunction(\n",
              "            'suggestCharts', [key], {});\n",
              "      } catch (error) {\n",
              "        console.error('Error during call to suggestCharts:', error);\n",
              "      }\n",
              "      quickchartButtonEl.classList.remove('colab-df-spinner');\n",
              "      quickchartButtonEl.classList.add('colab-df-quickchart-complete');\n",
              "    }\n",
              "    (() => {\n",
              "      let quickchartButtonEl =\n",
              "        document.querySelector('#df-f9f2c60a-5e58-46bd-9868-ff15c7c7d0db button');\n",
              "      quickchartButtonEl.style.display =\n",
              "        google.colab.kernel.accessAllowed ? 'block' : 'none';\n",
              "    })();\n",
              "  </script>\n",
              "</div>\n",
              "    </div>\n",
              "  </div>\n"
            ]
          },
          "metadata": {},
          "execution_count": 3
        }
      ]
    },
    {
      "cell_type": "code",
      "source": [
        "# Check category quantity\n",
        "df.groupby('problem')['description'].count()"
      ],
      "metadata": {
        "id": "s4sjeKkafUSu",
        "outputId": "8be64875-9206-4ed5-9ae8-c80124b384f6",
        "colab": {
          "base_uri": "https://localhost:8080/"
        }
      },
      "execution_count": 24,
      "outputs": [
        {
          "output_type": "execute_result",
          "data": {
            "text/plain": [
              "problem\n",
              "Cancelamento                               500\n",
              "Cobrança indevida                          500\n",
              "Consumo de crédito                         500\n",
              "Corte indevido da linha                    500\n",
              "Demora na execução                         500\n",
              "Instabilidade do sinal                     500\n",
              "Mau atendimento do prestador de serviço    500\n",
              "Mudança de plano                           498\n",
              "Planos e tarifas                           500\n",
              "Portabilidade                              500\n",
              "Problema com recarga                       500\n",
              "Problemas com o chip                       500\n",
              "Promoções                                  500\n",
              "Qualidade da internet                      500\n",
              "Name: description, dtype: int64"
            ]
          },
          "metadata": {},
          "execution_count": 24
        }
      ]
    },
    {
      "cell_type": "markdown",
      "source": [
        "## Text Preprocess"
      ],
      "metadata": {
        "id": "SUABsKOpxMXC"
      }
    },
    {
      "cell_type": "markdown",
      "source": [
        "The dataset that we will use was acquired through web scrapping on reclameaqui.com.br. This data is messy, since the users can write everithing they want. Because of that, we'll need to clean and make some modifications bofore we create our model."
      ],
      "metadata": {
        "id": "gbK3rTv5zIR4"
      }
    },
    {
      "cell_type": "markdown",
      "source": [
        "### Normalize"
      ],
      "metadata": {
        "id": "AtR1HPKU2NAD"
      }
    },
    {
      "cell_type": "markdown",
      "source": [
        "Firstly, we will normalize our text. This proccess goes through some steps such as removing punctuation, accentuation, special characters and masked words."
      ],
      "metadata": {
        "id": "_2k88R6__OT8"
      }
    },
    {
      "cell_type": "code",
      "source": [
        "import string"
      ],
      "metadata": {
        "id": "oe2tnuGgyb76"
      },
      "execution_count": 4,
      "outputs": []
    },
    {
      "cell_type": "code",
      "source": [
        "punctuations = list(string.punctuation)\n",
        "\n",
        "def remove_punctuation(text):\n",
        "  return ''.join([char if char not in punctuations else ' ' for char in text])"
      ],
      "metadata": {
        "id": "WuEr47zNSFlS"
      },
      "execution_count": 5,
      "outputs": []
    },
    {
      "cell_type": "code",
      "source": [
        "accentuation = {\n",
        "    \"á\": \"a\", \"ã\": \"a\", \"à\": \"a\",\"â\": \"a\",\n",
        "    \"é\": \"e\",\"ê\": \"e\",\n",
        "    \"í\": \"i\",\n",
        "    \"ó\": \"o\",\"õ\": \"o\", \"ô\":\"o\",\n",
        "    \"ú\": \"u\",\n",
        "    \"ç\": \"c\"\n",
        "    }\n",
        "\n",
        "def remove_accentuation(text):\n",
        "  return ''.join(accentuation.get(char, char) for char in text)"
      ],
      "metadata": {
        "id": "DIXdfnSWyArZ"
      },
      "execution_count": 6,
      "outputs": []
    },
    {
      "cell_type": "code",
      "source": [
        "special_charaters = [\n",
        "    \"1\",\"2\",\"3\",\"4\",\"5\",\"6\",\"7\",\"8\",\"9\",\"0\",\n",
        "    \" a \",\" b \",\" c \",\" d \",\" e \",\" f \",\" g \",\" h \",\" i \",\" j \",\" k \",\" l \",\n",
        "    \" m \",\" n \",\" o \",\" p \",\" q \",\" r \",\" s \",\" t \",\" u \",\" v \",\" x \",\" z \",\n",
        "    \"r$\", \"$\",\n",
        "    ]\n",
        "\n",
        "def remove_special_characters(text):\n",
        "  return ''.join([char if char not in special_charaters else ' ' for char in text])"
      ],
      "metadata": {
        "id": "x_1vhubLyFvB"
      },
      "execution_count": 7,
      "outputs": []
    },
    {
      "cell_type": "markdown",
      "source": [
        "Reclame Aqui website often masks data when it is sensitive information or offensive words using \"editado por reclame aqui\" in place. We will remove it from our database."
      ],
      "metadata": {
        "id": "-3RwDCMtH9N-"
      }
    },
    {
      "cell_type": "code",
      "source": [
        "def remove_mask(text):\n",
        "  return text.replace(\"editado pelo reclame aqui\", \"mascara\")"
      ],
      "metadata": {
        "id": "DV0bGfcwWxo8"
      },
      "execution_count": 9,
      "outputs": []
    },
    {
      "cell_type": "code",
      "source": [
        "def normalize_text(df, text_field, lower=True, rem_punct=True, rem_accent=True, rem_spec_caract=True, rem_mask=True):\n",
        "  df[text_field + \"_clean\"] = df[text_field].astype(str)\n",
        "  if lower: df[text_field + \"_clean\"] = df[text_field + \"_clean\"].str.lower()\n",
        "  if rem_punct: df[text_field + \"_clean\"] = df[text_field + \"_clean\"].apply(remove_punctuation)\n",
        "  if rem_accent: df[text_field + \"_clean\"] = df[text_field + \"_clean\"].apply(remove_accentuation)\n",
        "  if rem_spec_caract: df[text_field + \"_clean\"] = df[text_field + \"_clean\"].apply(remove_special_characters)\n",
        "  if rem_mask: df[text_field + \"_clean\"] = df[text_field + \"_clean\"].apply(remove_mask)\n",
        "  df[text_field + \"_clean\"] = df[text_field + \"_clean\"].replace(r'\\s+', ' ', regex=True) #remove spaces"
      ],
      "metadata": {
        "id": "4fjCjaD5yH1h"
      },
      "execution_count": 10,
      "outputs": []
    },
    {
      "cell_type": "code",
      "source": [
        "# Normalizing text in a new column\n",
        "normalize_text(df, 'description')"
      ],
      "metadata": {
        "id": "vbK0R0ALyNNZ"
      },
      "execution_count": 11,
      "outputs": []
    },
    {
      "cell_type": "markdown",
      "source": [
        "### Stop Words"
      ],
      "metadata": {
        "id": "4MVOh6CAoDPv"
      }
    },
    {
      "cell_type": "markdown",
      "source": [
        "Stop words make the topics poor. Removing stop words can reduce noise and improve the efficiency of text analysis algorithms."
      ],
      "metadata": {
        "id": "iZjJ-oDQA3g-"
      }
    },
    {
      "cell_type": "code",
      "source": [
        "import nltk\n",
        "nltk.download('stopwords')"
      ],
      "metadata": {
        "colab": {
          "base_uri": "https://localhost:8080/"
        },
        "id": "OwV-4FhmoHSb",
        "outputId": "e5976f7f-47c9-4f9b-bdab-5c5b861722fa"
      },
      "execution_count": 12,
      "outputs": [
        {
          "output_type": "stream",
          "name": "stderr",
          "text": [
            "[nltk_data] Downloading package stopwords to /root/nltk_data...\n",
            "[nltk_data]   Unzipping corpora/stopwords.zip.\n"
          ]
        },
        {
          "output_type": "execute_result",
          "data": {
            "text/plain": [
              "True"
            ]
          },
          "metadata": {},
          "execution_count": 12
        }
      ]
    },
    {
      "cell_type": "code",
      "source": [
        "stops_nltk = nltk.corpus.stopwords.words('portuguese')\n",
        "stop_words = list(stops_nltk)\n",
        "stop_words = [remove_accentuation(word) for word in stop_words]\n",
        "stop_words = list(set(stop_words))\n",
        "\n",
        "def remove_stop_words(text):\n",
        "    words_list = text.split()\n",
        "    words_list = [word for word in words_list if word not in stop_words]\n",
        "    text = ' '.join(words_list)\n",
        "\n",
        "    return text"
      ],
      "metadata": {
        "id": "U7I63K2h83M1"
      },
      "execution_count": 13,
      "outputs": []
    },
    {
      "cell_type": "code",
      "source": [
        "# Removing Stop Words\n",
        "df[\"description_clean_stop\"] = df[\"description_clean\"].apply(remove_stop_words)"
      ],
      "metadata": {
        "id": "6j0DnvGT89g6"
      },
      "execution_count": 14,
      "outputs": []
    },
    {
      "cell_type": "markdown",
      "source": [
        "### Lemmatize"
      ],
      "metadata": {
        "id": "I-vb3e4rscjR"
      }
    },
    {
      "cell_type": "markdown",
      "source": [
        "Lemmatization is a natural language processing technique that reduces words to their base or root form. It helps in standardizing words, improving text analysis, and simplifying language understanding."
      ],
      "metadata": {
        "id": "q8W9NVY-CCBW"
      }
    },
    {
      "cell_type": "code",
      "source": [
        "import spacy.cli\n",
        "\n",
        "language_models = ['pt_core_news_sm', 'pt_core_news_md', 'pt_core_news_lg']\n",
        "spacy_model = language_models[2]\n",
        "\n",
        "disable = ['tagger', 'parser', 'ner', 'entity_ruler', 'entity_linker', 'textcat',\n",
        "           'morphologizer','attribute_ruler']\n",
        "\n",
        "try:\n",
        "  nlp = spacy.load(spacy_model, disable=disable)\n",
        "except:\n",
        "  spacy.cli.download(spacy_model)\n",
        "  nlp = spacy.load(spacy_model, disable=disable)"
      ],
      "metadata": {
        "colab": {
          "base_uri": "https://localhost:8080/"
        },
        "id": "D8j8QKdTsg2N",
        "outputId": "ef8b9260-220c-4eec-e465-9b81dc9a34eb"
      },
      "execution_count": 15,
      "outputs": [
        {
          "output_type": "stream",
          "name": "stdout",
          "text": [
            "\u001b[38;5;2m✔ Download and installation successful\u001b[0m\n",
            "You can now load the package via spacy.load('pt_core_news_lg')\n"
          ]
        }
      ]
    },
    {
      "cell_type": "code",
      "source": [
        "def lemma_pipe(doc_list):\n",
        "  lemma_text_list = []\n",
        "  for doc in nlp.pipe(doc_list, n_process=-1):\n",
        "      lemma_text_list.append(\" \".join(token.lemma_ for token in doc))\n",
        "\n",
        "  return lemma_text_list"
      ],
      "metadata": {
        "id": "eCARQ0Swsg5r"
      },
      "execution_count": 16,
      "outputs": []
    },
    {
      "cell_type": "code",
      "source": [
        "# Applying lemmatization\n",
        "df[\"description_clean_stop_lemma\"] = lemma_pipe(df[\"description_clean_stop\"])"
      ],
      "metadata": {
        "id": "BtQ_3lSGsg9M"
      },
      "execution_count": 17,
      "outputs": []
    },
    {
      "cell_type": "markdown",
      "source": [
        "### TF-IDF"
      ],
      "metadata": {
        "id": "ao40DPu5BU4t"
      }
    },
    {
      "cell_type": "markdown",
      "source": [
        "Removing low TF-IDF words is essential in topic modeling because these words probably provide little discriminatory power and can dominate topics. By excluding them, the model focuses on more meaningful and distinctive terms, improving topic quality and helping to identify relevant keywords that truly characterize the underlying topics in a corpus."
      ],
      "metadata": {
        "id": "oG5NDLdGE-8f"
      }
    },
    {
      "cell_type": "code",
      "source": [
        "import nltk\n",
        "nltk.download('punkt')\n",
        "from nltk.tokenize import word_tokenize\n",
        "\n",
        "import gensim\n",
        "import gensim.corpora as corpora\n",
        "from gensim.models import TfidfModel"
      ],
      "metadata": {
        "colab": {
          "base_uri": "https://localhost:8080/"
        },
        "id": "sSxqTNx4JzSz",
        "outputId": "7e10cfc4-be63-4530-f6db-9a5e70ce2994"
      },
      "execution_count": 18,
      "outputs": [
        {
          "output_type": "stream",
          "name": "stderr",
          "text": [
            "[nltk_data] Downloading package punkt to /root/nltk_data...\n",
            "[nltk_data]   Unzipping tokenizers/punkt.zip.\n"
          ]
        }
      ]
    },
    {
      "cell_type": "code",
      "source": [
        "documents = df[\"description_clean_stop_lemma\"]"
      ],
      "metadata": {
        "id": "YJBgVhd9WevO"
      },
      "execution_count": 19,
      "outputs": []
    },
    {
      "cell_type": "code",
      "source": [
        "# Tokenize text\n",
        "token_docs = [word_tokenize(text) for text in documents]\n",
        "\n",
        "# Convert text to frequency dictionary\n",
        "dictionary = corpora.Dictionary(token_docs)\n",
        "\n",
        "# Convert text in bag of words\n",
        "corpus = [dictionary.doc2bow(text) for text in token_docs]\n",
        "\n",
        "# Calculating TF-IDF\n",
        "tfidf = TfidfModel(corpus, id2word=dictionary)"
      ],
      "metadata": {
        "id": "WLreYIJoJw5M"
      },
      "execution_count": 20,
      "outputs": []
    },
    {
      "cell_type": "code",
      "source": [
        "# Filtering low TF-IDF values\n",
        "low_value = 0.01\n",
        "low_value_words = []\n",
        "for bow in corpus:\n",
        "    low_value_words += [id for id, value in tfidf[bow] if value < low_value]\n",
        "\n",
        "# Removing low TF-IDF from dictionary\n",
        "dictionary.filter_tokens(bad_ids=low_value_words)\n",
        "\n",
        "# Recompute the corpus with low value words are filtered out:\n",
        "corpus = [dictionary.doc2bow(doc) for doc in token_docs]"
      ],
      "metadata": {
        "id": "asufuDahFfpH"
      },
      "execution_count": 21,
      "outputs": []
    },
    {
      "cell_type": "markdown",
      "source": [
        "## Latent Dirichlet Allocation (LDA)"
      ],
      "metadata": {
        "id": "iOyhkzaagdBB"
      }
    },
    {
      "cell_type": "markdown",
      "source": [
        "As we have 14 claim categories, we will use this value as a parameter in num of topics."
      ],
      "metadata": {
        "id": "aa_0G8nlf7Tf"
      }
    },
    {
      "cell_type": "code",
      "source": [
        "# LDA implmentation\n",
        "lda_model = gensim.models.LdaModel(corpus,\n",
        "                                   num_topics=14,\n",
        "                                   id2word=dictionary,\n",
        "                                   random_state=42,\n",
        "                                   update_every=1,\n",
        "                                   chunksize=100,\n",
        "                                   passes=15,\n",
        "                                   alpha=\"auto\")"
      ],
      "metadata": {
        "id": "Zm7I19zbInqZ"
      },
      "execution_count": 26,
      "outputs": []
    },
    {
      "cell_type": "markdown",
      "source": [
        "### Visualization"
      ],
      "metadata": {
        "id": "Nj4xkvCqtSFL"
      }
    },
    {
      "cell_type": "markdown",
      "source": [
        "To visualize the topics created by our model, we will use pyLDAvis.\n",
        "\n",
        "Documentation: https://pypi.org/project/pyLDAvis/"
      ],
      "metadata": {
        "id": "gt86QzvEkgEf"
      }
    },
    {
      "cell_type": "code",
      "source": [
        "warnings.filterwarnings(\"ignore\", category=FutureWarning)\n",
        "warnings.filterwarnings(\"ignore\", category=DeprecationWarning)"
      ],
      "metadata": {
        "id": "gHIOyNTYjCYX"
      },
      "execution_count": null,
      "outputs": []
    },
    {
      "cell_type": "code",
      "source": [
        "try:\n",
        "  import pyLDAvis.gensim\n",
        "except:\n",
        "  !pip install pyLDAvis==2.1.2\n",
        "  clear_output()\n",
        "  import pyLDAvis.gensim"
      ],
      "metadata": {
        "id": "rmoF8Inqu2H7"
      },
      "execution_count": 27,
      "outputs": []
    },
    {
      "cell_type": "code",
      "source": [
        "vis = pyLDAvis.gensim.prepare(lda_model, corpus, lda_model.id2word, mds=\"mmds\", R=20)\n",
        "pyLDAvis.display(vis)"
      ],
      "metadata": {
        "colab": {
          "base_uri": "https://localhost:8080/",
          "height": 882
        },
        "id": "Rsjf9PLaq8Uz",
        "outputId": "0cb8a013-59ae-4db4-a98f-10e430bd2725"
      },
      "execution_count": 37,
      "outputs": [
        {
          "output_type": "execute_result",
          "data": {
            "text/plain": [
              "<IPython.core.display.HTML object>"
            ],
            "text/html": [
              "\n",
              "<link rel=\"stylesheet\" type=\"text/css\" href=\"https://cdn.rawgit.com/bmabey/pyLDAvis/files/ldavis.v1.0.0.css\">\n",
              "\n",
              "\n",
              "<div id=\"ldavis_el2371341146530870881909495087\"></div>\n",
              "<script type=\"text/javascript\">\n",
              "\n",
              "var ldavis_el2371341146530870881909495087_data = {\"mdsDat\": {\"x\": [0.24286289445896805, 0.013571404586799653, -0.23780145256332502, -0.22783363546163488, 0.3485642558118112, 0.4519510118301127, 0.12226244536620914, -0.3916399471151949, -0.4025021919554518, 0.29521923323548915, 0.1017599011287547, -0.027798708270872247, -0.139135753944688, -0.14947945710697816], \"y\": [-0.4139157363501325, -0.4735106315056885, -0.3997079268003757, 0.4354547263187394, -0.16981131594437338, 0.04557633757859265, 0.4393566622567119, -0.15604279678578495, 0.11428892763329686, 0.25488038118931095, 0.07113374652731448, 0.10888622379464169, -0.01683569643866964, 0.16024709852641694], \"topics\": [1, 2, 3, 4, 5, 6, 7, 8, 9, 10, 11, 12, 13, 14], \"cluster\": [1, 1, 1, 1, 1, 1, 1, 1, 1, 1, 1, 1, 1, 1], \"Freq\": [39.62945658618535, 18.14329619885406, 12.078341371767277, 6.324274451244763, 5.905796855936616, 4.997454411728027, 3.843686719848051, 2.7624626917202435, 2.318774799245306, 1.7888986105037423, 0.666445113281474, 0.5928256283260271, 0.4817262356781954, 0.46656032568087524]}, \"tinfo\": {\"Term\": [\"recarga\", \"valor\", \"sinal\", \"problema\", \"contato\", \"fatura\", \"credito\", \"informar\", \"pagamento\", \"r\", \"app\", \"operadora\", \"linha\", \"atendimento\", \"conseguir\", \"real\", \"ligacoes\", \"nada\", \"chip\", \"gb\", \"linha\", \"nada\", \"chip\", \"fiz\", \"poder\", \"dar\", \"hora\", \"hoje\", \"agora\", \"loja\", \"receber\", \"ainda\", \"novamente\", \"voltar\", \"preciso\", \"portabilidade\", \"trabalho\", \"porem\", \"esperar\", \"liguar\", \"querer\", \"ser\", \"tentar\", \"sinal\", \"conseguir\", \"empresa\", \"g\", \"bom\", \"sempre\", \"nunca\", \"rede\", \"m\\u00eas\", \"ano\", \"casa\", \"ocorrer\", \"aparecer\", \"reclamar\", \"oferecer\", \"varias\", \"canal\", \"pouco\", \"ultimo\", \"aguardo\", \"operadora\", \"tempo\", \"gostar\", \"problema\", \"algum\", \"solucao\", \"tentar\", \"esse\", \"bem\", \"atendimento\", \"h\", \"solicitar\", \"enviar\", \"sms\", \"prazo\", \"recebi\", \"cancelamento\", \"este\", \"mail\", \"suporte\", \"tecnico\", \"email\", \"sobre\", \"via\", \"solicitacao\", \"realizei\", \"qualquer\", \"cadastro\", \"informacao\", \"haver\", \"resposta\", \"nenhum\", \"informar\", \"contato\", \"aplicativo\", \"em\", \"comprar\", \"pacote\", \"mudar\", \"precisar\", \"cidade\", \"renovar\", \"acabar\", \"quase\", \"alem\", \"reativar\", \"isso\", \"sim\", \"promocao\", \"comigo\", \"dado\", \"trocar\", \"comecar\", \"oi\", \"eu\", \"migrar\", \"pessimo\", \"colocar\", \"valor\", \"r\", \"real\", \"gb\", \"debito\", \"desconto\", \"bonus\", \"regiao\", \"debitar\", \"automatico\", \"janeiro\", \"giga\", \"fevereiro\", \"agosto\", \"propaganda\", \"alteracao\", \"lixo\", \"ganhar\", \"dezembro\", \"abril\", \"fatura\", \"vir\", \"referente\", \"proximo\", \"ligacoes\", \"semana\", \"internet\", \"reclamacao\", \"contratar\", \"anatel\", \"menos\", \"seguir\", \"atualizacao\", \"ruim\", \"reclamacoes\", \"fico\", \"perguntar\", \"anexo\", \"ilimitar\", \"oferta\", \"documento\", \"gastar\", \"cobranco\", \"procon\", \"aqui\", \"pagamento\", \"q\", \"comprovante\", \"paguar\", \"bloquear\", \"troca\", \"acordo\", \"pix\", \"efetuei\", \"suspender\", \"p\", \"recarregar\", \"efetuar\", \"sumir\", \"hj\", \"impossivel\", \"bloqueio\", \"boleto\", \"consumo\", \"atraso\", \"rapido\", \"fatura\", \"credito\", \"app\", \"mensagem\", \"dinheiro\", \"creditar\", \"cartao\", \"Cartao\", \"descontar\", \"fi\", \"wi\", \"concluir\", \"falha\", \"estorno\", \"devolver\", \"ddd\", \"consumir\", \"inteiro\", \"Atraves\", \"pagueer\", \"s\", \"nextel\", \"consumidor\", \"tim\", \"verificar\", \"qualidade\", \"ativacao\", \"comunicacao\", \"apresentar\", \"instabilidade\", \"normalmente\", \"imediato\", \"buscar\", \"tomar\", \"relacao\", \"portanto\", \"extremamente\", \"sentir\", \"prejuizos\", \"tela\", \"prezar\", \"recarga\", \"saldo\", \"prezao\", \"renovacao\", \"faco\", \"atualizar\", \"banco\", \"recarreguei\", \"autorizar\", \"automaticamente\", \"sos\", \"suficiente\", \"fiquar\", \"contudo\", \"lamentavel\", \"arrepender\", \"centavo\", \"correio\", \"def\\u00eas\", \"mensal\", \"n\", \"noite\", \"mae\", \"to\", \"toda\", \"gente\", \"vcs\", \"titularidade\", \"d\", \"posicionamento\", \"enorme\", \"ura\", \"eletronico\", \"cansar\", \"quebra\", \"upgrade\", \"ineficiente\", \"horar\", \"inferior\", \"Souza\", \"si\", \"com\", \"ligor\", \"liberar\", \"pro\", \"transtorno\", \"par\", \"identificar\", \"pertencer\", \"seriamente\", \"streaming\", \"duplicidade\", \"senha\", \"claroflexr\", \"Pos\", \"Guarulhos\", \"reiniciei\", \"Residencia\", \"vzs\", \"tokem\", \"fibrar\", \"mega\", \"perfeitamente\", \"previsao\", \"lugar\", \"importante\", \"indisponivel\", \"local\", \"migracao\", \"compra\", \"ponto\", \"programar\", \"reconhecer\", \"telefoniar\", \"fechar\", \"ajuda\", \"media\", \"variar\", \"clube\", \"casado\", \"advogado\", \"resgatar\", \"nxt\", \"expirar\", \"navegador\", \"programa\", \"seguro\", \"line\", \"online\", \"cansado\", \"local\", \"conexao\", \"minimo\", \"cpf\", \"dano\", \"moral\", \"recuperar\", \"dividar\", \"vincular\", \"sob\", \"diver\", \"pena\", \"pronto\", \"Serasa\", \"criar\", \"duvidar\", \"spc\", \"pesquisa\", \"vinculo\", \"divida\", \"proxima\", \"rg\", \"renegociar\", \"reconheco\", \"segui\", \"processar\"], \"Freq\": [2639.0, 2900.0, 4051.0, 4868.0, 3940.0, 2153.0, 1485.0, 2996.0, 1491.0, 1620.0, 1218.0, 2495.0, 4470.0, 1918.0, 2366.0, 1398.0, 1132.0, 3630.0, 3500.0, 1111.0, 4469.440756936834, 3629.6374134353255, 3499.6237673256437, 3081.1888223332594, 2547.077243998927, 2283.167829675273, 2263.558833690425, 2115.954234580495, 2081.9826427083667, 1951.5333858449505, 1806.6321084627477, 1637.1328942102944, 1528.4035895550423, 1448.6408882933454, 1442.8573589722064, 1431.824522380824, 1344.327811506373, 1320.1931616737302, 1313.9761147631832, 1263.0320999492992, 2137.515222586749, 1857.8645148060662, 1351.2463010401254, 4050.7217601919233, 2365.1569531703976, 1828.1110506321024, 1255.2666877636334, 1089.8965113094607, 1075.7188916613195, 1012.7644509972218, 993.2818966049954, 904.7480917355049, 809.6903415358897, 657.0944079098381, 606.1343669911736, 595.8924313877967, 574.955018180673, 570.3590655728628, 528.5498826949996, 481.22206421737735, 475.5776783881461, 452.9529654254497, 424.29109681221325, 2461.4081592946864, 826.6172168359975, 638.0633724406234, 4196.521325149913, 1047.7021451503817, 814.731850312393, 1201.8335944912671, 820.55330864934, 613.6797001927736, 1917.314587210076, 1368.8312264150775, 1284.987019095323, 1131.2431038879874, 1078.2604990467546, 1068.539285653605, 932.4009017237523, 861.5273145664474, 743.143389808807, 724.8670804885702, 611.5683238603953, 541.5265992964264, 522.5108604979071, 483.5432140737889, 478.99293880183393, 441.9198522570043, 436.48940674761127, 433.25265282419844, 430.4603434033817, 424.40037450841345, 797.785466779271, 610.6168440265278, 1410.56662085329, 2270.043323774505, 2603.3574201945844, 721.9458679851425, 520.7656892612374, 1063.248399285407, 943.9597808874788, 761.3635324283787, 615.9630126366201, 576.8080766830975, 570.8010707603031, 553.1087092997063, 513.1199401885627, 520.9524639542127, 437.53923323060485, 432.76456783716554, 432.2167825806299, 415.32254932360684, 405.20283004005233, 398.1414887434245, 393.4089492573073, 364.48058764212385, 361.20204147701656, 349.5610016514105, 301.3804879869361, 711.7179836301823, 643.1776106881965, 2899.6181309426934, 1619.3319973084701, 1397.1540694413795, 1110.4431567781419, 558.0473603249187, 510.18430540725933, 443.3269564020633, 418.63427357596817, 368.9840753496111, 350.61365069474044, 230.82799885895022, 207.47043127817327, 193.7071610755959, 168.78775369984606, 163.10452845444263, 159.55192129983246, 145.7866581810119, 137.4983014873001, 132.914212874309, 126.93347122834973, 1964.5550001920212, 823.2568556072126, 227.56497109933585, 198.95114758098953, 1131.454754337374, 1026.7995841606805, 1007.0923979909938, 850.6540991152572, 840.2993973325234, 459.3158629458057, 436.4860005920041, 377.218473571332, 298.44603983136244, 268.03907140724704, 263.9311004375985, 255.86127365298307, 254.11528260751828, 242.28708193149694, 234.5517186603277, 231.42270749560038, 193.81864385207643, 175.1811015616336, 170.1073100061119, 167.69064688122486, 283.44861846089304, 1490.2669368540314, 872.3436090928221, 607.378515498966, 591.6322178390745, 479.3480042113506, 350.8530568609212, 337.5341927410506, 258.031035430335, 247.16669639021217, 230.99530292169814, 219.03708375169802, 213.48701753523088, 424.0469306757421, 200.77479186488475, 190.54779201164567, 181.74965094352646, 181.6746134690036, 179.84798726858273, 175.5853782412497, 174.71741132566564, 250.47159354708685, 187.47555275713944, 1484.083249901515, 1217.22193285163, 871.7429181676799, 427.4744373022125, 373.99689903715125, 361.7247003720096, 359.350277051257, 337.9360460262968, 189.35815225776844, 189.0737434887123, 186.37571055505828, 158.47352911647926, 149.07281658114573, 131.77383113104008, 118.21231703606907, 106.2211793425253, 101.36290917102275, 100.15345451736452, 80.80945118309451, 80.26983162668833, 381.5913444295865, 379.8431238323612, 370.3784446592022, 364.81072376348374, 348.99816453560226, 309.3741625399083, 236.28401344196027, 208.96630434603586, 208.608489852283, 204.55490098143355, 166.2188760295605, 144.03127474309517, 118.78598843878142, 116.24291180671526, 110.92978706843277, 106.19281388349918, 88.72574705417959, 88.43189799086278, 82.38859027553062, 82.1535491278886, 2638.8410435885426, 426.79465662470807, 407.06174875138424, 224.3123122677968, 200.50282584257138, 169.44375915162288, 114.02145065996966, 72.53601727001235, 58.459889688500766, 51.47445764491294, 51.38371361526225, 47.52562518577347, 46.67997397777347, 44.364450064119694, 43.19989031019686, 33.20275856673567, 28.261277130502492, 20.241041893929836, 3.2486012882720643, 37.97864146630024, 225.1958289563457, 190.4758408444565, 114.94966401381072, 109.956276582372, 104.70898358730419, 89.4929853510966, 88.94192446687408, 82.75412721622794, 67.3816663938745, 38.019962559666034, 35.58640300716953, 29.954829389813813, 29.630200030714693, 28.176729721157336, 20.25021049701812, 17.473885473734697, 6.578853003292287, 5.303948788224483, 2.727667091111782, 0.28437357492077764, 259.2272152555327, 253.11108563564574, 177.81961343606557, 164.3652221082964, 122.15655477556314, 102.99079489076748, 39.307615302288596, 29.679670291580372, 11.218478726479773, 10.74334372173339, 3.2855843903026805, 1.4473586007356138, 0.05743805635313075, 0.05665406133435403, 0.05640846045755474, 0.05622009181849784, 0.05683611387189932, 0.05626567035630218, 0.05610712227828208, 0.05622448828722082, 0.05643693557684942, 0.05674162377015675, 0.05693369577158463, 0.05697981792221407, 0.057960855602188166, 0.056864843809705766, 0.05691258660607003, 0.05737763378762106, 168.58025236311389, 167.20841328048388, 128.73419100819729, 67.43664354863266, 58.28976050141012, 44.1118339456107, 42.92184318117115, 36.42241471887298, 24.990215984454835, 20.246727921243757, 19.75607699826768, 10.60375317421015, 6.624805927235908, 0.061238827152892444, 0.05959141052372338, 0.05917186601469919, 0.05880297760819784, 0.05871334380481292, 0.05914908899018353, 0.05890887282666122, 0.059690293179487396, 0.05910808482435241, 0.06013840697938287, 0.05954040103221412, 0.05939596984912169, 218.29849426561907, 66.52922852749145, 61.968275155639155, 60.306588872017606, 49.64577258740509, 34.945212656241566, 34.194464636595356, 30.600813472713934, 27.512302080900394, 25.88081438549001, 18.847308820918112, 11.902775323200286, 11.847506622226277, 6.408055400169501, 5.433814827657223, 5.111249329171012, 5.041763004723753, 4.753493330139566, 0.06497123322179423, 0.06449990437189376, 0.0645425108228339, 0.06462239724986334, 0.06466627649298669], \"Total\": [2639.0, 2900.0, 4051.0, 4868.0, 3940.0, 2153.0, 1485.0, 2996.0, 1491.0, 1620.0, 1218.0, 2495.0, 4470.0, 1918.0, 2366.0, 1398.0, 1132.0, 3630.0, 3500.0, 1111.0, 4470.551528741519, 3630.7481845326142, 3500.734537287616, 3082.2995931042824, 2548.188015069383, 2284.2786048206062, 2264.6696052905654, 2117.065006044918, 2083.0934140700624, 1952.644155771659, 1807.7428802768088, 1638.243758395914, 1529.5143603744048, 1449.7516601914458, 1443.9681308709683, 1432.9352938542352, 1345.4385843328146, 1321.3039324896006, 1315.0868862199995, 1264.1428706017916, 2142.0576797739623, 2168.7532762846763, 2554.1019093450045, 4051.8401930054633, 2366.2753821865117, 1829.2294789272999, 1256.3851178240002, 1091.0149400694074, 1076.8373200982548, 1013.8828791929833, 994.4003265754502, 905.86652016321, 810.8087696306737, 658.21283752323, 607.2527962657317, 597.0108608128614, 576.0734472618283, 571.4774931117094, 529.6683107690528, 482.34049304982096, 476.69610722714987, 454.07139468298845, 425.40952588078665, 2495.557841439749, 831.4780700138128, 648.498012877884, 4868.2013295939805, 1345.5039572637054, 1061.8980116908804, 2554.1019093450045, 1209.0623805988173, 700.2615793851564, 1918.4184369446475, 1369.9350775223138, 1286.0920262240047, 1132.3469524977256, 1079.3643477961584, 1069.6431356334103, 933.5047497499143, 862.6311644220297, 744.247240040893, 725.970933313091, 612.6721752599437, 542.6304506780608, 523.6147088215929, 484.6470636411794, 480.0967885129567, 443.0237005135245, 437.59325563897613, 434.3565026411362, 431.5641925366805, 425.5042228872275, 801.9948688887338, 639.1194821968201, 1672.947019868592, 2996.238120711595, 3940.0540536745366, 1141.4976159342864, 930.3740900490635, 1064.3542426514887, 945.0656242791173, 762.4693768570183, 617.0688582256125, 577.9139232371488, 571.9069144921148, 554.21455269234, 514.2257857024489, 522.1427329146836, 438.6450801398681, 433.87041308977484, 433.3226271781692, 416.4283911868133, 406.3086757313937, 399.24733285210397, 394.51479312929956, 365.5864334279139, 362.3078833361955, 350.66684600152945, 302.48633383628345, 767.413615124231, 719.4996304112618, 2900.691435347548, 1620.405301413076, 1398.227374682895, 1111.51646084672, 559.1206659915666, 511.2576100248659, 444.40025983528676, 419.70759039377634, 370.0573808963226, 351.68695651809884, 231.901305705087, 208.5437344667522, 194.78046768321704, 169.86106080734513, 164.1778329417759, 160.62522895536182, 146.85996625320456, 138.57160503774, 133.9875187446233, 128.00677761276933, 2153.01205379239, 879.7814163122492, 295.38919287770335, 249.0266310767393, 1132.5652347188684, 1027.910065700846, 1008.2028780520377, 851.7645786906702, 841.4098764026113, 460.4263431679273, 437.5964821411064, 378.3289532301049, 299.55652138834176, 269.1495521920972, 265.04158148255095, 256.9717548408002, 255.22576324509788, 243.3975615981812, 235.6621966507189, 232.53318444065772, 194.92912522715963, 176.29158137317606, 171.21779047929562, 168.80112642527902, 872.4000413626064, 1491.3823165346796, 873.4589878985782, 608.4938961331926, 592.7478386505225, 480.46338375224286, 351.96843892108495, 338.6495720294086, 259.1464139641242, 248.28207620239775, 232.110683705924, 220.1524641094644, 214.60239768493085, 426.36990459817747, 201.89017402873728, 191.66317211083157, 182.86503469816, 182.78999235142038, 180.9633673972155, 176.70075970242834, 175.83279194777091, 264.86310573461327, 2153.01205379239, 1485.207010217468, 1218.3456961145207, 872.8666808913287, 428.5981995363185, 375.12065982000036, 362.84846161427566, 360.47403752037405, 339.05980647160544, 190.48191363406127, 190.19750487611466, 187.4994733083638, 159.59729455579387, 150.1965781854972, 132.89759249537434, 119.33608093200102, 107.3449405916185, 102.48667295221472, 101.27721713486815, 81.93321556417558, 81.393598156151, 382.7030386938263, 380.95481415618775, 371.4901347107006, 365.9224166525837, 350.1098566694153, 310.48585185945484, 237.395705715043, 210.07799702762873, 209.72018751170077, 205.66659341918987, 167.33056674878654, 145.1429655147573, 119.89767860262282, 117.35460289477416, 112.04147834086943, 107.3045043732833, 89.83743721736684, 89.54359060145369, 83.50028214415225, 83.26523917279935, 2639.9745627160073, 427.92817494357485, 408.19526805467837, 225.44583321554947, 201.6363491225117, 170.57728504819428, 115.15497284393327, 73.66953594048083, 59.59342259651751, 52.60797853669565, 52.51723433010358, 48.65915885233731, 47.813506066190364, 45.49797840240231, 44.33341855252341, 34.33628882164559, 29.394796817241556, 21.374563442095866, 4.382121080099793, 169.5878120378706, 226.3377745161216, 191.61778657924765, 116.09160928571337, 111.09822108725425, 105.85093070747574, 90.63493053137631, 90.08386811934787, 83.89607327144516, 68.52361083543437, 39.161910730968486, 36.72835134877759, 31.096777966798292, 30.772144992194132, 29.318674658571428, 21.39216188137264, 18.615831335963232, 7.720831866140997, 6.446040700605904, 3.8696099220793045, 1.4263150835194311, 260.3787896214103, 254.26265994478192, 178.97119080071798, 165.51679843096775, 123.30813138011487, 104.14237300628209, 40.45919056840312, 30.831245904383945, 12.370056539591113, 11.894923071254272, 4.437166607733081, 2.598930984386869, 1.2257290716622788, 1.2134013995968647, 1.211158842513597, 1.2091188209784123, 1.2234779258796218, 1.2116206803083738, 1.2085175786319569, 1.211169461737683, 1.2160726248467248, 1.2238846888102746, 1.2304252093777983, 1.2325900825348315, 1.2655246483547116, 1.2303572962258804, 1.2354944263506142, 1.2728867141858466, 169.72946264715816, 168.3576226220727, 129.88340183088772, 68.58586025995355, 59.43897331488119, 45.26104637513693, 44.07105487214253, 37.57162743232085, 26.139430538813638, 21.395940870314043, 20.905285285544707, 11.75296207653875, 7.774014353490875, 1.2251234423851152, 1.2247772884916692, 1.2185188108604506, 1.2109310536149518, 1.2112096992970105, 1.2222461754076273, 1.2173413738448802, 1.2358021557885945, 1.223050458237503, 1.2728867141858466, 1.2562281214910804, 1.2578478618621542, 219.4421411906793, 67.67287508217079, 63.111922091219604, 61.450234608069266, 50.78941962205333, 36.088857938404594, 35.3381138813845, 31.744461742893115, 28.655953336406526, 27.024464418055523, 19.99097073376607, 13.046421229510353, 12.991154691651031, 7.551729482755887, 6.577462745453547, 6.254894944448013, 6.185408419543763, 5.897141048823655, 1.214473322719482, 1.2089340877266759, 1.2097722516652654, 1.217801697793497, 1.2240894741038393], \"Category\": [\"Default\", \"Default\", \"Default\", \"Default\", \"Default\", \"Default\", \"Default\", \"Default\", \"Default\", \"Default\", \"Default\", \"Default\", \"Default\", \"Default\", \"Default\", \"Default\", \"Default\", \"Default\", \"Default\", \"Default\", \"Topic1\", \"Topic1\", \"Topic1\", \"Topic1\", \"Topic1\", \"Topic1\", \"Topic1\", \"Topic1\", \"Topic1\", \"Topic1\", \"Topic1\", \"Topic1\", \"Topic1\", \"Topic1\", \"Topic1\", \"Topic1\", \"Topic1\", \"Topic1\", \"Topic1\", \"Topic1\", \"Topic1\", \"Topic1\", \"Topic1\", \"Topic2\", \"Topic2\", \"Topic2\", \"Topic2\", \"Topic2\", \"Topic2\", \"Topic2\", \"Topic2\", \"Topic2\", \"Topic2\", \"Topic2\", \"Topic2\", \"Topic2\", \"Topic2\", \"Topic2\", \"Topic2\", \"Topic2\", \"Topic2\", \"Topic2\", \"Topic2\", \"Topic2\", \"Topic2\", \"Topic2\", \"Topic2\", \"Topic2\", \"Topic2\", \"Topic2\", \"Topic2\", \"Topic2\", \"Topic3\", \"Topic3\", \"Topic3\", \"Topic3\", \"Topic3\", \"Topic3\", \"Topic3\", \"Topic3\", \"Topic3\", \"Topic3\", \"Topic3\", \"Topic3\", \"Topic3\", \"Topic3\", \"Topic3\", \"Topic3\", \"Topic3\", \"Topic3\", \"Topic3\", \"Topic3\", \"Topic3\", \"Topic3\", \"Topic3\", \"Topic3\", \"Topic3\", \"Topic3\", \"Topic3\", \"Topic4\", \"Topic4\", \"Topic4\", \"Topic4\", \"Topic4\", \"Topic4\", \"Topic4\", \"Topic4\", \"Topic4\", \"Topic4\", \"Topic4\", \"Topic4\", \"Topic4\", \"Topic4\", \"Topic4\", \"Topic4\", \"Topic4\", \"Topic4\", \"Topic4\", \"Topic4\", \"Topic4\", \"Topic4\", \"Topic5\", \"Topic5\", \"Topic5\", \"Topic5\", \"Topic5\", \"Topic5\", \"Topic5\", \"Topic5\", \"Topic5\", \"Topic5\", \"Topic5\", \"Topic5\", \"Topic5\", \"Topic5\", \"Topic5\", \"Topic5\", \"Topic5\", \"Topic5\", \"Topic5\", \"Topic5\", \"Topic5\", \"Topic5\", \"Topic5\", \"Topic5\", \"Topic6\", \"Topic6\", \"Topic6\", \"Topic6\", \"Topic6\", \"Topic6\", \"Topic6\", \"Topic6\", \"Topic6\", \"Topic6\", \"Topic6\", \"Topic6\", \"Topic6\", \"Topic6\", \"Topic6\", \"Topic6\", \"Topic6\", \"Topic6\", \"Topic6\", \"Topic6\", \"Topic6\", \"Topic7\", \"Topic7\", \"Topic7\", \"Topic7\", \"Topic7\", \"Topic7\", \"Topic7\", \"Topic7\", \"Topic7\", \"Topic7\", \"Topic7\", \"Topic7\", \"Topic7\", \"Topic7\", \"Topic7\", \"Topic7\", \"Topic7\", \"Topic7\", \"Topic7\", \"Topic7\", \"Topic7\", \"Topic7\", \"Topic8\", \"Topic8\", \"Topic8\", \"Topic8\", \"Topic8\", \"Topic8\", \"Topic8\", \"Topic8\", \"Topic8\", \"Topic8\", \"Topic8\", \"Topic8\", \"Topic8\", \"Topic8\", \"Topic8\", \"Topic8\", \"Topic8\", \"Topic8\", \"Topic8\", \"Topic8\", \"Topic9\", \"Topic9\", \"Topic9\", \"Topic9\", \"Topic9\", \"Topic9\", \"Topic9\", \"Topic9\", \"Topic9\", \"Topic9\", \"Topic9\", \"Topic9\", \"Topic9\", \"Topic9\", \"Topic9\", \"Topic9\", \"Topic9\", \"Topic9\", \"Topic9\", \"Topic9\", \"Topic10\", \"Topic10\", \"Topic10\", \"Topic10\", \"Topic10\", \"Topic10\", \"Topic10\", \"Topic10\", \"Topic10\", \"Topic10\", \"Topic10\", \"Topic10\", \"Topic10\", \"Topic10\", \"Topic10\", \"Topic10\", \"Topic10\", \"Topic10\", \"Topic10\", \"Topic10\", \"Topic11\", \"Topic11\", \"Topic11\", \"Topic11\", \"Topic11\", \"Topic11\", \"Topic11\", \"Topic11\", \"Topic11\", \"Topic11\", \"Topic11\", \"Topic11\", \"Topic11\", \"Topic11\", \"Topic11\", \"Topic11\", \"Topic11\", \"Topic11\", \"Topic11\", \"Topic11\", \"Topic12\", \"Topic12\", \"Topic12\", \"Topic12\", \"Topic12\", \"Topic12\", \"Topic12\", \"Topic12\", \"Topic12\", \"Topic12\", \"Topic12\", \"Topic12\", \"Topic12\", \"Topic12\", \"Topic12\", \"Topic12\", \"Topic12\", \"Topic12\", \"Topic12\", \"Topic12\", \"Topic12\", \"Topic12\", \"Topic12\", \"Topic12\", \"Topic12\", \"Topic12\", \"Topic12\", \"Topic12\", \"Topic13\", \"Topic13\", \"Topic13\", \"Topic13\", \"Topic13\", \"Topic13\", \"Topic13\", \"Topic13\", \"Topic13\", \"Topic13\", \"Topic13\", \"Topic13\", \"Topic13\", \"Topic13\", \"Topic13\", \"Topic13\", \"Topic13\", \"Topic13\", \"Topic13\", \"Topic13\", \"Topic13\", \"Topic13\", \"Topic13\", \"Topic13\", \"Topic13\", \"Topic14\", \"Topic14\", \"Topic14\", \"Topic14\", \"Topic14\", \"Topic14\", \"Topic14\", \"Topic14\", \"Topic14\", \"Topic14\", \"Topic14\", \"Topic14\", \"Topic14\", \"Topic14\", \"Topic14\", \"Topic14\", \"Topic14\", \"Topic14\", \"Topic14\", \"Topic14\", \"Topic14\", \"Topic14\", \"Topic14\"], \"logprob\": [20.0, 19.0, 18.0, 17.0, 16.0, 15.0, 14.0, 13.0, 12.0, 11.0, 10.0, 9.0, 8.0, 7.0, 6.0, 5.0, 4.0, 3.0, 2.0, 1.0, -3.329900026321411, -3.538100004196167, -3.5745999813079834, -3.701900005340576, -3.8922998905181885, -4.0015997886657715, -4.010300159454346, -4.077700138092041, -4.093900203704834, -4.158599853515625, -4.2357001304626465, -4.3343000411987305, -4.4029998779296875, -4.456600189208984, -4.460599899291992, -4.468299865722656, -4.531300067901611, -4.5493998527526855, -4.554200172424316, -4.593699932098389, -4.067599773406982, -4.207799911499023, -4.526199817657471, -2.6470000743865967, -3.1851000785827637, -3.442699909210205, -3.8185999393463135, -3.95989990234375, -3.972899913787842, -4.033299922943115, -4.052700042724609, -4.145999908447266, -4.256999969482422, -4.46589994430542, -4.546599864959717, -4.563600063323975, -4.599400043487549, -4.607399940490723, -4.683599948883057, -4.777400016784668, -4.7891998291015625, -4.837900161743164, -4.903299808502197, -3.14520001411438, -4.236400127410889, -4.495299816131592, -2.6117000579833984, -3.999300003051758, -4.250800132751465, -3.8620998859405518, -4.24370002746582, -4.534200191497803, -2.988100051879883, -3.3250999450683594, -3.3882999420166016, -3.515700101852417, -3.563699960708618, -3.5727999210357666, -3.7090001106262207, -3.788100004196167, -3.9358999729156494, -3.9607999324798584, -4.130799770355225, -4.252399921417236, -4.2881999015808105, -4.365699768066406, -4.375100135803223, -4.455699920654297, -4.4679999351501465, -4.475500106811523, -4.48199987411499, -4.496099948883057, -3.865000009536743, -4.132299900054932, -3.295099973678589, -2.8192999362945557, -2.6821999549865723, -3.964900016784668, -4.291500091552734, -2.9307000637054443, -3.0497000217437744, -3.264699935913086, -3.476599931716919, -3.54229998588562, -3.5527000427246094, -3.584199905395508, -3.6593000888824463, -3.6440999507904053, -3.8185999393463135, -3.8296000957489014, -3.830899953842163, -3.870699882507324, -3.895400047302246, -3.9130001068115234, -3.9249000549316406, -4.001299858093262, -4.01039981842041, -4.043099880218506, -4.191400051116943, -3.3320999145507812, -3.4333999156951904, -1.8589999675750732, -2.4416000843048096, -2.589099884033203, -2.8187999725341797, -3.5069000720977783, -3.59660005569458, -3.736999988555908, -3.794300079345703, -3.920599937438965, -3.97160005569458, -4.389699935913086, -4.496300220489502, -4.565000057220459, -4.702700138092041, -4.7368998527526855, -4.758999824523926, -4.8491997718811035, -4.907700061798096, -4.9415998458862305, -4.98769998550415, -2.248300075531006, -3.1180999279022217, -4.403900146484375, -4.538300037384033, -2.6331000328063965, -2.73009991645813, -2.749500036239624, -2.918299913406372, -2.9305999279022217, -3.534600019454956, -3.585599899291992, -3.7314999103546143, -3.9656999111175537, -4.073200225830078, -4.088600158691406, -4.119699954986572, -4.126500129699707, -4.174200057983398, -4.206600189208984, -4.220099925994873, -4.39739990234375, -4.498499870300293, -4.527900218963623, -4.542200088500977, -4.017300128936768, -2.095099925994873, -2.6305999755859375, -2.9927000999450684, -3.018899917602539, -3.2293999195098877, -3.5415000915527344, -3.580199956893921, -3.8487000465393066, -3.8917999267578125, -3.959399938583374, -4.012599945068359, -4.0381999015808105, -3.3519999980926514, -4.099599838256836, -4.151899814605713, -4.19920015335083, -4.1996002197265625, -4.209700107574463, -4.233699798583984, -4.238699913024902, -3.878499984741211, -4.1682000160217285, -1.7690000534057617, -1.9672000408172607, -2.3010001182556152, -3.0136001110076904, -3.1473000049591064, -3.1805999279022217, -3.1872000694274902, -3.248699903488159, -3.827899932861328, -3.829400062561035, -3.8438000679016113, -4.005899906158447, -4.0671000480651855, -4.190400123596191, -4.298999786376953, -4.406000137329102, -4.4527997970581055, -4.464799880981445, -4.6793999671936035, -4.686100006103516, -2.9521000385284424, -2.956700086593628, -2.9818999767303467, -2.9971001148223877, -3.0413999557495117, -3.161900043487549, -3.4314000606536865, -3.55430006980896, -3.555999994277954, -3.5755999088287354, -3.783099889755249, -3.9263999462127686, -4.119100093841553, -4.140699863433838, -4.1875, -4.231200218200684, -4.410900115966797, -4.4141998291015625, -4.485000133514404, -4.487800121307373, -0.758899986743927, -2.580699920654297, -2.628000020980835, -3.2239999771118164, -3.336199998855591, -3.504499912261963, -3.900599956512451, -4.35290002822876, -4.568699836730957, -4.695899963378906, -4.697700023651123, -4.775700092315674, -4.793700218200684, -4.844600200653076, -4.871200084686279, -5.134399890899658, -5.295499801635742, -5.629300117492676, -7.458799839019775, -5.0, -2.232599973678589, -2.400099992752075, -2.905100107192993, -2.94950008392334, -2.9983999729156494, -3.155400037765503, -3.161600112915039, -3.2337000370025635, -3.439199924468994, -4.011499881744385, -4.077600002288818, -4.249899864196777, -4.260799884796143, -4.311100006103516, -4.64139986038208, -4.788899898529053, -5.765699863433838, -5.981100082397461, -6.646100044250488, -8.907099723815918, -1.9747999906539917, -1.9987000226974487, -2.351799964904785, -2.4303998947143555, -2.7272000312805176, -2.897900104522705, -3.8610999584198, -4.142099857330322, -5.114999771118164, -5.158299922943115, -6.3429999351501465, -7.162799835205078, -10.389599800109863, -10.403300285339355, -10.407699584960938, -10.41100025177002, -10.400099754333496, -10.410200119018555, -10.413000106811523, -10.410900115966797, -10.40719985961914, -10.401800155639648, -10.39840030670166, -10.397600173950195, -10.380499839782715, -10.3996000289917, -10.398799896240234, -10.390600204467773, -2.1975998878479004, -2.2058000564575195, -2.4672999382019043, -3.113800048828125, -3.2595999240875244, -3.538300037384033, -3.5655999183654785, -3.72979998588562, -4.106500148773193, -4.316999912261963, -4.341599941253662, -4.963799953460693, -5.434199810028076, -10.118000030517578, -10.145299911499023, -10.152299880981445, -10.158599853515625, -10.160099983215332, -10.152700424194336, -10.156800270080566, -10.143600463867188, -10.153400421142578, -10.136099815368652, -10.146100044250488, -10.148500442504883, -1.9071999788284302, -3.095400094985962, -3.1663999557495117, -3.1935999393463135, -3.3880999088287354, -3.7392001152038574, -3.760999917984009, -3.871999979019165, -3.9783999919891357, -4.0395002365112305, -4.3566999435424805, -4.816299915313721, -4.820899963378906, -5.435500144958496, -5.600399971008301, -5.661600112915039, -5.675300121307373, -5.734099864959717, -10.026800155639648, -10.034099578857422, -10.033499717712402, -10.03219985961914, -10.031499862670898], \"loglift\": [20.0, 19.0, 18.0, 17.0, 16.0, 15.0, 14.0, 13.0, 12.0, 11.0, 10.0, 9.0, 8.0, 7.0, 6.0, 5.0, 4.0, 3.0, 2.0, 1.0, 0.9253, 0.9253, 0.9253, 0.9252, 0.9252, 0.9251, 0.9251, 0.9251, 0.9251, 0.925, 0.925, 0.9249, 0.9249, 0.9248, 0.9248, 0.9248, 0.9248, 0.9248, 0.9248, 0.9247, 0.9235, 0.7709, 0.2889, 1.7066, 1.7064, 1.7063, 1.706, 1.7058, 1.7058, 1.7058, 1.7057, 1.7056, 1.7055, 1.7052, 1.705, 1.705, 1.7049, 1.7049, 1.7048, 1.7045, 1.7045, 1.7044, 1.7042, 1.6931, 1.701, 1.6906, 1.5584, 1.4567, 1.4419, 0.953, 1.3192, 1.5749, 2.1132, 2.113, 2.1129, 2.1128, 2.1127, 2.1127, 2.1126, 2.1125, 2.1123, 2.1122, 2.112, 2.1117, 2.1116, 2.1115, 2.1115, 2.1113, 2.1112, 2.1112, 2.1112, 2.1112, 2.1085, 2.0681, 1.9432, 1.8362, 1.6994, 1.6556, 1.5335, 2.7597, 2.7596, 2.7593, 2.759, 2.7589, 2.7588, 2.7588, 2.7586, 2.7585, 2.7583, 2.7582, 2.7582, 2.7581, 2.758, 2.758, 2.758, 2.7577, 2.7577, 2.7576, 2.7571, 2.6854, 2.6486, 2.8289, 2.8286, 2.8285, 2.8283, 2.8273, 2.8271, 2.8268, 2.8267, 2.8263, 2.8262, 2.8246, 2.8241, 2.8237, 2.8229, 2.8227, 2.8225, 2.8219, 2.8215, 2.8212, 2.8208, 2.7376, 2.7628, 2.5684, 2.6047, 2.9953, 2.9952, 2.9951, 2.9949, 2.9949, 2.9938, 2.9937, 2.9933, 2.9925, 2.9921, 2.992, 2.9919, 2.9919, 2.9917, 2.9915, 2.9915, 2.9905, 2.9899, 2.9897, 2.9896, 1.872, 3.258, 3.2575, 3.2569, 3.2569, 3.2564, 3.2556, 3.2554, 3.2544, 3.2542, 3.2539, 3.2537, 3.2535, 3.2533, 3.2532, 3.2529, 3.2526, 3.2526, 3.2526, 3.2524, 3.2524, 3.2029, 0.8178, 3.5883, 3.5881, 3.5878, 3.5864, 3.586, 3.5859, 3.5859, 3.5857, 3.5831, 3.5831, 3.583, 3.582, 3.5815, 3.5806, 3.5796, 3.5785, 3.578, 3.5779, 3.5752, 3.5751, 3.7612, 3.7612, 3.7611, 3.7611, 3.761, 3.7605, 3.7594, 3.7588, 3.7588, 3.7587, 3.7575, 3.7564, 3.7548, 3.7546, 3.7542, 3.7537, 3.7517, 3.7516, 3.7507, 3.7507, 4.0231, 4.0209, 4.0208, 4.0185, 4.0179, 4.0169, 4.0137, 4.0081, 4.0044, 4.0018, 4.0017, 4.0, 3.9996, 3.9983, 3.9977, 3.99, 3.9842, 3.9691, 3.7243, 2.5272, 5.0059, 5.005, 5.0011, 5.0006, 5.0001, 4.9983, 4.9982, 4.9973, 4.9942, 4.9814, 4.9794, 4.9736, 4.9732, 4.9712, 4.9561, 4.9477, 4.8509, 4.816, 4.6613, 3.3984, 5.1236, 5.1235, 5.1216, 5.121, 5.1186, 5.1169, 5.0991, 5.09, 5.0303, 5.0262, 4.8276, 4.5427, 2.0674, 2.0638, 2.0613, 2.0597, 2.0587, 2.0584, 2.0581, 2.058, 2.0578, 2.0567, 2.0548, 2.0538, 2.0446, 2.0536, 2.0503, 2.0286, 5.3288, 5.3287, 5.3267, 5.3187, 5.316, 5.3098, 5.3091, 5.3045, 5.2906, 5.2803, 5.279, 5.2327, 5.1756, 2.3395, 2.3125, 2.3106, 2.3106, 2.3088, 2.3072, 2.3071, 2.3052, 2.3058, 2.2832, 2.2863, 2.2826, 5.3623, 5.3505, 5.3493, 5.3488, 5.3448, 5.3353, 5.3346, 5.3308, 5.3268, 5.3243, 5.3086, 5.2758, 5.2754, 5.2033, 5.1765, 5.1656, 5.1631, 5.152, 2.4394, 2.4367, 2.4367, 2.4313, 2.4268]}, \"token.table\": {\"Topic\": [8, 8, 14, 5, 4, 7, 13, 1, 5, 2, 1, 13, 4, 1, 2, 5, 6, 6, 2, 2, 1, 3, 8, 9, 1, 6, 10, 3, 9, 7, 6, 10, 10, 5, 10, 10, 1, 2, 7, 7, 7, 2, 5, 9, 3, 2, 3, 11, 8, 2, 13, 10, 1, 4, 13, 6, 1, 4, 12, 4, 4, 13, 4, 7, 9, 8, 2, 9, 8, 7, 1, 3, 6, 10, 10, 14, 8, 8, 14, 11, 4, 14, 1, 8, 5, 5, 10, 8, 5, 8, 5, 8, 14, 14, 14, 6, 12, 14, 3, 7, 7, 11, 1, 2, 3, 3, 2, 11, 3, 1, 1, 2, 3, 3, 8, 4, 9, 10, 8, 5, 7, 13, 5, 8, 6, 10, 1, 2, 5, 6, 5, 11, 5, 1, 2, 3, 1, 3, 7, 1, 1, 11, 12, 6, 9, 7, 11, 11, 3, 1, 3, 9, 8, 6, 4, 5, 10, 12, 6, 12, 1, 1, 5, 1, 11, 3, 13, 6, 8, 2, 10, 13, 4, 14, 4, 2, 11, 1, 1, 3, 9, 11, 9, 1, 2, 2, 2, 6, 4, 1, 2, 7, 4, 7, 7, 8, 12, 14, 6, 12, 14, 3, 4, 7, 1, 13, 1, 1, 9, 11, 2, 3, 4, 1, 9, 10, 9, 12, 1, 2, 6, 13, 4, 14, 5, 14, 1, 5, 7, 9, 3, 4, 11, 1, 2, 5, 7, 9, 5, 3, 4, 10, 7, 10, 1, 3, 6, 6, 2, 13, 14, 2, 3, 5, 5, 9, 10, 4, 1, 3, 6, 8, 10, 6, 6, 2, 9, 1, 3, 12, 12, 4, 2, 3, 14, 3, 3, 3, 1, 2, 10, 14, 12, 10, 7, 3, 7, 3, 9, 13, 1, 2, 1, 2, 9, 11, 11, 11, 9, 1, 12, 7, 4, 2, 11, 11, 5, 13, 2, 11, 9, 3, 14, 14, 1, 2, 5, 1, 8], \"Freq\": [0.9873888997841704, 0.9959108358246446, 0.950429083861733, 0.9921349663545558, 0.9978085153368135, 0.9980818755342995, 0.9004356927713533, 0.9994751007983238, 0.9949307934187357, 0.9966866612169337, 0.9992407977204004, 0.9581698334693678, 0.9978114549094561, 0.22073513674682635, 0.7788903141773535, 0.9961075295616508, 0.9969021251952843, 0.9942581117534431, 0.9990025149443782, 0.9983067966108939, 0.36706165142277525, 0.6325024160554743, 0.9988954726734683, 0.9948685867016956, 0.6740027190755282, 0.32439246513328995, 0.9610823164790252, 0.9992606217093563, 0.9952144297379211, 0.9952637278942924, 0.994803914195799, 0.9907532527103556, 0.9694347020847031, 0.9980466818419992, 0.9732617707275194, 0.9899702738369921, 0.12281125015527727, 0.8768152045969796, 0.9969542241891268, 0.9956781422152391, 0.9946764507586725, 0.9990697285324591, 0.9968491021229245, 0.9921252434749166, 0.9963755275258441, 0.9972208573214638, 0.9992683264318968, 0.9550227057011287, 0.9976616640167056, 0.9981573778964967, 0.9359342715789228, 0.9525495336500017, 0.9997901762387886, 0.9984185824213587, 0.9566958655105903, 0.9928874769620224, 0.10423910844419813, 0.893676623061592, 0.9950340331330754, 0.9956605790509272, 0.9967791095549757, 0.9919360786822211, 0.9987276391663409, 0.9975449283177926, 0.9941207625856623, 0.9920027865577108, 0.9994610170075247, 0.9974936288486007, 0.9874708525226618, 0.9960342009643396, 0.3390816424850903, 0.660650834871774, 0.9983243880988905, 0.9670759349096, 0.9356916249625595, 0.993428148381827, 0.997012535058618, 0.9991873117961575, 0.9197924694364918, 0.9777651700361579, 0.9968757891425514, 0.9900569455434876, 0.9994402588117282, 0.9888040488545762, 0.9971426569204983, 0.9979956634413089, 0.6845999791342328, 0.9968742786630057, 0.9975401637057202, 0.9932459837795362, 0.9926297706392677, 0.996271100676467, 0.976548295292492, 0.8083540585940485, 0.9844570064409526, 0.9952335228197589, 0.3847735880666014, 0.9237054199433086, 0.0023453812973559356, 0.9944416700789167, 0.9948362112078014, 0.9749076643051695, 0.38371661874329877, 0.05589149628753931, 0.5599897993424612, 0.9988260283539852, 0.999327870591709, 0.9801692337926887, 0.998810477217469, 0.9991735251629468, 0.2894805145013726, 0.6790385783017912, 0.031429313003006165, 0.998324158997453, 0.9920332526882244, 0.9980983488769094, 0.9878429672556402, 0.9968440753600183, 0.9899917190937377, 0.9126748717169423, 0.08685506412777008, 0.9756970901819836, 0.9959930906188892, 0.9922201871779375, 0.996218437153133, 0.9829858520505861, 0.999578368985549, 0.998897537224574, 0.9886585347892017, 0.9926736071960123, 0.9986356829609478, 0.9819613638826553, 0.9925975504816793, 0.013878222941748248, 0.9838118040928202, 0.9993174293164279, 0.003740672311478604, 0.9950188348533088, 0.9965399085096636, 0.9994969422092014, 0.9997043253951918, 0.7756699394606705, 0.973038848090607, 0.9971900599242043, 0.9920482744148944, 0.9952695456537777, 0.9066380568003121, 0.7752719422395872, 0.996464846160584, 0.24197008742009307, 0.7576166875084294, 0.9965659600048727, 0.9854939875655063, 0.9988069087301538, 0.9979938408715721, 0.9961134082348239, 0.9699229476079391, 0.9908359849553254, 0.9986179738959965, 0.9945734796959619, 0.9990959324073492, 0.9996529446687854, 0.9941443112432569, 0.9996701110288042, 0.990597001002658, 0.9986625727442557, 0.9564095117863516, 0.9963517025244467, 0.9990070867518467, 0.7724611717423798, 0.2240727063069499, 0.9957022037554282, 0.9950862777255652, 0.9823817425555116, 0.9980728709878484, 0.9990434350492897, 0.994089477467994, 0.9997939310316806, 0.15601211329483777, 0.8434218078889506, 0.9981629654778134, 0.9915572212364608, 0.9967588639063457, 0.9990099077108148, 0.9991292098810407, 0.9979369444267104, 0.997414608397499, 0.9934065993877575, 0.9963901328225258, 0.013223496346997704, 0.9861522578776167, 0.9947651546207933, 0.9988724335625581, 0.9990731306658567, 0.9987383528007036, 0.9886100459044644, 0.9639342619586985, 0.9771093521577886, 0.9951973373318086, 0.8892441166128736, 0.760171542355916, 0.07166930442209636, 0.9277917227005928, 0.9955761920584288, 0.9995337804501249, 0.9931985009752213, 0.9990131471968423, 0.999347288144659, 0.9907045287487114, 0.9703305914016686, 0.9985397253793429, 0.9993987381286474, 0.9982678461060471, 0.999329534461135, 0.9827615735410478, 0.9970718228548444, 0.984804713402989, 0.9893913615795347, 0.13783324775846176, 0.8621253961881727, 0.995254022042124, 0.976877737569481, 0.996569899610489, 0.9620912221531, 0.9928258710651053, 0.8478684770474306, 0.19676610404330735, 0.7991113205024114, 0.9983296434992461, 0.9968299759396284, 0.9968769832317741, 0.9976162500276519, 0.9349218704919733, 0.9981057093782879, 0.0018673633477610625, 0.9991327469665457, 0.9438838199326042, 0.049081958636495414, 0.9991221923521749, 0.996359048914843, 0.9985293802003605, 0.9996308438991152, 0.9925331790221495, 0.9909116308127451, 0.9995890564499443, 0.9983880641739451, 0.999102359137961, 0.9960701204817572, 0.9981366138867699, 0.9757907441089511, 0.9763998523794272, 0.9985917878966586, 0.22681940170959217, 0.7718630386535376, 0.9983140872122125, 0.988457181385644, 0.9935867822663765, 0.998414227089875, 0.04224562190968419, 0.9560027772895201, 0.9957289462949701, 0.982878282964252, 0.9978310029628285, 0.9964873076227486, 0.9991146446258161, 0.9992224265609791, 0.9906783046878261, 0.8567134031875528, 0.1429392653326918, 0.9247642825520261, 0.9947046776605151, 0.996947708023506, 0.9997926391551883, 0.9987359710380057, 0.9621339756310708, 0.9986648765880929, 0.9976892872495583, 0.9991508957355012, 0.2316606654233108, 0.7674936679674728, 0.9711097823513171, 0.7945199856139965, 0.6761071343977954, 0.9864535502075238, 0.9955908006270252, 0.9989028794074767, 0.9952148531545786, 0.998838158313318, 0.9820326098831353, 0.9721383733666915, 0.004810710160922885, 0.9946143257708067, 0.5289530519737413, 0.4706155207049867, 0.9959887637073834, 0.9893192465808749, 0.9901148634378968, 0.9919610465227998, 0.9925129609423216, 0.9989307692305198, 0.9890306608798594, 0.9972485063602475, 0.9961603641848656, 0.9976404708697044, 0.9132012260531354, 0.964730173397086, 0.9997616308514852, 0.9347567429366543, 0.9987382466432956, 0.9879682329147778, 0.9974792015722298, 0.9977154845872769, 0.969828417949301, 0.7993739374372888, 0.061378882298230415, 0.002273291936971497, 0.935459632063771, 0.9994815248624399, 0.9937038875620652], \"Term\": [\"Atraves\", \"Cartao\", \"Serasa\", \"abril\", \"acabar\", \"acordo\", \"advogado\", \"agora\", \"agosto\", \"aguardo\", \"ainda\", \"ajuda\", \"alem\", \"algum\", \"algum\", \"alteracao\", \"anatel\", \"anexo\", \"ano\", \"aparecer\", \"aplicativo\", \"aplicativo\", \"app\", \"apresentar\", \"aqui\", \"aqui\", \"arrepender\", \"atendimento\", \"ativacao\", \"atraso\", \"atualizacao\", \"atualizar\", \"automaticamente\", \"automatico\", \"autorizar\", \"banco\", \"bem\", \"bem\", \"bloquear\", \"bloqueio\", \"boleto\", \"bom\", \"bonus\", \"buscar\", \"cadastro\", \"canal\", \"cancelamento\", \"cansar\", \"cartao\", \"casa\", \"casado\", \"centavo\", \"chip\", \"cidade\", \"clube\", \"cobranco\", \"colocar\", \"colocar\", \"com\", \"comecar\", \"comigo\", \"compra\", \"comprar\", \"comprovante\", \"comunicacao\", \"concluir\", \"conseguir\", \"consumidor\", \"consumir\", \"consumo\", \"contato\", \"contato\", \"contratar\", \"contudo\", \"correio\", \"cpf\", \"creditar\", \"credito\", \"criar\", \"d\", \"dado\", \"dano\", \"dar\", \"ddd\", \"debitar\", \"debito\", \"def\\u00eas\", \"descontar\", \"desconto\", \"devolver\", \"dezembro\", \"dinheiro\", \"diver\", \"divida\", \"dividar\", \"documento\", \"duplicidade\", \"duvidar\", \"efetuar\", \"efetuar\", \"efetuei\", \"eletronico\", \"em\", \"em\", \"em\", \"email\", \"empresa\", \"enorme\", \"enviar\", \"esperar\", \"esse\", \"esse\", \"esse\", \"este\", \"estorno\", \"eu\", \"extremamente\", \"faco\", \"falha\", \"fatura\", \"fatura\", \"fechar\", \"fevereiro\", \"fi\", \"fico\", \"fiquar\", \"fiz\", \"g\", \"ganhar\", \"gastar\", \"gb\", \"gente\", \"giga\", \"gostar\", \"gostar\", \"h\", \"haver\", \"haver\", \"hj\", \"hoje\", \"hora\", \"horar\", \"identificar\", \"ilimitar\", \"imediato\", \"impossivel\", \"ineficiente\", \"inferior\", \"informacao\", \"informar\", \"informar\", \"instabilidade\", \"inteiro\", \"internet\", \"isso\", \"janeiro\", \"lamentavel\", \"liberar\", \"ligacoes\", \"ligor\", \"liguar\", \"linha\", \"lixo\", \"loja\", \"mae\", \"mail\", \"media\", \"menos\", \"mensagem\", \"mensal\", \"mensal\", \"migracao\", \"migrar\", \"moral\", \"mudar\", \"m\\u00eas\", \"n\", \"nada\", \"nenhum\", \"nenhum\", \"nextel\", \"noite\", \"normalmente\", \"novamente\", \"nunca\", \"ocorrer\", \"oferecer\", \"oferta\", \"oi\", \"operadora\", \"operadora\", \"p\", \"pacote\", \"pagamento\", \"paguar\", \"pagueer\", \"par\", \"pena\", \"perguntar\", \"pertencer\", \"pesquisa\", \"pessimo\", \"pessimo\", \"pix\", \"poder\", \"ponto\", \"porem\", \"portabilidade\", \"portanto\", \"posicionamento\", \"pouco\", \"prazo\", \"precisar\", \"preciso\", \"prejuizos\", \"prezao\", \"prezar\", \"pro\", \"problema\", \"problema\", \"procon\", \"programar\", \"promocao\", \"pronto\", \"propaganda\", \"proxima\", \"proximo\", \"proximo\", \"q\", \"qualidade\", \"qualquer\", \"quase\", \"quebra\", \"querer\", \"querer\", \"r\", \"rapido\", \"rapido\", \"real\", \"realizei\", \"reativar\", \"recarga\", \"recarregar\", \"recarreguei\", \"receber\", \"recebi\", \"reclamacao\", \"reclamacoes\", \"reclamar\", \"reconhecer\", \"recuperar\", \"rede\", \"referente\", \"referente\", \"regiao\", \"relacao\", \"renovacao\", \"renovar\", \"resposta\", \"resposta\", \"ruim\", \"s\", \"saldo\", \"seguir\", \"semana\", \"sempre\", \"sentir\", \"ser\", \"ser\", \"seriamente\", \"si\", \"sim\", \"sinal\", \"sms\", \"sob\", \"sobre\", \"solicitacao\", \"solicitar\", \"solucao\", \"solucao\", \"sos\", \"spc\", \"streaming\", \"suficiente\", \"sumir\", \"suporte\", \"suspender\", \"tecnico\", \"tela\", \"telefoniar\", \"tempo\", \"tempo\", \"tentar\", \"tentar\", \"tim\", \"titularidade\", \"to\", \"toda\", \"tomar\", \"trabalho\", \"transtorno\", \"troca\", \"trocar\", \"ultimo\", \"upgrade\", \"ura\", \"valor\", \"variar\", \"varias\", \"vcs\", \"verificar\", \"via\", \"vincular\", \"vinculo\", \"vir\", \"vir\", \"vir\", \"voltar\", \"wi\"]}, \"R\": 20, \"lambda.step\": 0.01, \"plot.opts\": {\"xlab\": \"PC1\", \"ylab\": \"PC2\"}, \"topic.order\": [5, 3, 6, 11, 7, 9, 13, 10, 1, 8, 12, 4, 2, 14]};\n",
              "\n",
              "function LDAvis_load_lib(url, callback){\n",
              "  var s = document.createElement('script');\n",
              "  s.src = url;\n",
              "  s.async = true;\n",
              "  s.onreadystatechange = s.onload = callback;\n",
              "  s.onerror = function(){console.warn(\"failed to load library \" + url);};\n",
              "  document.getElementsByTagName(\"head\")[0].appendChild(s);\n",
              "}\n",
              "\n",
              "if(typeof(LDAvis) !== \"undefined\"){\n",
              "   // already loaded: just create the visualization\n",
              "   !function(LDAvis){\n",
              "       new LDAvis(\"#\" + \"ldavis_el2371341146530870881909495087\", ldavis_el2371341146530870881909495087_data);\n",
              "   }(LDAvis);\n",
              "}else if(typeof define === \"function\" && define.amd){\n",
              "   // require.js is available: use it to load d3/LDAvis\n",
              "   require.config({paths: {d3: \"https://cdnjs.cloudflare.com/ajax/libs/d3/3.5.5/d3.min\"}});\n",
              "   require([\"d3\"], function(d3){\n",
              "      window.d3 = d3;\n",
              "      LDAvis_load_lib(\"https://cdn.rawgit.com/bmabey/pyLDAvis/files/ldavis.v1.0.0.js\", function(){\n",
              "        new LDAvis(\"#\" + \"ldavis_el2371341146530870881909495087\", ldavis_el2371341146530870881909495087_data);\n",
              "      });\n",
              "    });\n",
              "}else{\n",
              "    // require.js not available: dynamically load d3 & LDAvis\n",
              "    LDAvis_load_lib(\"https://cdnjs.cloudflare.com/ajax/libs/d3/3.5.5/d3.min.js\", function(){\n",
              "         LDAvis_load_lib(\"https://cdn.rawgit.com/bmabey/pyLDAvis/files/ldavis.v1.0.0.js\", function(){\n",
              "                 new LDAvis(\"#\" + \"ldavis_el2371341146530870881909495087\", ldavis_el2371341146530870881909495087_data);\n",
              "            })\n",
              "         });\n",
              "}\n",
              "</script>"
            ]
          },
          "metadata": {},
          "execution_count": 37
        }
      ]
    },
    {
      "cell_type": "markdown",
      "source": [
        "## Bertopic"
      ],
      "metadata": {
        "id": "04ozE_gldfL4"
      }
    },
    {
      "cell_type": "markdown",
      "source": [
        "As we could see above, work with LDA demands a lot of text prepocessing. Now we will use a completely different alternative called Bertopic.\n",
        "\n",
        "Documentation: https://maartengr.github.io/BERTopic/index.html"
      ],
      "metadata": {
        "id": "JSFc26yYdkP9"
      }
    },
    {
      "cell_type": "code",
      "source": [
        "device = !nvidia-smi -L\n",
        "device = \"cuda\" if device[0][:3] == 'GPU' else \"cpu\"\n",
        "device"
      ],
      "metadata": {
        "id": "WZIRaKNejnes",
        "outputId": "d34cc625-0b53-4b78-b25b-54dec4f33232",
        "colab": {
          "base_uri": "https://localhost:8080/",
          "height": 36
        }
      },
      "execution_count": 39,
      "outputs": [
        {
          "output_type": "execute_result",
          "data": {
            "text/plain": [
              "'cuda'"
            ],
            "application/vnd.google.colaboratory.intrinsic+json": {
              "type": "string"
            }
          },
          "metadata": {},
          "execution_count": 39
        }
      ]
    },
    {
      "cell_type": "code",
      "source": [
        "try:\n",
        "  from bertopic import BERTopic\n",
        "except:\n",
        "  !pip install bertopic\n",
        "  clear_output()\n",
        "  from bertopic import BERTopic"
      ],
      "metadata": {
        "id": "zfzaT7HFq8Zr"
      },
      "execution_count": 40,
      "outputs": []
    },
    {
      "cell_type": "code",
      "source": [
        "try:\n",
        "  from sentence_transformers import SentenceTransformer\n",
        "except:\n",
        "  !pip install sentence_transformers\n",
        "  clear_output()\n",
        "  from sentence_transformers import SentenceTransformer"
      ],
      "metadata": {
        "id": "VPMVbO7oqNou"
      },
      "execution_count": 43,
      "outputs": []
    },
    {
      "cell_type": "code",
      "source": [
        "sentence_model = SentenceTransformer('rufimelo/bert-large-portuguese-cased-sts', device=device)\n",
        "clear_output()\n",
        "topic_model = BERTopic(embedding_model=sentence_model)"
      ],
      "metadata": {
        "id": "i7DeCZjFqfg6"
      },
      "execution_count": 44,
      "outputs": []
    },
    {
      "cell_type": "code",
      "source": [
        "topics, probs = topic_model.fit_transform(df.description.astype(\"str\").tolist())"
      ],
      "metadata": {
        "id": "FVjGp-Bv3MM2"
      },
      "execution_count": null,
      "outputs": []
    },
    {
      "cell_type": "code",
      "source": [
        "topic_model.visualize_topics()"
      ],
      "metadata": {
        "id": "02yCTx7a33z0"
      },
      "execution_count": null,
      "outputs": []
    },
    {
      "cell_type": "code",
      "source": [
        "topic_model.visualize_barchart()"
      ],
      "metadata": {
        "id": "gIt1cu1B4Thl"
      },
      "execution_count": null,
      "outputs": []
    },
    {
      "cell_type": "code",
      "source": [
        "topic_model.visualize_heatmap()"
      ],
      "metadata": {
        "id": "tjj2IMgl4dEn"
      },
      "execution_count": null,
      "outputs": []
    }
  ]
}