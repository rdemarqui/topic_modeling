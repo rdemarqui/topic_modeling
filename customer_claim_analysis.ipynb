{
  "nbformat": 4,
  "nbformat_minor": 0,
  "metadata": {
    "colab": {
      "provenance": [],
      "toc_visible": true,
      "gpuType": "T4",
      "authorship_tag": "ABX9TyMdEnSptWCXAdhn3M5+6Cio",
      "include_colab_link": true
    },
    "kernelspec": {
      "name": "python3",
      "display_name": "Python 3"
    },
    "language_info": {
      "name": "python"
    },
    "accelerator": "GPU"
  },
  "cells": [
    {
      "cell_type": "markdown",
      "metadata": {
        "id": "view-in-github",
        "colab_type": "text"
      },
      "source": [
        "<a href=\"https://colab.research.google.com/github/rdemarqui/topic_modeling/blob/main/customer_claim_analysis.ipynb\" target=\"_parent\"><img src=\"https://colab.research.google.com/assets/colab-badge.svg\" alt=\"Open In Colab\"/></a>"
      ]
    },
    {
      "cell_type": "markdown",
      "source": [
        "# Customer claims analysis"
      ],
      "metadata": {
        "id": "SYGjlAwUQLsI"
      }
    },
    {
      "cell_type": "markdown",
      "source": [
        "## Open Dataset"
      ],
      "metadata": {
        "id": "8adBRjDEQsTx"
      }
    },
    {
      "cell_type": "code",
      "source": [
        "from IPython.display import clear_output\n",
        "import warnings\n",
        "warnings.filterwarnings('ignore', 'error')"
      ],
      "metadata": {
        "id": "qpIyT-1VY2qO"
      },
      "execution_count": 1,
      "outputs": []
    },
    {
      "cell_type": "code",
      "execution_count": 2,
      "metadata": {
        "id": "Ez3anRREQBSZ"
      },
      "outputs": [],
      "source": [
        "import pandas as pd"
      ]
    },
    {
      "cell_type": "code",
      "source": [
        "data_url = 'https://raw.githubusercontent.com/rdemarqui/topic_modeling/main/datasets/reclame_aqui_full.csv'\n",
        "df = pd.read_csv(data_url)\n",
        "print(df.shape)\n",
        "df.head()"
      ],
      "metadata": {
        "colab": {
          "base_uri": "https://localhost:8080/",
          "height": 310
        },
        "id": "MvciBgf2QQb4",
        "outputId": "2a046f18-bc88-4619-b849-709acfd3317d"
      },
      "execution_count": 3,
      "outputs": [
        {
          "output_type": "stream",
          "name": "stdout",
          "text": [
            "(500, 5)\n"
          ]
        },
        {
          "output_type": "execute_result",
          "data": {
            "text/plain": [
              "   Unnamed: 0.1  Unnamed: 0                                     Title  \\\n",
              "0             0           0                          Claro residência   \n",
              "1             1           1            NO CONSIGO FALAR COM UM HUMANO   \n",
              "2             2           2   Oi virou claro e não recebe ligações!!!   \n",
              "3             3           3  Mudança de plano sem a minha autorização   \n",
              "4             4           4                              Plano PREZAO   \n",
              "\n",
              "                                                link  \\\n",
              "0          /claro/claro-residencia_h-VgVeL0ez_dO42I/   \n",
              "1  /claro/no-consigo-falar-com-um-humano_0kiSV_xg...   \n",
              "2  /claro/oi-virou-claro-e-nao-recebe-ligacoes_MG...   \n",
              "3  /claro/mudanca-de-plano-sem-a-minha-autorizaca...   \n",
              "4              /claro/plano-prezao_iW3NARVJ71tk_jVM/   \n",
              "\n",
              "                                         description  \n",
              "0  Estou há mais de 7 dias tentando efetuar a con...  \n",
              "1  Realizei o pagamento das faturas atrasadas e s...  \n",
              "2  Minha mãe tinha um chip da Oi que virou Claro ...  \n",
              "3  Na sexta-feira dia 6 de outubro fiz uma recarg...  \n",
              "4  Bom diaNa data de 08/10/2023, recebi um SMS in...  "
            ],
            "text/html": [
              "\n",
              "  <div id=\"df-42bbfddc-91d1-48f8-8de2-fc94424e8cb7\" class=\"colab-df-container\">\n",
              "    <div>\n",
              "<style scoped>\n",
              "    .dataframe tbody tr th:only-of-type {\n",
              "        vertical-align: middle;\n",
              "    }\n",
              "\n",
              "    .dataframe tbody tr th {\n",
              "        vertical-align: top;\n",
              "    }\n",
              "\n",
              "    .dataframe thead th {\n",
              "        text-align: right;\n",
              "    }\n",
              "</style>\n",
              "<table border=\"1\" class=\"dataframe\">\n",
              "  <thead>\n",
              "    <tr style=\"text-align: right;\">\n",
              "      <th></th>\n",
              "      <th>Unnamed: 0.1</th>\n",
              "      <th>Unnamed: 0</th>\n",
              "      <th>Title</th>\n",
              "      <th>link</th>\n",
              "      <th>description</th>\n",
              "    </tr>\n",
              "  </thead>\n",
              "  <tbody>\n",
              "    <tr>\n",
              "      <th>0</th>\n",
              "      <td>0</td>\n",
              "      <td>0</td>\n",
              "      <td>Claro residência</td>\n",
              "      <td>/claro/claro-residencia_h-VgVeL0ez_dO42I/</td>\n",
              "      <td>Estou há mais de 7 dias tentando efetuar a con...</td>\n",
              "    </tr>\n",
              "    <tr>\n",
              "      <th>1</th>\n",
              "      <td>1</td>\n",
              "      <td>1</td>\n",
              "      <td>NO CONSIGO FALAR COM UM HUMANO</td>\n",
              "      <td>/claro/no-consigo-falar-com-um-humano_0kiSV_xg...</td>\n",
              "      <td>Realizei o pagamento das faturas atrasadas e s...</td>\n",
              "    </tr>\n",
              "    <tr>\n",
              "      <th>2</th>\n",
              "      <td>2</td>\n",
              "      <td>2</td>\n",
              "      <td>Oi virou claro e não recebe ligações!!!</td>\n",
              "      <td>/claro/oi-virou-claro-e-nao-recebe-ligacoes_MG...</td>\n",
              "      <td>Minha mãe tinha um chip da Oi que virou Claro ...</td>\n",
              "    </tr>\n",
              "    <tr>\n",
              "      <th>3</th>\n",
              "      <td>3</td>\n",
              "      <td>3</td>\n",
              "      <td>Mudança de plano sem a minha autorização</td>\n",
              "      <td>/claro/mudanca-de-plano-sem-a-minha-autorizaca...</td>\n",
              "      <td>Na sexta-feira dia 6 de outubro fiz uma recarg...</td>\n",
              "    </tr>\n",
              "    <tr>\n",
              "      <th>4</th>\n",
              "      <td>4</td>\n",
              "      <td>4</td>\n",
              "      <td>Plano PREZAO</td>\n",
              "      <td>/claro/plano-prezao_iW3NARVJ71tk_jVM/</td>\n",
              "      <td>Bom diaNa data de 08/10/2023, recebi um SMS in...</td>\n",
              "    </tr>\n",
              "  </tbody>\n",
              "</table>\n",
              "</div>\n",
              "    <div class=\"colab-df-buttons\">\n",
              "\n",
              "  <div class=\"colab-df-container\">\n",
              "    <button class=\"colab-df-convert\" onclick=\"convertToInteractive('df-42bbfddc-91d1-48f8-8de2-fc94424e8cb7')\"\n",
              "            title=\"Convert this dataframe to an interactive table.\"\n",
              "            style=\"display:none;\">\n",
              "\n",
              "  <svg xmlns=\"http://www.w3.org/2000/svg\" height=\"24px\" viewBox=\"0 -960 960 960\">\n",
              "    <path d=\"M120-120v-720h720v720H120Zm60-500h600v-160H180v160Zm220 220h160v-160H400v160Zm0 220h160v-160H400v160ZM180-400h160v-160H180v160Zm440 0h160v-160H620v160ZM180-180h160v-160H180v160Zm440 0h160v-160H620v160Z\"/>\n",
              "  </svg>\n",
              "    </button>\n",
              "\n",
              "  <style>\n",
              "    .colab-df-container {\n",
              "      display:flex;\n",
              "      gap: 12px;\n",
              "    }\n",
              "\n",
              "    .colab-df-convert {\n",
              "      background-color: #E8F0FE;\n",
              "      border: none;\n",
              "      border-radius: 50%;\n",
              "      cursor: pointer;\n",
              "      display: none;\n",
              "      fill: #1967D2;\n",
              "      height: 32px;\n",
              "      padding: 0 0 0 0;\n",
              "      width: 32px;\n",
              "    }\n",
              "\n",
              "    .colab-df-convert:hover {\n",
              "      background-color: #E2EBFA;\n",
              "      box-shadow: 0px 1px 2px rgba(60, 64, 67, 0.3), 0px 1px 3px 1px rgba(60, 64, 67, 0.15);\n",
              "      fill: #174EA6;\n",
              "    }\n",
              "\n",
              "    .colab-df-buttons div {\n",
              "      margin-bottom: 4px;\n",
              "    }\n",
              "\n",
              "    [theme=dark] .colab-df-convert {\n",
              "      background-color: #3B4455;\n",
              "      fill: #D2E3FC;\n",
              "    }\n",
              "\n",
              "    [theme=dark] .colab-df-convert:hover {\n",
              "      background-color: #434B5C;\n",
              "      box-shadow: 0px 1px 3px 1px rgba(0, 0, 0, 0.15);\n",
              "      filter: drop-shadow(0px 1px 2px rgba(0, 0, 0, 0.3));\n",
              "      fill: #FFFFFF;\n",
              "    }\n",
              "  </style>\n",
              "\n",
              "    <script>\n",
              "      const buttonEl =\n",
              "        document.querySelector('#df-42bbfddc-91d1-48f8-8de2-fc94424e8cb7 button.colab-df-convert');\n",
              "      buttonEl.style.display =\n",
              "        google.colab.kernel.accessAllowed ? 'block' : 'none';\n",
              "\n",
              "      async function convertToInteractive(key) {\n",
              "        const element = document.querySelector('#df-42bbfddc-91d1-48f8-8de2-fc94424e8cb7');\n",
              "        const dataTable =\n",
              "          await google.colab.kernel.invokeFunction('convertToInteractive',\n",
              "                                                    [key], {});\n",
              "        if (!dataTable) return;\n",
              "\n",
              "        const docLinkHtml = 'Like what you see? Visit the ' +\n",
              "          '<a target=\"_blank\" href=https://colab.research.google.com/notebooks/data_table.ipynb>data table notebook</a>'\n",
              "          + ' to learn more about interactive tables.';\n",
              "        element.innerHTML = '';\n",
              "        dataTable['output_type'] = 'display_data';\n",
              "        await google.colab.output.renderOutput(dataTable, element);\n",
              "        const docLink = document.createElement('div');\n",
              "        docLink.innerHTML = docLinkHtml;\n",
              "        element.appendChild(docLink);\n",
              "      }\n",
              "    </script>\n",
              "  </div>\n",
              "\n",
              "\n",
              "<div id=\"df-8f27ea36-754c-467d-b428-4fd496b2a601\">\n",
              "  <button class=\"colab-df-quickchart\" onclick=\"quickchart('df-8f27ea36-754c-467d-b428-4fd496b2a601')\"\n",
              "            title=\"Suggest charts.\"\n",
              "            style=\"display:none;\">\n",
              "\n",
              "<svg xmlns=\"http://www.w3.org/2000/svg\" height=\"24px\"viewBox=\"0 0 24 24\"\n",
              "     width=\"24px\">\n",
              "    <g>\n",
              "        <path d=\"M19 3H5c-1.1 0-2 .9-2 2v14c0 1.1.9 2 2 2h14c1.1 0 2-.9 2-2V5c0-1.1-.9-2-2-2zM9 17H7v-7h2v7zm4 0h-2V7h2v10zm4 0h-2v-4h2v4z\"/>\n",
              "    </g>\n",
              "</svg>\n",
              "  </button>\n",
              "\n",
              "<style>\n",
              "  .colab-df-quickchart {\n",
              "      --bg-color: #E8F0FE;\n",
              "      --fill-color: #1967D2;\n",
              "      --hover-bg-color: #E2EBFA;\n",
              "      --hover-fill-color: #174EA6;\n",
              "      --disabled-fill-color: #AAA;\n",
              "      --disabled-bg-color: #DDD;\n",
              "  }\n",
              "\n",
              "  [theme=dark] .colab-df-quickchart {\n",
              "      --bg-color: #3B4455;\n",
              "      --fill-color: #D2E3FC;\n",
              "      --hover-bg-color: #434B5C;\n",
              "      --hover-fill-color: #FFFFFF;\n",
              "      --disabled-bg-color: #3B4455;\n",
              "      --disabled-fill-color: #666;\n",
              "  }\n",
              "\n",
              "  .colab-df-quickchart {\n",
              "    background-color: var(--bg-color);\n",
              "    border: none;\n",
              "    border-radius: 50%;\n",
              "    cursor: pointer;\n",
              "    display: none;\n",
              "    fill: var(--fill-color);\n",
              "    height: 32px;\n",
              "    padding: 0;\n",
              "    width: 32px;\n",
              "  }\n",
              "\n",
              "  .colab-df-quickchart:hover {\n",
              "    background-color: var(--hover-bg-color);\n",
              "    box-shadow: 0 1px 2px rgba(60, 64, 67, 0.3), 0 1px 3px 1px rgba(60, 64, 67, 0.15);\n",
              "    fill: var(--button-hover-fill-color);\n",
              "  }\n",
              "\n",
              "  .colab-df-quickchart-complete:disabled,\n",
              "  .colab-df-quickchart-complete:disabled:hover {\n",
              "    background-color: var(--disabled-bg-color);\n",
              "    fill: var(--disabled-fill-color);\n",
              "    box-shadow: none;\n",
              "  }\n",
              "\n",
              "  .colab-df-spinner {\n",
              "    border: 2px solid var(--fill-color);\n",
              "    border-color: transparent;\n",
              "    border-bottom-color: var(--fill-color);\n",
              "    animation:\n",
              "      spin 1s steps(1) infinite;\n",
              "  }\n",
              "\n",
              "  @keyframes spin {\n",
              "    0% {\n",
              "      border-color: transparent;\n",
              "      border-bottom-color: var(--fill-color);\n",
              "      border-left-color: var(--fill-color);\n",
              "    }\n",
              "    20% {\n",
              "      border-color: transparent;\n",
              "      border-left-color: var(--fill-color);\n",
              "      border-top-color: var(--fill-color);\n",
              "    }\n",
              "    30% {\n",
              "      border-color: transparent;\n",
              "      border-left-color: var(--fill-color);\n",
              "      border-top-color: var(--fill-color);\n",
              "      border-right-color: var(--fill-color);\n",
              "    }\n",
              "    40% {\n",
              "      border-color: transparent;\n",
              "      border-right-color: var(--fill-color);\n",
              "      border-top-color: var(--fill-color);\n",
              "    }\n",
              "    60% {\n",
              "      border-color: transparent;\n",
              "      border-right-color: var(--fill-color);\n",
              "    }\n",
              "    80% {\n",
              "      border-color: transparent;\n",
              "      border-right-color: var(--fill-color);\n",
              "      border-bottom-color: var(--fill-color);\n",
              "    }\n",
              "    90% {\n",
              "      border-color: transparent;\n",
              "      border-bottom-color: var(--fill-color);\n",
              "    }\n",
              "  }\n",
              "</style>\n",
              "\n",
              "  <script>\n",
              "    async function quickchart(key) {\n",
              "      const quickchartButtonEl =\n",
              "        document.querySelector('#' + key + ' button');\n",
              "      quickchartButtonEl.disabled = true;  // To prevent multiple clicks.\n",
              "      quickchartButtonEl.classList.add('colab-df-spinner');\n",
              "      try {\n",
              "        const charts = await google.colab.kernel.invokeFunction(\n",
              "            'suggestCharts', [key], {});\n",
              "      } catch (error) {\n",
              "        console.error('Error during call to suggestCharts:', error);\n",
              "      }\n",
              "      quickchartButtonEl.classList.remove('colab-df-spinner');\n",
              "      quickchartButtonEl.classList.add('colab-df-quickchart-complete');\n",
              "    }\n",
              "    (() => {\n",
              "      let quickchartButtonEl =\n",
              "        document.querySelector('#df-8f27ea36-754c-467d-b428-4fd496b2a601 button');\n",
              "      quickchartButtonEl.style.display =\n",
              "        google.colab.kernel.accessAllowed ? 'block' : 'none';\n",
              "    })();\n",
              "  </script>\n",
              "</div>\n",
              "    </div>\n",
              "  </div>\n"
            ]
          },
          "metadata": {},
          "execution_count": 3
        }
      ]
    },
    {
      "cell_type": "markdown",
      "source": [
        "## Text Preprocess"
      ],
      "metadata": {
        "id": "SUABsKOpxMXC"
      }
    },
    {
      "cell_type": "markdown",
      "source": [
        "The dataset that we will use was acquired through web scrapping on reclameaqui.com.br. This data is messy, since the users can write everithing they want. Because of that, we'll need to clean and make some modifications bofore we create our model."
      ],
      "metadata": {
        "id": "gbK3rTv5zIR4"
      }
    },
    {
      "cell_type": "markdown",
      "source": [
        "### Normalize"
      ],
      "metadata": {
        "id": "AtR1HPKU2NAD"
      }
    },
    {
      "cell_type": "markdown",
      "source": [
        "Firstly, we will normalize our text. This proccess goes through some steps such as removing punctuation, accentuation, special characters and masked words."
      ],
      "metadata": {
        "id": "_2k88R6__OT8"
      }
    },
    {
      "cell_type": "code",
      "source": [
        "import string"
      ],
      "metadata": {
        "id": "oe2tnuGgyb76"
      },
      "execution_count": 4,
      "outputs": []
    },
    {
      "cell_type": "code",
      "source": [
        "punctuations = list(string.punctuation)\n",
        "\n",
        "def remove_punctuation(text):\n",
        "  return ''.join([char if char not in punctuations else ' ' for char in text])"
      ],
      "metadata": {
        "id": "WuEr47zNSFlS"
      },
      "execution_count": 5,
      "outputs": []
    },
    {
      "cell_type": "code",
      "source": [
        "accentuation = {\n",
        "    \"á\": \"a\", \"ã\": \"a\", \"à\": \"a\",\"â\": \"a\",\n",
        "    \"é\": \"e\",\"ê\": \"e\",\n",
        "    \"í\": \"i\",\n",
        "    \"ó\": \"o\",\"õ\": \"o\", \"ô\":\"o\",\n",
        "    \"ú\": \"u\",\n",
        "    \"ç\": \"c\"\n",
        "    }\n",
        "\n",
        "def remove_accentuation(text):\n",
        "  return ''.join(accentuation.get(char, char) for char in text)"
      ],
      "metadata": {
        "id": "DIXdfnSWyArZ"
      },
      "execution_count": 6,
      "outputs": []
    },
    {
      "cell_type": "code",
      "source": [
        "special_charaters = [\n",
        "    \"1\",\"2\",\"3\",\"4\",\"5\",\"6\",\"7\",\"8\",\"9\",\"0\",\n",
        "    \" a \",\" b \",\" c \",\" d \",\" e \",\" f \",\" g \",\" h \",\" i \",\" j \",\" k \",\" l \",\n",
        "    \" m \",\" n \",\" o \",\" p \",\" q \",\" r \",\" s \",\" t \",\" u \",\" v \",\" x \",\" z \",\n",
        "    \"r$\", \"$\",\n",
        "    ]\n",
        "\n",
        "def remove_special_characters(text):\n",
        "  return ''.join([char if char not in special_charaters else ' ' for char in text])"
      ],
      "metadata": {
        "id": "x_1vhubLyFvB"
      },
      "execution_count": 7,
      "outputs": []
    },
    {
      "cell_type": "markdown",
      "source": [
        "Reclame Aqui website often masks data when it is sensitive information or offensive words using \"editado por reclame aqui\" in place. We will remove it from our database."
      ],
      "metadata": {
        "id": "-3RwDCMtH9N-"
      }
    },
    {
      "cell_type": "code",
      "source": [
        "def remove_mask(text):\n",
        "  return text.replace(\"editado pelo reclame aqui\", \"\")"
      ],
      "metadata": {
        "id": "DV0bGfcwWxo8"
      },
      "execution_count": 8,
      "outputs": []
    },
    {
      "cell_type": "code",
      "source": [
        "def normalize_text(df, text_field, lower=True, rem_punct=True, rem_accent=True, rem_spec_caract=True, rem_mask=True):\n",
        "  df[text_field + \"_clean\"] = df[text_field].astype(str)\n",
        "  if lower: df[text_field + \"_clean\"] = df[text_field + \"_clean\"].str.lower()\n",
        "  if rem_punct: df[text_field + \"_clean\"] = df[text_field + \"_clean\"].apply(remove_punctuation)\n",
        "  if rem_accent: df[text_field + \"_clean\"] = df[text_field + \"_clean\"].apply(remove_accentuation)\n",
        "  if rem_spec_caract: df[text_field + \"_clean\"] = df[text_field + \"_clean\"].apply(remove_special_characters)\n",
        "  if rem_mask: df[text_field + \"_clean\"] = df[text_field + \"_clean\"].apply(remove_mask)\n",
        "  df[text_field + \"_clean\"] = df[text_field + \"_clean\"].replace(r'\\s+', ' ', regex=True) #remove spaces"
      ],
      "metadata": {
        "id": "4fjCjaD5yH1h"
      },
      "execution_count": 9,
      "outputs": []
    },
    {
      "cell_type": "code",
      "source": [
        "# Normalizing text in a new column\n",
        "normalize_text(df, 'description')"
      ],
      "metadata": {
        "id": "vbK0R0ALyNNZ"
      },
      "execution_count": 10,
      "outputs": []
    },
    {
      "cell_type": "markdown",
      "source": [
        "### Stop Words"
      ],
      "metadata": {
        "id": "4MVOh6CAoDPv"
      }
    },
    {
      "cell_type": "markdown",
      "source": [
        "Stop words make the topics poor. Removing stop words can reduce noise and improve the efficiency of text analysis algorithms."
      ],
      "metadata": {
        "id": "iZjJ-oDQA3g-"
      }
    },
    {
      "cell_type": "code",
      "source": [
        "import nltk\n",
        "nltk.download('stopwords')"
      ],
      "metadata": {
        "colab": {
          "base_uri": "https://localhost:8080/"
        },
        "id": "OwV-4FhmoHSb",
        "outputId": "a0920d7f-68e5-4027-c361-b430ce7690c0"
      },
      "execution_count": 11,
      "outputs": [
        {
          "output_type": "stream",
          "name": "stderr",
          "text": [
            "[nltk_data] Downloading package stopwords to /root/nltk_data...\n",
            "[nltk_data]   Unzipping corpora/stopwords.zip.\n"
          ]
        },
        {
          "output_type": "execute_result",
          "data": {
            "text/plain": [
              "True"
            ]
          },
          "metadata": {},
          "execution_count": 11
        }
      ]
    },
    {
      "cell_type": "code",
      "source": [
        "stops_nltk = nltk.corpus.stopwords.words('portuguese')\n",
        "stop_words = list(stops_nltk)\n",
        "stop_words = [remove_accentuation(word) for word in stop_words]\n",
        "stop_words = list(set(stop_words))\n",
        "\n",
        "def remove_stop_words(text):\n",
        "    words_list = text.split()\n",
        "    words_list = [word for word in words_list if word not in stop_words]\n",
        "    text = ' '.join(words_list)\n",
        "\n",
        "    return text"
      ],
      "metadata": {
        "id": "U7I63K2h83M1"
      },
      "execution_count": 12,
      "outputs": []
    },
    {
      "cell_type": "code",
      "source": [
        "# Removing Stop Words\n",
        "df[\"description_clean_stop\"] = df[\"description_clean\"].apply(remove_stop_words)"
      ],
      "metadata": {
        "id": "6j0DnvGT89g6"
      },
      "execution_count": 13,
      "outputs": []
    },
    {
      "cell_type": "markdown",
      "source": [
        "### Lemmatize"
      ],
      "metadata": {
        "id": "I-vb3e4rscjR"
      }
    },
    {
      "cell_type": "markdown",
      "source": [
        "Lemmatization is a natural language processing technique that reduces words to their base or root form. It helps in standardizing words, improving text analysis, and simplifying language understanding."
      ],
      "metadata": {
        "id": "q8W9NVY-CCBW"
      }
    },
    {
      "cell_type": "code",
      "source": [
        "import spacy.cli\n",
        "\n",
        "language_models = ['pt_core_news_sm', 'pt_core_news_md', 'pt_core_news_lg']\n",
        "spacy_model = language_models[2]\n",
        "\n",
        "disable = ['tagger', 'parser', 'ner', 'entity_ruler', 'entity_linker', 'textcat',\n",
        "           'morphologizer','attribute_ruler']\n",
        "\n",
        "try:\n",
        "  nlp = spacy.load(spacy_model, disable=disable)\n",
        "except:\n",
        "  spacy.cli.download(spacy_model)\n",
        "  nlp = spacy.load(spacy_model, disable=disable)"
      ],
      "metadata": {
        "colab": {
          "base_uri": "https://localhost:8080/"
        },
        "id": "D8j8QKdTsg2N",
        "outputId": "5d562937-07eb-47e8-adf7-e5f99e473364"
      },
      "execution_count": 14,
      "outputs": [
        {
          "output_type": "stream",
          "name": "stdout",
          "text": [
            "\u001b[38;5;2m✔ Download and installation successful\u001b[0m\n",
            "You can now load the package via spacy.load('pt_core_news_lg')\n",
            "['tok2vec', 'lemmatizer']\n"
          ]
        }
      ]
    },
    {
      "cell_type": "code",
      "source": [
        "def lemma_pipe(doc_list):\n",
        "  lemma_text_list = []\n",
        "  for doc in nlp.pipe(doc_list, n_process=-1):\n",
        "      lemma_text_list.append(\" \".join(token.lemma_ for token in doc))\n",
        "\n",
        "  return lemma_text_list"
      ],
      "metadata": {
        "id": "eCARQ0Swsg5r"
      },
      "execution_count": 15,
      "outputs": []
    },
    {
      "cell_type": "code",
      "source": [
        "# Applying lemmatization\n",
        "df[\"description_clean_stop_lemma\"] = lemma_pipe(df[\"description_clean_stop\"])"
      ],
      "metadata": {
        "id": "BtQ_3lSGsg9M"
      },
      "execution_count": 16,
      "outputs": []
    },
    {
      "cell_type": "markdown",
      "source": [
        "### TF-IDF"
      ],
      "metadata": {
        "id": "ao40DPu5BU4t"
      }
    },
    {
      "cell_type": "markdown",
      "source": [
        "Removing low TF-IDF words is essential in topic modeling because these words probably provide little discriminatory power and can dominate topics. By excluding them, the model focuses on more meaningful and distinctive terms, improving topic quality and helping to identify relevant keywords that truly characterize the underlying topics in a corpus."
      ],
      "metadata": {
        "id": "oG5NDLdGE-8f"
      }
    },
    {
      "cell_type": "code",
      "source": [
        "import nltk\n",
        "nltk.download('punkt')\n",
        "from nltk.tokenize import word_tokenize\n",
        "\n",
        "import gensim\n",
        "import gensim.corpora as corpora\n",
        "from gensim.models import TfidfModel"
      ],
      "metadata": {
        "colab": {
          "base_uri": "https://localhost:8080/"
        },
        "id": "sSxqTNx4JzSz",
        "outputId": "977d0c32-d504-4bc1-89b7-d99b11cc3ee5"
      },
      "execution_count": 17,
      "outputs": [
        {
          "output_type": "stream",
          "name": "stderr",
          "text": [
            "[nltk_data] Downloading package punkt to /root/nltk_data...\n",
            "[nltk_data]   Unzipping tokenizers/punkt.zip.\n"
          ]
        }
      ]
    },
    {
      "cell_type": "code",
      "source": [
        "documents = df[\"description_clean_stop_lemma\"]"
      ],
      "metadata": {
        "id": "YJBgVhd9WevO"
      },
      "execution_count": 18,
      "outputs": []
    },
    {
      "cell_type": "code",
      "source": [
        "# Tokenize text\n",
        "token_docs = [word_tokenize(text) for text in documents]\n",
        "\n",
        "# Convert text to frequency dictionary\n",
        "dictionary = corpora.Dictionary(token_docs)\n",
        "\n",
        "# Convert text in bag of words\n",
        "corpus = [dictionary.doc2bow(text) for text in token_docs]\n",
        "\n",
        "# Calculating TF-IDF\n",
        "tfidf = TfidfModel(corpus, id2word=dictionary)"
      ],
      "metadata": {
        "id": "WLreYIJoJw5M"
      },
      "execution_count": 19,
      "outputs": []
    },
    {
      "cell_type": "code",
      "source": [
        "# Filtering low TF-IDF values\n",
        "low_value = 0.01\n",
        "low_value_words = []\n",
        "for bow in corpus:\n",
        "    low_value_words += [id for id, value in tfidf[bow] if value < low_value]\n",
        "\n",
        "# Removing low TF-IDF from dictionary\n",
        "dictionary.filter_tokens(bad_ids=low_value_words)\n",
        "\n",
        "# Recompute the corpus with low value words are filtered out:\n",
        "corpus = [dictionary.doc2bow(doc) for doc in token_docs]"
      ],
      "metadata": {
        "id": "asufuDahFfpH"
      },
      "execution_count": 20,
      "outputs": []
    },
    {
      "cell_type": "markdown",
      "source": [
        "## Latent Dirichlet Allocation (LDA)"
      ],
      "metadata": {
        "id": "iOyhkzaagdBB"
      }
    },
    {
      "cell_type": "code",
      "source": [
        "# LDA implmentation\n",
        "lda_model = gensim.models.LdaModel(corpus,\n",
        "                                   num_topics=15,\n",
        "                                   id2word=dictionary,\n",
        "                                   random_state=42,\n",
        "                                   update_every=1,\n",
        "                                   chunksize=50,\n",
        "                                   passes=15,\n",
        "                                   alpha=\"auto\")"
      ],
      "metadata": {
        "id": "Zm7I19zbInqZ"
      },
      "execution_count": 21,
      "outputs": []
    },
    {
      "cell_type": "markdown",
      "source": [
        "### Visualization"
      ],
      "metadata": {
        "id": "Nj4xkvCqtSFL"
      }
    },
    {
      "cell_type": "code",
      "source": [
        "try:\n",
        "  import pyLDAvis.gensim\n",
        "except:\n",
        "  !pip install pyLDAvis==2.1.2\n",
        "  clear_output()\n",
        "  import pyLDAvis.gensim"
      ],
      "metadata": {
        "id": "rmoF8Inqu2H7"
      },
      "execution_count": 22,
      "outputs": []
    },
    {
      "cell_type": "code",
      "source": [
        "warnings.filterwarnings('ignore', 'error')\n",
        "vis = pyLDAvis.gensim.prepare(lda_model, corpus, lda_model.id2word, mds=\"mmds\", R=20)\n",
        "pyLDAvis.display(vis)"
      ],
      "metadata": {
        "colab": {
          "base_uri": "https://localhost:8080/",
          "height": 986
        },
        "id": "Rsjf9PLaq8Uz",
        "outputId": "0248e353-8dda-4f79-c41e-5727b210e691"
      },
      "execution_count": 23,
      "outputs": [
        {
          "output_type": "stream",
          "name": "stderr",
          "text": [
            "/usr/local/lib/python3.10/dist-packages/ipykernel/ipkernel.py:283: DeprecationWarning: `should_run_async` will not call `transform_cell` automatically in the future. Please pass the result to `transformed_cell` argument and any exception that happen during thetransform in `preprocessing_exc_tuple` in IPython 7.17 and above.\n",
            "  and should_run_async(code)\n",
            "/usr/local/lib/python3.10/dist-packages/pyLDAvis/_prepare.py:232: FutureWarning: In a future version of pandas all arguments of DataFrame.drop except for the argument 'labels' will be keyword-only.\n",
            "  head(R).drop('saliency', 1)\n",
            "/usr/local/lib/python3.10/dist-packages/sklearn/manifold/_mds.py:299: FutureWarning: The default value of `normalized_stress` will change to `'auto'` in version 1.4. To suppress this warning, manually set the value of `normalized_stress`.\n",
            "  warnings.warn(\n"
          ]
        },
        {
          "output_type": "execute_result",
          "data": {
            "text/plain": [
              "<IPython.core.display.HTML object>"
            ],
            "text/html": [
              "\n",
              "<link rel=\"stylesheet\" type=\"text/css\" href=\"https://cdn.rawgit.com/bmabey/pyLDAvis/files/ldavis.v1.0.0.css\">\n",
              "\n",
              "\n",
              "<div id=\"ldavis_el3911344657509209764639052752\"></div>\n",
              "<script type=\"text/javascript\">\n",
              "\n",
              "var ldavis_el3911344657509209764639052752_data = {\"mdsDat\": {\"x\": [0.34504712035150925, 0.09406756325708106, -0.3254567821253457, -0.07718271141414651, 0.2060006612203968, 0.38208590371286955, 0.12602053941234007, -0.13215965640444746, -0.40734980381599023, 0.29147122378836776, 0.08942573397738904, -0.18431957436596563, -0.2755056054124616, -0.0648239588220724, -0.0673206533595242], \"y\": [-0.15573825527095891, -0.4188924504314445, -0.27981650715784, 0.43332933885528907, -0.25483268100734524, 0.04992620121346602, 0.3075484948208279, -0.34284106423588667, 0.15248519728442336, 0.25923500315211395, 0.03173063236998582, 0.2040616553798386, -0.03449015088767936, 0.035172559383922476, 0.013122026531287499], \"topics\": [1, 2, 3, 4, 5, 6, 7, 8, 9, 10, 11, 12, 13, 14, 15], \"cluster\": [1, 1, 1, 1, 1, 1, 1, 1, 1, 1, 1, 1, 1, 1, 1], \"Freq\": [47.68828169728201, 15.188674182036364, 6.746119903821475, 5.438440033166945, 4.121194791328853, 3.8372651781527503, 3.4439175849889656, 3.3832016935267295, 2.6739398210960994, 2.230364578061141, 1.851204198024648, 1.7567281910017984, 1.4389809539413945, 0.11287735612928493, 0.08880983744154337]}, \"tinfo\": {\"Term\": [\"plano\", \"valor\", \"ir\", \"fatura\", \"mes\", \"contato\", \"fazer\", \"numero\", \"falar\", \"desconto\", \"entrar\", \"sinal\", \"cancelamento\", \"nada\", \"empresa\", \"dia\", \"informar\", \"saldo\", \"tecnico\", \"atendente\", \"cancelar\", \"haver\", \"apos\", \"nenhum\", \"contrato\", \"chegar\", \"passar\", \"recebi\", \"data\", \"ocorrer\", \"ano\", \"reclamar\", \"utilizar\", \"bem\", \"minuto\", \"dever\", \"algum\", \"residencial\", \"informacao\", \"gravacao\", \"todo\", \"poder\", \"ligar\", \"querer\", \"vez\", \"dizer\", \"Internet\", \"controle\", \"pois\", \"tecnico\", \"pedir\", \"dia\", \"cancelamento\", \"empresa\", \"ir\", \"servico\", \"plano\", \"novamente\", \"julho\", \"sac\", \"combo\", \"junho\", \"porem\", \"grande\", \"q\", \"pagueer\", \"em\", \"desfecho\", \"assinar\", \"movel\", \"combinar\", \"ouvidoria\", \"seguranca\", \"cada\", \"transtorno\", \"documento\", \"fechamento\", \"periodo\", \"agosto\", \"mes\", \"fatura\", \"setembro\", \"valor\", \"vir\", \"outubro\", \"atendente\", \"pagar\", \"informar\", \"novamente\", \"protocolo\", \"dia\", \"linha\", \"solicitar\", \"ligacao\", \"fazer\", \"segundo\", \"aumentar\", \"comunicacao\", \"acontecer\", \"prezao\", \"mao\", \"prever\", \"meter\", \"passado\", \"terceiro\", \"perguntar\", \"liguei\", \"demorar\", \"flex\", \"preco\", \"notar\", \"resumir\", \"sequer\", \"anterior\", \"mulher\", \"real\", \"recarga\", \"plano\", \"agora\", \"r\", \"fiz\", \"valor\", \"renovacao\", \"acabar\", \"ainda\", \"hoje\", \"cliente\", \"mes\", \"conforme\", \"aparelho\", \"funcionario\", \"abatimento\", \"Flavia\", \"duplicidade\", \"local\", \"site\", \"email\", \"devolver\", \"trocar\", \"entanto\", \"fisico\", \"dias\", \"obrigar\", \"devir\", \"necessario\", \"constrangedor\", \"Guilherme\", \"senhorito\", \"senhorita\", \"agencia\", \"guilherme\", \"flavia\", \"enformar\", \"comprovante\", \"esperar\", \"logo\", \"enviar\", \"contar\", \"Entao\", \"falar\", \"fazer\", \"conseguir\", \"voltar\", \"protocolo\", \"ainda\", \"ir\", \"saldo\", \"credito\", \"gostar\", \"confirmar\", \"realmente\", \"corrigir\", \"Cartao\", \"coloquei\", \"creditar\", \"desculpa\", \"or\", \"m\", \"manha\", \"inumero\", \"centavo\", \"acordo\", \"bastar\", \"boleto\", \"junto\", \"vao\", \"Consumidor\", \"datar\", \"renovacao\", \"cobrar\", \"cancelamento\", \"resolver\", \"fazer\", \"liguar\", \"ser\", \"ontem\", \"saber\", \"fatura\", \"dia\", \"identificar\", \"solucao\", \"suporte\", \"horario\", \"condominio\", \"prejudicar\", \"ultima\", \"quatro\", \"niteroi\", \"promessa\", \"quinta\", \"reser\", \"temporal\", \"morer\", \"sabar\", \"vizinho\", \"grupo\", \"postar\", \"rj\", \"bloco\", \"whatsapp\", \"qualquer\", \"nada\", \"sinal\", \"onde\", \"contato\", \"continuar\", \"retorno\", \"empresa\", \"dia\", \"tentar\", \"consigo\", \"feira\", \"conseguir\", \"servico\", \"problema\", \"produto\", \"este\", \"pouco\", \"referente\", \"parecer\", \"abril\", \"adquirir\", \"abusivo\", \"correta\", \"netflix\", \"indever\", \"gerar\", \"financeiro\", \"prezar\", \"online\", \"sabado\", \"mensal\", \"canal\", \"cobranca\", \"diverso\", \"r\", \"la\", \"ficar\", \"total\", \"resolver\", \"problema\", \"desde\", \"entao\", \"ter\", \"fatura\", \"sinal\", \"vir\", \"hoje\", \"pra\", \"servico\", \"receber\", \"quase\", \"telar\", \"algo\", \"pix\", \"tela\", \"atencao\", \"pequeno\", \"abuso\", \"vinculo\", \"desbloquear\", \"biometrico\", \"clicar\", \"cuidado\", \"sensor\", \"volta\", \"custo\", \"envio\", \"brincadeira\", \"dinheiro\", \"explicacao\", \"contratar\", \"mensagem\", \"saber\", \"mandar\", \"comprar\", \"outro\", \"meio\", \"porque\", \"pacote\", \"acabar\", \"celular\", \"aplicativo\", \"dar\", \"onde\", \"agora\", \"chip\", \"dia\", \"registrar\", \"imediato\", \"registro\", \"resposta\", \"possuir\", \"prazo\", \"afirmar\", \"atras\", \"relacao\", \"marco\", \"fornecer\", \"obtive\", \"assegurar\", \"transferencia\", \"condicoes\", \"autorizeir\", \"embora\", \"estabelecer\", \"presenca\", \"apesar\", \"proprio\", \"deixar\", \"precisar\", \"desejo\", \"si\", \"com\", \"vim\", \"primeira\", \"facil\", \"to\", \"paciencia\", \"ligor\", \"humano\", \"revoltar\", \"muuuiiiiita\", \"lascar\", \"humanooooo\", \"abaixo\", \"sugerir\", \"muda\", \"fracamente\", \"tar\", \"comeco\", \"ta\", \"colocar\", \"primeiro\", \"ir\", \"ligacoes\", \"consigo\", \"falar\", \"ter\", \"fazer\", \"olhar\", \"empresa\", \"preciso\", \"celular\", \"bloquear\", \"chamar\", \"internet\", \"portabilidade\", \"par\", \"aguento\", \"estorne\", \"realizei\", \"pessoal\", \"liberar\", \"atrasar\", \"carregar\", \"numero\", \"verifiquei\", \"vivo\", \"inocentemente\", \"recarreguei\", \"oq\", \"usar\", \"motivo\", \"chip\", \"pq\", \"nada\", \"recarga\", \"fiz\", \"receber\", \"ir\", \"cobrar\", \"linha\", \"desconto\", \"operador\", \"faltar\", \"falha\", \"incorreto\", \"questionei\", \"acordar\", \"concedir\", \"visitar\", \"qualidade\", \"confirmacao\", \"inteiro\", \"caminho\", \"verdadeiro\", \"siger\", \"respeito\", \"proximo\", \"atra\", \"contato\", \"fiquar\", \"absurdo\", \"entrar\", \"menos\", \"cliente\", \"ninguem\", \"atendimento\", \"h\", \"alem\", \"comparecer\", \"wi\", \"fi\", \"quanto\", \"reagendar\", \"am\", \"afetar\", \"office\", \"home\", \"pendencia\", \"penalizar\", \"estivem\", \"ingles\", \"essso\", \"duramente\", \"portaria\", \"aula\", \"predio\", \"nocao\", \"aluno\", \"reunioe\", \"seriamente\", \"casa\", \"agendar\", \"tempo\", \"falta\", \"absurdo\", \"antes\", \"tecnico\", \"trabalho\", \"esperar\", \"servico\", \"precisar\", \"informar\", \"pois\", \"tirar\", \"cadastro\", \"atrapalhar\", \"patar\", \"fico\", \"retirar\", \"aguardo\", \"Cnpj\", \"Juridica\", \"cabo\", \"contratei\", \"suziely\", \"assis\", \"pe\", \"re\", \"Magalhaes\", \"entretar\", \"empresarial\", \"profissional\", \"coaxial\", \"pessoa\", \"mega\", \"telefonico\", \"palhaco\", \"previor\", \"cpf\", \"regularizacao\", \"respeitar\", \"ruim\", \"resolucao\", \"diversos\", \"dentro\", \"atual\", \"sair\", \"procuracao\", \"cabecao\", \"mundo\", \"otimo\", \"louco\", \"lamentavel\", \"odio\", \"recomer\", \"viver\", \"pesquisa\", \"oper\", \"metropolitano\", \"rapidinho\", \"Rio\", \"janeiro\", \"rio\", \"sul\", \"surpr\\u00eas\", \"frente\", \"aberto\", \"insatisfeito\", \"ruim\", \"horrivel\", \"vender\", \"tim\", \"determinar\"], \"Freq\": [441.0, 596.0, 245.0, 415.0, 349.0, 148.0, 315.0, 116.0, 176.0, 97.0, 147.0, 182.0, 220.0, 162.0, 203.0, 566.0, 244.0, 105.0, 124.0, 277.0, 183.57827284316986, 174.1313744346953, 173.11357506139987, 126.15983118144182, 132.1557520923076, 110.4146034415575, 109.06204217745301, 104.46869828476636, 98.43826746200754, 86.86112647993936, 82.05536281813382, 82.01302810376238, 76.63525974284535, 75.05100080605307, 70.72660283652236, 70.15866457019493, 65.39848055397235, 63.757469550210594, 63.03895689148347, 61.81129809563687, 195.65359291636415, 152.91865667047998, 90.25596803675803, 171.41694155533088, 155.65652972804747, 277.44901209940775, 227.4408021475191, 132.51491257982104, 147.80122215790013, 113.67394515983256, 127.4252722037787, 331.7472538717093, 157.58742809921844, 141.82167651171358, 144.03577385832398, 134.9992976354892, 164.82335086705822, 128.73507431103263, 68.58652719194264, 63.92776697658143, 52.280515394448116, 45.25439475626397, 40.98541082289962, 40.639560795501616, 40.49295533999097, 40.31640868880122, 39.611046273669835, 35.900941402093274, 35.42860007081147, 33.7319490320299, 33.61171764460363, 32.73505897146595, 28.453374232331804, 27.073423508959156, 25.403933661160302, 25.12069588071259, 24.344141360999306, 22.1467645978868, 60.60396283603227, 308.3955365165244, 360.7662374437193, 82.11317532942127, 490.76914732258473, 113.39510513232216, 76.19398496906975, 168.35553197171802, 127.84276555512201, 133.4982065130465, 111.3651217186618, 86.74873177224993, 119.86938066569934, 65.40702164810507, 57.62379780149904, 57.01613892397187, 62.46377507593994, 66.06197562764746, 44.0115255066243, 37.35202694656791, 33.03886698389344, 31.748434019142852, 28.53462746269947, 27.873714619890315, 27.401192965871864, 27.137511929748356, 24.03749042838987, 23.366422598197357, 21.880009804456172, 19.633249351524597, 19.600299390554603, 17.93201877203323, 16.24576984949595, 16.244605793150843, 16.09723161138233, 15.390917665815289, 15.244998070261712, 117.0377965176296, 54.24425093568462, 259.2958325005811, 71.56707505546953, 48.34583991755378, 36.392000044711125, 89.42476079187459, 27.636196766977637, 32.11694404289739, 30.52707549937656, 32.12973704149878, 30.94528162579793, 28.55119928647441, 92.89787436563844, 71.87053335314604, 63.71071330320546, 45.134695970067426, 30.10804615278566, 30.10804615278566, 25.902508935510344, 21.60358317066597, 19.068776594064857, 18.522952464568657, 18.199076422251917, 17.694489402625283, 17.270223404157317, 16.17879218258528, 16.094647243135416, 15.889556249411152, 15.568927961298455, 15.081379159880708, 15.081379159880708, 15.081379159880708, 15.081379159880708, 15.081379159880708, 15.081379159880708, 15.081379159880708, 15.081379159880708, 60.450954899972714, 39.05962808074367, 40.939684286969715, 40.707245016859034, 31.48521260324074, 29.916197564544316, 58.99617336972224, 75.10063101654227, 31.280482297603562, 26.962105920201626, 30.109788697829753, 26.834422337374136, 27.159357022647768, 104.82684038480699, 55.41226546160978, 25.505436603440906, 24.50394727978329, 23.97416382444547, 21.597266043826302, 20.176918568957802, 19.954895209344944, 19.41522588000468, 19.14925149827087, 15.451669578178219, 14.023504512701205, 13.80282885033416, 13.648197452382924, 11.979258405471793, 9.833603109215934, 7.8862782053647, 7.811170410744384, 6.004641414154918, 5.173492621445952, 8.913796189262365, 26.901546825997507, 24.43331800498335, 41.248807500328994, 45.150938861749886, 30.120465494271343, 35.725548988668486, 25.205573374633026, 24.26728975025276, 19.97977613795335, 19.862809269175735, 24.298941112259367, 22.11691869686504, 28.07859281783332, 25.039799037400908, 19.77843755946705, 18.169701904537163, 17.508018190305698, 17.368722386143222, 17.227567997229396, 15.978795148698074, 15.843094224229533, 15.826719508663817, 15.826437470906647, 15.680220724593608, 15.563316074246488, 15.56323014086735, 15.56317836049787, 15.563151919458136, 15.096110614103864, 15.096110614103864, 15.096110614103864, 15.096110614103864, 36.23181301497376, 30.678745173006536, 51.996472098250216, 51.36660246336957, 35.185481580331384, 36.42304783485514, 20.328303218370365, 19.87002050742822, 28.184689693188876, 34.13747554650581, 23.310323679652374, 19.812066155169664, 18.267576718245206, 20.627895622504617, 18.420279231263173, 18.08965165674029, 29.10099954651831, 25.988263254318234, 25.04839738141774, 24.939807946538316, 21.022972732726412, 20.314041591051893, 19.41790931164557, 17.35422752590634, 16.895763410413338, 14.525340350097066, 13.686089427980802, 9.769051514945152, 8.570201293358984, 8.541265731975004, 6.18790500241468, 6.103716104579172, 19.205763315295844, 14.29788907918943, 20.973073127723545, 17.260222547369647, 47.23675419950143, 21.253217297814945, 25.845470055790827, 21.44282314048407, 33.51184935333824, 29.64108520114215, 30.932443393339387, 20.74979943837849, 27.126315574100882, 29.783977277339677, 24.903782856206718, 23.88593018732901, 23.356406645427413, 22.521307596679495, 22.38771990924028, 21.487883672311256, 36.333594416349065, 31.88900675528421, 26.416926810793576, 19.976639633819122, 17.900001851454924, 17.286663740133633, 17.038757151979375, 16.244772243233992, 16.046254646464778, 16.04622064940113, 15.693666242600997, 15.693666242600997, 15.693666242600997, 15.693666242600997, 13.33048663760313, 7.7544067613653755, 6.694130138114783, 6.193481122337861, 7.982173489011875, 2.7990222038594896, 65.29347827607977, 50.36439628157744, 39.914009745085544, 18.086163943948133, 18.717361198478436, 35.741412192066406, 19.82457951020343, 20.959209168679124, 20.52263830414683, 20.834290357994263, 21.452098597513523, 20.385929311787272, 19.93391406690997, 19.533543275754894, 19.327740593917284, 18.333862664341773, 18.39090973715072, 18.076425108624193, 15.0392375677451, 14.092519297035288, 13.961457409691887, 13.953897003252274, 13.537197924443793, 13.04310294648796, 13.028295359220772, 12.669269713938842, 12.555064431408049, 12.46222067499243, 12.369713943193688, 12.09488073221446, 11.90886387186468, 11.894168370233174, 11.751000466526424, 11.635877770744683, 11.635877770744683, 11.635839385253012, 11.635599859784982, 22.438650649028773, 17.140927684839784, 13.301990056517024, 12.171806792943753, 32.04328538513473, 31.736629247982368, 19.812447731516883, 16.165619005338435, 14.6226266838234, 14.129213344977233, 12.142957787850266, 11.690981871501258, 11.184361835056862, 11.107626721277237, 10.801179340109023, 10.801179340109023, 10.801179340109023, 10.310414512767233, 10.233502660792443, 9.927509932227736, 9.927509932227736, 3.7152795572375363, 10.095953598981097, 31.492843241269984, 12.896470837249606, 18.363124092016903, 66.35647320067662, 21.072632045822985, 22.463967627346566, 33.436381945052176, 18.45725767232794, 18.425023443095025, 11.970955664029733, 13.622425535318584, 12.409450810506849, 12.207522299683035, 22.164710265361578, 20.89821965848489, 18.839383682608478, 18.35953230629591, 15.797668550174102, 15.797668550174102, 9.50659246038936, 9.34308523201986, 5.665166490769662, 4.247221650528444, 4.246619997332738, 3.089005498813491, 83.26899787617748, 1.8082916668864544, 5.350337637226735, 1.228269551202727, 1.228269551202727, 1.228269551202727, 19.699626571436006, 4.080222495042522, 19.985420343328553, 5.542718904032575, 23.71074212805812, 11.666648614007, 7.783447609467416, 6.942532563804072, 6.9361232564833815, 6.576759310560052, 5.737432905711166, 96.6150271664324, 19.44813542186542, 19.228651351692978, 18.74790314122096, 17.600880935892302, 17.343012220674765, 13.122536167147599, 9.23293752929481, 6.596600275767363, 6.190167086453686, 5.575879107436461, 2.1727638818691, 1.5265919685949787, 1.3545331401525733, 1.0525141266818019, 14.081464331330233, 18.928143118288325, 1.7629395546262643, 56.8549343580391, 1.0417685671237615, 4.409980820156623, 23.84134742180478, 3.2048838331551575, 6.990046418076072, 2.895634599396332, 3.136851508451724, 46.55200776720151, 28.660620398816867, 8.576623023644219, 7.430973032816156, 7.430973032816156, 7.101109653932955, 4.529698226796495, 4.442105276011824, 3.906266091730424, 3.906266091730424, 3.906266091730424, 3.9061103367758654, 3.5621517542197307, 3.5621517542197307, 3.5621517542197307, 3.5621517542197307, 3.5621517542197307, 3.5621517542197307, 3.5621517542197307, 3.5621517542197307, 3.5621517542197307, 3.5621517542197307, 3.5621517542197307, 3.5621517542197307, 16.263094500832317, 22.50225293108979, 14.955941082135416, 11.987162409324295, 5.64232734097178, 8.061674007857066, 9.803289553143763, 7.0171474048476625, 5.697741813916261, 6.701144151204652, 4.659674703518351, 6.208855209018726, 4.523552722952814, 1.1573391344794215, 0.7276366587635661, 0.3007637584108018, 0.20736165057641184, 0.01347093839779594, 0.013464499332214809, 0.013490937175403771, 0.013324700311492289, 0.013308906472590474, 0.013344001304232963, 0.013305470211263519, 0.013305470211263519, 0.013305470211263519, 0.013305470211263519, 0.013305470211263519, 0.013305470211263519, 0.013309589066205083, 0.013309589066205083, 0.013315763803991833, 0.01330571833505518, 0.2729320226018009, 0.013339344678951107, 0.013464495281214128, 0.013309589066205083, 0.013308906472590474, 0.013327651465487794, 0.013315505552698472, 0.013309589066205083, 0.013322768996918017, 0.013315760765741322, 0.013320954148613302, 0.013309588053454913, 0.013309589066205083, 3.2695803850457303, 0.010006103259880883, 0.00998843073783031, 0.00998843073783031, 0.00998843073783031, 0.009985174958710484, 0.009990791695620825, 0.009983568583109512, 0.00998843073783031, 0.009985174958710484, 0.009971956622974112, 0.009971956622974112, 0.009971956622974112, 0.009971956622974112, 0.00997029208000267, 0.00997029208000267, 0.00997029208000267, 0.00997029208000267, 0.00997029208000267, 0.00997029208000267, 0.009982955833686323, 0.00998517416189719, 0.010007057842207253, 0.009983567786296218, 0.009985174958710484, 0.009978915990285069, 0.009971956622974112], \"Total\": [441.0, 596.0, 245.0, 415.0, 349.0, 148.0, 315.0, 116.0, 176.0, 97.0, 147.0, 182.0, 220.0, 162.0, 203.0, 566.0, 244.0, 105.0, 124.0, 277.0, 184.32261221706858, 174.8757160818557, 173.8579155334399, 126.90417235654189, 132.93595683827212, 111.16170403696208, 109.80638264136752, 105.21303943056728, 99.18260819897536, 87.6054666418833, 82.79970265723229, 82.75736908200578, 77.37960178099941, 75.79534292972922, 71.4709428571463, 70.9030042413564, 66.14282096803696, 64.50180937256322, 63.78329799843214, 62.55563833504114, 199.32558200148395, 156.60594135500958, 91.93250938302812, 177.11893899482158, 161.48796125913813, 306.7696142596798, 261.6552331370776, 147.96694466910498, 170.0882211023524, 124.17265557538275, 147.1395343743533, 566.5328225225772, 220.2676710344795, 203.9358268753366, 245.0543021144684, 205.60090512472064, 441.8938773528476, 240.77069095829037, 69.32772735847726, 64.66896191091148, 53.02171029551597, 45.995589946910215, 41.72660622698826, 41.380755984278906, 41.23415021499819, 41.057603289063785, 40.352242280790755, 36.64213709103321, 36.16979804564817, 34.473146474534246, 34.35291977293697, 33.47625420301466, 29.194574097361375, 27.81461897731146, 26.14513534705041, 25.861897883009664, 25.085335901478935, 22.887964374311338, 64.41897985120487, 349.41444177788134, 415.4603263010199, 89.16532117607316, 596.301492268719, 139.4160608631936, 92.18861331607522, 277.08929558942674, 218.25161807534823, 244.65130157426154, 240.77069095829037, 167.24127871356754, 566.5328225225772, 141.41202838936414, 161.14506257761704, 180.81481126407996, 315.5092198074414, 66.80980127655128, 44.75935028934108, 38.09985421771044, 33.786691812845966, 32.49626060260646, 29.282451739148634, 28.621538912490568, 28.149017237512272, 27.885338466217327, 24.785320041225063, 24.114247731962678, 22.62783488070195, 20.381103088704425, 20.348124087065404, 18.679844169739034, 16.993594291901076, 16.99243112340035, 16.84505621200164, 16.138744493057242, 15.992822368579853, 133.6720558113062, 66.5800234818298, 441.8938773528476, 148.23497610723513, 96.26520164005453, 81.85259172553492, 596.301492268719, 52.75215328353909, 87.92227791885686, 101.02446816497431, 137.9949333724254, 134.81435059493688, 349.41444177788134, 93.65746295712955, 72.63011933407488, 64.47029947898686, 45.89428103581949, 30.867631218537724, 30.867631218537724, 26.662095006973853, 22.36316947874193, 19.828362359558522, 19.282537708732832, 18.958661939637135, 18.454076143449164, 18.02980857042481, 16.938377379699137, 16.854233417915868, 16.649142855253704, 16.328513101095083, 15.840964239152722, 15.840964239152722, 15.840964239152722, 15.840964239152722, 15.840964239152722, 15.840964239152722, 15.840964239152722, 15.840964239152722, 78.75712079922184, 48.159501968161536, 65.11150330235537, 79.1598273962862, 55.54086637817417, 51.07746871385676, 176.1514977724295, 315.5092198074414, 105.01959569064655, 74.65831564376506, 167.24127871356754, 101.02446816497431, 245.0543021144684, 105.57669529356355, 56.16211984984211, 26.255291090842018, 25.253802560621537, 24.724019077155077, 22.347122269177245, 20.92677277121402, 20.704749263506837, 20.165079875962714, 19.899107353839586, 16.20152340085944, 14.773359130618058, 14.552683154917014, 14.398062938465381, 12.729113022105803, 10.583457625623662, 8.636132589509478, 8.561024794386029, 6.754496292070306, 5.9233470065167175, 11.847910415191679, 58.839978124097954, 52.75215328353909, 165.52236417422546, 220.2676710344795, 153.6631933431463, 315.5092198074414, 130.73949701612693, 114.56235928195775, 57.6744768536432, 79.32577282475947, 415.4603263010199, 566.5328225225772, 28.840501490316974, 25.80170551038465, 20.540348641089796, 18.931607819399048, 18.26992412431474, 18.13062842316269, 17.989474457658886, 16.740700983592276, 16.60499997685045, 16.588625354091555, 16.58834338263436, 16.44212650465922, 16.325221749802985, 16.32513590022263, 16.32508412067906, 16.325057768589726, 15.858016289660362, 15.858016289660362, 15.858016289660362, 15.858016289660362, 44.9092249927666, 48.40833084152595, 162.07947063776615, 182.73332317661584, 127.29180217338167, 148.4912284286876, 32.413715028514964, 35.23717322251385, 203.9358268753366, 566.5328225225772, 113.29391120556974, 68.05023817451215, 40.893168336019514, 105.01959569064655, 205.60090512472064, 120.90574736533769, 29.85082203331684, 26.738086602176068, 25.79822030821519, 25.689630783661684, 21.77279536813086, 21.06386423869543, 20.167731744125867, 18.104049872814542, 17.645585749755657, 15.275162884174174, 14.43591263550393, 10.518874858168811, 9.320024846095514, 9.291089325107336, 6.937729368549905, 6.853540364991992, 21.96864372800349, 17.947910654589627, 31.11085472231265, 34.16344748951154, 96.26520164005453, 43.50093518632378, 73.9301388971237, 53.27822317462059, 153.6631933431463, 120.90574736533769, 143.89014536321957, 56.318621911098674, 138.71643235190143, 415.4603263010199, 182.73332317661584, 139.4160608631936, 137.9949333724254, 117.4198146109068, 205.60090512472064, 91.08718133130702, 37.0984791637025, 32.65389122775176, 27.18181468608764, 20.741526097350345, 18.66488637712428, 18.051549129650866, 17.80364167537903, 17.009656964922304, 16.811139111725993, 16.811105147385934, 16.45855069089342, 16.45855069089342, 16.45855069089342, 16.45855069089342, 14.095385574533843, 8.519292372474894, 7.459028180449206, 6.958366513192185, 9.67514645225953, 3.5639075106676343, 84.65383642800566, 94.85574393210572, 79.32577282475947, 29.13773949934371, 31.30275288689339, 98.46424385185499, 37.814048546717984, 74.33685861139394, 71.82295534612345, 87.92227791885686, 113.0040629948778, 98.32526345708106, 91.22099177852073, 127.29180217338167, 148.23497610723513, 65.36851216002029, 566.5328225225772, 18.83924695876274, 15.802059459935018, 14.855341146938422, 14.724279249645825, 14.71671902334692, 14.300020171466581, 13.805924716467192, 13.791143297659074, 13.432091273184968, 13.317886260424965, 13.22504212685695, 13.132535781953113, 12.857702331179414, 12.671686382783685, 12.656990327064594, 12.513821994441493, 12.398699288346837, 12.398699288346837, 12.398660959430465, 12.398421538550863, 49.54042495029461, 30.35937299551611, 18.675568217307266, 14.773455163265892, 32.814717048937894, 32.508061019937585, 20.58387731268292, 16.937058633002025, 15.394061954282497, 14.900642884816225, 12.914387442133128, 12.462411951114062, 11.955791176346663, 11.8790559875645, 11.572608460169423, 11.572608460169423, 11.572608460169423, 11.081844570431763, 11.004932956800952, 10.698939543728105, 10.698939543728105, 4.486709173678002, 12.408821679435349, 44.37224617068622, 22.829212055606053, 36.346943109802915, 245.0543021144684, 55.89658315784967, 68.05023817451215, 176.1514977724295, 138.71643235190143, 315.5092198074414, 33.01103322759513, 203.9358268753366, 53.92477495027598, 113.0040629948778, 22.901049526026025, 21.63456347384929, 19.57572329214656, 19.0958714697902, 16.534007820325755, 16.534007820325755, 10.242937817605936, 10.07942451411844, 6.401506154329569, 4.9835609445900015, 4.982959563652124, 3.8253446500971675, 116.03423226618523, 2.5446339654714434, 7.705216145983916, 1.9646085126769826, 1.9646085126769826, 1.9646085126769826, 42.77584937287924, 9.88012371212629, 65.36851216002029, 18.246787223214856, 162.07947063776615, 66.5800234818298, 81.85259172553492, 91.08718133130702, 245.0543021144684, 165.52236417422546, 141.41202838936414, 97.36362977969961, 20.19573379285814, 19.9762469306754, 19.49549968453893, 18.348482035218076, 18.090612778856528, 13.870146652587591, 9.98053294208181, 7.344196226204571, 6.937762553625972, 6.3234751077902045, 2.9203593028595303, 2.274187185801205, 2.102129068514855, 1.8001092898115383, 29.165561418239303, 40.02368339500299, 4.058402906210358, 148.4912284286876, 2.8791465727520604, 12.687959934602427, 147.5763497850349, 10.031222152899042, 134.81435059493688, 25.983202189146933, 56.377453531270554, 47.31813037412486, 29.426743401699106, 9.342744278062936, 8.197094272449531, 8.197094272449531, 7.867231586079586, 5.295819713857099, 5.208227576564684, 4.672387216255806, 4.672387216255806, 4.672387216255806, 4.672231588136054, 4.328272992132263, 4.328272992132263, 4.328272992132263, 4.328272992132263, 4.328272992132263, 4.328272992132263, 4.328272992132263, 4.328272992132263, 4.328272992132263, 4.328272992132263, 4.328272992132263, 4.328272992132263, 22.023379538946667, 60.07464106151459, 36.71413959707709, 37.18942388911746, 12.687959934602427, 30.626614844793266, 124.17265557538275, 48.05722084954665, 48.159501968161536, 205.60090512472064, 18.675568217307266, 244.65130157426154, 170.0882211023524, 1.9590914072681656, 1.5293890529199878, 1.1025158244505437, 1.0091136358117425, 0.8167919020232188, 0.8183013027375521, 0.8214257380380999, 0.8157399583825271, 0.8153186268904115, 0.8175388121055847, 0.815234611305619, 0.815234611305619, 0.815234611305619, 0.815234611305619, 0.815234611305619, 0.815234611305619, 0.8154870341475526, 0.8154870341475526, 0.8159640037775913, 0.8154139962038534, 16.922709816835283, 0.8175730964625298, 0.8284763781290161, 0.8156696494640631, 0.815736749417487, 0.8187863314360622, 0.8169038807436136, 0.8159178600264372, 0.8196818419768513, 0.8183471034636194, 0.8209348144184035, 0.8279774717873957, 0.8172798883867756, 4.0746685544171495, 0.816012030567288, 0.8152536108796032, 0.8153616110582195, 0.8155680584983547, 0.8156413151547022, 0.8161042522435707, 0.8157862985557136, 0.816427972100616, 0.8162967931117355, 0.8154202428393872, 0.8154202428393872, 0.8154202428393872, 0.8154202428393872, 0.8153514155752852, 0.8153514155752852, 0.8153514155752852, 0.8153514155752852, 0.8153514155752852, 0.8153514155752852, 0.8166171921791303, 0.8168497483784666, 0.8196818419768513, 0.8176838990139789, 0.8183421741437387, 0.8179211299220155, 0.8166023300915616], \"Category\": [\"Default\", \"Default\", \"Default\", \"Default\", \"Default\", \"Default\", \"Default\", \"Default\", \"Default\", \"Default\", \"Default\", \"Default\", \"Default\", \"Default\", \"Default\", \"Default\", \"Default\", \"Default\", \"Default\", \"Default\", \"Topic1\", \"Topic1\", \"Topic1\", \"Topic1\", \"Topic1\", \"Topic1\", \"Topic1\", \"Topic1\", \"Topic1\", \"Topic1\", \"Topic1\", \"Topic1\", \"Topic1\", \"Topic1\", \"Topic1\", \"Topic1\", \"Topic1\", \"Topic1\", \"Topic1\", \"Topic1\", \"Topic1\", \"Topic1\", \"Topic1\", \"Topic1\", \"Topic1\", \"Topic1\", \"Topic1\", \"Topic1\", \"Topic1\", \"Topic1\", \"Topic1\", \"Topic1\", \"Topic1\", \"Topic1\", \"Topic1\", \"Topic1\", \"Topic1\", \"Topic1\", \"Topic2\", \"Topic2\", \"Topic2\", \"Topic2\", \"Topic2\", \"Topic2\", \"Topic2\", \"Topic2\", \"Topic2\", \"Topic2\", \"Topic2\", \"Topic2\", \"Topic2\", \"Topic2\", \"Topic2\", \"Topic2\", \"Topic2\", \"Topic2\", \"Topic2\", \"Topic2\", \"Topic2\", \"Topic2\", \"Topic2\", \"Topic2\", \"Topic2\", \"Topic2\", \"Topic2\", \"Topic2\", \"Topic2\", \"Topic2\", \"Topic2\", \"Topic2\", \"Topic2\", \"Topic2\", \"Topic2\", \"Topic2\", \"Topic2\", \"Topic3\", \"Topic3\", \"Topic3\", \"Topic3\", \"Topic3\", \"Topic3\", \"Topic3\", \"Topic3\", \"Topic3\", \"Topic3\", \"Topic3\", \"Topic3\", \"Topic3\", \"Topic3\", \"Topic3\", \"Topic3\", \"Topic3\", \"Topic3\", \"Topic3\", \"Topic3\", \"Topic3\", \"Topic3\", \"Topic3\", \"Topic3\", \"Topic3\", \"Topic3\", \"Topic3\", \"Topic3\", \"Topic3\", \"Topic3\", \"Topic3\", \"Topic3\", \"Topic3\", \"Topic4\", \"Topic4\", \"Topic4\", \"Topic4\", \"Topic4\", \"Topic4\", \"Topic4\", \"Topic4\", \"Topic4\", \"Topic4\", \"Topic4\", \"Topic4\", \"Topic4\", \"Topic4\", \"Topic4\", \"Topic4\", \"Topic4\", \"Topic4\", \"Topic4\", \"Topic4\", \"Topic4\", \"Topic4\", \"Topic4\", \"Topic4\", \"Topic4\", \"Topic4\", \"Topic4\", \"Topic4\", \"Topic4\", \"Topic4\", \"Topic4\", \"Topic4\", \"Topic4\", \"Topic4\", \"Topic4\", \"Topic4\", \"Topic4\", \"Topic4\", \"Topic5\", \"Topic5\", \"Topic5\", \"Topic5\", \"Topic5\", \"Topic5\", \"Topic5\", \"Topic5\", \"Topic5\", \"Topic5\", \"Topic5\", \"Topic5\", \"Topic5\", \"Topic5\", \"Topic5\", \"Topic5\", \"Topic5\", \"Topic5\", \"Topic5\", \"Topic5\", \"Topic5\", \"Topic5\", \"Topic5\", \"Topic5\", \"Topic5\", \"Topic5\", \"Topic5\", \"Topic5\", \"Topic5\", \"Topic5\", \"Topic5\", \"Topic5\", \"Topic5\", \"Topic6\", \"Topic6\", \"Topic6\", \"Topic6\", \"Topic6\", \"Topic6\", \"Topic6\", \"Topic6\", \"Topic6\", \"Topic6\", \"Topic6\", \"Topic6\", \"Topic6\", \"Topic6\", \"Topic6\", \"Topic6\", \"Topic6\", \"Topic6\", \"Topic6\", \"Topic6\", \"Topic6\", \"Topic6\", \"Topic6\", \"Topic6\", \"Topic6\", \"Topic6\", \"Topic6\", \"Topic6\", \"Topic6\", \"Topic6\", \"Topic6\", \"Topic6\", \"Topic6\", \"Topic6\", \"Topic6\", \"Topic6\", \"Topic7\", \"Topic7\", \"Topic7\", \"Topic7\", \"Topic7\", \"Topic7\", \"Topic7\", \"Topic7\", \"Topic7\", \"Topic7\", \"Topic7\", \"Topic7\", \"Topic7\", \"Topic7\", \"Topic7\", \"Topic7\", \"Topic7\", \"Topic7\", \"Topic7\", \"Topic7\", \"Topic7\", \"Topic7\", \"Topic7\", \"Topic7\", \"Topic7\", \"Topic7\", \"Topic7\", \"Topic7\", \"Topic7\", \"Topic7\", \"Topic7\", \"Topic7\", \"Topic7\", \"Topic7\", \"Topic7\", \"Topic7\", \"Topic8\", \"Topic8\", \"Topic8\", \"Topic8\", \"Topic8\", \"Topic8\", \"Topic8\", \"Topic8\", \"Topic8\", \"Topic8\", \"Topic8\", \"Topic8\", \"Topic8\", \"Topic8\", \"Topic8\", \"Topic8\", \"Topic8\", \"Topic8\", \"Topic8\", \"Topic8\", \"Topic8\", \"Topic8\", \"Topic8\", \"Topic8\", \"Topic8\", \"Topic8\", \"Topic8\", \"Topic8\", \"Topic8\", \"Topic8\", \"Topic8\", \"Topic8\", \"Topic8\", \"Topic8\", \"Topic8\", \"Topic8\", \"Topic8\", \"Topic9\", \"Topic9\", \"Topic9\", \"Topic9\", \"Topic9\", \"Topic9\", \"Topic9\", \"Topic9\", \"Topic9\", \"Topic9\", \"Topic9\", \"Topic9\", \"Topic9\", \"Topic9\", \"Topic9\", \"Topic9\", \"Topic9\", \"Topic9\", \"Topic9\", \"Topic9\", \"Topic9\", \"Topic9\", \"Topic9\", \"Topic9\", \"Topic10\", \"Topic10\", \"Topic10\", \"Topic10\", \"Topic10\", \"Topic10\", \"Topic10\", \"Topic10\", \"Topic10\", \"Topic10\", \"Topic10\", \"Topic10\", \"Topic10\", \"Topic10\", \"Topic10\", \"Topic10\", \"Topic10\", \"Topic10\", \"Topic10\", \"Topic10\", \"Topic10\", \"Topic10\", \"Topic10\", \"Topic10\", \"Topic10\", \"Topic10\", \"Topic10\", \"Topic10\", \"Topic10\", \"Topic10\", \"Topic10\", \"Topic10\", \"Topic11\", \"Topic11\", \"Topic11\", \"Topic11\", \"Topic11\", \"Topic11\", \"Topic11\", \"Topic11\", \"Topic11\", \"Topic11\", \"Topic11\", \"Topic11\", \"Topic11\", \"Topic11\", \"Topic11\", \"Topic11\", \"Topic11\", \"Topic11\", \"Topic11\", \"Topic11\", \"Topic11\", \"Topic11\", \"Topic11\", \"Topic11\", \"Topic11\", \"Topic11\", \"Topic11\", \"Topic11\", \"Topic11\", \"Topic12\", \"Topic12\", \"Topic12\", \"Topic12\", \"Topic12\", \"Topic12\", \"Topic12\", \"Topic12\", \"Topic12\", \"Topic12\", \"Topic12\", \"Topic12\", \"Topic12\", \"Topic12\", \"Topic12\", \"Topic12\", \"Topic12\", \"Topic12\", \"Topic12\", \"Topic12\", \"Topic12\", \"Topic12\", \"Topic12\", \"Topic12\", \"Topic12\", \"Topic12\", \"Topic13\", \"Topic13\", \"Topic13\", \"Topic13\", \"Topic13\", \"Topic13\", \"Topic13\", \"Topic13\", \"Topic13\", \"Topic13\", \"Topic13\", \"Topic13\", \"Topic13\", \"Topic13\", \"Topic13\", \"Topic13\", \"Topic13\", \"Topic13\", \"Topic13\", \"Topic13\", \"Topic13\", \"Topic13\", \"Topic13\", \"Topic13\", \"Topic13\", \"Topic13\", \"Topic13\", \"Topic13\", \"Topic13\", \"Topic13\", \"Topic13\", \"Topic13\", \"Topic13\", \"Topic13\", \"Topic13\", \"Topic13\", \"Topic13\", \"Topic14\", \"Topic14\", \"Topic14\", \"Topic14\", \"Topic14\", \"Topic14\", \"Topic14\", \"Topic14\", \"Topic14\", \"Topic14\", \"Topic14\", \"Topic14\", \"Topic14\", \"Topic14\", \"Topic14\", \"Topic14\", \"Topic14\", \"Topic14\", \"Topic14\", \"Topic14\", \"Topic14\", \"Topic14\", \"Topic14\", \"Topic14\", \"Topic14\", \"Topic14\", \"Topic14\", \"Topic14\", \"Topic14\", \"Topic14\", \"Topic14\", \"Topic14\", \"Topic14\", \"Topic15\", \"Topic15\", \"Topic15\", \"Topic15\", \"Topic15\", \"Topic15\", \"Topic15\", \"Topic15\", \"Topic15\", \"Topic15\", \"Topic15\", \"Topic15\", \"Topic15\", \"Topic15\", \"Topic15\", \"Topic15\", \"Topic15\", \"Topic15\", \"Topic15\", \"Topic15\", \"Topic15\", \"Topic15\", \"Topic15\", \"Topic15\", \"Topic15\", \"Topic15\", \"Topic15\"], \"logprob\": [20.0, 19.0, 18.0, 17.0, 16.0, 15.0, 14.0, 13.0, 12.0, 11.0, 10.0, 9.0, 8.0, 7.0, 6.0, 5.0, 4.0, 3.0, 2.0, 1.0, -4.3831000328063965, -4.4359002113342285, -4.441699981689453, -4.7581000328063965, -4.711699962615967, -4.891499996185303, -4.903800010681152, -4.946800231933594, -5.00629997253418, -5.131400108337402, -5.188300132751465, -5.188799858093262, -5.2565999031066895, -5.277500152587891, -5.336900234222412, -5.344900131225586, -5.415200233459473, -5.4405999183654785, -5.451900005340576, -5.47160005569458, -4.319300174713135, -4.565800189971924, -5.0929999351501465, -4.451600074768066, -4.547999858856201, -3.970099925994873, -4.168799877166748, -4.709000110626221, -4.599800109863281, -4.862400054931641, -4.748199939727783, -3.791300058364868, -4.535699844360352, -4.64109992980957, -4.6255998611450195, -4.690400123596191, -4.490799903869629, -4.7378997802734375, -4.223499774932861, -4.293799877166748, -4.494900226593018, -4.6392998695373535, -4.73829984664917, -4.746799945831299, -4.750400066375732, -4.754799842834473, -4.772500038146973, -4.870800018310547, -4.883999824523926, -4.93310022354126, -4.936699867248535, -4.963099956512451, -5.103300094604492, -5.1529998779296875, -5.216700077056885, -5.22790002822876, -5.259300231933594, -5.353899955749512, -4.3471999168396, -2.7202000617980957, -2.5632998943328857, -4.043499946594238, -2.2555999755859375, -3.7207000255584717, -4.118299961090088, -3.325500011444092, -3.600800037384033, -3.557499885559082, -3.7386999130249023, -3.9885001182556152, -3.6651999950408936, -4.270899772644043, -4.397600173950195, -4.408199787139893, -4.316999912261963, -3.449399948120117, -3.8554999828338623, -4.019599914550781, -4.142300128936768, -4.18209981918335, -4.288899898529053, -4.312300205230713, -4.329400062561035, -4.339099884033203, -4.460400104522705, -4.488699913024902, -4.5543999671936035, -4.662799835205078, -4.664400100708008, -4.753399848937988, -4.852099895477295, -4.852200031280518, -4.861299991607666, -4.906199932098389, -4.9156999588012695, -2.877500057220459, -3.6465001106262207, -2.0820000171661377, -3.36929988861084, -3.7616000175476074, -4.045599937438965, -3.1466000080108643, -4.320799827575684, -4.170599937438965, -4.221399784088135, -4.170199871063232, -4.207799911499023, -4.288300037384033, -2.8929998874664307, -3.149600028991699, -3.2701001167297363, -3.614799976348877, -4.019700050354004, -4.019700050354004, -4.170199871063232, -4.351600170135498, -4.476399898529053, -4.505499839782715, -4.523099899291992, -4.551199913024902, -4.575500011444092, -4.6407999992370605, -4.645999908447266, -4.65880012512207, -4.679200172424316, -4.710999965667725, -4.710999965667725, -4.710999965667725, -4.710999965667725, -4.710999965667725, -4.710999965667725, -4.710999965667725, -4.710999965667725, -3.322700023651123, -3.759399890899658, -3.712399959564209, -3.718100070953369, -3.9749999046325684, -4.026100158691406, -3.3469998836517334, -3.1057000160217285, -3.9814999103546143, -4.130099773406982, -4.019700050354004, -4.134799957275391, -4.122799873352051, -2.494800090789795, -3.1324000358581543, -3.9082999229431152, -3.9482998847961426, -3.9702000617980957, -4.0746002197265625, -4.142600059509277, -4.15369987487793, -4.181099891662598, -4.194900035858154, -4.40939998626709, -4.506400108337402, -4.522299766540527, -4.5335001945495605, -4.664000034332275, -4.861299991607666, -5.081999778747559, -5.091599941253662, -5.354599952697754, -5.503600120544434, -4.95959997177124, -3.8550000190734863, -3.951200008392334, -3.427500009536743, -3.337100028991699, -3.7418999671936035, -3.5713000297546387, -3.920099973678589, -3.9579999446868896, -4.152400016784668, -4.158299922943115, -3.956700086593628, -4.05079984664917, -3.740799903869629, -3.855299949645996, -4.09119987487793, -4.176000118255615, -4.213099956512451, -4.221099853515625, -4.229300022125244, -4.304500102996826, -4.313000202178955, -4.3140997886657715, -4.3140997886657715, -4.323400020599365, -4.330900192260742, -4.330900192260742, -4.330900192260742, -4.330900192260742, -4.361299991607666, -4.361299991607666, -4.361299991607666, -4.361299991607666, -3.48580002784729, -3.6521999835968018, -3.1245999336242676, -3.1368000507354736, -3.5151000022888184, -3.480600118637085, -4.063799858093262, -4.086599826812744, -3.736999988555908, -3.5453999042510986, -3.9268999099731445, -4.0894999504089355, -4.170599937438965, -4.049099922180176, -4.162300109863281, -4.1803998947143555, -3.5968000888824463, -3.7100000381469727, -3.746799945831299, -3.751199960708618, -3.921999931335449, -3.9563000202178955, -4.001399993896484, -4.113800048828125, -4.140600204467773, -4.2916998863220215, -4.351200103759766, -4.688399791717529, -4.819300174713135, -4.822700023651123, -5.144999980926514, -5.158699989318848, -4.012400150299072, -4.307499885559082, -3.9244000911712646, -4.119200229644775, -3.1124000549316406, -3.911099910736084, -3.7155001163482666, -3.9021999835968018, -3.455699920654297, -3.5785000324249268, -3.535799980163574, -3.9351000785827637, -3.667099952697754, -3.5736000537872314, -3.7525999546051025, -3.794300079345703, -3.816699981689453, -3.8531999588012695, -3.859100103378296, -3.900099992752075, -3.357100009918213, -3.487600088119507, -3.675800085067749, -3.9553000926971436, -4.065000057220459, -4.099899768829346, -4.114299774169922, -4.162099838256836, -4.1743998527526855, -4.1743998527526855, -4.196599960327148, -4.196599960327148, -4.196599960327148, -4.196599960327148, -4.359799861907959, -4.901599884033203, -5.048600196838379, -5.126299858093262, -4.872600078582764, -5.920599937438965, -2.770900011062622, -3.0304999351501465, -3.2630999088287354, -4.054699897766113, -4.020400047302246, -3.373500108718872, -3.962899923324585, -3.9072999954223633, -3.928299903869629, -3.9131999015808105, -3.884000062942505, -3.934999942779541, -3.95740008354187, -3.9776999950408936, -3.988300085067749, -4.041100025177002, -4.038000106811523, -3.819999933242798, -4.003900051116943, -4.068900108337402, -4.0782999992370605, -4.078800201416016, -4.109099864959717, -4.146299839019775, -4.14739990234375, -4.1753997802734375, -4.1844000816345215, -4.19189977645874, -4.1992998123168945, -4.221799850463867, -4.237299919128418, -4.238500118255615, -4.2505998611450195, -4.260499954223633, -4.260499954223633, -4.260499954223633, -4.260499954223633, -3.603800058364868, -3.8731000423431396, -4.1265997886657715, -4.215400218963623, -3.0660998821258545, -3.075700044631958, -3.5469000339508057, -3.7502999305725098, -3.850600004196167, -3.8849000930786133, -4.036399841308594, -4.074399948120117, -4.11870002746582, -4.125500202178955, -4.153500080108643, -4.153500080108643, -4.153500080108643, -4.199999809265137, -4.207499980926514, -4.2378997802734375, -4.2378997802734375, -5.220699787139893, -4.2210001945495605, -3.083400011062622, -3.9762001037597656, -3.62280011177063, -2.338099956512451, -3.4851999282836914, -3.421299934387207, -3.0234999656677246, -3.6177000999450684, -3.619499921798706, -4.0507001876831055, -3.9214999675750732, -4.014699935913086, -4.031099796295166, -3.248300075531006, -3.3071999549865723, -3.410900115966797, -3.4367001056671143, -3.5869998931884766, -3.5869998931884766, -4.094900131225586, -4.112199783325195, -4.612500190734863, -4.900599956512451, -4.900700092315674, -5.218999862670898, -1.9248000383377075, -5.754499912261963, -4.6697001457214355, -6.141200065612793, -6.141200065612793, -6.141200065612793, -3.3661999702453613, -4.940700054168701, -3.351799964904785, -4.634399890899658, -3.1809000968933105, -3.8901000022888184, -4.2947998046875, -4.409200191497803, -4.410099983215332, -4.4633002281188965, -4.599800109863281, -1.7237000465393066, -3.32669997215271, -3.338099956512451, -3.3633999824523926, -3.426500082015991, -3.4412999153137207, -3.720099925994873, -4.071700096130371, -4.407899856567383, -4.471499919891357, -4.576000213623047, -5.518499851226807, -5.871399879455566, -5.991000175476074, -6.243299961090088, -3.649600028991699, -3.353800058364868, -5.727499961853027, -2.253999948501587, -6.253499984741211, -4.8105998039245605, -3.122999906539917, -5.129799842834473, -4.349999904632568, -5.231299877166748, -5.151199817657471, -2.2544000148773193, -2.7393999099731445, -3.9458999633789062, -4.089300155639648, -4.089300155639648, -4.134699821472168, -4.5843000411987305, -4.603799819946289, -4.732399940490723, -4.732399940490723, -4.732399940490723, -4.732399940490723, -4.8246002197265625, -4.8246002197265625, -4.8246002197265625, -4.8246002197265625, -4.8246002197265625, -4.8246002197265625, -4.8246002197265625, -4.8246002197265625, -4.8246002197265625, -4.8246002197265625, -4.8246002197265625, -4.8246002197265625, -3.305999994277954, -2.981300115585327, -3.3898000717163086, -3.6110999584198, -4.36460018157959, -4.007800102233887, -3.8122000694274902, -4.146599769592285, -4.354899883270264, -4.192699909210205, -4.556000232696533, -4.269000053405762, -4.585599899291992, -3.40339994430542, -3.867500066757202, -4.750999927520752, -5.122799873352051, -7.856800079345703, -7.8572998046875, -7.855299949645996, -7.867700099945068, -7.868899822235107, -7.866199970245361, -7.869100093841553, -7.869100093841553, -7.869100093841553, -7.869100093841553, -7.869100093841553, -7.869100093841553, -7.868800163269043, -7.868800163269043, -7.8684000968933105, -7.869100093841553, -4.848100185394287, -7.866600036621094, -7.8572998046875, -7.868800163269043, -7.868899822235107, -7.867499828338623, -7.8684000968933105, -7.868800163269043, -7.867800235748291, -7.8684000968933105, -7.868000030517578, -7.868800163269043, -7.868800163269043, -2.1250998973846436, -7.914299964904785, -7.916100025177002, -7.916100025177002, -7.916100025177002, -7.916399955749512, -7.915800094604492, -7.916600227355957, -7.916100025177002, -7.916399955749512, -7.917699813842773, -7.917699813842773, -7.917699813842773, -7.917699813842773, -7.917900085449219, -7.917900085449219, -7.917900085449219, -7.917900085449219, -7.917900085449219, -7.917900085449219, -7.916600227355957, -7.916399955749512, -7.9141998291015625, -7.916600227355957, -7.916399955749512, -7.916999816894531, -7.917699813842773], \"loglift\": [20.0, 19.0, 18.0, 17.0, 16.0, 15.0, 14.0, 13.0, 12.0, 11.0, 10.0, 9.0, 8.0, 7.0, 6.0, 5.0, 4.0, 3.0, 2.0, 1.0, 0.7364, 0.7362, 0.7362, 0.7346, 0.7346, 0.7337, 0.7337, 0.7334, 0.733, 0.732, 0.7315, 0.7314, 0.7308, 0.7306, 0.73, 0.7299, 0.7292, 0.7289, 0.7287, 0.7285, 0.7219, 0.7167, 0.7221, 0.7078, 0.7037, 0.64, 0.6003, 0.6302, 0.6, 0.6521, 0.5966, 0.2053, 0.4056, 0.3772, 0.2091, 0.3198, -0.2457, 0.1144, 1.8739, 1.8731, 1.8705, 1.8684, 1.8667, 1.8665, 1.8665, 1.8664, 1.8661, 1.8642, 1.8639, 1.8629, 1.8628, 1.8622, 1.8589, 1.8576, 1.8559, 1.8555, 1.8546, 1.8517, 1.8236, 1.7597, 1.7435, 1.8022, 1.6898, 1.678, 1.6941, 1.3864, 1.3498, 1.2789, 1.1136, 1.2282, 0.3315, 1.1136, 0.8563, 0.7305, 0.265, 2.6849, 2.6794, 2.6764, 2.6738, 2.6729, 2.6703, 2.6697, 2.6693, 2.669, 2.6656, 2.6647, 2.6626, 2.6588, 2.6588, 2.6553, 2.6512, 2.6512, 2.6508, 2.6488, 2.6483, 2.5633, 2.4913, 2.1631, 1.968, 2.0075, 1.8856, 0.7989, 2.0497, 1.6891, 1.4995, 1.2388, 1.2245, 0.1916, 2.9035, 2.9012, 2.8998, 2.895, 2.8868, 2.8868, 2.8828, 2.8771, 2.8726, 2.8715, 2.8708, 2.8696, 2.8686, 2.8658, 2.8656, 2.865, 2.864, 2.8625, 2.8625, 2.8625, 2.8625, 2.8625, 2.8625, 2.8625, 2.8625, 2.6471, 2.7022, 2.4477, 2.2466, 2.3441, 2.3767, 1.8178, 1.4763, 1.7005, 1.8932, 1.1971, 1.586, 0.7119, 3.1819, 3.1756, 3.1601, 3.1589, 3.1582, 3.1549, 3.1525, 3.1521, 3.1511, 3.1506, 3.1416, 3.1369, 3.1361, 3.1355, 3.1283, 3.1155, 3.0982, 3.0974, 3.0714, 3.0537, 2.9045, 2.4064, 2.4194, 1.7995, 1.6042, 1.5595, 1.0107, 1.5429, 1.637, 2.1289, 1.8043, 0.3501, -0.0542, 3.2336, 3.2304, 3.2226, 3.2193, 3.2178, 3.2175, 3.2171, 3.2138, 3.2134, 3.2134, 3.2134, 3.213, 3.2126, 3.2126, 3.2126, 3.2126, 3.2112, 3.2112, 3.2112, 3.2112, 3.0457, 2.8043, 2.1235, 1.9914, 1.9746, 1.8551, 2.7938, 2.6875, 1.2814, 0.4513, 1.6793, 2.0265, 2.4546, 1.6329, 0.8479, 1.3607, 3.3431, 3.3401, 3.3391, 3.3389, 3.3335, 3.3323, 3.3307, 3.3263, 3.3251, 3.3182, 3.3152, 3.2946, 3.2847, 3.2844, 3.2542, 3.2527, 3.2342, 3.1412, 2.9742, 2.6858, 2.6566, 2.6523, 2.3176, 2.4584, 1.8457, 1.9627, 1.8313, 2.3701, 1.7366, 0.7331, 1.3756, 1.6044, 1.5922, 1.7173, 1.1511, 1.9242, 3.3655, 3.3626, 3.3578, 3.3488, 3.3445, 3.3431, 3.3424, 3.3403, 3.3398, 3.3398, 3.3388, 3.3388, 3.3388, 3.3388, 3.3306, 3.2923, 3.2782, 3.2699, 3.194, 3.1448, 3.1267, 2.7533, 2.6995, 2.9095, 2.8721, 2.373, 2.7406, 2.1203, 2.1337, 1.9465, 1.7247, 1.8129, 1.8655, 1.512, 1.3491, 2.1151, -0.0413, 3.5803, 3.5721, 3.5689, 3.5684, 3.5684, 3.5668, 3.5648, 3.5647, 3.5631, 3.5626, 3.5622, 3.5618, 3.5605, 3.5595, 3.5595, 3.5587, 3.5581, 3.5581, 3.5581, 3.5581, 2.8296, 3.05, 3.2823, 3.4279, 3.7792, 3.779, 3.7648, 3.7564, 3.7516, 3.7498, 3.7414, 3.7391, 3.7363, 3.7359, 3.734, 3.734, 3.734, 3.7309, 3.7303, 3.7282, 3.7282, 3.6143, 3.5967, 3.4602, 3.2319, 3.1202, 2.4966, 2.8275, 2.6947, 2.1413, 1.786, 0.9625, 2.7886, 1.0969, 2.3339, 1.5776, 3.9567, 3.9547, 3.951, 3.95, 3.9438, 3.9438, 3.9147, 3.9135, 3.8671, 3.8295, 3.8294, 3.7755, 3.6575, 3.6477, 3.6246, 3.5196, 3.5196, 3.5196, 3.214, 3.105, 2.8043, 2.7978, 2.0672, 2.2477, 1.6364, 1.4152, 0.4246, 0.7638, 0.7847, 4.034, 4.004, 4.0036, 4.0026, 4.0001, 3.9995, 3.9863, 3.9639, 3.9344, 3.9277, 3.9159, 3.746, 3.6431, 3.6022, 3.5051, 3.3136, 3.2929, 3.2079, 3.0817, 3.0251, 2.9849, 2.2188, 2.9007, 1.0823, 1.8475, 1.1529, 4.2249, 4.2149, 4.1557, 4.1431, 4.1431, 4.1388, 4.085, 4.0821, 4.0621, 4.0621, 4.0621, 4.0621, 4.0464, 4.0464, 4.0464, 4.0464, 4.0464, 4.0464, 4.0464, 4.0464, 4.0464, 4.0464, 4.0464, 4.0464, 3.938, 3.2593, 3.3432, 3.109, 3.4309, 2.9065, 1.7023, 2.3172, 2.1068, 0.8176, 2.853, 0.5674, 0.6142, 6.2603, 6.0438, 5.4876, 5.2043, 2.6818, 2.6794, 2.6776, 2.6721, 2.6715, 2.6714, 2.6713, 2.6713, 2.6713, 2.6713, 2.6713, 2.6713, 2.6713, 2.6713, 2.6712, 2.6711, 2.6594, 2.671, 2.6671, 2.6711, 2.671, 2.6686, 2.67, 2.6708, 2.6672, 2.6683, 2.6655, 2.6561, 2.6691, 6.8063, 2.6252, 2.6244, 2.6242, 2.624, 2.6236, 2.6235, 2.6232, 2.6229, 2.6228, 2.6225, 2.6225, 2.6225, 2.6225, 2.6224, 2.6224, 2.6224, 2.6224, 2.6224, 2.6224, 2.6221, 2.6221, 2.6208, 2.6209, 2.6202, 2.6201, 2.6211]}, \"token.table\": {\"Topic\": [5, 1, 5, 1, 4, 4, 4, 1, 5, 6, 10, 4, 7, 4, 12, 13, 7, 8, 1, 3, 8, 11, 3, 12, 5, 7, 13, 9, 4, 1, 13, 1, 2, 3, 8, 2, 5, 11, 1, 2, 3, 4, 13, 8, 1, 13, 13, 1, 3, 3, 13, 4, 9, 1, 8, 1, 9, 2, 8, 1, 2, 1, 2, 6, 12, 5, 12, 9, 11, 13, 3, 9, 5, 1, 8, 6, 11, 5, 8, 2, 14, 12, 6, 7, 1, 2, 3, 5, 1, 11, 1, 13, 1, 8, 10, 5, 11, 1, 1, 8, 11, 8, 1, 3, 12, 13, 2, 7, 1, 2, 5, 11, 1, 10, 5, 10, 2, 2, 3, 10, 13, 1, 6, 8, 4, 5, 3, 12, 9, 6, 12, 5, 4, 1, 4, 6, 7, 1, 6, 10, 4, 1, 4, 1, 6, 12, 1, 2, 6, 7, 8, 1, 1, 3, 7, 5, 5, 5, 8, 8, 1, 4, 8, 1, 1, 5, 1, 9, 3, 8, 12, 5, 1, 6, 7, 9, 11, 2, 1, 4, 4, 1, 2, 3, 4, 5, 6, 8, 13, 4, 4, 8, 6, 7, 1, 2, 3, 2, 4, 13, 2, 4, 9, 1, 6, 7, 10, 4, 4, 1, 7, 1, 6, 12, 2, 4, 8, 4, 12, 13, 13, 9, 7, 13, 11, 8, 10, 1, 4, 10, 12, 1, 9, 13, 12, 2, 5, 7, 1, 2, 4, 5, 10, 11, 2, 3, 6, 13, 1, 7, 7, 2, 12, 4, 1, 2, 3, 6, 11, 4, 3, 9, 10, 4, 7, 5, 2, 1, 6, 4, 13, 1, 1, 3, 7, 13, 6, 10, 10, 6, 9, 12, 7, 1, 1, 2, 13, 13, 11, 12, 11, 5, 1, 4, 10, 11, 2, 2, 5, 1, 5, 7, 10, 11, 1, 2, 11, 2, 4, 10, 1, 13, 10, 1, 5, 3, 1, 2, 7, 11, 4, 1, 4, 5, 2, 8, 5, 3, 9, 6, 8, 1, 12, 1, 8, 7, 12, 2, 3, 5, 3, 1, 6, 8, 11, 2, 10, 3, 10, 1, 2, 5, 6, 11, 4, 1, 7, 1, 12, 6, 13, 3, 1, 2, 1, 5, 11, 4, 9, 1, 13, 2, 10, 1, 6, 8, 7, 1, 5, 12, 11, 5, 1, 8, 2, 5, 2, 10, 1, 3, 8, 1, 2, 2, 11, 7, 3, 1, 1, 5, 13, 13, 8, 3, 2, 1, 11, 8, 1, 3, 8, 1, 11, 1, 8, 13, 2, 1, 8, 11, 13, 9, 6, 7, 2, 11, 1, 2, 7, 9, 9, 13, 1, 4, 6, 10, 3, 13, 6, 9, 3, 3, 7, 10, 2, 10, 13, 1, 6, 7, 7, 6, 1, 9, 1, 2, 4, 7, 3, 12, 2, 12, 6, 8, 13, 8, 6, 1, 2, 12, 6, 3, 7, 13, 3, 5, 11, 5, 3, 11, 11, 1, 2, 7, 11, 1, 1, 7, 9, 9, 9, 3, 5, 6, 1, 1, 4, 5, 7, 2, 12, 9, 3, 2, 6, 13, 10, 6, 7, 6, 2, 5, 8, 2, 15, 5, 3, 2, 4, 4, 8, 3, 1, 5, 13, 1, 2, 6, 7, 13, 2, 4, 10, 12, 1, 6, 7, 4, 1, 2, 4, 6, 10, 6, 5, 10, 10, 1, 13, 8, 8, 1, 13, 6, 1, 6, 1, 2, 7, 10, 3, 14, 10, 1, 2, 1, 7, 1, 13, 9, 2, 4, 6, 1, 5, 11, 1, 2, 3, 4, 7, 5, 12, 11, 1, 2, 10, 8, 1, 2, 7, 12, 1, 11, 6, 8, 1, 4, 1, 6, 13], \"Freq\": [0.9557135358926988, 0.16880613795286226, 0.7596276207878802, 0.39156208213924704, 0.5873431232088705, 0.9718918755898359, 0.9469120549445984, 0.8675538313467548, 0.06114916872928668, 0.06879281482044751, 0.902376850392009, 0.9805143251918137, 0.9494933965278292, 0.15762975374359656, 0.3152595074871931, 0.47288926123078967, 0.9390164145276462, 0.9406421324660197, 0.3412104498439734, 0.36395781316690495, 0.23884731489078137, 0.04549472664586312, 0.9767159265783204, 0.9372647835395989, 0.9448707930562267, 0.942099004541451, 0.8560934303739878, 0.9416247203270698, 0.9469120549445984, 0.6159004755785912, 0.3828570523866918, 0.09444464705733292, 0.2900799873903797, 0.48571532772342646, 0.12817487814923753, 0.9469258926623484, 0.04657012586864008, 0.9677024574967672, 0.10888451282947466, 0.3167549464130172, 0.30685635433761044, 0.2672619860359833, 0.9854981098018999, 0.9565218621443797, 0.982721919759225, 0.9241561258430366, 0.7680155947867348, 0.9903417206636257, 0.9294403295406827, 0.7183294696945637, 0.26121071625256864, 0.99132426960258, 0.9678651401461036, 0.7831151150040953, 0.20340652337768708, 0.9950654214919833, 0.9332927214297441, 0.967658153795279, 0.941747429979645, 0.3897660491368368, 0.6063027431017461, 0.7449786637969398, 0.1773758723326047, 0.01773758723326047, 0.05321276169978141, 0.4928046934274333, 0.4928046934274333, 0.9426339585788103, 0.8027357936391338, 0.9241561258430366, 0.9830348232395609, 0.9589396433264172, 0.926340571671838, 0.9895067045152551, 0.9721390601453663, 0.9458938448549961, 0.9606546623550147, 0.9344675657575567, 0.862271337479099, 0.9707125602555997, 0.6538558636147871, 0.8794350845378597, 0.16715037520163062, 0.7800350842742763, 0.7173090778958096, 0.013619792618274864, 0.06355903221861603, 0.20429688927412298, 0.9982497415092585, 0.784243061582385, 0.2270314595068337, 0.7265006704218678, 0.6990899079759715, 0.18583402617082784, 0.10619087209761592, 0.9427208305213725, 0.9706689957199128, 0.9895494221951131, 0.3977450173005732, 0.275361935054243, 0.3059577056158255, 0.9721390601453663, 0.6898375402143037, 0.2299458467381012, 0.051923255715055114, 0.022252823877880763, 0.28928809832875524, 0.6750055627670954, 0.5135257729313891, 0.19332734980946414, 0.24770066694337592, 0.04229035777082028, 0.3942317403718678, 0.5694458472038091, 0.9659619513118667, 0.9843712296582073, 0.9897266440445334, 0.9807303406506225, 0.16117565806546494, 0.8058782903273246, 0.9633143894489641, 0.35140679287046833, 0.03194607207913348, 0.6069753695035361, 0.7618358745358405, 0.22855076236075214, 0.9711323247741148, 0.9017554525623074, 0.9480926894871884, 0.9852257665396918, 0.9488453576117191, 0.9899499269461585, 0.9929801327478783, 0.3047050389934994, 0.29518300652495255, 0.19996268183948399, 0.19996268183948399, 0.36737564291675934, 0.29390051433340747, 0.32329056576674825, 0.9469120549445984, 0.41410949270028463, 0.5581475771177749, 0.3703922486331478, 0.24243856274169673, 0.38386105767435313, 0.18510682884457044, 0.18510682884457044, 0.6170227628152348, 0.22444346058856599, 0.7678328914871995, 0.9929593402678044, 0.898849403813972, 0.10137399291135023, 0.9634137535069021, 0.9844668022577555, 0.9422228980430909, 0.9793077637925846, 0.9721390601453663, 0.939045128424905, 0.6029313969040899, 0.17539822455391704, 0.2192477806923963, 0.9880764559386978, 0.5268526771818076, 0.4588716865777034, 0.4282038368157346, 0.5599588635282683, 0.9813011549450609, 0.9517518247447249, 0.9962652401053415, 0.9548166991688649, 0.6602258949714245, 0.11814568646857068, 0.21544213414857008, 0.8122676697755802, 0.1353779449625967, 0.9824754465210941, 0.987264231593311, 0.9610104339366117, 0.9853474831476734, 0.5860207684379474, 0.21181473557998098, 0.04765831550549572, 0.015886105168498574, 0.03883270152299652, 0.06001417508099462, 0.03177221033699715, 0.007060491185999366, 0.9446005152285841, 0.10335760858342981, 0.8268608686674385, 0.4683368095363365, 0.4976078601323575, 0.9029577478476082, 0.02607820210390204, 0.06845528052274286, 0.9666730613929189, 0.9718918755898359, 0.9241561258430366, 0.9912708127013196, 0.9582233598248118, 0.9678434584891044, 0.6962974685502553, 0.1372980923901912, 0.09807006599299371, 0.0686490461950956, 0.9469120549445984, 0.9753942630387188, 0.6214640701835528, 0.37287844211013166, 0.718272271637044, 0.12197076310817728, 0.16262768414423637, 0.4800414711589275, 0.5179394820398954, 0.9384600554731298, 0.8098090388431151, 0.062293002987931924, 0.12458600597586385, 0.9241561258430366, 0.9678434584891044, 0.9723956836120053, 0.9241561258430366, 0.9762824082375697, 0.8417726865863597, 0.9744016910252286, 0.4711853208720818, 0.3349389630295521, 0.1873387420334783, 0.974583894100858, 0.37645111259969655, 0.2957830170426187, 0.3226723822283113, 0.9511296123809782, 0.8689156993980673, 0.05776724871344492, 0.07220906089180615, 0.3739985794139919, 0.1965077281666737, 0.237710961491944, 0.11410126151613312, 0.05705063075806656, 0.015847397432796267, 0.9567342488160604, 0.5379871723126418, 0.44017132280125243, 0.8539611437100376, 0.6357353131096115, 0.351683364698934, 0.965662661700995, 0.3473251447022165, 0.3473251447022165, 0.9428830003157075, 0.08551958896392849, 0.354295439993418, 0.4398150289573465, 0.024434168275408136, 0.09773667310163255, 0.9469120549445984, 0.9828915881593874, 0.907369510425288, 0.9346720727908183, 0.9927051761386629, 0.9506720190928158, 0.9902765850144749, 0.9907987185052017, 0.9911176937870061, 0.9458938448549961, 0.9469120549445984, 0.9932767763305621, 0.9949923517028185, 0.5942247153284651, 0.23189257183549858, 0.1666727860067646, 0.8560934303739878, 0.9507908769140866, 0.920056216920416, 0.9505203634824226, 0.9708569044612776, 0.949243358945169, 0.9810075822866873, 0.9698035970076572, 0.9877193870023561, 0.42509481589016523, 0.5436308703210767, 0.0245247009167403, 0.9241561258430366, 0.5090072620307424, 0.6848472371333413, 0.970589935117364, 0.972353021363594, 0.5876248601125783, 0.11017966127110843, 0.2693280608849317, 0.028565097366583667, 0.9952727808776616, 0.9783546651307362, 0.8882971787317323, 0.39079619615498784, 0.11494005769264348, 0.4827482423091026, 0.9505203634824226, 0.8026389251529622, 0.6636624464615348, 0.31523966206922904, 0.01659156116153837, 0.35780362358680884, 0.25046253651076616, 0.3756938047661493, 0.9789790423866654, 0.010877544915407393, 0.9628954689567355, 0.8031237873513317, 0.1912199493693647, 0.9722538685644468, 0.3606482459863775, 0.4596497252767557, 0.1343591504655132, 0.04242920541016206, 0.9751671799683906, 0.3532401931068298, 0.6296890398860879, 0.947651774807582, 0.34319752224517064, 0.6177555400413072, 0.9620219069546446, 0.9903542318906645, 0.9761308773623044, 0.44956836555062524, 0.5289039594713238, 0.5981325015582462, 0.2990662507791231, 0.46386226258995544, 0.5271162074885858, 0.8648690485967802, 0.0910388472207137, 0.8814747279272217, 0.08299599711003061, 0.034343171217943703, 0.9591809110841335, 0.9934107087675113, 0.9800837247414157, 0.5060665377968183, 0.4048532302374547, 0.9862749263435014, 0.9346720727908183, 0.9379207530916874, 0.9505203634824226, 0.3516793322171576, 0.10488681838055577, 0.0678679413050655, 0.32083026798758235, 0.1480755083019611, 0.9798810155547445, 0.992875156586644, 0.9819862553178234, 0.8467008738895663, 0.11545921007584994, 0.963565192550804, 0.9241561258430366, 0.9415312455485294, 0.5357794982710216, 0.46101956827971624, 0.14650848864153818, 0.12927219586018074, 0.7153061504263334, 0.949316388545573, 0.9137610739649035, 0.9930887116398986, 0.8560934303739878, 0.6058580433429532, 0.36351482600577195, 0.5656295124326248, 0.2749587907658593, 0.15711930900906243, 0.8648362715327558, 0.6415316101417359, 0.3467738433198572, 0.940792753305107, 0.5090072620307424, 0.9258388627333833, 0.6296701987909692, 0.3656149541366918, 0.8243968237099802, 0.16270989941644348, 0.9857733723693682, 0.929196220399123, 0.4455400066147119, 0.2645393789274852, 0.2923856293409047, 0.41236807678066695, 0.5864790425325042, 0.9742409881644141, 0.9677024574967672, 0.9645063780252116, 0.9682507541628049, 0.9926563226838898, 0.8631262871668862, 0.12912912957614833, 0.9241561258430366, 0.8561219461289087, 0.9548608262268949, 0.9537929715101261, 0.9612038729268576, 0.945475055306016, 0.9372794238340275, 0.9642492025962799, 0.37339281772453536, 0.5861135744888161, 0.03847077515949758, 0.9769744281487043, 0.019156361336249105, 0.8701366798994236, 0.09994813215060946, 0.029396509456061606, 0.9825865007320366, 0.712970671481623, 0.2824978132285676, 0.9426121257925371, 0.9241561258430366, 0.9512989938715347, 0.9458938448549961, 0.969059094050724, 0.6576500209709658, 0.3288250104854829, 0.4513718589628652, 0.3491744569335372, 0.19587835388954528, 0.979019598023699, 0.6960966246773937, 0.26772947102976685, 0.12981046293572293, 0.2967096295673667, 0.3337983332632875, 0.222532222175525, 0.9636054688914178, 0.9241561258430366, 0.9376398657137409, 0.9678464504566324, 0.9782842245348545, 0.9847286859040434, 0.968670054186141, 0.9446740633479206, 0.35766419092597224, 0.4952273412821154, 0.11005052028491452, 0.6037760949396214, 0.14887629738237237, 0.24812716230395399, 0.9714975342264535, 0.9645163272105381, 0.5248239195785377, 0.4440817781049165, 0.22721663151764235, 0.5202064984746022, 0.1793815511981387, 0.06577323543931753, 0.49970413274099174, 0.4747189261039421, 0.9700697065766306, 0.8648321348017515, 0.6403856415021725, 0.3511792227592559, 0.8897666127416307, 0.9703901834127674, 0.9557544821857672, 0.9654529378419522, 0.028229618065554157, 0.9397138840906935, 0.9645327222216613, 0.498622546696333, 0.4882345769734927, 0.9441409017223427, 0.875276431486617, 0.11969592225458012, 0.8929081206366029, 0.9707159634970486, 0.8110540846345153, 0.18023424102989227, 0.5090072620307424, 0.5928386322943554, 0.0878279455250897, 0.23054835700336043, 0.07684945233445348, 0.9884706359864474, 0.9908483185194628, 0.9731552862916083, 0.9554522024898464, 0.9424219788372412, 0.9678314221965146, 0.5307840203129147, 0.454957731696784, 0.9731101384888423, 0.9922202279681062, 0.4880804463858629, 0.09110834999202773, 0.19523217855434516, 0.2212631356949245, 0.48001818992055484, 0.48001818992055484, 0.9508105464881585, 0.9415956953897157, 0.425686813901864, 0.5675824185358187, 0.9241561258430366, 0.9259995080009107, 0.9458938448549961, 0.8754599346416793, 0.9800868333494667, 0.2395186245707731, 0.2521248679692349, 0.5042497359384698, 0.989655595340574, 0.7362562034028133, 0.9945376648515091, 0.9878790048603916, 0.9590823249081294, 0.9469120549445984, 0.9469120549445984, 0.9721390601453663, 0.9498335772011517, 0.7768694757844121, 0.20949289234635832, 0.9241561258430366, 0.6566118953518563, 0.11186721180068662, 0.08754825271358084, 0.10700341998326547, 0.034046542721948105, 0.9196400452377227, 0.06729073501739434, 0.9751722055770624, 0.555521826180173, 0.5800802949199837, 0.2790952362350865, 0.1368113903113169, 0.9837603753310927, 0.5274750503699668, 0.35992415201715383, 0.11170059890187532, 0.968928197011551, 0.9086834094541292, 0.9736933072300019, 0.27043931816838246, 0.6986349052683214, 0.8915220142786702, 0.9180765239476808, 0.08053302841646323, 0.9643776895454791, 0.9799750901602798, 0.5719867122167794, 0.4085619372976996, 0.9800785707669233, 0.7855673712112482, 0.2030117925602102, 0.5406713446157336, 0.12976112270777607, 0.1946416840616641, 0.12976112270777607, 0.9683151139497552, 0.5104407054668467, 0.9395567767257894, 0.9833158294680951, 0.015050752491858598, 0.5818512358866923, 0.39415728882646894, 0.8323410986504713, 0.1456596922638325, 0.9469931339449603, 0.956200825436553, 0.9494340928336905, 0.944997033682792, 0.16364374062992054, 0.35066515849268687, 0.46755354465691584, 0.9950942913602249, 0.823408974094491, 0.149253357829755, 0.0016770040205590449, 0.023478056287826628, 0.8441173536683104, 0.47570818318329794, 0.7859676586645973, 0.9660162824748796, 0.030962060335733323, 0.9716342405362492, 0.9517499018754647, 0.014345549484162825, 0.8105235458551997, 0.17214659380995392, 0.9531335743758512, 0.2595644252033647, 0.6489110630084117, 0.9800884154165044, 0.9222876473480174, 0.6295346954284671, 0.3616475909908215, 0.17813711996340476, 0.8016170398353215, 0.8539611437100376], \"Term\": [\"Cartao\", \"Consumidor\", \"Consumidor\", \"Entao\", \"Entao\", \"Flavia\", \"Guilherme\", \"Internet\", \"Internet\", \"Internet\", \"abaixo\", \"abatimento\", \"abril\", \"absurdo\", \"absurdo\", \"absurdo\", \"abusivo\", \"abuso\", \"acabar\", \"acabar\", \"acabar\", \"acabar\", \"acontecer\", \"acordar\", \"acordo\", \"adquirir\", \"afetar\", \"afirmar\", \"agencia\", \"agendar\", \"agendar\", \"agora\", \"agora\", \"agora\", \"agora\", \"agosto\", \"agosto\", \"aguento\", \"ainda\", \"ainda\", \"ainda\", \"ainda\", \"alem\", \"algo\", \"algum\", \"aluno\", \"am\", \"ano\", \"anterior\", \"antes\", \"antes\", \"aparelho\", \"apesar\", \"aplicativo\", \"aplicativo\", \"apos\", \"assegurar\", \"assinar\", \"atencao\", \"atendente\", \"atendente\", \"atendimento\", \"atendimento\", \"atendimento\", \"atendimento\", \"atra\", \"atra\", \"atras\", \"atrasar\", \"aula\", \"aumentar\", \"autorizeir\", \"bastar\", \"bem\", \"biometrico\", \"bloco\", \"bloquear\", \"boleto\", \"brincadeira\", \"cada\", \"cadastro\", \"caminho\", \"canal\", \"canal\", \"cancelamento\", \"cancelamento\", \"cancelamento\", \"cancelamento\", \"cancelar\", \"carregar\", \"casa\", \"casa\", \"celular\", \"celular\", \"celular\", \"centavo\", \"chamar\", \"chegar\", \"chip\", \"chip\", \"chip\", \"clicar\", \"cliente\", \"cliente\", \"cliente\", \"cliente\", \"cobranca\", \"cobranca\", \"cobrar\", \"cobrar\", \"cobrar\", \"cobrar\", \"colocar\", \"colocar\", \"coloquei\", \"com\", \"combinar\", \"combo\", \"comeco\", \"comeco\", \"comparecer\", \"comprar\", \"comprar\", \"comprar\", \"comprovante\", \"comprovante\", \"comunicacao\", \"concedir\", \"condicoes\", \"condominio\", \"confirmacao\", \"confirmar\", \"conforme\", \"conseguir\", \"conseguir\", \"conseguir\", \"conseguir\", \"consigo\", \"consigo\", \"consigo\", \"constrangedor\", \"contar\", \"contar\", \"contato\", \"contato\", \"contato\", \"continuar\", \"continuar\", \"continuar\", \"contratar\", \"contratar\", \"contrato\", \"controle\", \"controle\", \"correta\", \"corrigir\", \"creditar\", \"credito\", \"cuidado\", \"custo\", \"dar\", \"dar\", \"dar\", \"data\", \"datar\", \"datar\", \"deixar\", \"deixar\", \"demorar\", \"desbloquear\", \"desconto\", \"desculpa\", \"desde\", \"desde\", \"desde\", \"desejo\", \"desejo\", \"desfecho\", \"dever\", \"devir\", \"devolver\", \"dia\", \"dia\", \"dia\", \"dia\", \"dia\", \"dia\", \"dia\", \"dia\", \"dias\", \"dinheiro\", \"dinheiro\", \"diverso\", \"diverso\", \"dizer\", \"dizer\", \"dizer\", \"documento\", \"duplicidade\", \"duramente\", \"em\", \"email\", \"embora\", \"empresa\", \"empresa\", \"empresa\", \"empresa\", \"enformar\", \"entanto\", \"entao\", \"entao\", \"entrar\", \"entrar\", \"entrar\", \"enviar\", \"enviar\", \"envio\", \"esperar\", \"esperar\", \"esperar\", \"essso\", \"estabelecer\", \"este\", \"estivem\", \"estorne\", \"explicacao\", \"facil\", \"falar\", \"falar\", \"falar\", \"falha\", \"falta\", \"falta\", \"falta\", \"faltar\", \"fatura\", \"fatura\", \"fatura\", \"fazer\", \"fazer\", \"fazer\", \"fazer\", \"fazer\", \"fazer\", \"fechamento\", \"feira\", \"feira\", \"fi\", \"ficar\", \"ficar\", \"financeiro\", \"fiquar\", \"fiquar\", \"fisico\", \"fiz\", \"fiz\", \"fiz\", \"fiz\", \"fiz\", \"flavia\", \"flex\", \"fornecer\", \"fracamente\", \"funcionario\", \"gerar\", \"gostar\", \"grande\", \"gravacao\", \"grupo\", \"guilherme\", \"h\", \"haver\", \"hoje\", \"hoje\", \"hoje\", \"home\", \"horario\", \"humano\", \"humanooooo\", \"identificar\", \"imediato\", \"incorreto\", \"indever\", \"informacao\", \"informar\", \"informar\", \"informar\", \"ingles\", \"inocentemente\", \"inteiro\", \"internet\", \"inumero\", \"ir\", \"ir\", \"ir\", \"ir\", \"julho\", \"junho\", \"junto\", \"la\", \"la\", \"la\", \"lascar\", \"liberar\", \"ligacao\", \"ligacao\", \"ligacao\", \"ligacoes\", \"ligacoes\", \"ligacoes\", \"ligar\", \"ligar\", \"ligor\", \"liguar\", \"liguar\", \"liguei\", \"linha\", \"linha\", \"linha\", \"linha\", \"local\", \"logo\", \"logo\", \"m\", \"mandar\", \"mandar\", \"manha\", \"mao\", \"marco\", \"meio\", \"meio\", \"menos\", \"menos\", \"mensagem\", \"mensagem\", \"mensal\", \"mensal\", \"mes\", \"mes\", \"mes\", \"meter\", \"minuto\", \"morer\", \"motivo\", \"motivo\", \"movel\", \"muda\", \"mulher\", \"muuuiiiiita\", \"nada\", \"nada\", \"nada\", \"nada\", \"nada\", \"necessario\", \"nenhum\", \"netflix\", \"ninguem\", \"ninguem\", \"niteroi\", \"nocao\", \"notar\", \"novamente\", \"novamente\", \"numero\", \"numero\", \"numero\", \"obrigar\", \"obtive\", \"ocorrer\", \"office\", \"olhar\", \"olhar\", \"onde\", \"onde\", \"onde\", \"online\", \"ontem\", \"ontem\", \"operador\", \"oq\", \"or\", \"outro\", \"outro\", \"outubro\", \"outubro\", \"ouvidoria\", \"paciencia\", \"pacote\", \"pacote\", \"pacote\", \"pagar\", \"pagar\", \"pagueer\", \"par\", \"parecer\", \"passado\", \"passar\", \"pedir\", \"pedir\", \"penalizar\", \"pendencia\", \"pequeno\", \"perguntar\", \"periodo\", \"pessoa\", \"pessoal\", \"pix\", \"plano\", \"plano\", \"plano\", \"poder\", \"poder\", \"pois\", \"pois\", \"pois\", \"porem\", \"porque\", \"porque\", \"portabilidade\", \"portaria\", \"possuir\", \"postar\", \"pouco\", \"pq\", \"pq\", \"pra\", \"pra\", \"pra\", \"prazo\", \"precisar\", \"precisar\", \"preciso\", \"preciso\", \"preciso\", \"preciso\", \"preco\", \"predio\", \"prejudicar\", \"presenca\", \"prever\", \"prezao\", \"prezar\", \"primeira\", \"primeiro\", \"primeiro\", \"primeiro\", \"problema\", \"problema\", \"problema\", \"produto\", \"promessa\", \"proprio\", \"proprio\", \"protocolo\", \"protocolo\", \"protocolo\", \"protocolo\", \"proximo\", \"proximo\", \"q\", \"qualidade\", \"qualquer\", \"qualquer\", \"quanto\", \"quase\", \"quatro\", \"querer\", \"querer\", \"questionei\", \"quinta\", \"r\", \"r\", \"reagendar\", \"real\", \"real\", \"realizei\", \"realmente\", \"recarga\", \"recarga\", \"recarreguei\", \"receber\", \"receber\", \"receber\", \"receber\", \"recebi\", \"reclamar\", \"referente\", \"registrar\", \"registro\", \"relacao\", \"renovacao\", \"renovacao\", \"reser\", \"residencial\", \"resolver\", \"resolver\", \"resolver\", \"resolver\", \"respeito\", \"respeito\", \"resposta\", \"resumir\", \"retorno\", \"retorno\", \"reunioe\", \"revoltar\", \"rj\", \"sabado\", \"sabar\", \"saber\", \"saber\", \"saber\", \"sac\", \"sair\", \"saldo\", \"segundo\", \"seguranca\", \"senhorita\", \"senhorito\", \"sensor\", \"sequer\", \"ser\", \"ser\", \"seriamente\", \"servico\", \"servico\", \"servico\", \"servico\", \"servico\", \"setembro\", \"setembro\", \"si\", \"siger\", \"sinal\", \"sinal\", \"sinal\", \"site\", \"solicitar\", \"solicitar\", \"solicitar\", \"solucao\", \"sugerir\", \"suporte\", \"ta\", \"ta\", \"tar\", \"tecnico\", \"tecnico\", \"tela\", \"telar\", \"tempo\", \"tempo\", \"temporal\", \"tentar\", \"tentar\", \"ter\", \"ter\", \"ter\", \"ter\", \"terceiro\", \"tirar\", \"to\", \"todo\", \"todo\", \"total\", \"total\", \"trabalho\", \"trabalho\", \"transferencia\", \"transtorno\", \"trocar\", \"ultima\", \"usar\", \"usar\", \"usar\", \"utilizar\", \"valor\", \"valor\", \"valor\", \"valor\", \"vao\", \"verdadeiro\", \"verifiquei\", \"vez\", \"vez\", \"vim\", \"vinculo\", \"vir\", \"vir\", \"vir\", \"visitar\", \"vivo\", \"vivo\", \"vizinho\", \"volta\", \"voltar\", \"voltar\", \"whatsapp\", \"whatsapp\", \"wi\"]}, \"R\": 20, \"lambda.step\": 0.01, \"plot.opts\": {\"xlab\": \"PC1\", \"ylab\": \"PC2\"}, \"topic.order\": [7, 11, 6, 5, 15, 2, 3, 8, 9, 10, 1, 4, 12, 14, 13]};\n",
              "\n",
              "function LDAvis_load_lib(url, callback){\n",
              "  var s = document.createElement('script');\n",
              "  s.src = url;\n",
              "  s.async = true;\n",
              "  s.onreadystatechange = s.onload = callback;\n",
              "  s.onerror = function(){console.warn(\"failed to load library \" + url);};\n",
              "  document.getElementsByTagName(\"head\")[0].appendChild(s);\n",
              "}\n",
              "\n",
              "if(typeof(LDAvis) !== \"undefined\"){\n",
              "   // already loaded: just create the visualization\n",
              "   !function(LDAvis){\n",
              "       new LDAvis(\"#\" + \"ldavis_el3911344657509209764639052752\", ldavis_el3911344657509209764639052752_data);\n",
              "   }(LDAvis);\n",
              "}else if(typeof define === \"function\" && define.amd){\n",
              "   // require.js is available: use it to load d3/LDAvis\n",
              "   require.config({paths: {d3: \"https://cdnjs.cloudflare.com/ajax/libs/d3/3.5.5/d3.min\"}});\n",
              "   require([\"d3\"], function(d3){\n",
              "      window.d3 = d3;\n",
              "      LDAvis_load_lib(\"https://cdn.rawgit.com/bmabey/pyLDAvis/files/ldavis.v1.0.0.js\", function(){\n",
              "        new LDAvis(\"#\" + \"ldavis_el3911344657509209764639052752\", ldavis_el3911344657509209764639052752_data);\n",
              "      });\n",
              "    });\n",
              "}else{\n",
              "    // require.js not available: dynamically load d3 & LDAvis\n",
              "    LDAvis_load_lib(\"https://cdnjs.cloudflare.com/ajax/libs/d3/3.5.5/d3.min.js\", function(){\n",
              "         LDAvis_load_lib(\"https://cdn.rawgit.com/bmabey/pyLDAvis/files/ldavis.v1.0.0.js\", function(){\n",
              "                 new LDAvis(\"#\" + \"ldavis_el3911344657509209764639052752\", ldavis_el3911344657509209764639052752_data);\n",
              "            })\n",
              "         });\n",
              "}\n",
              "</script>"
            ]
          },
          "metadata": {},
          "execution_count": 23
        }
      ]
    },
    {
      "cell_type": "markdown",
      "source": [
        "## Bertopic"
      ],
      "metadata": {
        "id": "04ozE_gldfL4"
      }
    },
    {
      "cell_type": "markdown",
      "source": [
        "As we could see above, work with LDA demands a lot of text prepocessing. Now we will use a completely different alternative called Bertopic."
      ],
      "metadata": {
        "id": "JSFc26yYdkP9"
      }
    },
    {
      "cell_type": "code",
      "source": [
        "device = !nvidia-smi -L\n",
        "device = \"cuda\" if device[0][:3] == 'GPU' else \"cpu\"\n",
        "device"
      ],
      "metadata": {
        "id": "WZIRaKNejnes"
      },
      "execution_count": null,
      "outputs": []
    },
    {
      "cell_type": "code",
      "source": [
        "try:\n",
        "  from bertopic import BERTopic\n",
        "except:\n",
        "  !pip install bertopic\n",
        "  clear_output()\n",
        "  from bertopic import BERTopic"
      ],
      "metadata": {
        "id": "zfzaT7HFq8Zr"
      },
      "execution_count": 25,
      "outputs": []
    },
    {
      "cell_type": "code",
      "source": [
        "#try:\n",
        "  from sentence_transformers import SentenceTransformer\n",
        "#except:\n",
        "#  !pip install sentence_transformers\n",
        "#  clear_output()\n",
        "#  from sentence_transformers import SentenceTransformer"
      ],
      "metadata": {
        "id": "VPMVbO7oqNou"
      },
      "execution_count": null,
      "outputs": []
    },
    {
      "cell_type": "code",
      "source": [
        "sentence_model = SentenceTransformer('rufimelo/bert-large-portuguese-cased-sts', device=device)\n",
        "clear_output()\n",
        "topic_model = BERTopic(embedding_model=sentence_model)"
      ],
      "metadata": {
        "id": "i7DeCZjFqfg6"
      },
      "execution_count": 36,
      "outputs": []
    },
    {
      "cell_type": "code",
      "source": [
        "topics, probs = topic_model.fit_transform(df.description_clean_stop.astype(\"str\").tolist())"
      ],
      "metadata": {
        "id": "FVjGp-Bv3MM2"
      },
      "execution_count": null,
      "outputs": []
    },
    {
      "cell_type": "code",
      "source": [
        "topic_model.visualize_topics()"
      ],
      "metadata": {
        "colab": {
          "base_uri": "https://localhost:8080/",
          "height": 756
        },
        "id": "02yCTx7a33z0",
        "outputId": "05334ef6-b049-4572-f598-6fab440de05a"
      },
      "execution_count": 42,
      "outputs": [
        {
          "output_type": "stream",
          "name": "stderr",
          "text": [
            "/usr/local/lib/python3.10/dist-packages/ipykernel/ipkernel.py:283: DeprecationWarning:\n",
            "\n",
            "`should_run_async` will not call `transform_cell` automatically in the future. Please pass the result to `transformed_cell` argument and any exception that happen during thetransform in `preprocessing_exc_tuple` in IPython 7.17 and above.\n",
            "\n"
          ]
        },
        {
          "output_type": "display_data",
          "data": {
            "text/html": [
              "<html>\n",
              "<head><meta charset=\"utf-8\" /></head>\n",
              "<body>\n",
              "    <div>            <script src=\"https://cdnjs.cloudflare.com/ajax/libs/mathjax/2.7.5/MathJax.js?config=TeX-AMS-MML_SVG\"></script><script type=\"text/javascript\">if (window.MathJax && window.MathJax.Hub && window.MathJax.Hub.Config) {window.MathJax.Hub.Config({SVG: {font: \"STIX-Web\"}});}</script>                <script type=\"text/javascript\">window.PlotlyConfig = {MathJaxConfig: 'local'};</script>\n",
              "        <script charset=\"utf-8\" src=\"https://cdn.plot.ly/plotly-2.24.1.min.js\"></script>                <div id=\"8437db0d-fac9-46aa-9def-8164b3c88ae5\" class=\"plotly-graph-div\" style=\"height:650px; width:650px;\"></div>            <script type=\"text/javascript\">                                    window.PLOTLYENV=window.PLOTLYENV || {};                                    if (document.getElementById(\"8437db0d-fac9-46aa-9def-8164b3c88ae5\")) {                    Plotly.newPlot(                        \"8437db0d-fac9-46aa-9def-8164b3c88ae5\",                        [{\"customdata\":[[0,\"claro | numero | plano | dia | pra\",160],[1,\"internet | sinal | cai | claro | faz\",40],[2,\"cancelamento | cobrando | setembro | outubro | valor\",34],[3,\"novamente | empresa | atendente | mes | valor\",31],[4,\"consigo | falar | revoltada | coloca | muuuiiiiita\",18],[5,\"ia | valor | ta | reais | plano\",17],[6,\"tentando | reclamar | aguentando | furada | atendem\",16],[7,\"flavia | comprovantes | abatimento | fazer | fatura\",16],[8,\"moldem | dia | cancelamento | cancelar | efetivamente\",15],[9,\"coloquei | credito | creditos | recarga | sms\",15],[10,\"tela | mensagens | quase | outro | sensor\",15],[11,\"sinal | nada | onde | condominio | temporal\",14],[12,\"saldo | mao | previa | plano | comunicacao\",13],[13,\"sac | combo | paguei | pagar | fechamento\",13],[14,\"abusiva | parecia | adquiridos | ficando | correta\",12],[15,\"controle | apos | oferecia | plano | muita\",12],[16,\"recarga | saldo | efetuei | entrou | aparece\",12],[17,\"finalizar | trava | trocar | conseguindo | hora\",11]],\"hovertemplate\":\"\\u003cb\\u003eTopic %{customdata[0]}\\u003c\\u002fb\\u003e\\u003cbr\\u003e%{customdata[1]}\\u003cbr\\u003eSize: %{customdata[2]}\",\"legendgroup\":\"\",\"marker\":{\"color\":\"#B0BEC5\",\"size\":[160,40,34,31,18,17,16,16,15,15,15,14,13,13,12,12,12,11],\"sizemode\":\"area\",\"sizeref\":0.1,\"symbol\":\"circle\",\"line\":{\"color\":\"DarkSlateGrey\",\"width\":2}},\"mode\":\"markers\",\"name\":\"\",\"orientation\":\"v\",\"showlegend\":false,\"x\":[13.903726577758789,11.355792045593262,14.677020072937012,-6.046557426452637,13.773258209228516,14.354941368103027,11.5286283493042,-4.590980529785156,-6.349993705749512,13.119182586669922,13.670870780944824,12.956632614135742,-5.826898097991943,-4.756525039672852,14.936588287353516,13.599760055541992,-4.942861080169678,10.995330810546875],\"xaxis\":\"x\",\"y\":[13.995673179626465,13.233820915222168,12.606231689453125,-11.147521018981934,14.603968620300293,13.156485557556152,13.680387496948242,-3.6584036350250244,-10.843771934509277,14.179195404052734,13.335907936096191,13.1194486618042,-11.367029190063477,-3.492774724960327,12.31798267364502,13.918832778930664,-3.3069045543670654,13.538758277893066],\"yaxis\":\"y\",\"type\":\"scatter\"}],                        {\"template\":{\"data\":{\"barpolar\":[{\"marker\":{\"line\":{\"color\":\"white\",\"width\":0.5},\"pattern\":{\"fillmode\":\"overlay\",\"size\":10,\"solidity\":0.2}},\"type\":\"barpolar\"}],\"bar\":[{\"error_x\":{\"color\":\"rgb(36,36,36)\"},\"error_y\":{\"color\":\"rgb(36,36,36)\"},\"marker\":{\"line\":{\"color\":\"white\",\"width\":0.5},\"pattern\":{\"fillmode\":\"overlay\",\"size\":10,\"solidity\":0.2}},\"type\":\"bar\"}],\"carpet\":[{\"aaxis\":{\"endlinecolor\":\"rgb(36,36,36)\",\"gridcolor\":\"white\",\"linecolor\":\"white\",\"minorgridcolor\":\"white\",\"startlinecolor\":\"rgb(36,36,36)\"},\"baxis\":{\"endlinecolor\":\"rgb(36,36,36)\",\"gridcolor\":\"white\",\"linecolor\":\"white\",\"minorgridcolor\":\"white\",\"startlinecolor\":\"rgb(36,36,36)\"},\"type\":\"carpet\"}],\"choropleth\":[{\"colorbar\":{\"outlinewidth\":1,\"tickcolor\":\"rgb(36,36,36)\",\"ticks\":\"outside\"},\"type\":\"choropleth\"}],\"contourcarpet\":[{\"colorbar\":{\"outlinewidth\":1,\"tickcolor\":\"rgb(36,36,36)\",\"ticks\":\"outside\"},\"type\":\"contourcarpet\"}],\"contour\":[{\"colorbar\":{\"outlinewidth\":1,\"tickcolor\":\"rgb(36,36,36)\",\"ticks\":\"outside\"},\"colorscale\":[[0.0,\"#440154\"],[0.1111111111111111,\"#482878\"],[0.2222222222222222,\"#3e4989\"],[0.3333333333333333,\"#31688e\"],[0.4444444444444444,\"#26828e\"],[0.5555555555555556,\"#1f9e89\"],[0.6666666666666666,\"#35b779\"],[0.7777777777777778,\"#6ece58\"],[0.8888888888888888,\"#b5de2b\"],[1.0,\"#fde725\"]],\"type\":\"contour\"}],\"heatmapgl\":[{\"colorbar\":{\"outlinewidth\":1,\"tickcolor\":\"rgb(36,36,36)\",\"ticks\":\"outside\"},\"colorscale\":[[0.0,\"#440154\"],[0.1111111111111111,\"#482878\"],[0.2222222222222222,\"#3e4989\"],[0.3333333333333333,\"#31688e\"],[0.4444444444444444,\"#26828e\"],[0.5555555555555556,\"#1f9e89\"],[0.6666666666666666,\"#35b779\"],[0.7777777777777778,\"#6ece58\"],[0.8888888888888888,\"#b5de2b\"],[1.0,\"#fde725\"]],\"type\":\"heatmapgl\"}],\"heatmap\":[{\"colorbar\":{\"outlinewidth\":1,\"tickcolor\":\"rgb(36,36,36)\",\"ticks\":\"outside\"},\"colorscale\":[[0.0,\"#440154\"],[0.1111111111111111,\"#482878\"],[0.2222222222222222,\"#3e4989\"],[0.3333333333333333,\"#31688e\"],[0.4444444444444444,\"#26828e\"],[0.5555555555555556,\"#1f9e89\"],[0.6666666666666666,\"#35b779\"],[0.7777777777777778,\"#6ece58\"],[0.8888888888888888,\"#b5de2b\"],[1.0,\"#fde725\"]],\"type\":\"heatmap\"}],\"histogram2dcontour\":[{\"colorbar\":{\"outlinewidth\":1,\"tickcolor\":\"rgb(36,36,36)\",\"ticks\":\"outside\"},\"colorscale\":[[0.0,\"#440154\"],[0.1111111111111111,\"#482878\"],[0.2222222222222222,\"#3e4989\"],[0.3333333333333333,\"#31688e\"],[0.4444444444444444,\"#26828e\"],[0.5555555555555556,\"#1f9e89\"],[0.6666666666666666,\"#35b779\"],[0.7777777777777778,\"#6ece58\"],[0.8888888888888888,\"#b5de2b\"],[1.0,\"#fde725\"]],\"type\":\"histogram2dcontour\"}],\"histogram2d\":[{\"colorbar\":{\"outlinewidth\":1,\"tickcolor\":\"rgb(36,36,36)\",\"ticks\":\"outside\"},\"colorscale\":[[0.0,\"#440154\"],[0.1111111111111111,\"#482878\"],[0.2222222222222222,\"#3e4989\"],[0.3333333333333333,\"#31688e\"],[0.4444444444444444,\"#26828e\"],[0.5555555555555556,\"#1f9e89\"],[0.6666666666666666,\"#35b779\"],[0.7777777777777778,\"#6ece58\"],[0.8888888888888888,\"#b5de2b\"],[1.0,\"#fde725\"]],\"type\":\"histogram2d\"}],\"histogram\":[{\"marker\":{\"line\":{\"color\":\"white\",\"width\":0.6}},\"type\":\"histogram\"}],\"mesh3d\":[{\"colorbar\":{\"outlinewidth\":1,\"tickcolor\":\"rgb(36,36,36)\",\"ticks\":\"outside\"},\"type\":\"mesh3d\"}],\"parcoords\":[{\"line\":{\"colorbar\":{\"outlinewidth\":1,\"tickcolor\":\"rgb(36,36,36)\",\"ticks\":\"outside\"}},\"type\":\"parcoords\"}],\"pie\":[{\"automargin\":true,\"type\":\"pie\"}],\"scatter3d\":[{\"line\":{\"colorbar\":{\"outlinewidth\":1,\"tickcolor\":\"rgb(36,36,36)\",\"ticks\":\"outside\"}},\"marker\":{\"colorbar\":{\"outlinewidth\":1,\"tickcolor\":\"rgb(36,36,36)\",\"ticks\":\"outside\"}},\"type\":\"scatter3d\"}],\"scattercarpet\":[{\"marker\":{\"colorbar\":{\"outlinewidth\":1,\"tickcolor\":\"rgb(36,36,36)\",\"ticks\":\"outside\"}},\"type\":\"scattercarpet\"}],\"scattergeo\":[{\"marker\":{\"colorbar\":{\"outlinewidth\":1,\"tickcolor\":\"rgb(36,36,36)\",\"ticks\":\"outside\"}},\"type\":\"scattergeo\"}],\"scattergl\":[{\"marker\":{\"colorbar\":{\"outlinewidth\":1,\"tickcolor\":\"rgb(36,36,36)\",\"ticks\":\"outside\"}},\"type\":\"scattergl\"}],\"scattermapbox\":[{\"marker\":{\"colorbar\":{\"outlinewidth\":1,\"tickcolor\":\"rgb(36,36,36)\",\"ticks\":\"outside\"}},\"type\":\"scattermapbox\"}],\"scatterpolargl\":[{\"marker\":{\"colorbar\":{\"outlinewidth\":1,\"tickcolor\":\"rgb(36,36,36)\",\"ticks\":\"outside\"}},\"type\":\"scatterpolargl\"}],\"scatterpolar\":[{\"marker\":{\"colorbar\":{\"outlinewidth\":1,\"tickcolor\":\"rgb(36,36,36)\",\"ticks\":\"outside\"}},\"type\":\"scatterpolar\"}],\"scatter\":[{\"fillpattern\":{\"fillmode\":\"overlay\",\"size\":10,\"solidity\":0.2},\"type\":\"scatter\"}],\"scatterternary\":[{\"marker\":{\"colorbar\":{\"outlinewidth\":1,\"tickcolor\":\"rgb(36,36,36)\",\"ticks\":\"outside\"}},\"type\":\"scatterternary\"}],\"surface\":[{\"colorbar\":{\"outlinewidth\":1,\"tickcolor\":\"rgb(36,36,36)\",\"ticks\":\"outside\"},\"colorscale\":[[0.0,\"#440154\"],[0.1111111111111111,\"#482878\"],[0.2222222222222222,\"#3e4989\"],[0.3333333333333333,\"#31688e\"],[0.4444444444444444,\"#26828e\"],[0.5555555555555556,\"#1f9e89\"],[0.6666666666666666,\"#35b779\"],[0.7777777777777778,\"#6ece58\"],[0.8888888888888888,\"#b5de2b\"],[1.0,\"#fde725\"]],\"type\":\"surface\"}],\"table\":[{\"cells\":{\"fill\":{\"color\":\"rgb(237,237,237)\"},\"line\":{\"color\":\"white\"}},\"header\":{\"fill\":{\"color\":\"rgb(217,217,217)\"},\"line\":{\"color\":\"white\"}},\"type\":\"table\"}]},\"layout\":{\"annotationdefaults\":{\"arrowhead\":0,\"arrowwidth\":1},\"autotypenumbers\":\"strict\",\"coloraxis\":{\"colorbar\":{\"outlinewidth\":1,\"tickcolor\":\"rgb(36,36,36)\",\"ticks\":\"outside\"}},\"colorscale\":{\"diverging\":[[0.0,\"rgb(103,0,31)\"],[0.1,\"rgb(178,24,43)\"],[0.2,\"rgb(214,96,77)\"],[0.3,\"rgb(244,165,130)\"],[0.4,\"rgb(253,219,199)\"],[0.5,\"rgb(247,247,247)\"],[0.6,\"rgb(209,229,240)\"],[0.7,\"rgb(146,197,222)\"],[0.8,\"rgb(67,147,195)\"],[0.9,\"rgb(33,102,172)\"],[1.0,\"rgb(5,48,97)\"]],\"sequential\":[[0.0,\"#440154\"],[0.1111111111111111,\"#482878\"],[0.2222222222222222,\"#3e4989\"],[0.3333333333333333,\"#31688e\"],[0.4444444444444444,\"#26828e\"],[0.5555555555555556,\"#1f9e89\"],[0.6666666666666666,\"#35b779\"],[0.7777777777777778,\"#6ece58\"],[0.8888888888888888,\"#b5de2b\"],[1.0,\"#fde725\"]],\"sequentialminus\":[[0.0,\"#440154\"],[0.1111111111111111,\"#482878\"],[0.2222222222222222,\"#3e4989\"],[0.3333333333333333,\"#31688e\"],[0.4444444444444444,\"#26828e\"],[0.5555555555555556,\"#1f9e89\"],[0.6666666666666666,\"#35b779\"],[0.7777777777777778,\"#6ece58\"],[0.8888888888888888,\"#b5de2b\"],[1.0,\"#fde725\"]]},\"colorway\":[\"#1F77B4\",\"#FF7F0E\",\"#2CA02C\",\"#D62728\",\"#9467BD\",\"#8C564B\",\"#E377C2\",\"#7F7F7F\",\"#BCBD22\",\"#17BECF\"],\"font\":{\"color\":\"rgb(36,36,36)\"},\"geo\":{\"bgcolor\":\"white\",\"lakecolor\":\"white\",\"landcolor\":\"white\",\"showlakes\":true,\"showland\":true,\"subunitcolor\":\"white\"},\"hoverlabel\":{\"align\":\"left\"},\"hovermode\":\"closest\",\"mapbox\":{\"style\":\"light\"},\"paper_bgcolor\":\"white\",\"plot_bgcolor\":\"white\",\"polar\":{\"angularaxis\":{\"gridcolor\":\"rgb(232,232,232)\",\"linecolor\":\"rgb(36,36,36)\",\"showgrid\":false,\"showline\":true,\"ticks\":\"outside\"},\"bgcolor\":\"white\",\"radialaxis\":{\"gridcolor\":\"rgb(232,232,232)\",\"linecolor\":\"rgb(36,36,36)\",\"showgrid\":false,\"showline\":true,\"ticks\":\"outside\"}},\"scene\":{\"xaxis\":{\"backgroundcolor\":\"white\",\"gridcolor\":\"rgb(232,232,232)\",\"gridwidth\":2,\"linecolor\":\"rgb(36,36,36)\",\"showbackground\":true,\"showgrid\":false,\"showline\":true,\"ticks\":\"outside\",\"zeroline\":false,\"zerolinecolor\":\"rgb(36,36,36)\"},\"yaxis\":{\"backgroundcolor\":\"white\",\"gridcolor\":\"rgb(232,232,232)\",\"gridwidth\":2,\"linecolor\":\"rgb(36,36,36)\",\"showbackground\":true,\"showgrid\":false,\"showline\":true,\"ticks\":\"outside\",\"zeroline\":false,\"zerolinecolor\":\"rgb(36,36,36)\"},\"zaxis\":{\"backgroundcolor\":\"white\",\"gridcolor\":\"rgb(232,232,232)\",\"gridwidth\":2,\"linecolor\":\"rgb(36,36,36)\",\"showbackground\":true,\"showgrid\":false,\"showline\":true,\"ticks\":\"outside\",\"zeroline\":false,\"zerolinecolor\":\"rgb(36,36,36)\"}},\"shapedefaults\":{\"fillcolor\":\"black\",\"line\":{\"width\":0},\"opacity\":0.3},\"ternary\":{\"aaxis\":{\"gridcolor\":\"rgb(232,232,232)\",\"linecolor\":\"rgb(36,36,36)\",\"showgrid\":false,\"showline\":true,\"ticks\":\"outside\"},\"baxis\":{\"gridcolor\":\"rgb(232,232,232)\",\"linecolor\":\"rgb(36,36,36)\",\"showgrid\":false,\"showline\":true,\"ticks\":\"outside\"},\"bgcolor\":\"white\",\"caxis\":{\"gridcolor\":\"rgb(232,232,232)\",\"linecolor\":\"rgb(36,36,36)\",\"showgrid\":false,\"showline\":true,\"ticks\":\"outside\"}},\"title\":{\"x\":0.05},\"xaxis\":{\"automargin\":true,\"gridcolor\":\"rgb(232,232,232)\",\"linecolor\":\"rgb(36,36,36)\",\"showgrid\":false,\"showline\":true,\"ticks\":\"outside\",\"title\":{\"standoff\":15},\"zeroline\":false,\"zerolinecolor\":\"rgb(36,36,36)\"},\"yaxis\":{\"automargin\":true,\"gridcolor\":\"rgb(232,232,232)\",\"linecolor\":\"rgb(36,36,36)\",\"showgrid\":false,\"showline\":true,\"ticks\":\"outside\",\"title\":{\"standoff\":15},\"zeroline\":false,\"zerolinecolor\":\"rgb(36,36,36)\"}}},\"xaxis\":{\"anchor\":\"y\",\"domain\":[0.0,1.0],\"title\":{\"text\":\"\"},\"visible\":false,\"range\":[-7.302492761611939,17.177076530456542]},\"yaxis\":{\"anchor\":\"x\",\"domain\":[0.0,1.0],\"title\":{\"text\":\"\"},\"visible\":false,\"range\":[-13.072083568572998,16.794563913345335]},\"legend\":{\"tracegroupgap\":0,\"itemsizing\":\"constant\"},\"margin\":{\"t\":60},\"title\":{\"font\":{\"size\":22,\"color\":\"Black\"},\"text\":\"\\u003cb\\u003eIntertopic Distance Map\\u003c\\u002fb\\u003e\",\"y\":0.95,\"x\":0.5,\"xanchor\":\"center\",\"yanchor\":\"top\"},\"hoverlabel\":{\"font\":{\"size\":16,\"family\":\"Rockwell\"},\"bgcolor\":\"white\"},\"width\":650,\"height\":650,\"sliders\":[{\"active\":0,\"pad\":{\"t\":50},\"steps\":[{\"args\":[{\"marker.color\":[[\"red\",\"#B0BEC5\",\"#B0BEC5\",\"#B0BEC5\",\"#B0BEC5\",\"#B0BEC5\",\"#B0BEC5\",\"#B0BEC5\",\"#B0BEC5\",\"#B0BEC5\",\"#B0BEC5\",\"#B0BEC5\",\"#B0BEC5\",\"#B0BEC5\",\"#B0BEC5\",\"#B0BEC5\",\"#B0BEC5\",\"#B0BEC5\"]]}],\"label\":\"Topic 0\",\"method\":\"update\"},{\"args\":[{\"marker.color\":[[\"#B0BEC5\",\"red\",\"#B0BEC5\",\"#B0BEC5\",\"#B0BEC5\",\"#B0BEC5\",\"#B0BEC5\",\"#B0BEC5\",\"#B0BEC5\",\"#B0BEC5\",\"#B0BEC5\",\"#B0BEC5\",\"#B0BEC5\",\"#B0BEC5\",\"#B0BEC5\",\"#B0BEC5\",\"#B0BEC5\",\"#B0BEC5\"]]}],\"label\":\"Topic 1\",\"method\":\"update\"},{\"args\":[{\"marker.color\":[[\"#B0BEC5\",\"#B0BEC5\",\"red\",\"#B0BEC5\",\"#B0BEC5\",\"#B0BEC5\",\"#B0BEC5\",\"#B0BEC5\",\"#B0BEC5\",\"#B0BEC5\",\"#B0BEC5\",\"#B0BEC5\",\"#B0BEC5\",\"#B0BEC5\",\"#B0BEC5\",\"#B0BEC5\",\"#B0BEC5\",\"#B0BEC5\"]]}],\"label\":\"Topic 2\",\"method\":\"update\"},{\"args\":[{\"marker.color\":[[\"#B0BEC5\",\"#B0BEC5\",\"#B0BEC5\",\"red\",\"#B0BEC5\",\"#B0BEC5\",\"#B0BEC5\",\"#B0BEC5\",\"#B0BEC5\",\"#B0BEC5\",\"#B0BEC5\",\"#B0BEC5\",\"#B0BEC5\",\"#B0BEC5\",\"#B0BEC5\",\"#B0BEC5\",\"#B0BEC5\",\"#B0BEC5\"]]}],\"label\":\"Topic 3\",\"method\":\"update\"},{\"args\":[{\"marker.color\":[[\"#B0BEC5\",\"#B0BEC5\",\"#B0BEC5\",\"#B0BEC5\",\"red\",\"#B0BEC5\",\"#B0BEC5\",\"#B0BEC5\",\"#B0BEC5\",\"#B0BEC5\",\"#B0BEC5\",\"#B0BEC5\",\"#B0BEC5\",\"#B0BEC5\",\"#B0BEC5\",\"#B0BEC5\",\"#B0BEC5\",\"#B0BEC5\"]]}],\"label\":\"Topic 4\",\"method\":\"update\"},{\"args\":[{\"marker.color\":[[\"#B0BEC5\",\"#B0BEC5\",\"#B0BEC5\",\"#B0BEC5\",\"#B0BEC5\",\"red\",\"#B0BEC5\",\"#B0BEC5\",\"#B0BEC5\",\"#B0BEC5\",\"#B0BEC5\",\"#B0BEC5\",\"#B0BEC5\",\"#B0BEC5\",\"#B0BEC5\",\"#B0BEC5\",\"#B0BEC5\",\"#B0BEC5\"]]}],\"label\":\"Topic 5\",\"method\":\"update\"},{\"args\":[{\"marker.color\":[[\"#B0BEC5\",\"#B0BEC5\",\"#B0BEC5\",\"#B0BEC5\",\"#B0BEC5\",\"#B0BEC5\",\"red\",\"#B0BEC5\",\"#B0BEC5\",\"#B0BEC5\",\"#B0BEC5\",\"#B0BEC5\",\"#B0BEC5\",\"#B0BEC5\",\"#B0BEC5\",\"#B0BEC5\",\"#B0BEC5\",\"#B0BEC5\"]]}],\"label\":\"Topic 6\",\"method\":\"update\"},{\"args\":[{\"marker.color\":[[\"#B0BEC5\",\"#B0BEC5\",\"#B0BEC5\",\"#B0BEC5\",\"#B0BEC5\",\"#B0BEC5\",\"#B0BEC5\",\"red\",\"#B0BEC5\",\"#B0BEC5\",\"#B0BEC5\",\"#B0BEC5\",\"#B0BEC5\",\"#B0BEC5\",\"#B0BEC5\",\"#B0BEC5\",\"#B0BEC5\",\"#B0BEC5\"]]}],\"label\":\"Topic 7\",\"method\":\"update\"},{\"args\":[{\"marker.color\":[[\"#B0BEC5\",\"#B0BEC5\",\"#B0BEC5\",\"#B0BEC5\",\"#B0BEC5\",\"#B0BEC5\",\"#B0BEC5\",\"#B0BEC5\",\"red\",\"#B0BEC5\",\"#B0BEC5\",\"#B0BEC5\",\"#B0BEC5\",\"#B0BEC5\",\"#B0BEC5\",\"#B0BEC5\",\"#B0BEC5\",\"#B0BEC5\"]]}],\"label\":\"Topic 8\",\"method\":\"update\"},{\"args\":[{\"marker.color\":[[\"#B0BEC5\",\"#B0BEC5\",\"#B0BEC5\",\"#B0BEC5\",\"#B0BEC5\",\"#B0BEC5\",\"#B0BEC5\",\"#B0BEC5\",\"#B0BEC5\",\"red\",\"#B0BEC5\",\"#B0BEC5\",\"#B0BEC5\",\"#B0BEC5\",\"#B0BEC5\",\"#B0BEC5\",\"#B0BEC5\",\"#B0BEC5\"]]}],\"label\":\"Topic 9\",\"method\":\"update\"},{\"args\":[{\"marker.color\":[[\"#B0BEC5\",\"#B0BEC5\",\"#B0BEC5\",\"#B0BEC5\",\"#B0BEC5\",\"#B0BEC5\",\"#B0BEC5\",\"#B0BEC5\",\"#B0BEC5\",\"#B0BEC5\",\"red\",\"#B0BEC5\",\"#B0BEC5\",\"#B0BEC5\",\"#B0BEC5\",\"#B0BEC5\",\"#B0BEC5\",\"#B0BEC5\"]]}],\"label\":\"Topic 10\",\"method\":\"update\"},{\"args\":[{\"marker.color\":[[\"#B0BEC5\",\"#B0BEC5\",\"#B0BEC5\",\"#B0BEC5\",\"#B0BEC5\",\"#B0BEC5\",\"#B0BEC5\",\"#B0BEC5\",\"#B0BEC5\",\"#B0BEC5\",\"#B0BEC5\",\"red\",\"#B0BEC5\",\"#B0BEC5\",\"#B0BEC5\",\"#B0BEC5\",\"#B0BEC5\",\"#B0BEC5\"]]}],\"label\":\"Topic 11\",\"method\":\"update\"},{\"args\":[{\"marker.color\":[[\"#B0BEC5\",\"#B0BEC5\",\"#B0BEC5\",\"#B0BEC5\",\"#B0BEC5\",\"#B0BEC5\",\"#B0BEC5\",\"#B0BEC5\",\"#B0BEC5\",\"#B0BEC5\",\"#B0BEC5\",\"#B0BEC5\",\"red\",\"#B0BEC5\",\"#B0BEC5\",\"#B0BEC5\",\"#B0BEC5\",\"#B0BEC5\"]]}],\"label\":\"Topic 12\",\"method\":\"update\"},{\"args\":[{\"marker.color\":[[\"#B0BEC5\",\"#B0BEC5\",\"#B0BEC5\",\"#B0BEC5\",\"#B0BEC5\",\"#B0BEC5\",\"#B0BEC5\",\"#B0BEC5\",\"#B0BEC5\",\"#B0BEC5\",\"#B0BEC5\",\"#B0BEC5\",\"#B0BEC5\",\"red\",\"#B0BEC5\",\"#B0BEC5\",\"#B0BEC5\",\"#B0BEC5\"]]}],\"label\":\"Topic 13\",\"method\":\"update\"},{\"args\":[{\"marker.color\":[[\"#B0BEC5\",\"#B0BEC5\",\"#B0BEC5\",\"#B0BEC5\",\"#B0BEC5\",\"#B0BEC5\",\"#B0BEC5\",\"#B0BEC5\",\"#B0BEC5\",\"#B0BEC5\",\"#B0BEC5\",\"#B0BEC5\",\"#B0BEC5\",\"#B0BEC5\",\"red\",\"#B0BEC5\",\"#B0BEC5\",\"#B0BEC5\"]]}],\"label\":\"Topic 14\",\"method\":\"update\"},{\"args\":[{\"marker.color\":[[\"#B0BEC5\",\"#B0BEC5\",\"#B0BEC5\",\"#B0BEC5\",\"#B0BEC5\",\"#B0BEC5\",\"#B0BEC5\",\"#B0BEC5\",\"#B0BEC5\",\"#B0BEC5\",\"#B0BEC5\",\"#B0BEC5\",\"#B0BEC5\",\"#B0BEC5\",\"#B0BEC5\",\"red\",\"#B0BEC5\",\"#B0BEC5\"]]}],\"label\":\"Topic 15\",\"method\":\"update\"},{\"args\":[{\"marker.color\":[[\"#B0BEC5\",\"#B0BEC5\",\"#B0BEC5\",\"#B0BEC5\",\"#B0BEC5\",\"#B0BEC5\",\"#B0BEC5\",\"#B0BEC5\",\"#B0BEC5\",\"#B0BEC5\",\"#B0BEC5\",\"#B0BEC5\",\"#B0BEC5\",\"#B0BEC5\",\"#B0BEC5\",\"#B0BEC5\",\"red\",\"#B0BEC5\"]]}],\"label\":\"Topic 16\",\"method\":\"update\"},{\"args\":[{\"marker.color\":[[\"#B0BEC5\",\"#B0BEC5\",\"#B0BEC5\",\"#B0BEC5\",\"#B0BEC5\",\"#B0BEC5\",\"#B0BEC5\",\"#B0BEC5\",\"#B0BEC5\",\"#B0BEC5\",\"#B0BEC5\",\"#B0BEC5\",\"#B0BEC5\",\"#B0BEC5\",\"#B0BEC5\",\"#B0BEC5\",\"#B0BEC5\",\"red\"]]}],\"label\":\"Topic 17\",\"method\":\"update\"}]}],\"shapes\":[{\"line\":{\"color\":\"#CFD8DC\",\"width\":2},\"type\":\"line\",\"x0\":4.937291884422302,\"x1\":4.937291884422302,\"y0\":-13.072083568572998,\"y1\":16.794563913345335},{\"line\":{\"color\":\"#9E9E9E\",\"width\":2},\"type\":\"line\",\"x0\":-7.302492761611939,\"x1\":17.177076530456542,\"y0\":1.861240172386169,\"y1\":1.861240172386169}],\"annotations\":[{\"showarrow\":false,\"text\":\"D1\",\"x\":-7.302492761611939,\"y\":1.861240172386169,\"yshift\":10},{\"showarrow\":false,\"text\":\"D2\",\"x\":4.937291884422302,\"xshift\":10,\"y\":16.794563913345335}]},                        {\"responsive\": true}                    ).then(function(){\n",
              "                            \n",
              "var gd = document.getElementById('8437db0d-fac9-46aa-9def-8164b3c88ae5');\n",
              "var x = new MutationObserver(function (mutations, observer) {{\n",
              "        var display = window.getComputedStyle(gd).display;\n",
              "        if (!display || display === 'none') {{\n",
              "            console.log([gd, 'removed!']);\n",
              "            Plotly.purge(gd);\n",
              "            observer.disconnect();\n",
              "        }}\n",
              "}});\n",
              "\n",
              "// Listen for the removal of the full notebook cells\n",
              "var notebookContainer = gd.closest('#notebook-container');\n",
              "if (notebookContainer) {{\n",
              "    x.observe(notebookContainer, {childList: true});\n",
              "}}\n",
              "\n",
              "// Listen for the clearing of the current output cell\n",
              "var outputEl = gd.closest('.output');\n",
              "if (outputEl) {{\n",
              "    x.observe(outputEl, {childList: true});\n",
              "}}\n",
              "\n",
              "                        })                };                            </script>        </div>\n",
              "</body>\n",
              "</html>"
            ]
          },
          "metadata": {}
        }
      ]
    },
    {
      "cell_type": "code",
      "source": [
        "topic_model.visualize_barchart()"
      ],
      "metadata": {
        "colab": {
          "base_uri": "https://localhost:8080/",
          "height": 606
        },
        "id": "gIt1cu1B4Thl",
        "outputId": "1a8ec0b1-c921-45e5-a113-64308a0d63ca"
      },
      "execution_count": 43,
      "outputs": [
        {
          "output_type": "stream",
          "name": "stderr",
          "text": [
            "/usr/local/lib/python3.10/dist-packages/ipykernel/ipkernel.py:283: DeprecationWarning:\n",
            "\n",
            "`should_run_async` will not call `transform_cell` automatically in the future. Please pass the result to `transformed_cell` argument and any exception that happen during thetransform in `preprocessing_exc_tuple` in IPython 7.17 and above.\n",
            "\n"
          ]
        },
        {
          "output_type": "display_data",
          "data": {
            "text/html": [
              "<html>\n",
              "<head><meta charset=\"utf-8\" /></head>\n",
              "<body>\n",
              "    <div>            <script src=\"https://cdnjs.cloudflare.com/ajax/libs/mathjax/2.7.5/MathJax.js?config=TeX-AMS-MML_SVG\"></script><script type=\"text/javascript\">if (window.MathJax && window.MathJax.Hub && window.MathJax.Hub.Config) {window.MathJax.Hub.Config({SVG: {font: \"STIX-Web\"}});}</script>                <script type=\"text/javascript\">window.PlotlyConfig = {MathJaxConfig: 'local'};</script>\n",
              "        <script charset=\"utf-8\" src=\"https://cdn.plot.ly/plotly-2.24.1.min.js\"></script>                <div id=\"8aba1ecb-3a9e-4244-8dc1-dc0c8418a44f\" class=\"plotly-graph-div\" style=\"height:500px; width:1000px;\"></div>            <script type=\"text/javascript\">                                    window.PLOTLYENV=window.PLOTLYENV || {};                                    if (document.getElementById(\"8aba1ecb-3a9e-4244-8dc1-dc0c8418a44f\")) {                    Plotly.newPlot(                        \"8aba1ecb-3a9e-4244-8dc1-dc0c8418a44f\",                        [{\"marker\":{\"color\":\"#D55E00\"},\"orientation\":\"h\",\"x\":[0.018559548541786035,0.01874829230785855,0.021421097369921007,0.02453957243201844,0.03235799630208283],\"y\":[\"pra  \",\"dia  \",\"plano  \",\"numero  \",\"claro  \"],\"type\":\"bar\",\"xaxis\":\"x\",\"yaxis\":\"y\"},{\"marker\":{\"color\":\"#0072B2\"},\"orientation\":\"h\",\"x\":[0.04142586880635246,0.041640332526293664,0.049910932817046866,0.05911937119893285,0.06844388467540792],\"y\":[\"faz  \",\"claro  \",\"cai  \",\"sinal  \",\"internet  \"],\"type\":\"bar\",\"xaxis\":\"x2\",\"yaxis\":\"y2\"},{\"marker\":{\"color\":\"#CC79A7\"},\"orientation\":\"h\",\"x\":[0.07132981689073437,0.07409167294576745,0.0775058893638147,0.08618528362173848,0.09180232085486734],\"y\":[\"valor  \",\"outubro  \",\"setembro  \",\"cobrando  \",\"cancelamento  \"],\"type\":\"bar\",\"xaxis\":\"x3\",\"yaxis\":\"y3\"},{\"marker\":{\"color\":\"#E69F00\"},\"orientation\":\"h\",\"x\":[0.0269629294994634,0.027051729204369178,0.02744571570864862,0.027933718563192215,0.03608730304288925],\"y\":[\"valor  \",\"mes  \",\"atendente  \",\"empresa  \",\"novamente  \"],\"type\":\"bar\",\"xaxis\":\"x4\",\"yaxis\":\"y4\"},{\"marker\":{\"color\":\"#56B4E9\"},\"orientation\":\"h\",\"x\":[0.13878329982662965,0.13878329982662965,0.13878329982662965,0.20308457911951516,0.2760112500056687],\"y\":[\"muuuiiiiita  \",\"coloca  \",\"revoltada  \",\"falar  \",\"consigo  \"],\"type\":\"bar\",\"xaxis\":\"x5\",\"yaxis\":\"y5\"},{\"marker\":{\"color\":\"#009E73\"},\"orientation\":\"h\",\"x\":[0.06527595254150341,0.06639699870640665,0.07208147515136402,0.08005782028666864,0.0816784193276053],\"y\":[\"plano  \",\"reais  \",\"ta  \",\"valor  \",\"ia  \"],\"type\":\"bar\",\"xaxis\":\"x6\",\"yaxis\":\"y6\"},{\"marker\":{\"color\":\"#F0E442\"},\"orientation\":\"h\",\"x\":[0.20510046086172568,0.20870064405746958,0.20870064405746958,0.2812004053887983,0.30352995320658693],\"y\":[\"atendem  \",\"furada  \",\"aguentando  \",\"reclamar  \",\"tentando  \"],\"type\":\"bar\",\"xaxis\":\"x7\",\"yaxis\":\"y7\"},{\"marker\":{\"color\":\"#D55E00\"},\"orientation\":\"h\",\"x\":[0.06808344444460368,0.0683347664385386,0.080170023499967,0.080170023499967,0.080170023499967],\"y\":[\"fatura  \",\"fazer  \",\"abatimento  \",\"comprovantes  \",\"flavia  \"],\"type\":\"bar\",\"xaxis\":\"x8\",\"yaxis\":\"y8\"}],                        {\"template\":{\"data\":{\"barpolar\":[{\"marker\":{\"line\":{\"color\":\"white\",\"width\":0.5},\"pattern\":{\"fillmode\":\"overlay\",\"size\":10,\"solidity\":0.2}},\"type\":\"barpolar\"}],\"bar\":[{\"error_x\":{\"color\":\"#2a3f5f\"},\"error_y\":{\"color\":\"#2a3f5f\"},\"marker\":{\"line\":{\"color\":\"white\",\"width\":0.5},\"pattern\":{\"fillmode\":\"overlay\",\"size\":10,\"solidity\":0.2}},\"type\":\"bar\"}],\"carpet\":[{\"aaxis\":{\"endlinecolor\":\"#2a3f5f\",\"gridcolor\":\"#C8D4E3\",\"linecolor\":\"#C8D4E3\",\"minorgridcolor\":\"#C8D4E3\",\"startlinecolor\":\"#2a3f5f\"},\"baxis\":{\"endlinecolor\":\"#2a3f5f\",\"gridcolor\":\"#C8D4E3\",\"linecolor\":\"#C8D4E3\",\"minorgridcolor\":\"#C8D4E3\",\"startlinecolor\":\"#2a3f5f\"},\"type\":\"carpet\"}],\"choropleth\":[{\"colorbar\":{\"outlinewidth\":0,\"ticks\":\"\"},\"type\":\"choropleth\"}],\"contourcarpet\":[{\"colorbar\":{\"outlinewidth\":0,\"ticks\":\"\"},\"type\":\"contourcarpet\"}],\"contour\":[{\"colorbar\":{\"outlinewidth\":0,\"ticks\":\"\"},\"colorscale\":[[0.0,\"#0d0887\"],[0.1111111111111111,\"#46039f\"],[0.2222222222222222,\"#7201a8\"],[0.3333333333333333,\"#9c179e\"],[0.4444444444444444,\"#bd3786\"],[0.5555555555555556,\"#d8576b\"],[0.6666666666666666,\"#ed7953\"],[0.7777777777777778,\"#fb9f3a\"],[0.8888888888888888,\"#fdca26\"],[1.0,\"#f0f921\"]],\"type\":\"contour\"}],\"heatmapgl\":[{\"colorbar\":{\"outlinewidth\":0,\"ticks\":\"\"},\"colorscale\":[[0.0,\"#0d0887\"],[0.1111111111111111,\"#46039f\"],[0.2222222222222222,\"#7201a8\"],[0.3333333333333333,\"#9c179e\"],[0.4444444444444444,\"#bd3786\"],[0.5555555555555556,\"#d8576b\"],[0.6666666666666666,\"#ed7953\"],[0.7777777777777778,\"#fb9f3a\"],[0.8888888888888888,\"#fdca26\"],[1.0,\"#f0f921\"]],\"type\":\"heatmapgl\"}],\"heatmap\":[{\"colorbar\":{\"outlinewidth\":0,\"ticks\":\"\"},\"colorscale\":[[0.0,\"#0d0887\"],[0.1111111111111111,\"#46039f\"],[0.2222222222222222,\"#7201a8\"],[0.3333333333333333,\"#9c179e\"],[0.4444444444444444,\"#bd3786\"],[0.5555555555555556,\"#d8576b\"],[0.6666666666666666,\"#ed7953\"],[0.7777777777777778,\"#fb9f3a\"],[0.8888888888888888,\"#fdca26\"],[1.0,\"#f0f921\"]],\"type\":\"heatmap\"}],\"histogram2dcontour\":[{\"colorbar\":{\"outlinewidth\":0,\"ticks\":\"\"},\"colorscale\":[[0.0,\"#0d0887\"],[0.1111111111111111,\"#46039f\"],[0.2222222222222222,\"#7201a8\"],[0.3333333333333333,\"#9c179e\"],[0.4444444444444444,\"#bd3786\"],[0.5555555555555556,\"#d8576b\"],[0.6666666666666666,\"#ed7953\"],[0.7777777777777778,\"#fb9f3a\"],[0.8888888888888888,\"#fdca26\"],[1.0,\"#f0f921\"]],\"type\":\"histogram2dcontour\"}],\"histogram2d\":[{\"colorbar\":{\"outlinewidth\":0,\"ticks\":\"\"},\"colorscale\":[[0.0,\"#0d0887\"],[0.1111111111111111,\"#46039f\"],[0.2222222222222222,\"#7201a8\"],[0.3333333333333333,\"#9c179e\"],[0.4444444444444444,\"#bd3786\"],[0.5555555555555556,\"#d8576b\"],[0.6666666666666666,\"#ed7953\"],[0.7777777777777778,\"#fb9f3a\"],[0.8888888888888888,\"#fdca26\"],[1.0,\"#f0f921\"]],\"type\":\"histogram2d\"}],\"histogram\":[{\"marker\":{\"pattern\":{\"fillmode\":\"overlay\",\"size\":10,\"solidity\":0.2}},\"type\":\"histogram\"}],\"mesh3d\":[{\"colorbar\":{\"outlinewidth\":0,\"ticks\":\"\"},\"type\":\"mesh3d\"}],\"parcoords\":[{\"line\":{\"colorbar\":{\"outlinewidth\":0,\"ticks\":\"\"}},\"type\":\"parcoords\"}],\"pie\":[{\"automargin\":true,\"type\":\"pie\"}],\"scatter3d\":[{\"line\":{\"colorbar\":{\"outlinewidth\":0,\"ticks\":\"\"}},\"marker\":{\"colorbar\":{\"outlinewidth\":0,\"ticks\":\"\"}},\"type\":\"scatter3d\"}],\"scattercarpet\":[{\"marker\":{\"colorbar\":{\"outlinewidth\":0,\"ticks\":\"\"}},\"type\":\"scattercarpet\"}],\"scattergeo\":[{\"marker\":{\"colorbar\":{\"outlinewidth\":0,\"ticks\":\"\"}},\"type\":\"scattergeo\"}],\"scattergl\":[{\"marker\":{\"colorbar\":{\"outlinewidth\":0,\"ticks\":\"\"}},\"type\":\"scattergl\"}],\"scattermapbox\":[{\"marker\":{\"colorbar\":{\"outlinewidth\":0,\"ticks\":\"\"}},\"type\":\"scattermapbox\"}],\"scatterpolargl\":[{\"marker\":{\"colorbar\":{\"outlinewidth\":0,\"ticks\":\"\"}},\"type\":\"scatterpolargl\"}],\"scatterpolar\":[{\"marker\":{\"colorbar\":{\"outlinewidth\":0,\"ticks\":\"\"}},\"type\":\"scatterpolar\"}],\"scatter\":[{\"fillpattern\":{\"fillmode\":\"overlay\",\"size\":10,\"solidity\":0.2},\"type\":\"scatter\"}],\"scatterternary\":[{\"marker\":{\"colorbar\":{\"outlinewidth\":0,\"ticks\":\"\"}},\"type\":\"scatterternary\"}],\"surface\":[{\"colorbar\":{\"outlinewidth\":0,\"ticks\":\"\"},\"colorscale\":[[0.0,\"#0d0887\"],[0.1111111111111111,\"#46039f\"],[0.2222222222222222,\"#7201a8\"],[0.3333333333333333,\"#9c179e\"],[0.4444444444444444,\"#bd3786\"],[0.5555555555555556,\"#d8576b\"],[0.6666666666666666,\"#ed7953\"],[0.7777777777777778,\"#fb9f3a\"],[0.8888888888888888,\"#fdca26\"],[1.0,\"#f0f921\"]],\"type\":\"surface\"}],\"table\":[{\"cells\":{\"fill\":{\"color\":\"#EBF0F8\"},\"line\":{\"color\":\"white\"}},\"header\":{\"fill\":{\"color\":\"#C8D4E3\"},\"line\":{\"color\":\"white\"}},\"type\":\"table\"}]},\"layout\":{\"annotationdefaults\":{\"arrowcolor\":\"#2a3f5f\",\"arrowhead\":0,\"arrowwidth\":1},\"autotypenumbers\":\"strict\",\"coloraxis\":{\"colorbar\":{\"outlinewidth\":0,\"ticks\":\"\"}},\"colorscale\":{\"diverging\":[[0,\"#8e0152\"],[0.1,\"#c51b7d\"],[0.2,\"#de77ae\"],[0.3,\"#f1b6da\"],[0.4,\"#fde0ef\"],[0.5,\"#f7f7f7\"],[0.6,\"#e6f5d0\"],[0.7,\"#b8e186\"],[0.8,\"#7fbc41\"],[0.9,\"#4d9221\"],[1,\"#276419\"]],\"sequential\":[[0.0,\"#0d0887\"],[0.1111111111111111,\"#46039f\"],[0.2222222222222222,\"#7201a8\"],[0.3333333333333333,\"#9c179e\"],[0.4444444444444444,\"#bd3786\"],[0.5555555555555556,\"#d8576b\"],[0.6666666666666666,\"#ed7953\"],[0.7777777777777778,\"#fb9f3a\"],[0.8888888888888888,\"#fdca26\"],[1.0,\"#f0f921\"]],\"sequentialminus\":[[0.0,\"#0d0887\"],[0.1111111111111111,\"#46039f\"],[0.2222222222222222,\"#7201a8\"],[0.3333333333333333,\"#9c179e\"],[0.4444444444444444,\"#bd3786\"],[0.5555555555555556,\"#d8576b\"],[0.6666666666666666,\"#ed7953\"],[0.7777777777777778,\"#fb9f3a\"],[0.8888888888888888,\"#fdca26\"],[1.0,\"#f0f921\"]]},\"colorway\":[\"#636efa\",\"#EF553B\",\"#00cc96\",\"#ab63fa\",\"#FFA15A\",\"#19d3f3\",\"#FF6692\",\"#B6E880\",\"#FF97FF\",\"#FECB52\"],\"font\":{\"color\":\"#2a3f5f\"},\"geo\":{\"bgcolor\":\"white\",\"lakecolor\":\"white\",\"landcolor\":\"white\",\"showlakes\":true,\"showland\":true,\"subunitcolor\":\"#C8D4E3\"},\"hoverlabel\":{\"align\":\"left\"},\"hovermode\":\"closest\",\"mapbox\":{\"style\":\"light\"},\"paper_bgcolor\":\"white\",\"plot_bgcolor\":\"white\",\"polar\":{\"angularaxis\":{\"gridcolor\":\"#EBF0F8\",\"linecolor\":\"#EBF0F8\",\"ticks\":\"\"},\"bgcolor\":\"white\",\"radialaxis\":{\"gridcolor\":\"#EBF0F8\",\"linecolor\":\"#EBF0F8\",\"ticks\":\"\"}},\"scene\":{\"xaxis\":{\"backgroundcolor\":\"white\",\"gridcolor\":\"#DFE8F3\",\"gridwidth\":2,\"linecolor\":\"#EBF0F8\",\"showbackground\":true,\"ticks\":\"\",\"zerolinecolor\":\"#EBF0F8\"},\"yaxis\":{\"backgroundcolor\":\"white\",\"gridcolor\":\"#DFE8F3\",\"gridwidth\":2,\"linecolor\":\"#EBF0F8\",\"showbackground\":true,\"ticks\":\"\",\"zerolinecolor\":\"#EBF0F8\"},\"zaxis\":{\"backgroundcolor\":\"white\",\"gridcolor\":\"#DFE8F3\",\"gridwidth\":2,\"linecolor\":\"#EBF0F8\",\"showbackground\":true,\"ticks\":\"\",\"zerolinecolor\":\"#EBF0F8\"}},\"shapedefaults\":{\"line\":{\"color\":\"#2a3f5f\"}},\"ternary\":{\"aaxis\":{\"gridcolor\":\"#DFE8F3\",\"linecolor\":\"#A2B1C6\",\"ticks\":\"\"},\"baxis\":{\"gridcolor\":\"#DFE8F3\",\"linecolor\":\"#A2B1C6\",\"ticks\":\"\"},\"bgcolor\":\"white\",\"caxis\":{\"gridcolor\":\"#DFE8F3\",\"linecolor\":\"#A2B1C6\",\"ticks\":\"\"}},\"title\":{\"x\":0.05},\"xaxis\":{\"automargin\":true,\"gridcolor\":\"#EBF0F8\",\"linecolor\":\"#EBF0F8\",\"ticks\":\"\",\"title\":{\"standoff\":15},\"zerolinecolor\":\"#EBF0F8\",\"zerolinewidth\":2},\"yaxis\":{\"automargin\":true,\"gridcolor\":\"#EBF0F8\",\"linecolor\":\"#EBF0F8\",\"ticks\":\"\",\"title\":{\"standoff\":15},\"zerolinecolor\":\"#EBF0F8\",\"zerolinewidth\":2}}},\"xaxis\":{\"anchor\":\"y\",\"domain\":[0.0,0.175],\"showgrid\":true},\"yaxis\":{\"anchor\":\"x\",\"domain\":[0.6000000000000001,1.0],\"showgrid\":true},\"xaxis2\":{\"anchor\":\"y2\",\"domain\":[0.275,0.45],\"showgrid\":true},\"yaxis2\":{\"anchor\":\"x2\",\"domain\":[0.6000000000000001,1.0],\"showgrid\":true},\"xaxis3\":{\"anchor\":\"y3\",\"domain\":[0.55,0.7250000000000001],\"showgrid\":true},\"yaxis3\":{\"anchor\":\"x3\",\"domain\":[0.6000000000000001,1.0],\"showgrid\":true},\"xaxis4\":{\"anchor\":\"y4\",\"domain\":[0.825,1.0],\"showgrid\":true},\"yaxis4\":{\"anchor\":\"x4\",\"domain\":[0.6000000000000001,1.0],\"showgrid\":true},\"xaxis5\":{\"anchor\":\"y5\",\"domain\":[0.0,0.175],\"showgrid\":true},\"yaxis5\":{\"anchor\":\"x5\",\"domain\":[0.0,0.4],\"showgrid\":true},\"xaxis6\":{\"anchor\":\"y6\",\"domain\":[0.275,0.45],\"showgrid\":true},\"yaxis6\":{\"anchor\":\"x6\",\"domain\":[0.0,0.4],\"showgrid\":true},\"xaxis7\":{\"anchor\":\"y7\",\"domain\":[0.55,0.7250000000000001],\"showgrid\":true},\"yaxis7\":{\"anchor\":\"x7\",\"domain\":[0.0,0.4],\"showgrid\":true},\"xaxis8\":{\"anchor\":\"y8\",\"domain\":[0.825,1.0],\"showgrid\":true},\"yaxis8\":{\"anchor\":\"x8\",\"domain\":[0.0,0.4],\"showgrid\":true},\"annotations\":[{\"font\":{\"size\":16},\"showarrow\":false,\"text\":\"Topic 0\",\"x\":0.0875,\"xanchor\":\"center\",\"xref\":\"paper\",\"y\":1.0,\"yanchor\":\"bottom\",\"yref\":\"paper\"},{\"font\":{\"size\":16},\"showarrow\":false,\"text\":\"Topic 1\",\"x\":0.36250000000000004,\"xanchor\":\"center\",\"xref\":\"paper\",\"y\":1.0,\"yanchor\":\"bottom\",\"yref\":\"paper\"},{\"font\":{\"size\":16},\"showarrow\":false,\"text\":\"Topic 2\",\"x\":0.6375000000000001,\"xanchor\":\"center\",\"xref\":\"paper\",\"y\":1.0,\"yanchor\":\"bottom\",\"yref\":\"paper\"},{\"font\":{\"size\":16},\"showarrow\":false,\"text\":\"Topic 3\",\"x\":0.9125,\"xanchor\":\"center\",\"xref\":\"paper\",\"y\":1.0,\"yanchor\":\"bottom\",\"yref\":\"paper\"},{\"font\":{\"size\":16},\"showarrow\":false,\"text\":\"Topic 4\",\"x\":0.0875,\"xanchor\":\"center\",\"xref\":\"paper\",\"y\":0.4,\"yanchor\":\"bottom\",\"yref\":\"paper\"},{\"font\":{\"size\":16},\"showarrow\":false,\"text\":\"Topic 5\",\"x\":0.36250000000000004,\"xanchor\":\"center\",\"xref\":\"paper\",\"y\":0.4,\"yanchor\":\"bottom\",\"yref\":\"paper\"},{\"font\":{\"size\":16},\"showarrow\":false,\"text\":\"Topic 6\",\"x\":0.6375000000000001,\"xanchor\":\"center\",\"xref\":\"paper\",\"y\":0.4,\"yanchor\":\"bottom\",\"yref\":\"paper\"},{\"font\":{\"size\":16},\"showarrow\":false,\"text\":\"Topic 7\",\"x\":0.9125,\"xanchor\":\"center\",\"xref\":\"paper\",\"y\":0.4,\"yanchor\":\"bottom\",\"yref\":\"paper\"}],\"title\":{\"font\":{\"size\":22,\"color\":\"Black\"},\"text\":\"Topic Word Scores\",\"x\":0.5,\"xanchor\":\"center\",\"yanchor\":\"top\"},\"hoverlabel\":{\"font\":{\"size\":16,\"family\":\"Rockwell\"},\"bgcolor\":\"white\"},\"showlegend\":false,\"width\":1000,\"height\":500},                        {\"responsive\": true}                    ).then(function(){\n",
              "                            \n",
              "var gd = document.getElementById('8aba1ecb-3a9e-4244-8dc1-dc0c8418a44f');\n",
              "var x = new MutationObserver(function (mutations, observer) {{\n",
              "        var display = window.getComputedStyle(gd).display;\n",
              "        if (!display || display === 'none') {{\n",
              "            console.log([gd, 'removed!']);\n",
              "            Plotly.purge(gd);\n",
              "            observer.disconnect();\n",
              "        }}\n",
              "}});\n",
              "\n",
              "// Listen for the removal of the full notebook cells\n",
              "var notebookContainer = gd.closest('#notebook-container');\n",
              "if (notebookContainer) {{\n",
              "    x.observe(notebookContainer, {childList: true});\n",
              "}}\n",
              "\n",
              "// Listen for the clearing of the current output cell\n",
              "var outputEl = gd.closest('.output');\n",
              "if (outputEl) {{\n",
              "    x.observe(outputEl, {childList: true});\n",
              "}}\n",
              "\n",
              "                        })                };                            </script>        </div>\n",
              "</body>\n",
              "</html>"
            ]
          },
          "metadata": {}
        }
      ]
    },
    {
      "cell_type": "code",
      "source": [
        "topic_model.visualize_heatmap()"
      ],
      "metadata": {
        "colab": {
          "base_uri": "https://localhost:8080/",
          "height": 906
        },
        "id": "tjj2IMgl4dEn",
        "outputId": "3b22ae3e-73c6-4998-e2ae-836b320b22e0"
      },
      "execution_count": 44,
      "outputs": [
        {
          "output_type": "stream",
          "name": "stderr",
          "text": [
            "/usr/local/lib/python3.10/dist-packages/ipykernel/ipkernel.py:283: DeprecationWarning:\n",
            "\n",
            "`should_run_async` will not call `transform_cell` automatically in the future. Please pass the result to `transformed_cell` argument and any exception that happen during thetransform in `preprocessing_exc_tuple` in IPython 7.17 and above.\n",
            "\n"
          ]
        },
        {
          "output_type": "display_data",
          "data": {
            "text/html": [
              "<html>\n",
              "<head><meta charset=\"utf-8\" /></head>\n",
              "<body>\n",
              "    <div>            <script src=\"https://cdnjs.cloudflare.com/ajax/libs/mathjax/2.7.5/MathJax.js?config=TeX-AMS-MML_SVG\"></script><script type=\"text/javascript\">if (window.MathJax && window.MathJax.Hub && window.MathJax.Hub.Config) {window.MathJax.Hub.Config({SVG: {font: \"STIX-Web\"}});}</script>                <script type=\"text/javascript\">window.PlotlyConfig = {MathJaxConfig: 'local'};</script>\n",
              "        <script charset=\"utf-8\" src=\"https://cdn.plot.ly/plotly-2.24.1.min.js\"></script>                <div id=\"77d6cad5-a19b-495a-ab28-b3bc5f4c766c\" class=\"plotly-graph-div\" style=\"height:800px; width:800px;\"></div>            <script type=\"text/javascript\">                                    window.PLOTLYENV=window.PLOTLYENV || {};                                    if (document.getElementById(\"77d6cad5-a19b-495a-ab28-b3bc5f4c766c\")) {                    Plotly.newPlot(                        \"77d6cad5-a19b-495a-ab28-b3bc5f4c766c\",                        [{\"coloraxis\":\"coloraxis\",\"name\":\"0\",\"x\":[\"0_claro_numero_plano\",\"1_internet_sinal_cai\",\"2_cancelamento_cobrando_set...\",\"3_novamente_empresa_atendente\",\"4_consigo_falar_revoltada\",\"5_ia_valor_ta\",\"6_tentando_reclamar_aguenta...\",\"7_flavia_comprovantes_abati...\",\"8_moldem_dia_cancelamento\",\"9_coloquei_credito_creditos\",\"10_tela_mensagens_quase\",\"11_sinal_nada_onde\",\"12_saldo_mao_previa\",\"13_sac_combo_paguei\",\"14_abusiva_parecia_adquiridos\",\"15_controle_apos_oferecia\",\"16_recarga_saldo_efetuei\",\"17_finalizar_trava_trocar\"],\"y\":[\"0_claro_numero_plano\",\"1_internet_sinal_cai\",\"2_cancelamento_cobrando_set...\",\"3_novamente_empresa_atendente\",\"4_consigo_falar_revoltada\",\"5_ia_valor_ta\",\"6_tentando_reclamar_aguenta...\",\"7_flavia_comprovantes_abati...\",\"8_moldem_dia_cancelamento\",\"9_coloquei_credito_creditos\",\"10_tela_mensagens_quase\",\"11_sinal_nada_onde\",\"12_saldo_mao_previa\",\"13_sac_combo_paguei\",\"14_abusiva_parecia_adquiridos\",\"15_controle_apos_oferecia\",\"16_recarga_saldo_efetuei\",\"17_finalizar_trava_trocar\"],\"z\":[[0.9999998807907104,0.9046611189842224,0.857736349105835,0.8868792653083801,0.7143632173538208,0.8627970814704895,0.7477577328681946,0.8392529487609863,0.8607295155525208,0.8840562105178833,0.7809442281723022,0.8433540463447571,0.8265095949172974,0.8090261220932007,0.7420225739479065,0.7896256446838379,0.7496066689491272,0.5832303166389465],[0.9046611189842224,1.0000001192092896,0.7219599485397339,0.7499248385429382,0.7041382789611816,0.7193516492843628,0.8223840594291687,0.6868517994880676,0.730230987071991,0.7779902219772339,0.7454450130462646,0.8421345949172974,0.6909412741661072,0.6512324213981628,0.6611048579216003,0.6720449924468994,0.5925464630126953,0.7110560536384583],[0.857736349105835,0.7219599485397339,1.0,0.7774895429611206,0.5039269924163818,0.8578484058380127,0.5576861500740051,0.8193653225898743,0.7831382155418396,0.8146231174468994,0.6629002690315247,0.6829785704612732,0.7546483278274536,0.8287061452865601,0.7908100485801697,0.7225986123085022,0.803877592086792,0.4567858576774597],[0.8868792653083801,0.7499248385429382,0.7774895429611206,1.000000238418579,0.587956428527832,0.8277190327644348,0.5113009214401245,0.8600094318389893,0.8941409587860107,0.7621162533760071,0.6978529691696167,0.7321757674217224,0.8405972719192505,0.8267683386802673,0.6824474334716797,0.7390586137771606,0.7166345715522766,0.4118529260158539],[0.7143632173538208,0.7041382789611816,0.5039269924163818,0.587956428527832,1.000000238418579,0.5452568531036377,0.6239830255508423,0.535585343837738,0.5328218340873718,0.6466368436813354,0.6253848075866699,0.6018226742744446,0.5880908966064453,0.47348853945732117,0.41151684522628784,0.6189465522766113,0.45181217789649963,0.400179386138916],[0.8627970814704895,0.7193516492843628,0.8578484058380127,0.8277190327644348,0.5452568531036377,0.9999998807907104,0.5092072486877441,0.8418740034103394,0.8349677920341492,0.7474026083946228,0.6823546290397644,0.6868511438369751,0.8142938613891602,0.8116640448570251,0.7621915936470032,0.7509865760803223,0.7624329924583435,0.4238188862800598],[0.7477577328681946,0.8223840594291687,0.5576861500740051,0.5113009214401245,0.6239830255508423,0.5092072486877441,0.9999999403953552,0.48285016417503357,0.49969249963760376,0.687143087387085,0.5974467992782593,0.6908392906188965,0.49899452924728394,0.4539586305618286,0.4767380654811859,0.557906985282898,0.4294573962688446,0.6796213388442993],[0.8392529487609863,0.6868517994880676,0.8193653225898743,0.8600094318389893,0.535585343837738,0.8418740034103394,0.48285016417503357,1.0,0.8066605925559998,0.7890068292617798,0.6254084706306458,0.6988397836685181,0.8102545142173767,0.8684208989143372,0.7731286287307739,0.693196177482605,0.8005596399307251,0.38140368461608887],[0.8607295155525208,0.730230987071991,0.7831382155418396,0.8941409587860107,0.5328218340873718,0.8349677920341492,0.49969249963760376,0.8066605925559998,1.0000005960464478,0.7120904922485352,0.657850444316864,0.7371900081634521,0.7933213710784912,0.7994462251663208,0.6471986174583435,0.7474913597106934,0.6930499076843262,0.4509844183921814],[0.8840562105178833,0.7779902219772339,0.8146231174468994,0.7621162533760071,0.6466368436813354,0.7474026083946228,0.687143087387085,0.7890068292617798,0.7120904922485352,1.0,0.742268979549408,0.7188458442687988,0.7253048419952393,0.7768867015838623,0.6910005807876587,0.7062689661979675,0.8162291049957275,0.5354613065719604],[0.7809442281723022,0.7454450130462646,0.6629002690315247,0.6978529691696167,0.6253848075866699,0.6823546290397644,0.5974467992782593,0.6254084706306458,0.657850444316864,0.742268979549408,1.000000238418579,0.6663583517074585,0.6504740715026855,0.6108819246292114,0.568594753742218,0.6757972240447998,0.553621768951416,0.4915291368961334],[0.8433540463447571,0.8421345949172974,0.6829785704612732,0.7321757674217224,0.6018226742744446,0.6868511438369751,0.6908392906188965,0.6988397836685181,0.7371900081634521,0.7188458442687988,0.6663583517074585,0.9999998807907104,0.6476842164993286,0.6645557880401611,0.6372530460357666,0.62782222032547,0.6140644550323486,0.5302608013153076],[0.8265095949172974,0.6909412741661072,0.7546483278274536,0.8405972719192505,0.5880908966064453,0.8142938613891602,0.49899452924728394,0.8102545142173767,0.7933213710784912,0.7253048419952393,0.6504740715026855,0.6476842164993286,1.0,0.776103138923645,0.7292661666870117,0.6699339747428894,0.7015129923820496,0.40535929799079895],[0.8090261220932007,0.6512324213981628,0.8287061452865601,0.8267683386802673,0.47348853945732117,0.8116640448570251,0.4539586305618286,0.8684208989143372,0.7994462251663208,0.7768867015838623,0.6108819246292114,0.6645557880401611,0.776103138923645,0.9999997019767761,0.7368447184562683,0.699435830116272,0.8169406652450562,0.41403838992118835],[0.7420225739479065,0.6611048579216003,0.7908100485801697,0.6824474334716797,0.41151684522628784,0.7621915936470032,0.4767380654811859,0.7731286287307739,0.6471986174583435,0.6910005807876587,0.568594753742218,0.6372530460357666,0.7292661666870117,0.7368447184562683,1.000000238418579,0.5333738327026367,0.7015621066093445,0.38235795497894287],[0.7896256446838379,0.6720449924468994,0.7225986123085022,0.7390586137771606,0.6189465522766113,0.7509865760803223,0.557906985282898,0.693196177482605,0.7474913597106934,0.7062689661979675,0.6757972240447998,0.62782222032547,0.6699339747428894,0.699435830116272,0.5333738327026367,0.9999997615814209,0.6048169136047363,0.44369393587112427],[0.7496066689491272,0.5925464630126953,0.803877592086792,0.7166345715522766,0.45181217789649963,0.7624329924583435,0.4294573962688446,0.8005596399307251,0.6930499076843262,0.8162291049957275,0.553621768951416,0.6140644550323486,0.7015129923820496,0.8169406652450562,0.7015621066093445,0.6048169136047363,0.9999998807907104,0.3856852054595947],[0.5832303166389465,0.7110560536384583,0.4567858576774597,0.4118529260158539,0.400179386138916,0.4238188862800598,0.6796213388442993,0.38140368461608887,0.4509844183921814,0.5354613065719604,0.4915291368961334,0.5302608013153076,0.40535929799079895,0.41403838992118835,0.38235795497894287,0.44369393587112427,0.3856852054595947,1.0]],\"type\":\"heatmap\",\"xaxis\":\"x\",\"yaxis\":\"y\",\"hovertemplate\":\"x: %{x}\\u003cbr\\u003ey: %{y}\\u003cbr\\u003eSimilarity Score: %{z}\\u003cextra\\u003e\\u003c\\u002fextra\\u003e\"}],                        {\"template\":{\"data\":{\"histogram2dcontour\":[{\"type\":\"histogram2dcontour\",\"colorbar\":{\"outlinewidth\":0,\"ticks\":\"\"},\"colorscale\":[[0.0,\"#0d0887\"],[0.1111111111111111,\"#46039f\"],[0.2222222222222222,\"#7201a8\"],[0.3333333333333333,\"#9c179e\"],[0.4444444444444444,\"#bd3786\"],[0.5555555555555556,\"#d8576b\"],[0.6666666666666666,\"#ed7953\"],[0.7777777777777778,\"#fb9f3a\"],[0.8888888888888888,\"#fdca26\"],[1.0,\"#f0f921\"]]}],\"choropleth\":[{\"type\":\"choropleth\",\"colorbar\":{\"outlinewidth\":0,\"ticks\":\"\"}}],\"histogram2d\":[{\"type\":\"histogram2d\",\"colorbar\":{\"outlinewidth\":0,\"ticks\":\"\"},\"colorscale\":[[0.0,\"#0d0887\"],[0.1111111111111111,\"#46039f\"],[0.2222222222222222,\"#7201a8\"],[0.3333333333333333,\"#9c179e\"],[0.4444444444444444,\"#bd3786\"],[0.5555555555555556,\"#d8576b\"],[0.6666666666666666,\"#ed7953\"],[0.7777777777777778,\"#fb9f3a\"],[0.8888888888888888,\"#fdca26\"],[1.0,\"#f0f921\"]]}],\"heatmap\":[{\"type\":\"heatmap\",\"colorbar\":{\"outlinewidth\":0,\"ticks\":\"\"},\"colorscale\":[[0.0,\"#0d0887\"],[0.1111111111111111,\"#46039f\"],[0.2222222222222222,\"#7201a8\"],[0.3333333333333333,\"#9c179e\"],[0.4444444444444444,\"#bd3786\"],[0.5555555555555556,\"#d8576b\"],[0.6666666666666666,\"#ed7953\"],[0.7777777777777778,\"#fb9f3a\"],[0.8888888888888888,\"#fdca26\"],[1.0,\"#f0f921\"]]}],\"heatmapgl\":[{\"type\":\"heatmapgl\",\"colorbar\":{\"outlinewidth\":0,\"ticks\":\"\"},\"colorscale\":[[0.0,\"#0d0887\"],[0.1111111111111111,\"#46039f\"],[0.2222222222222222,\"#7201a8\"],[0.3333333333333333,\"#9c179e\"],[0.4444444444444444,\"#bd3786\"],[0.5555555555555556,\"#d8576b\"],[0.6666666666666666,\"#ed7953\"],[0.7777777777777778,\"#fb9f3a\"],[0.8888888888888888,\"#fdca26\"],[1.0,\"#f0f921\"]]}],\"contourcarpet\":[{\"type\":\"contourcarpet\",\"colorbar\":{\"outlinewidth\":0,\"ticks\":\"\"}}],\"contour\":[{\"type\":\"contour\",\"colorbar\":{\"outlinewidth\":0,\"ticks\":\"\"},\"colorscale\":[[0.0,\"#0d0887\"],[0.1111111111111111,\"#46039f\"],[0.2222222222222222,\"#7201a8\"],[0.3333333333333333,\"#9c179e\"],[0.4444444444444444,\"#bd3786\"],[0.5555555555555556,\"#d8576b\"],[0.6666666666666666,\"#ed7953\"],[0.7777777777777778,\"#fb9f3a\"],[0.8888888888888888,\"#fdca26\"],[1.0,\"#f0f921\"]]}],\"surface\":[{\"type\":\"surface\",\"colorbar\":{\"outlinewidth\":0,\"ticks\":\"\"},\"colorscale\":[[0.0,\"#0d0887\"],[0.1111111111111111,\"#46039f\"],[0.2222222222222222,\"#7201a8\"],[0.3333333333333333,\"#9c179e\"],[0.4444444444444444,\"#bd3786\"],[0.5555555555555556,\"#d8576b\"],[0.6666666666666666,\"#ed7953\"],[0.7777777777777778,\"#fb9f3a\"],[0.8888888888888888,\"#fdca26\"],[1.0,\"#f0f921\"]]}],\"mesh3d\":[{\"type\":\"mesh3d\",\"colorbar\":{\"outlinewidth\":0,\"ticks\":\"\"}}],\"scatter\":[{\"fillpattern\":{\"fillmode\":\"overlay\",\"size\":10,\"solidity\":0.2},\"type\":\"scatter\"}],\"parcoords\":[{\"type\":\"parcoords\",\"line\":{\"colorbar\":{\"outlinewidth\":0,\"ticks\":\"\"}}}],\"scatterpolargl\":[{\"type\":\"scatterpolargl\",\"marker\":{\"colorbar\":{\"outlinewidth\":0,\"ticks\":\"\"}}}],\"bar\":[{\"error_x\":{\"color\":\"#2a3f5f\"},\"error_y\":{\"color\":\"#2a3f5f\"},\"marker\":{\"line\":{\"color\":\"#E5ECF6\",\"width\":0.5},\"pattern\":{\"fillmode\":\"overlay\",\"size\":10,\"solidity\":0.2}},\"type\":\"bar\"}],\"scattergeo\":[{\"type\":\"scattergeo\",\"marker\":{\"colorbar\":{\"outlinewidth\":0,\"ticks\":\"\"}}}],\"scatterpolar\":[{\"type\":\"scatterpolar\",\"marker\":{\"colorbar\":{\"outlinewidth\":0,\"ticks\":\"\"}}}],\"histogram\":[{\"marker\":{\"pattern\":{\"fillmode\":\"overlay\",\"size\":10,\"solidity\":0.2}},\"type\":\"histogram\"}],\"scattergl\":[{\"type\":\"scattergl\",\"marker\":{\"colorbar\":{\"outlinewidth\":0,\"ticks\":\"\"}}}],\"scatter3d\":[{\"type\":\"scatter3d\",\"line\":{\"colorbar\":{\"outlinewidth\":0,\"ticks\":\"\"}},\"marker\":{\"colorbar\":{\"outlinewidth\":0,\"ticks\":\"\"}}}],\"scattermapbox\":[{\"type\":\"scattermapbox\",\"marker\":{\"colorbar\":{\"outlinewidth\":0,\"ticks\":\"\"}}}],\"scatterternary\":[{\"type\":\"scatterternary\",\"marker\":{\"colorbar\":{\"outlinewidth\":0,\"ticks\":\"\"}}}],\"scattercarpet\":[{\"type\":\"scattercarpet\",\"marker\":{\"colorbar\":{\"outlinewidth\":0,\"ticks\":\"\"}}}],\"carpet\":[{\"aaxis\":{\"endlinecolor\":\"#2a3f5f\",\"gridcolor\":\"white\",\"linecolor\":\"white\",\"minorgridcolor\":\"white\",\"startlinecolor\":\"#2a3f5f\"},\"baxis\":{\"endlinecolor\":\"#2a3f5f\",\"gridcolor\":\"white\",\"linecolor\":\"white\",\"minorgridcolor\":\"white\",\"startlinecolor\":\"#2a3f5f\"},\"type\":\"carpet\"}],\"table\":[{\"cells\":{\"fill\":{\"color\":\"#EBF0F8\"},\"line\":{\"color\":\"white\"}},\"header\":{\"fill\":{\"color\":\"#C8D4E3\"},\"line\":{\"color\":\"white\"}},\"type\":\"table\"}],\"barpolar\":[{\"marker\":{\"line\":{\"color\":\"#E5ECF6\",\"width\":0.5},\"pattern\":{\"fillmode\":\"overlay\",\"size\":10,\"solidity\":0.2}},\"type\":\"barpolar\"}],\"pie\":[{\"automargin\":true,\"type\":\"pie\"}]},\"layout\":{\"autotypenumbers\":\"strict\",\"colorway\":[\"#636efa\",\"#EF553B\",\"#00cc96\",\"#ab63fa\",\"#FFA15A\",\"#19d3f3\",\"#FF6692\",\"#B6E880\",\"#FF97FF\",\"#FECB52\"],\"font\":{\"color\":\"#2a3f5f\"},\"hovermode\":\"closest\",\"hoverlabel\":{\"align\":\"left\"},\"paper_bgcolor\":\"white\",\"plot_bgcolor\":\"#E5ECF6\",\"polar\":{\"bgcolor\":\"#E5ECF6\",\"angularaxis\":{\"gridcolor\":\"white\",\"linecolor\":\"white\",\"ticks\":\"\"},\"radialaxis\":{\"gridcolor\":\"white\",\"linecolor\":\"white\",\"ticks\":\"\"}},\"ternary\":{\"bgcolor\":\"#E5ECF6\",\"aaxis\":{\"gridcolor\":\"white\",\"linecolor\":\"white\",\"ticks\":\"\"},\"baxis\":{\"gridcolor\":\"white\",\"linecolor\":\"white\",\"ticks\":\"\"},\"caxis\":{\"gridcolor\":\"white\",\"linecolor\":\"white\",\"ticks\":\"\"}},\"coloraxis\":{\"colorbar\":{\"outlinewidth\":0,\"ticks\":\"\"}},\"colorscale\":{\"sequential\":[[0.0,\"#0d0887\"],[0.1111111111111111,\"#46039f\"],[0.2222222222222222,\"#7201a8\"],[0.3333333333333333,\"#9c179e\"],[0.4444444444444444,\"#bd3786\"],[0.5555555555555556,\"#d8576b\"],[0.6666666666666666,\"#ed7953\"],[0.7777777777777778,\"#fb9f3a\"],[0.8888888888888888,\"#fdca26\"],[1.0,\"#f0f921\"]],\"sequentialminus\":[[0.0,\"#0d0887\"],[0.1111111111111111,\"#46039f\"],[0.2222222222222222,\"#7201a8\"],[0.3333333333333333,\"#9c179e\"],[0.4444444444444444,\"#bd3786\"],[0.5555555555555556,\"#d8576b\"],[0.6666666666666666,\"#ed7953\"],[0.7777777777777778,\"#fb9f3a\"],[0.8888888888888888,\"#fdca26\"],[1.0,\"#f0f921\"]],\"diverging\":[[0,\"#8e0152\"],[0.1,\"#c51b7d\"],[0.2,\"#de77ae\"],[0.3,\"#f1b6da\"],[0.4,\"#fde0ef\"],[0.5,\"#f7f7f7\"],[0.6,\"#e6f5d0\"],[0.7,\"#b8e186\"],[0.8,\"#7fbc41\"],[0.9,\"#4d9221\"],[1,\"#276419\"]]},\"xaxis\":{\"gridcolor\":\"white\",\"linecolor\":\"white\",\"ticks\":\"\",\"title\":{\"standoff\":15},\"zerolinecolor\":\"white\",\"automargin\":true,\"zerolinewidth\":2},\"yaxis\":{\"gridcolor\":\"white\",\"linecolor\":\"white\",\"ticks\":\"\",\"title\":{\"standoff\":15},\"zerolinecolor\":\"white\",\"automargin\":true,\"zerolinewidth\":2},\"scene\":{\"xaxis\":{\"backgroundcolor\":\"#E5ECF6\",\"gridcolor\":\"white\",\"linecolor\":\"white\",\"showbackground\":true,\"ticks\":\"\",\"zerolinecolor\":\"white\",\"gridwidth\":2},\"yaxis\":{\"backgroundcolor\":\"#E5ECF6\",\"gridcolor\":\"white\",\"linecolor\":\"white\",\"showbackground\":true,\"ticks\":\"\",\"zerolinecolor\":\"white\",\"gridwidth\":2},\"zaxis\":{\"backgroundcolor\":\"#E5ECF6\",\"gridcolor\":\"white\",\"linecolor\":\"white\",\"showbackground\":true,\"ticks\":\"\",\"zerolinecolor\":\"white\",\"gridwidth\":2}},\"shapedefaults\":{\"line\":{\"color\":\"#2a3f5f\"}},\"annotationdefaults\":{\"arrowcolor\":\"#2a3f5f\",\"arrowhead\":0,\"arrowwidth\":1},\"geo\":{\"bgcolor\":\"white\",\"landcolor\":\"#E5ECF6\",\"subunitcolor\":\"white\",\"showland\":true,\"showlakes\":true,\"lakecolor\":\"white\"},\"title\":{\"x\":0.05},\"mapbox\":{\"style\":\"light\"}}},\"xaxis\":{\"anchor\":\"y\",\"domain\":[0.0,1.0],\"scaleanchor\":\"y\",\"constrain\":\"domain\"},\"yaxis\":{\"anchor\":\"x\",\"domain\":[0.0,1.0],\"autorange\":\"reversed\",\"constrain\":\"domain\"},\"coloraxis\":{\"colorbar\":{\"title\":{\"text\":\"Similarity Score\"}},\"colorscale\":[[0.0,\"rgb(247,252,240)\"],[0.125,\"rgb(224,243,219)\"],[0.25,\"rgb(204,235,197)\"],[0.375,\"rgb(168,221,181)\"],[0.5,\"rgb(123,204,196)\"],[0.625,\"rgb(78,179,211)\"],[0.75,\"rgb(43,140,190)\"],[0.875,\"rgb(8,104,172)\"],[1.0,\"rgb(8,64,129)\"]]},\"margin\":{\"t\":60},\"title\":{\"font\":{\"size\":22,\"color\":\"Black\"},\"text\":\"\\u003cb\\u003eSimilarity Matrix\\u003c\\u002fb\\u003e\",\"y\":0.95,\"x\":0.55,\"xanchor\":\"center\",\"yanchor\":\"top\"},\"hoverlabel\":{\"font\":{\"size\":16,\"family\":\"Rockwell\"},\"bgcolor\":\"white\"},\"width\":800,\"height\":800,\"showlegend\":true,\"legend\":{\"title\":{\"text\":\"Trend\"}}},                        {\"responsive\": true}                    ).then(function(){\n",
              "                            \n",
              "var gd = document.getElementById('77d6cad5-a19b-495a-ab28-b3bc5f4c766c');\n",
              "var x = new MutationObserver(function (mutations, observer) {{\n",
              "        var display = window.getComputedStyle(gd).display;\n",
              "        if (!display || display === 'none') {{\n",
              "            console.log([gd, 'removed!']);\n",
              "            Plotly.purge(gd);\n",
              "            observer.disconnect();\n",
              "        }}\n",
              "}});\n",
              "\n",
              "// Listen for the removal of the full notebook cells\n",
              "var notebookContainer = gd.closest('#notebook-container');\n",
              "if (notebookContainer) {{\n",
              "    x.observe(notebookContainer, {childList: true});\n",
              "}}\n",
              "\n",
              "// Listen for the clearing of the current output cell\n",
              "var outputEl = gd.closest('.output');\n",
              "if (outputEl) {{\n",
              "    x.observe(outputEl, {childList: true});\n",
              "}}\n",
              "\n",
              "                        })                };                            </script>        </div>\n",
              "</body>\n",
              "</html>"
            ]
          },
          "metadata": {}
        }
      ]
    },
    {
      "cell_type": "code",
      "source": [
        "# Visualize the topic representation of major topics per class"
      ],
      "metadata": {
        "id": "kVhXcO6077zU"
      },
      "execution_count": null,
      "outputs": []
    },
    {
      "cell_type": "code",
      "source": [
        "# Prepare data and classes\n",
        "data = fetch_20newsgroups(subset='all',  remove=('headers', 'footers', 'quotes'))\n",
        "docs = data[\"data\"]\n",
        "classes = [data[\"target_names\"][i] for i in data[\"target\"]]\n",
        "\n",
        "# Create topic model and calculate topics per class\n",
        "topic_model = BERTopic()\n",
        "topics, probs = topic_model.fit_transform(docs)\n",
        "topics_per_class = topic_model.topics_per_class(docs, classes=classes)"
      ],
      "metadata": {
        "id": "imCiA3ZM8DPF"
      },
      "execution_count": null,
      "outputs": []
    }
  ]
}