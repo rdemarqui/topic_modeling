{
  "nbformat": 4,
  "nbformat_minor": 0,
  "metadata": {
    "colab": {
      "provenance": [],
      "toc_visible": true,
      "authorship_tag": "ABX9TyNOAI5EWhHB28GNlE9/tCw4",
      "include_colab_link": true
    },
    "kernelspec": {
      "name": "python3",
      "display_name": "Python 3"
    },
    "language_info": {
      "name": "python"
    }
  },
  "cells": [
    {
      "cell_type": "markdown",
      "metadata": {
        "id": "view-in-github",
        "colab_type": "text"
      },
      "source": [
        "<a href=\"https://colab.research.google.com/github/rdemarqui/topic_modeling/blob/main/customer_claim_analysis.ipynb\" target=\"_parent\"><img src=\"https://colab.research.google.com/assets/colab-badge.svg\" alt=\"Open In Colab\"/></a>"
      ]
    },
    {
      "cell_type": "markdown",
      "source": [
        "# Customer claims analysis"
      ],
      "metadata": {
        "id": "SYGjlAwUQLsI"
      }
    },
    {
      "cell_type": "code",
      "source": [
        "import warnings"
      ],
      "metadata": {
        "id": "pGxfEOxhQuN6"
      },
      "execution_count": 1,
      "outputs": []
    },
    {
      "cell_type": "markdown",
      "source": [
        "## Open Dataset"
      ],
      "metadata": {
        "id": "8adBRjDEQsTx"
      }
    },
    {
      "cell_type": "markdown",
      "source": [
        "The dataset utilized in this work was created from"
      ],
      "metadata": {
        "id": "NIlk3Vk2QwUg"
      }
    },
    {
      "cell_type": "code",
      "execution_count": 2,
      "metadata": {
        "id": "Ez3anRREQBSZ"
      },
      "outputs": [],
      "source": [
        "import pandas as pd"
      ]
    },
    {
      "cell_type": "code",
      "source": [
        "data_url = 'https://raw.githubusercontent.com/rdemarqui/topic_modeling/main/datasets/reclame_aqui_full.csv'\n",
        "df = pd.read_csv(data_url)\n",
        "print(df.shape)\n",
        "df.head()"
      ],
      "metadata": {
        "colab": {
          "base_uri": "https://localhost:8080/",
          "height": 310
        },
        "id": "MvciBgf2QQb4",
        "outputId": "b799701d-b443-4fe7-da83-eff06e0ea893"
      },
      "execution_count": 3,
      "outputs": [
        {
          "output_type": "stream",
          "name": "stdout",
          "text": [
            "(500, 5)\n"
          ]
        },
        {
          "output_type": "execute_result",
          "data": {
            "text/plain": [
              "   Unnamed: 0.1  Unnamed: 0                                     Title  \\\n",
              "0             0           0                          Claro residência   \n",
              "1             1           1            NO CONSIGO FALAR COM UM HUMANO   \n",
              "2             2           2   Oi virou claro e não recebe ligações!!!   \n",
              "3             3           3  Mudança de plano sem a minha autorização   \n",
              "4             4           4                              Plano PREZAO   \n",
              "\n",
              "                                                link  \\\n",
              "0          /claro/claro-residencia_h-VgVeL0ez_dO42I/   \n",
              "1  /claro/no-consigo-falar-com-um-humano_0kiSV_xg...   \n",
              "2  /claro/oi-virou-claro-e-nao-recebe-ligacoes_MG...   \n",
              "3  /claro/mudanca-de-plano-sem-a-minha-autorizaca...   \n",
              "4              /claro/plano-prezao_iW3NARVJ71tk_jVM/   \n",
              "\n",
              "                                         description  \n",
              "0  Estou há mais de 7 dias tentando efetuar a con...  \n",
              "1  Realizei o pagamento das faturas atrasadas e s...  \n",
              "2  Minha mãe tinha um chip da Oi que virou Claro ...  \n",
              "3  Na sexta-feira dia 6 de outubro fiz uma recarg...  \n",
              "4  Bom diaNa data de 08/10/2023, recebi um SMS in...  "
            ],
            "text/html": [
              "\n",
              "  <div id=\"df-a3de5164-2b5b-4b06-ad50-dbebd96dd8d3\" class=\"colab-df-container\">\n",
              "    <div>\n",
              "<style scoped>\n",
              "    .dataframe tbody tr th:only-of-type {\n",
              "        vertical-align: middle;\n",
              "    }\n",
              "\n",
              "    .dataframe tbody tr th {\n",
              "        vertical-align: top;\n",
              "    }\n",
              "\n",
              "    .dataframe thead th {\n",
              "        text-align: right;\n",
              "    }\n",
              "</style>\n",
              "<table border=\"1\" class=\"dataframe\">\n",
              "  <thead>\n",
              "    <tr style=\"text-align: right;\">\n",
              "      <th></th>\n",
              "      <th>Unnamed: 0.1</th>\n",
              "      <th>Unnamed: 0</th>\n",
              "      <th>Title</th>\n",
              "      <th>link</th>\n",
              "      <th>description</th>\n",
              "    </tr>\n",
              "  </thead>\n",
              "  <tbody>\n",
              "    <tr>\n",
              "      <th>0</th>\n",
              "      <td>0</td>\n",
              "      <td>0</td>\n",
              "      <td>Claro residência</td>\n",
              "      <td>/claro/claro-residencia_h-VgVeL0ez_dO42I/</td>\n",
              "      <td>Estou há mais de 7 dias tentando efetuar a con...</td>\n",
              "    </tr>\n",
              "    <tr>\n",
              "      <th>1</th>\n",
              "      <td>1</td>\n",
              "      <td>1</td>\n",
              "      <td>NO CONSIGO FALAR COM UM HUMANO</td>\n",
              "      <td>/claro/no-consigo-falar-com-um-humano_0kiSV_xg...</td>\n",
              "      <td>Realizei o pagamento das faturas atrasadas e s...</td>\n",
              "    </tr>\n",
              "    <tr>\n",
              "      <th>2</th>\n",
              "      <td>2</td>\n",
              "      <td>2</td>\n",
              "      <td>Oi virou claro e não recebe ligações!!!</td>\n",
              "      <td>/claro/oi-virou-claro-e-nao-recebe-ligacoes_MG...</td>\n",
              "      <td>Minha mãe tinha um chip da Oi que virou Claro ...</td>\n",
              "    </tr>\n",
              "    <tr>\n",
              "      <th>3</th>\n",
              "      <td>3</td>\n",
              "      <td>3</td>\n",
              "      <td>Mudança de plano sem a minha autorização</td>\n",
              "      <td>/claro/mudanca-de-plano-sem-a-minha-autorizaca...</td>\n",
              "      <td>Na sexta-feira dia 6 de outubro fiz uma recarg...</td>\n",
              "    </tr>\n",
              "    <tr>\n",
              "      <th>4</th>\n",
              "      <td>4</td>\n",
              "      <td>4</td>\n",
              "      <td>Plano PREZAO</td>\n",
              "      <td>/claro/plano-prezao_iW3NARVJ71tk_jVM/</td>\n",
              "      <td>Bom diaNa data de 08/10/2023, recebi um SMS in...</td>\n",
              "    </tr>\n",
              "  </tbody>\n",
              "</table>\n",
              "</div>\n",
              "    <div class=\"colab-df-buttons\">\n",
              "\n",
              "  <div class=\"colab-df-container\">\n",
              "    <button class=\"colab-df-convert\" onclick=\"convertToInteractive('df-a3de5164-2b5b-4b06-ad50-dbebd96dd8d3')\"\n",
              "            title=\"Convert this dataframe to an interactive table.\"\n",
              "            style=\"display:none;\">\n",
              "\n",
              "  <svg xmlns=\"http://www.w3.org/2000/svg\" height=\"24px\" viewBox=\"0 -960 960 960\">\n",
              "    <path d=\"M120-120v-720h720v720H120Zm60-500h600v-160H180v160Zm220 220h160v-160H400v160Zm0 220h160v-160H400v160ZM180-400h160v-160H180v160Zm440 0h160v-160H620v160ZM180-180h160v-160H180v160Zm440 0h160v-160H620v160Z\"/>\n",
              "  </svg>\n",
              "    </button>\n",
              "\n",
              "  <style>\n",
              "    .colab-df-container {\n",
              "      display:flex;\n",
              "      gap: 12px;\n",
              "    }\n",
              "\n",
              "    .colab-df-convert {\n",
              "      background-color: #E8F0FE;\n",
              "      border: none;\n",
              "      border-radius: 50%;\n",
              "      cursor: pointer;\n",
              "      display: none;\n",
              "      fill: #1967D2;\n",
              "      height: 32px;\n",
              "      padding: 0 0 0 0;\n",
              "      width: 32px;\n",
              "    }\n",
              "\n",
              "    .colab-df-convert:hover {\n",
              "      background-color: #E2EBFA;\n",
              "      box-shadow: 0px 1px 2px rgba(60, 64, 67, 0.3), 0px 1px 3px 1px rgba(60, 64, 67, 0.15);\n",
              "      fill: #174EA6;\n",
              "    }\n",
              "\n",
              "    .colab-df-buttons div {\n",
              "      margin-bottom: 4px;\n",
              "    }\n",
              "\n",
              "    [theme=dark] .colab-df-convert {\n",
              "      background-color: #3B4455;\n",
              "      fill: #D2E3FC;\n",
              "    }\n",
              "\n",
              "    [theme=dark] .colab-df-convert:hover {\n",
              "      background-color: #434B5C;\n",
              "      box-shadow: 0px 1px 3px 1px rgba(0, 0, 0, 0.15);\n",
              "      filter: drop-shadow(0px 1px 2px rgba(0, 0, 0, 0.3));\n",
              "      fill: #FFFFFF;\n",
              "    }\n",
              "  </style>\n",
              "\n",
              "    <script>\n",
              "      const buttonEl =\n",
              "        document.querySelector('#df-a3de5164-2b5b-4b06-ad50-dbebd96dd8d3 button.colab-df-convert');\n",
              "      buttonEl.style.display =\n",
              "        google.colab.kernel.accessAllowed ? 'block' : 'none';\n",
              "\n",
              "      async function convertToInteractive(key) {\n",
              "        const element = document.querySelector('#df-a3de5164-2b5b-4b06-ad50-dbebd96dd8d3');\n",
              "        const dataTable =\n",
              "          await google.colab.kernel.invokeFunction('convertToInteractive',\n",
              "                                                    [key], {});\n",
              "        if (!dataTable) return;\n",
              "\n",
              "        const docLinkHtml = 'Like what you see? Visit the ' +\n",
              "          '<a target=\"_blank\" href=https://colab.research.google.com/notebooks/data_table.ipynb>data table notebook</a>'\n",
              "          + ' to learn more about interactive tables.';\n",
              "        element.innerHTML = '';\n",
              "        dataTable['output_type'] = 'display_data';\n",
              "        await google.colab.output.renderOutput(dataTable, element);\n",
              "        const docLink = document.createElement('div');\n",
              "        docLink.innerHTML = docLinkHtml;\n",
              "        element.appendChild(docLink);\n",
              "      }\n",
              "    </script>\n",
              "  </div>\n",
              "\n",
              "\n",
              "<div id=\"df-99a2fa53-1436-4ced-805f-89a93ab07c51\">\n",
              "  <button class=\"colab-df-quickchart\" onclick=\"quickchart('df-99a2fa53-1436-4ced-805f-89a93ab07c51')\"\n",
              "            title=\"Suggest charts.\"\n",
              "            style=\"display:none;\">\n",
              "\n",
              "<svg xmlns=\"http://www.w3.org/2000/svg\" height=\"24px\"viewBox=\"0 0 24 24\"\n",
              "     width=\"24px\">\n",
              "    <g>\n",
              "        <path d=\"M19 3H5c-1.1 0-2 .9-2 2v14c0 1.1.9 2 2 2h14c1.1 0 2-.9 2-2V5c0-1.1-.9-2-2-2zM9 17H7v-7h2v7zm4 0h-2V7h2v10zm4 0h-2v-4h2v4z\"/>\n",
              "    </g>\n",
              "</svg>\n",
              "  </button>\n",
              "\n",
              "<style>\n",
              "  .colab-df-quickchart {\n",
              "      --bg-color: #E8F0FE;\n",
              "      --fill-color: #1967D2;\n",
              "      --hover-bg-color: #E2EBFA;\n",
              "      --hover-fill-color: #174EA6;\n",
              "      --disabled-fill-color: #AAA;\n",
              "      --disabled-bg-color: #DDD;\n",
              "  }\n",
              "\n",
              "  [theme=dark] .colab-df-quickchart {\n",
              "      --bg-color: #3B4455;\n",
              "      --fill-color: #D2E3FC;\n",
              "      --hover-bg-color: #434B5C;\n",
              "      --hover-fill-color: #FFFFFF;\n",
              "      --disabled-bg-color: #3B4455;\n",
              "      --disabled-fill-color: #666;\n",
              "  }\n",
              "\n",
              "  .colab-df-quickchart {\n",
              "    background-color: var(--bg-color);\n",
              "    border: none;\n",
              "    border-radius: 50%;\n",
              "    cursor: pointer;\n",
              "    display: none;\n",
              "    fill: var(--fill-color);\n",
              "    height: 32px;\n",
              "    padding: 0;\n",
              "    width: 32px;\n",
              "  }\n",
              "\n",
              "  .colab-df-quickchart:hover {\n",
              "    background-color: var(--hover-bg-color);\n",
              "    box-shadow: 0 1px 2px rgba(60, 64, 67, 0.3), 0 1px 3px 1px rgba(60, 64, 67, 0.15);\n",
              "    fill: var(--button-hover-fill-color);\n",
              "  }\n",
              "\n",
              "  .colab-df-quickchart-complete:disabled,\n",
              "  .colab-df-quickchart-complete:disabled:hover {\n",
              "    background-color: var(--disabled-bg-color);\n",
              "    fill: var(--disabled-fill-color);\n",
              "    box-shadow: none;\n",
              "  }\n",
              "\n",
              "  .colab-df-spinner {\n",
              "    border: 2px solid var(--fill-color);\n",
              "    border-color: transparent;\n",
              "    border-bottom-color: var(--fill-color);\n",
              "    animation:\n",
              "      spin 1s steps(1) infinite;\n",
              "  }\n",
              "\n",
              "  @keyframes spin {\n",
              "    0% {\n",
              "      border-color: transparent;\n",
              "      border-bottom-color: var(--fill-color);\n",
              "      border-left-color: var(--fill-color);\n",
              "    }\n",
              "    20% {\n",
              "      border-color: transparent;\n",
              "      border-left-color: var(--fill-color);\n",
              "      border-top-color: var(--fill-color);\n",
              "    }\n",
              "    30% {\n",
              "      border-color: transparent;\n",
              "      border-left-color: var(--fill-color);\n",
              "      border-top-color: var(--fill-color);\n",
              "      border-right-color: var(--fill-color);\n",
              "    }\n",
              "    40% {\n",
              "      border-color: transparent;\n",
              "      border-right-color: var(--fill-color);\n",
              "      border-top-color: var(--fill-color);\n",
              "    }\n",
              "    60% {\n",
              "      border-color: transparent;\n",
              "      border-right-color: var(--fill-color);\n",
              "    }\n",
              "    80% {\n",
              "      border-color: transparent;\n",
              "      border-right-color: var(--fill-color);\n",
              "      border-bottom-color: var(--fill-color);\n",
              "    }\n",
              "    90% {\n",
              "      border-color: transparent;\n",
              "      border-bottom-color: var(--fill-color);\n",
              "    }\n",
              "  }\n",
              "</style>\n",
              "\n",
              "  <script>\n",
              "    async function quickchart(key) {\n",
              "      const quickchartButtonEl =\n",
              "        document.querySelector('#' + key + ' button');\n",
              "      quickchartButtonEl.disabled = true;  // To prevent multiple clicks.\n",
              "      quickchartButtonEl.classList.add('colab-df-spinner');\n",
              "      try {\n",
              "        const charts = await google.colab.kernel.invokeFunction(\n",
              "            'suggestCharts', [key], {});\n",
              "      } catch (error) {\n",
              "        console.error('Error during call to suggestCharts:', error);\n",
              "      }\n",
              "      quickchartButtonEl.classList.remove('colab-df-spinner');\n",
              "      quickchartButtonEl.classList.add('colab-df-quickchart-complete');\n",
              "    }\n",
              "    (() => {\n",
              "      let quickchartButtonEl =\n",
              "        document.querySelector('#df-99a2fa53-1436-4ced-805f-89a93ab07c51 button');\n",
              "      quickchartButtonEl.style.display =\n",
              "        google.colab.kernel.accessAllowed ? 'block' : 'none';\n",
              "    })();\n",
              "  </script>\n",
              "</div>\n",
              "    </div>\n",
              "  </div>\n"
            ]
          },
          "metadata": {},
          "execution_count": 3
        }
      ]
    },
    {
      "cell_type": "markdown",
      "source": [
        "## Text Preprocess"
      ],
      "metadata": {
        "id": "SUABsKOpxMXC"
      }
    },
    {
      "cell_type": "markdown",
      "source": [
        "### Normalize"
      ],
      "metadata": {
        "id": "AtR1HPKU2NAD"
      }
    },
    {
      "cell_type": "code",
      "source": [
        "import string"
      ],
      "metadata": {
        "id": "oe2tnuGgyb76"
      },
      "execution_count": 4,
      "outputs": []
    },
    {
      "cell_type": "code",
      "source": [
        "punctuations = list(string.punctuation)\n",
        "\n",
        "def remove_punctuation(text):\n",
        "  return ''.join([char if char not in punctuations else ' ' for char in text])"
      ],
      "metadata": {
        "id": "WuEr47zNSFlS"
      },
      "execution_count": 5,
      "outputs": []
    },
    {
      "cell_type": "code",
      "source": [
        "accentuation = {\n",
        "    \"á\": \"a\", \"ã\": \"a\", \"à\": \"a\",\"â\": \"a\",\n",
        "    \"é\": \"e\",\"ê\": \"e\",\n",
        "    \"í\": \"i\",\n",
        "    \"ó\": \"o\",\"õ\": \"o\", \"ô\":\"o\",\n",
        "    \"ú\": \"u\",\n",
        "    \"ç\": \"c\"\n",
        "    }\n",
        "\n",
        "def remove_accentuation(text):\n",
        "  return ''.join(accentuation.get(char, char) for char in text)"
      ],
      "metadata": {
        "id": "DIXdfnSWyArZ"
      },
      "execution_count": 6,
      "outputs": []
    },
    {
      "cell_type": "code",
      "source": [
        "special_charaters = [\n",
        "    \"1\",\"2\",\"3\",\"4\",\"5\",\"6\",\"7\",\"8\",\"9\",\"0\",\n",
        "    \" a \",\" b \",\" c \",\" d \",\" e \",\" f \",\" g \",\" h \",\" i \",\" j \",\" k \",\" l \",\n",
        "    \" m \",\" n \",\" o \",\" p \",\" q \",\" r \",\" s \",\" t \",\" u \",\" v \",\" x \",\" z \",\n",
        "    \"r$\", \"$\",\n",
        "    ]\n",
        "\n",
        "def remove_special_characters(text):\n",
        "  return ''.join([char if char not in special_charaters else ' ' for char in text])"
      ],
      "metadata": {
        "id": "x_1vhubLyFvB"
      },
      "execution_count": 7,
      "outputs": []
    },
    {
      "cell_type": "code",
      "source": [
        "text_to_delete = ['editado pelo reclame aqui', 'tim', 'claro', 'vivo']\n",
        "\n",
        "def remove_text(text):\n",
        "    for sentence in text_to_delete:\n",
        "        text = text.replace(sentence, \"\")\n",
        "    return text"
      ],
      "metadata": {
        "id": "DV0bGfcwWxo8"
      },
      "execution_count": 8,
      "outputs": []
    },
    {
      "cell_type": "code",
      "source": [
        "def normalize_text(df, text_field, lower=True, rem_punct=True, rem_accent=True, rem_spec_caract=True, rem_name=False):\n",
        "    df[text_field + \"_clean\"] = df[text_field].astype(str)\n",
        "    if lower: df[text_field + \"_clean\"] = df[text_field + \"_clean\"].str.lower()\n",
        "    if rem_punct: df[text_field + \"_clean\"] = df[text_field + \"_clean\"].apply(remove_punctuation)\n",
        "    if rem_accent: df[text_field + \"_clean\"] = df[text_field + \"_clean\"].apply(remove_accentuation)\n",
        "    if rem_spec_caract: df[text_field + \"_clean\"] = df[text_field + \"_clean\"].apply(remove_special_characters)\n",
        "    df[text_field + \"_clean\"] = df[text_field + \"_clean\"].replace(r'\\s+', ' ', regex=True) #remove spaces"
      ],
      "metadata": {
        "id": "4fjCjaD5yH1h"
      },
      "execution_count": 9,
      "outputs": []
    },
    {
      "cell_type": "code",
      "source": [
        "normalize_text(df, 'description')"
      ],
      "metadata": {
        "id": "vbK0R0ALyNNZ"
      },
      "execution_count": 10,
      "outputs": []
    },
    {
      "cell_type": "markdown",
      "source": [
        "### Stop Words"
      ],
      "metadata": {
        "id": "4MVOh6CAoDPv"
      }
    },
    {
      "cell_type": "code",
      "source": [
        "import nltk\n",
        "nltk.download('stopwords')"
      ],
      "metadata": {
        "colab": {
          "base_uri": "https://localhost:8080/"
        },
        "id": "OwV-4FhmoHSb",
        "outputId": "176e0eba-e13f-4d9a-a89f-2c2da918dccd"
      },
      "execution_count": 11,
      "outputs": [
        {
          "output_type": "stream",
          "name": "stderr",
          "text": [
            "[nltk_data] Downloading package stopwords to /root/nltk_data...\n",
            "[nltk_data]   Unzipping corpora/stopwords.zip.\n"
          ]
        },
        {
          "output_type": "execute_result",
          "data": {
            "text/plain": [
              "True"
            ]
          },
          "metadata": {},
          "execution_count": 11
        }
      ]
    },
    {
      "cell_type": "code",
      "source": [
        "stops_nltk = nltk.corpus.stopwords.words('portuguese')\n",
        "stop_words = list(stops_nltk)\n",
        "stop_words = [remove_accentuation(word) for word in stop_words]\n",
        "stop_words = list(set(stop_words))\n",
        "\n",
        "def remove_stop_words(text):\n",
        "    words_list = text.split()\n",
        "    words_list = [word for word in words_list if word not in stop_words]\n",
        "    text = ' '.join(words_list)\n",
        "\n",
        "    return text"
      ],
      "metadata": {
        "id": "U7I63K2h83M1"
      },
      "execution_count": 12,
      "outputs": []
    },
    {
      "cell_type": "code",
      "source": [
        "df[\"description_clean_stop\"] = df[\"description_clean\"].apply(remove_stop_words)"
      ],
      "metadata": {
        "id": "6j0DnvGT89g6"
      },
      "execution_count": 13,
      "outputs": []
    },
    {
      "cell_type": "markdown",
      "source": [
        "### Lemmatize"
      ],
      "metadata": {
        "id": "I-vb3e4rscjR"
      }
    },
    {
      "cell_type": "code",
      "source": [
        "import spacy.cli\n",
        "\n",
        "language_models = ['pt_core_news_sm', 'pt_core_news_md', 'pt_core_news_lg']\n",
        "spacy_model = language_models[2]\n",
        "\n",
        "disable = ['tagger', 'parser', 'ner', 'entity_ruler', 'entity_linker', 'textcat',\n",
        "           'morphologizer','attribute_ruler']\n",
        "\n",
        "try:\n",
        "  nlp = spacy.load(spacy_model, disable=disable)\n",
        "except:\n",
        "  spacy.cli.download(spacy_model)\n",
        "  nlp = spacy.load(spacy_model, disable=disable)\n",
        "\n",
        "print(nlp.pipe_names)"
      ],
      "metadata": {
        "colab": {
          "base_uri": "https://localhost:8080/"
        },
        "id": "D8j8QKdTsg2N",
        "outputId": "ef94f894-0d6f-4dda-b8ee-9bc71cd02c7b"
      },
      "execution_count": 14,
      "outputs": [
        {
          "output_type": "stream",
          "name": "stdout",
          "text": [
            "\u001b[38;5;2m✔ Download and installation successful\u001b[0m\n",
            "You can now load the package via spacy.load('pt_core_news_lg')\n",
            "['tok2vec', 'lemmatizer']\n"
          ]
        }
      ]
    },
    {
      "cell_type": "code",
      "source": [
        "def lemma_pipe(doc_list):\n",
        "  lemma_text_list = []\n",
        "  for doc in nlp.pipe(doc_list, n_process=-1):\n",
        "      lemma_text_list.append(\" \".join(token.lemma_ for token in doc))\n",
        "\n",
        "  return lemma_text_list"
      ],
      "metadata": {
        "id": "eCARQ0Swsg5r"
      },
      "execution_count": 15,
      "outputs": []
    },
    {
      "cell_type": "code",
      "source": [
        "df[\"description_clean_stop_lemma\"] = lemma_pipe(df[\"description_clean_stop\"])"
      ],
      "metadata": {
        "id": "BtQ_3lSGsg9M"
      },
      "execution_count": 16,
      "outputs": []
    },
    {
      "cell_type": "markdown",
      "source": [
        "## Data Analysis"
      ],
      "metadata": {
        "id": "qQoZKyoG1S6p"
      }
    },
    {
      "cell_type": "code",
      "source": [
        "final_docs = list(df['description_clean_stop_lemma'])"
      ],
      "metadata": {
        "id": "9QTyfZvOIDjV"
      },
      "execution_count": 17,
      "outputs": []
    },
    {
      "cell_type": "markdown",
      "source": [
        "## Latent Dirichlet Allocation (LDA)"
      ],
      "metadata": {
        "id": "iOyhkzaagdBB"
      }
    },
    {
      "cell_type": "code",
      "source": [
        "import nltk\n",
        "nltk.download('punkt')\n",
        "from nltk.tokenize import word_tokenize\n",
        "import gensim\n",
        "import gensim.corpora as corpora"
      ],
      "metadata": {
        "colab": {
          "base_uri": "https://localhost:8080/"
        },
        "id": "sSxqTNx4JzSz",
        "outputId": "2511d5c0-2db1-47d7-ca6d-683691e9a115"
      },
      "execution_count": 18,
      "outputs": [
        {
          "output_type": "stream",
          "name": "stderr",
          "text": [
            "[nltk_data] Downloading package punkt to /root/nltk_data...\n",
            "[nltk_data]   Unzipping tokenizers/punkt.zip.\n"
          ]
        }
      ]
    },
    {
      "cell_type": "code",
      "source": [
        "# Tokenize text\n",
        "token_docs = [word_tokenize(text) for text in final_docs]\n",
        "\n",
        "# Convert text to frequency dictionary\n",
        "id2word = corpora.Dictionary(token_docs)\n",
        "\n",
        "# Convert text in bag of words\n",
        "corpus = [id2word.doc2bow(text) for text in token_docs]"
      ],
      "metadata": {
        "id": "WLreYIJoJw5M"
      },
      "execution_count": 19,
      "outputs": []
    },
    {
      "cell_type": "code",
      "source": [
        "lda_model = gensim.models.LdaModel(corpus,\n",
        "                                   num_topics=10,\n",
        "                                   id2word=id2word,\n",
        "                                   random_state=42,\n",
        "                                   update_every=1,\n",
        "                                   chunksize=50,\n",
        "                                   passes=15,\n",
        "                                   alpha=\"auto\")"
      ],
      "metadata": {
        "id": "Zm7I19zbInqZ"
      },
      "execution_count": 20,
      "outputs": []
    },
    {
      "cell_type": "markdown",
      "source": [
        "Imagine the need to find trending topics in Tweets with little pre-processing effort. In this case, one may choose to use Top2Vec and BERTopic. They work splendidly on shorter textual sources and do not require much pre-processing.\n",
        "\n",
        "Instead, imagine a scenario where a customer is interested in finding how a given document may contain a mixture of multiple topics. In this case, approaches like LDA and NMF would be preferable. BERTopic and Top2Vec assign a document to one topic only. Although the probability distribution of the HDBSCAN may be used as proxy of the topics distribution, BERTopic and Top2Vec are not mixed membership models by design."
      ],
      "metadata": {
        "id": "E5rBcKI4s2MB"
      }
    },
    {
      "cell_type": "markdown",
      "source": [
        "## Visualization"
      ],
      "metadata": {
        "id": "Nj4xkvCqtSFL"
      }
    },
    {
      "cell_type": "code",
      "source": [
        "try:\n",
        "  import pyLDAvis.gensim\n",
        "except:\n",
        "  !pip install pyLDAvis==2.1.2 -q\n",
        "  import pyLDAvis.gensim"
      ],
      "metadata": {
        "colab": {
          "base_uri": "https://localhost:8080/"
        },
        "id": "rmoF8Inqu2H7",
        "outputId": "b24ad0c2-5c2c-4e80-a349-0d61cd2018dd"
      },
      "execution_count": 21,
      "outputs": [
        {
          "output_type": "stream",
          "name": "stdout",
          "text": [
            "\u001b[?25l     \u001b[90m━━━━━━━━━━━━━━━━━━━━━━━━━━━━━━━━━━━━━━━━\u001b[0m \u001b[32m0.0/1.6 MB\u001b[0m \u001b[31m?\u001b[0m eta \u001b[36m-:--:--\u001b[0m\r\u001b[2K     \u001b[91m━━\u001b[0m\u001b[90m╺\u001b[0m\u001b[90m━━━━━━━━━━━━━━━━━━━━━━━━━━━━━━━━━━━━━\u001b[0m \u001b[32m0.1/1.6 MB\u001b[0m \u001b[31m2.5 MB/s\u001b[0m eta \u001b[36m0:00:01\u001b[0m\r\u001b[2K     \u001b[91m━━━━━━━━━━━━━━━━━━\u001b[0m\u001b[90m╺\u001b[0m\u001b[90m━━━━━━━━━━━━━━━━━━━━━\u001b[0m \u001b[32m0.7/1.6 MB\u001b[0m \u001b[31m10.9 MB/s\u001b[0m eta \u001b[36m0:00:01\u001b[0m\r\u001b[2K     \u001b[90m━━━━━━━━━━━━━━━━━━━━━━━━━━━━━━━━━━━━━━━━\u001b[0m \u001b[32m1.6/1.6 MB\u001b[0m \u001b[31m16.4 MB/s\u001b[0m eta \u001b[36m0:00:00\u001b[0m\n",
            "\u001b[?25h  Preparing metadata (setup.py) ... \u001b[?25l\u001b[?25hdone\n",
            "  Building wheel for pyLDAvis (setup.py) ... \u001b[?25l\u001b[?25hdone\n"
          ]
        }
      ]
    },
    {
      "cell_type": "code",
      "source": [
        "warnings.filterwarnings(\"ignore\")\n",
        "vis = pyLDAvis.gensim.prepare(lda_model, corpus, lda_model.id2word, mds=\"mmds\", R=30)\n",
        "pyLDAvis.display(vis)"
      ],
      "metadata": {
        "colab": {
          "base_uri": "https://localhost:8080/",
          "height": 882
        },
        "id": "Rsjf9PLaq8Uz",
        "outputId": "1093ae10-7378-4f7e-dafa-792779437150"
      },
      "execution_count": 23,
      "outputs": [
        {
          "output_type": "execute_result",
          "data": {
            "text/plain": [
              "<IPython.core.display.HTML object>"
            ],
            "text/html": [
              "\n",
              "<link rel=\"stylesheet\" type=\"text/css\" href=\"https://cdn.rawgit.com/bmabey/pyLDAvis/files/ldavis.v1.0.0.css\">\n",
              "\n",
              "\n",
              "<div id=\"ldavis_el4591385408957179689633515466\"></div>\n",
              "<script type=\"text/javascript\">\n",
              "\n",
              "var ldavis_el4591385408957179689633515466_data = {\"mdsDat\": {\"x\": [0.035816909976270996, -0.17980924835616077, -0.3338536401659668, -0.3130790369947023, 0.2339186181149794, 0.4075557375092861, -0.087914893421883, -0.061266051266633564, 0.13450135821420767, 0.16413024639060228], \"y\": [-0.3335441404626847, -0.2787954500610895, -0.12883895215172572, 0.13271633074339634, -0.21378885718181692, 0.040555497902083064, 0.32520571140211724, 0.07846986193755819, 0.11803035007097062, 0.2599896478011913], \"topics\": [1, 2, 3, 4, 5, 6, 7, 8, 9, 10], \"cluster\": [1, 1, 1, 1, 1, 1, 1, 1, 1, 1], \"Freq\": [26.59540787421634, 24.33771066419869, 13.140341984080573, 11.984274250013005, 8.120901487734953, 5.1899782117171425, 4.488214768285808, 3.863448436906844, 1.179668715205031, 1.100053607641616]}, \"tinfo\": {\"Term\": [\"valor\", \"fatura\", \"claro\", \"mes\", \"ir\", \"plano\", \"cobrar\", \"dia\", \"empresa\", \"aqui\", \"falar\", \"editar\", \"reclame\", \"sinal\", \"controle\", \"servico\", \"mensagem\", \"nada\", \"de\", \"todo\", \"cancelar\", \"ter\", \"numero\", \"contato\", \"cancelamento\", \"ano\", \"telefone\", \"contratar\", \"pois\", \"Internet\", \"cancelar\", \"tecnico\", \"aparelho\", \"utilizar\", \"agendar\", \"h\", \"algum\", \"situacao\", \"proprio\", \"visita\", \"entregar\", \"ativar\", \"mudanca\", \"aguardar\", \"falta\", \"endereco\", \"interesse\", \"mail\", \"computador\", \"alem\", \"encerrar\", \"moldem\", \"recife\", \"efetivamente\", \"modem\", \"porem\", \"procedimento\", \"q\", \"pagueer\", \"informei\", \"de\", \"bem\", \"pois\", \"esse\", \"haver\", \"contrato\", \"claro\", \"dia\", \"poder\", \"cancelamento\", \"dizer\", \"aplicativo\", \"sinal\", \"informar\", \"dever\", \"servico\", \"nenhum\", \"Internet\", \"apos\", \"desde\", \"todo\", \"ir\", \"ser\", \"liguar\", \"cliente\", \"saldo\", \"desconto\", \"funcionario\", \"recarga\", \"credito\", \"seguir\", \"aplicar\", \"paguar\", \"junho\", \"por\", \"grande\", \"ligueer\", \"desfecho\", \"prezao\", \"ouvidoria\", \"mao\", \"meter\", \"passado\", \"respeito\", \"pix\", \"confirmar\", \"mau\", \"suporte\", \"cada\", \"sms\", \"transtorno\", \"documento\", \"fechamento\", \"entanto\", \"coloquei\", \"cobranca\", \"protocolo\", \"mes\", \"valor\", \"setembro\", \"julho\", \"fatura\", \"outubro\", \"novamente\", \"recebi\", \"ainda\", \"atendente\", \"contato\", \"pagamento\", \"vez\", \"entrar\", \"vir\", \"plano\", \"informar\", \"dia\", \"cliente\", \"assim\", \"agora\", \"ligacao\", \"claro\", \"linha\", \"hoje\", \"fazer\", \"solicitar\", \"ta\", \"Entao\", \"abatimento\", \"funcionar\", \"Flavia\", \"duplicidade\", \"eu\", \"vim\", \"abater\", \"ambiente\", \"primeira\", \"inicio\", \"terceiro\", \"perguntar\", \"email\", \"facil\", \"devolver\", \"sair\", \"dias\", \"enviei\", \"senhor\", \"necessario\", \"deus\", \"constrangedor\", \"enformar\", \"flavia\", \"guilherme\", \"senhorito\", \"Guilherme\", \"senhorita\", \"agencia\", \"ir\", \"primeiro\", \"atender\", \"oferecer\", \"falar\", \"comprovante\", \"operadora\", \"fazer\", \"pagar\", \"valor\", \"celular\", \"esperar\", \"fatura\", \"porque\", \"conforme\", \"reclamar\", \"real\", \"tentar\", \"ligar\", \"pra\", \"mes\", \"plano\", \"resolver\", \"dizer\", \"Internet\", \"logo\", \"claro\", \"enviar\", \"atendente\", \"sac\", \"entao\", \"dado\", \"central\", \"venda\", \"troca\", \"negar\", \"pre\", \"pouco\", \"concordar\", \"parecer\", \"favor\", \"adquiri\", \"responder\", \"adquirir\", \"sr\", \"min\", \"amor\", \"ouver\", \"derrubar\", \"possuir\", \"abusivo\", \"suspirar\", \"calma\", \"s\\u00f2\", \"insistentemente\", \"medo\", \"profundo\", \"agradecer\", \"correta\", \"muito\", \"controle\", \"site\", \"tudo\", \"pedir\", \"dois\", \"apos\", \"referente\", \"plano\", \"minuto\", \"r\", \"pra\", \"solicitar\", \"conseguir\", \"final\", \"dizer\", \"numero\", \"querer\", \"novo\", \"todo\", \"claro\", \"chip\", \"ligacao\", \"vez\", \"resolver\", \"novamente\", \"nada\", \"atendente\", \"problema\", \"pagar\", \"domingo\", \"comunicacao\", \"assinar\", \"solucao\", \"local\", \"realmente\", \"prejudicar\", \"ultima\", \"Cartao\", \"quatro\", \"prometer\", \"promessa\", \"quinta\", \"creditar\", \"reser\", \"sabar\", \"temporal\", \"assinatura\", \"questionar\", \"pena\", \"agendamento\", \"or\", \"retirada\", \"presenca\", \"apesar\", \"vendedor\", \"visitar\", \"funcionalidade\", \"lixo\", \"prejuizo\", \"gostar\", \"cobrar\", \"continuar\", \"ontem\", \"nada\", \"sinal\", \"usar\", \"servico\", \"Internet\", \"contato\", \"cancelamento\", \"onde\", \"dia\", \"tv\", \"antes\", \"agora\", \"fazer\", \"tentar\", \"app\", \"controle\", \"plano\", \"consigo\", \"problema\", \"conseguir\", \"fiz\", \"entrar\", \"desde\", \"claro\", \"ser\", \"telar\", \"prever\", \"tela\", \"atencao\", \"horario\", \"pequeno\", \"condominio\", \"abuso\", \"vinculo\", \"desbloquear\", \"sensor\", \"cuidado\", \"biometrico\", \"clicar\", \"niteroi\", \"morer\", \"vizinho\", \"rj\", \"postar\", \"grupo\", \"bloco\", \"registro\", \"relacao\", \"fornecer\", \"assegurar\", \"transferencia\", \"autorizeir\", \"estabelecer\", \"embora\", \"devidamente\", \"quase\", \"qualquer\", \"mensagem\", \"prestar\", \"contratar\", \"empresa\", \"whatsapp\", \"outro\", \"saber\", \"mandar\", \"porque\", \"meio\", \"algo\", \"claro\", \"aparecer\", \"pacote\", \"comprar\", \"onde\", \"dia\", \"assim\", \"dar\", \"agora\", \"pois\", \"paciencia\", \"ligacoe\", \"humano\", \"lascar\", \"muuuiiiiita\", \"humanooooo\", \"adicional\", \"toda\", \"inumero\", \"aguento\", \"par\", \"instalacao\", \"ignorar\", \"lancar\", \"box\", \"tirar\", \"mega\", \"hd\", \"titular\", \"infelizmente\", \"cadastro\", \"desistir\", \"chamado\", \"colocar\", \"contestar\", \"comigo\", \"to\", \"consentimento\", \"ridiculo\", \"bloquear\", \"si\", \"com\", \"hora\", \"ligacoes\", \"pessoa\", \"editar\", \"reclame\", \"aqui\", \"consigo\", \"ter\", \"telefone\", \"falar\", \"claro\", \"ligar\", \"empresa\", \"ficar\", \"preciso\", \"todo\", \"querer\", \"nada\", \"numero\", \"dia\", \"aumentar\", \"velocidade\", \"m\", \"isso\", \"fixo\", \"x\", \"diferente\", \"verificar\", \"justificar\", \"bastar\", \"ressarcimento\", \"enfim\", \"carta\", \"ahahhahah\", \"lado\", \"propuser\", \"reiniciar\", \"junto\", \"vao\", \"rapido\", \"propaganda\", \"recomendo\", \"impossivel\", \"indevidamente\", \"medida\", \"conto\", \"historiar\", \"justo\", \"nr\", \"vincular\", \"questao\", \"acesso\", \"telefone\", \"ano\", \"numero\", \"ajudar\", \"surpresa\", \"mesmo\", \"nunca\", \"todo\", \"fatura\", \"chip\", \"nada\", \"ser\", \"resolver\", \"pagar\", \"contato\", \"desde\", \"transferir\", \"exijo\", \"porte\", \"propagandar\", \"d\", \"n\", \"humilhacao\", \"dor\", \"print\", \"compra\", \"tres\", \"ura\", \"qnd\", \"cadastrar\", \"prova\", \"legal\", \"ajustar\", \"vitoria\", \"desrespeitoso\", \"recusar\", \"eh\", \"Reclame\", \"amigavel\", \"limite\", \"duplicar\", \"bonus\", \"supostar\", \"criterio\", \"destratar\", \"ajeitar\", \"forma\", \"chat\", \"atendimento\", \"pessimo\", \"de\", \"esse\", \"fiz\", \"ligacao\", \"momento\", \"tentar\", \"direito\", \"conseguir\", \"pedir\", \"imediato\", \"trar\", \"dinheiro\", \"cidade\", \"brincadeira\", \"migracao\", \"tarde\", \"orientar\", \"orientacao\", \"lamentavel\", \"oi\", \"linhar\", \"cima\", \"spc\", \"procuracao\", \"viver\", \"apresentar\", \"cobertura\", \"fizemos\", \"incompetente\", \"abro\", \"trocar\", \"reembolso\", \"refiz\", \"fazir\", \"crediter\", \"correr\", \"alternativa\", \"morar\", \"priscila\", \"pagassemo\", \"trabalhador\", \"hora\", \"conta\", \"bastante\", \"shopping\", \"voltar\"], \"Freq\": [517.0, 363.0, 729.0, 304.0, 238.0, 408.0, 143.0, 516.0, 176.0, 137.0, 177.0, 102.0, 102.0, 174.0, 132.0, 189.0, 81.0, 160.0, 82.0, 182.0, 159.0, 135.0, 105.0, 151.0, 191.0, 80.0, 86.0, 83.0, 150.0, 229.0, 159.07631434062301, 110.72806992381257, 79.4142327179774, 66.42110536545195, 60.09497137895757, 58.319242183829274, 56.68930785585429, 56.5134401810361, 49.17062414284481, 48.70264149623881, 41.2125812513784, 40.425242368733464, 39.92185555657058, 39.82312275756468, 39.516376170228824, 39.01568663024389, 38.5970328661779, 37.130534276247744, 37.10371557147397, 35.91404872737455, 35.58263572419169, 35.0020587480606, 35.0020587480606, 35.0020587480606, 34.4569451747963, 34.02640840636214, 33.729230619153924, 33.617591984895384, 33.46263902962983, 32.9119512255029, 76.96034690067839, 61.80332405779292, 134.52402904405307, 61.84975031214728, 127.21181500016186, 87.33953712283291, 349.8843653627343, 255.68881256709787, 91.53897270043748, 111.48127626848671, 124.37687531397445, 62.88095340308041, 91.24217798116669, 102.63549515238397, 49.8177325163141, 89.83131112355109, 66.01601299620161, 84.8528575307671, 63.048286956117394, 60.49957010395864, 62.91026402402444, 66.53776337443695, 53.94773801754882, 54.39867611551639, 54.44108608025877, 107.26674908887114, 95.55681138524035, 76.62773030998088, 63.66483611680406, 56.71639255206957, 55.54569223106662, 52.88312716560591, 49.12967494562324, 40.89813489548801, 40.70759157637051, 36.730467339188785, 35.36224524199452, 32.45237319855661, 31.531505977485597, 29.59185991571626, 28.33985749798146, 27.215187527961895, 26.95842114481085, 26.902029718513845, 26.594867383061356, 25.100695158105626, 25.078531058036443, 24.862155521848255, 24.480158178702535, 23.369983595178567, 22.968751224702302, 22.712438387052426, 22.014484262421547, 21.303558013675495, 20.442721424635987, 37.30678092179641, 128.4684870410108, 230.39125585287204, 361.11482172042287, 68.38059624520379, 53.21241565508964, 233.63024291819164, 67.20054674323247, 135.98090630515773, 71.74030953372754, 72.13969700397793, 137.0620431348816, 90.8902437776529, 38.919581496144104, 83.23955637904538, 79.49853961778406, 70.59214193144811, 146.6449283300958, 99.75414912930543, 159.27644880865603, 70.5534947952766, 53.71981200496952, 62.84074936203872, 64.92697916144154, 106.16316988813313, 58.7055889115804, 58.54853929529042, 60.935453499381985, 56.95359865613625, 50.42483924969863, 46.00003670418217, 45.20744336919488, 34.36850912403916, 30.16564699517861, 30.16564699517861, 28.700684148424855, 25.246292635822513, 22.661756532833376, 20.660433288937977, 20.61203937084136, 19.91917434598374, 19.877711126906526, 19.32503470915671, 19.11536545413735, 18.64835692502684, 18.568646081462486, 18.26408166425012, 16.22226592840649, 15.73426725439136, 15.733126771965448, 15.611702954404262, 15.248260766102247, 15.123823304218012, 15.123823304218012, 15.123823304218012, 15.123823304218012, 15.123823304218012, 15.123823304218012, 15.123823304218012, 15.123823304218012, 155.6390083839452, 32.059437087706264, 38.36477515411784, 32.12736262100114, 97.36192909534343, 50.38436724545864, 49.99307543240891, 119.24881903885147, 83.28323647163214, 155.5594926614118, 54.28173032736857, 32.81524815714887, 107.65618688501834, 36.11988427849585, 46.83293423932283, 38.46610540791163, 51.465458731969754, 43.86872968309774, 38.80507356530138, 43.2048733019117, 73.70946699116666, 81.71839702276519, 48.51431947997718, 53.01892652715285, 47.74027825261277, 34.319564964635255, 45.07631813397477, 34.36395890159737, 35.185832098489264, 54.97968105160362, 51.489347679492, 38.54099924330718, 41.01130768024919, 33.65191089558145, 29.741638542555403, 29.72699999938031, 25.688169703726594, 24.412422267608243, 22.033788908493634, 20.49241935853048, 20.32921188099371, 19.09458618760452, 19.069871856506087, 18.931332441878773, 18.198271712494016, 18.136692312052613, 17.45143907870468, 17.22189013635299, 17.22212325684362, 16.983875894963624, 16.92232318770817, 16.524062632876777, 16.524062632876777, 16.524062632876777, 16.524062632876777, 16.524062632876777, 16.524062632876777, 16.524062632876777, 16.47593481860855, 42.457377217732905, 100.06074575274843, 22.81619822051741, 57.767666874084796, 74.81121983510444, 50.73245705323662, 74.5496266127924, 21.44771509731657, 136.7301291290622, 40.296606524160985, 50.37695008456882, 50.213865395687414, 61.17720887005379, 46.950662563280396, 20.809196293930263, 68.80305347778506, 42.54474935398513, 49.696999897496326, 41.49682470086036, 48.907682388948636, 85.81963208462915, 30.810649033035116, 42.930497922788796, 41.57868024534954, 40.202301277744624, 40.41455837423777, 35.40162432097745, 35.006753800761736, 32.98385163307692, 33.663890797435904, 53.07763916295001, 33.69793704129455, 29.113380645231622, 28.596613317094626, 28.339728553458, 22.305143356018434, 19.843957288001118, 19.683333767143942, 18.791082836774336, 18.258830890418807, 18.137100399029926, 18.085325025785554, 18.08530211419408, 18.083822507733977, 17.91810899594927, 17.784670681315802, 17.784667063696098, 17.749980120073626, 16.263775121628534, 16.18582747567837, 16.093194705464885, 14.398638929370202, 14.38404183385308, 13.531319428146938, 13.53110719445747, 11.88780706024261, 5.958770138306587, 5.92883433523244, 5.616663901362565, 5.0993249893118895, 21.691648112159804, 90.07075264312597, 23.895904799230777, 34.03518119735257, 69.62508028690495, 64.6993148235853, 23.617191318283044, 61.31490135352189, 62.6074672277919, 48.464151456218204, 50.71414209162311, 41.252228807411065, 63.65679882345244, 28.097360091831707, 20.87174354656093, 32.829853016439905, 41.25446208464343, 29.71982394240837, 24.37348848244969, 31.45202949266543, 42.95334935740044, 26.53528878464112, 29.002360719921477, 28.116820474108067, 24.3756421720485, 26.879806768056376, 25.324582409097612, 27.13545189400679, 24.39079758687371, 29.405456669762387, 19.18005465917505, 16.515930020491144, 15.950436497285292, 15.8251703006482, 15.722149982247931, 15.249870896659234, 14.990542187504944, 14.807900336647263, 14.80787567551986, 14.482963780681594, 14.482963780681594, 14.482963780681594, 14.482963780681594, 13.80127010779971, 13.557824706012596, 13.55767365660726, 13.151267524949512, 13.151267524949512, 13.151267524949512, 13.151267524949512, 12.493572982330669, 11.235105632437332, 11.05193125535982, 10.72668104068001, 10.562526558111081, 10.422170063484824, 10.320483757944944, 10.320483757944944, 10.23896485999806, 30.107475735584686, 36.36221274302627, 56.32955385733556, 27.011203372197013, 51.19966327558265, 69.71000340451121, 24.173956077832496, 37.297649379705945, 30.34652220877151, 16.893444100077303, 23.724593344881857, 18.7097808315082, 16.729748160346002, 39.03694012517245, 17.975352420318643, 18.461688348526327, 15.67114922946069, 17.39718461894876, 19.399014644093167, 15.632643961663812, 15.561957463928138, 15.476199934709081, 15.161517783781145, 18.016862699575224, 17.0599554763291, 16.60031323279453, 16.032402655402958, 16.032402655402958, 16.032402655402958, 15.713990293338252, 14.364479568002375, 13.568653264626306, 13.00052275697649, 13.00052275697649, 10.835477311304547, 9.570093242023734, 8.418733014812643, 7.636413095114083, 5.658137756385779, 5.4284186022836804, 5.423594465391859, 4.677868941299158, 3.9758162348511403, 3.568560045919694, 3.471961011628533, 3.3491116348776013, 22.491350468107687, 3.2246531017371827, 2.953511083177772, 16.144596411141958, 2.6328324397701572, 2.382400687142578, 13.62849828726055, 32.856548908842576, 32.37193991580999, 23.955430195971598, 34.939480393550056, 10.878645622265925, 49.819919013214744, 49.307633463320435, 53.862317134383346, 33.66587893007485, 40.0467808251373, 26.818532948400122, 33.847778581481364, 71.88386634782515, 20.025717674574068, 27.352798195012294, 18.361396111766066, 17.717852185019627, 22.904142234993607, 19.80945425354455, 18.66464661511848, 17.12280354667137, 17.623764687632082, 52.44485412978958, 17.808017314482367, 17.261348350060924, 15.937415950675113, 14.79035139302573, 12.648692497737402, 10.558498769986667, 10.497251147462439, 9.906006957116672, 9.724966139918552, 9.689496422177895, 9.532653011083532, 8.985440194484786, 8.105128819280312, 8.105128819280312, 8.105128819280312, 8.105128819280312, 7.413411954964376, 6.39334663333812, 5.506521079364394, 5.3746593000345175, 4.757297584136232, 4.50697929322646, 4.157710024443872, 3.9869304013061804, 3.876872906394819, 3.8766901881263904, 3.725239690948393, 3.6382962004141732, 3.559544626721477, 11.751926152067195, 17.32357926650065, 35.424164957654035, 31.726481877898202, 34.238342327116015, 5.979131489857285, 9.28269728829196, 9.86803712567488, 10.806706478448875, 19.90095325046886, 21.88007951309923, 11.716714592005637, 14.852383814894418, 11.988935554093848, 11.924529228944918, 11.706364190124985, 10.741588785473098, 9.500318474934591, 18.633951167436805, 9.06075155046144, 7.078108603695447, 6.786594304717759, 5.411596117907309, 4.344176637059002, 4.259945879043311, 3.768958128188646, 3.5577378370786947, 3.460285666423183, 2.986805365523465, 2.4493995572821965, 2.4493995572821965, 2.2401171618244136, 2.106053775334013, 2.064533445727814, 1.9729552201960616, 1.8568659341186557, 1.838471077549419, 1.751704396605369, 1.5005047383815011, 1.457695514604765, 1.3409871809602651, 1.3409871809602651, 1.2912915347146072, 1.264152587467894, 1.264152587467894, 1.264152587467894, 1.146118398974686, 1.0265464010328307, 6.398908671476917, 1.8432721119916697, 7.142265334236931, 4.584912919978617, 4.691751701536874, 3.709573003682148, 3.6798800910907175, 4.429611157067073, 2.2554045187218197, 2.742917790659306, 1.9324808252313788, 1.8753322596769628, 1.846471750605292, 14.794841719017032, 11.14265807945941, 9.053993083506674, 6.730631716870079, 6.362925120155211, 4.50527497934587, 4.320878388740341, 2.9493444590401507, 2.5131106763274635, 2.1918637341766494, 2.0967539412701406, 2.0963439402049815, 1.8871480023036467, 1.8809640101423728, 1.8075042336407248, 1.7679990792157754, 1.5776627002706503, 1.486581535360166, 1.2593154947368506, 1.2439901939664246, 1.2332796920375704, 11.235447037651266, 1.1940144127377947, 1.0914958515797477, 1.0914456223655897, 1.0912901159854975, 1.014046650371174, 1.0139357377324316, 1.0000549964917809, 0.9993109507340916, 0.9993109507340916, 0.9993109507340916, 14.370566736296922, 4.6424727700407935, 1.1129510766418984, 1.3703944207637155, 1.500413762530557], \"Total\": [517.0, 363.0, 729.0, 304.0, 238.0, 408.0, 143.0, 516.0, 176.0, 137.0, 177.0, 102.0, 102.0, 174.0, 132.0, 189.0, 81.0, 160.0, 82.0, 182.0, 159.0, 135.0, 105.0, 151.0, 191.0, 80.0, 86.0, 83.0, 150.0, 229.0, 159.88993623630384, 111.541613885775, 80.22788753735563, 67.23493327753225, 60.908573331252676, 59.13286878283225, 57.50293862070304, 57.327073648876464, 49.98424921393004, 49.516174903029565, 42.02625923397346, 41.238855664049666, 40.73538540246699, 40.636708916690694, 40.33000745170147, 39.82928156801196, 39.41055896488415, 37.94436651190129, 37.917230904861036, 36.72788809875874, 36.39632201973137, 35.815556994123796, 35.815556994123796, 35.815556994123796, 35.2706914656597, 34.8400507150894, 34.54281997571378, 34.43122420601986, 34.27650477896495, 33.72554083045236, 82.3849452377842, 65.65631509953448, 150.42980624195386, 66.2921649344538, 153.8057310023363, 116.35679596241096, 729.2635166354306, 516.1012562354624, 134.43816290458815, 191.38072333241087, 265.04294236832396, 89.88656427400578, 174.98429581984703, 217.57208515274888, 62.601727089438896, 189.35676276004855, 111.13195203587972, 229.3399161721302, 152.0177044823941, 136.54919670483855, 182.55063956028897, 238.50133304734575, 104.9068019288426, 117.73052640900974, 125.70815487987082, 108.072126926837, 96.36220283054905, 77.43404231952502, 64.47024107975696, 57.52182399859351, 56.35139411810202, 53.688520598115964, 49.935227174194544, 41.70351602493975, 41.51304491547697, 37.535910866789074, 36.167717356157134, 33.25775256908177, 32.33691737122021, 30.397383750163204, 29.145271491379464, 28.020582442091968, 27.763808430920037, 27.707444219159584, 27.40028510258192, 25.906137762060798, 25.884113945454732, 25.667623333593312, 25.285639763971787, 24.175460286972164, 23.774832802121736, 23.518582264828492, 22.819879129819284, 22.109419320920075, 21.248123214518365, 39.06499157278593, 158.5570258296444, 304.8229330852613, 517.3964921179866, 81.35619539023043, 62.350755407399255, 363.7686517589107, 83.67686597079447, 216.52249395056583, 97.18543722608709, 100.14582854939759, 242.7971255260199, 151.02885932716714, 47.093350451280806, 145.98775483820748, 140.2420534074223, 123.16704954550603, 408.58292385885017, 217.57208515274888, 516.1012562354624, 125.70815487987082, 85.71276190057975, 134.49530178081736, 158.9434676075067, 729.2635166354306, 126.87430633647928, 126.61106426770023, 296.15648450114173, 146.00818653477637, 51.24699589732261, 46.82224941307476, 46.029563451383545, 35.19076032941259, 30.987767164687355, 30.987767164687355, 29.523213192623885, 26.0684047879647, 23.484159429631354, 21.482895166422, 21.434448860037293, 20.741464927804227, 20.700202256238292, 20.147302334856995, 19.93754297414728, 19.470548738022043, 19.390845883499697, 19.08626106089495, 17.04441947722485, 16.556398208988305, 16.555366210959335, 16.433862157164832, 16.071320802179045, 15.945943758826585, 15.945943758826585, 15.945943758826585, 15.945943758826585, 15.945943758826585, 15.945943758826585, 15.945943758826585, 15.945943758826585, 238.50133304734575, 39.295853509374076, 50.73885203561163, 41.03837172211524, 177.24336213508505, 80.72291967771086, 79.91323638192318, 296.15648450114173, 184.3475849904938, 517.3964921179866, 106.63568887241527, 50.118277038400585, 363.7686517589107, 60.59736676378359, 98.61915888575305, 70.46726363449956, 121.23835688429985, 100.08540268912932, 78.578036380904, 99.62338744097806, 304.8229330852613, 408.58292385885017, 140.54851776356054, 265.04294236832396, 229.3399161721302, 63.394594668189995, 729.2635166354306, 75.32990693036832, 242.7971255260199, 55.790084012584735, 52.299800227456636, 39.35120108971343, 41.98915246221174, 34.46211055398068, 30.55190756529571, 30.53723208950647, 26.49836520823534, 25.22265320721602, 22.84402270796368, 21.30282728805472, 21.13944454966089, 19.90482270437264, 19.880062441464037, 19.741519630962276, 19.008458066781188, 18.94692792165767, 18.26161013972847, 18.03206944052867, 18.032314152351525, 17.79475909936586, 17.73249073968635, 17.334228028853275, 17.334228028853275, 17.334228028853275, 17.334228028853275, 17.334228028853275, 17.334228028853275, 17.334228028853275, 17.28609956178464, 45.661574827781635, 132.23219025889748, 25.484125159862696, 85.32296401887355, 134.93420997207318, 82.4118661455955, 152.0177044823941, 25.26008277031744, 408.58292385885017, 65.22886251066265, 94.49461630707192, 99.62338744097806, 146.00818653477637, 104.3531267503505, 24.388727020975747, 265.04294236832396, 105.8184377110416, 155.48731741540362, 113.56758612618555, 182.55063956028897, 729.2635166354306, 60.34989003469303, 158.9434676075067, 145.98775483820748, 140.54851776356054, 216.52249395056583, 160.24871864648287, 242.7971255260199, 113.33669565125881, 184.3475849904938, 53.892381445194644, 34.513266049501496, 29.92800091582194, 29.411114018409396, 29.1544954976037, 23.120412620546823, 20.658497056789827, 20.49791263329709, 19.605651141573937, 19.0733119330424, 18.951574502600973, 18.899804878929825, 18.899787442838324, 18.89834039918097, 18.73259946953402, 18.599142057228956, 18.59913856135781, 18.564650889930416, 17.078649482913242, 17.00163180921896, 16.907895350319894, 15.21309525682432, 15.198949378559657, 14.346150776001128, 14.34596094337349, 12.702317757289036, 6.773326121906056, 6.743323506570886, 6.43128143854746, 5.913981470201679, 25.22024244566897, 143.91437844104058, 33.62490890244542, 52.720544901432206, 160.24871864648287, 174.98429581984703, 35.62687749167771, 189.35676276004855, 229.3399161721302, 151.02885932716714, 191.38072333241087, 124.65752815346218, 516.1012562354624, 63.587842083340405, 30.585499504784813, 134.49530178081736, 296.15648450114173, 100.08540268912932, 52.24770961157154, 132.23219025889748, 408.58292385885017, 78.732090669753, 113.33669565125881, 104.3531267503505, 73.38067596195755, 140.2420534074223, 136.54919670483855, 729.2635166354306, 104.9068019288426, 30.241524693339226, 20.016496733142663, 17.352005657771453, 16.78660155612264, 16.661343419822593, 16.558237699068254, 16.086037360624385, 15.826659272580903, 15.643963076865845, 15.643939676748163, 15.31902626931325, 15.31902626931325, 15.31902626931325, 15.31902626931325, 14.637459065493214, 14.394019095590819, 14.393877660047233, 13.987480265793316, 13.987480265793316, 13.987480265793316, 13.987480265793316, 13.329851039537859, 12.071216362077006, 11.88801463602201, 11.562804272320415, 11.398755087604677, 11.258279226473114, 11.1565843864634, 11.1565843864634, 11.07505861046969, 35.393667252074174, 45.041256406388726, 81.9273237353028, 36.71971348745758, 83.03601680158177, 176.18969921469525, 41.45533529250062, 90.61573301877652, 76.52022428293184, 25.555756939680247, 60.59736676378359, 38.341506040826275, 28.584392287827516, 729.2635166354306, 45.08171644829084, 67.41948952105888, 28.91730465907291, 124.65752815346218, 516.1012562354624, 85.71276190057975, 84.99251135981342, 134.49530178081736, 150.42980624195386, 18.825803289567485, 17.868904143345155, 17.408807661968293, 16.8408846219031, 16.8408846219031, 16.8408846219031, 16.52256151865698, 15.17295930675816, 14.377126877558931, 13.808995020230833, 13.808995020230833, 11.644217098210353, 10.379833760796704, 9.227347343723613, 8.44501139938944, 6.46672781755093, 6.2371121357359804, 6.232262838624455, 5.4864476171486345, 4.784317146896088, 4.377259996656915, 4.280480271899419, 4.157625124686942, 28.055244581647084, 4.033299749032994, 3.7620275106799568, 21.09196633456046, 3.441666974673289, 3.1909173403833626, 18.386970399389035, 47.548561870732556, 47.09287635089703, 39.057571535061, 64.23966775904823, 16.808818614798074, 102.97350304539003, 102.71786589143701, 137.85949217999826, 78.732090669753, 135.6232206556443, 86.25258496209013, 177.24336213508505, 729.2635166354306, 78.578036380904, 176.18969921469525, 71.47554737059967, 64.39683966359516, 182.55063956028897, 155.48731741540362, 160.24871864648287, 105.8184377110416, 516.1012562354624, 53.230349608398484, 18.59337938442166, 18.046695486356597, 16.722857467239056, 15.575712059131373, 13.434102159771301, 11.343848100687413, 11.282684671972131, 10.691516806572185, 10.510304620762419, 10.474847077771956, 10.318184826484522, 9.770806813733309, 8.890490957112208, 8.890490957112208, 8.890490957112208, 8.890490957112208, 8.198830260050704, 7.178705576909975, 6.291953836080931, 6.1600164467007845, 5.5426434957228015, 5.29246088723562, 4.943100060558144, 4.772474587936991, 4.662230590472926, 4.66204996853198, 4.510737780902513, 4.423674446261249, 4.344984161729886, 14.48582998103436, 29.510042587042207, 86.25258496209013, 80.27772358510504, 105.8184377110416, 9.73290055777941, 22.54691308784333, 27.61022811689809, 39.680036805035535, 182.55063956028897, 363.7686517589107, 60.34989003469303, 160.24871864648287, 104.9068019288426, 140.54851776356054, 184.3475849904938, 151.02885932716714, 136.54919670483855, 19.45876905054897, 9.885543932738729, 7.903105088762804, 7.611419224072862, 6.236206937284285, 5.168794697659742, 5.084544639176056, 4.593596915748105, 4.38241147710823, 4.284939239859316, 3.811461435674996, 3.2740176407103254, 3.2740176407103254, 3.0649031781489797, 2.9307300380642403, 2.8891959117303916, 2.7977380707866826, 2.681489198685905, 2.6630691445721144, 2.5763152910169422, 2.325130994982289, 2.2823917089580505, 2.165596959171663, 2.165596959171663, 2.1158841548045255, 2.088788138791787, 2.088788138791787, 2.088788138791787, 1.9707254298176782, 1.8511858359473168, 13.330099474590122, 3.9241692190966626, 49.354039092141434, 37.63353225886032, 82.3849452377842, 66.2921649344538, 73.38067596195755, 158.9434676075067, 29.069546056556586, 100.08540268912932, 45.28949065825776, 104.3531267503505, 134.93420997207318, 15.624203447829252, 11.971072091676126, 9.882588191656186, 7.559092005168756, 7.191585211517988, 5.333938267598416, 5.1493593011935435, 3.7777702628061642, 3.341607617362103, 3.0204318354967694, 2.9251767769461825, 2.9247701292848496, 2.715569562724586, 2.709436670199251, 2.635903731336561, 2.5965039332568107, 2.406188763868755, 2.315123159965274, 2.0877450005405356, 2.072392334368014, 2.0617269727213436, 18.785675370685183, 2.023129004402517, 1.919968287463623, 1.9199049919137114, 1.9197529166478458, 1.8424795402492498, 1.8423765946546964, 1.8286074146652251, 1.8277093186484035, 1.8277093186484035, 1.8277093186484035, 39.057571535061, 36.78146417627816, 2.5280929008816218, 22.911052529380424, 73.31044362363326], \"Category\": [\"Default\", \"Default\", \"Default\", \"Default\", \"Default\", \"Default\", \"Default\", \"Default\", \"Default\", \"Default\", \"Default\", \"Default\", \"Default\", \"Default\", \"Default\", \"Default\", \"Default\", \"Default\", \"Default\", \"Default\", \"Default\", \"Default\", \"Default\", \"Default\", \"Default\", \"Default\", \"Default\", \"Default\", \"Default\", \"Default\", \"Topic1\", \"Topic1\", \"Topic1\", \"Topic1\", \"Topic1\", \"Topic1\", \"Topic1\", \"Topic1\", \"Topic1\", \"Topic1\", \"Topic1\", \"Topic1\", \"Topic1\", \"Topic1\", \"Topic1\", \"Topic1\", \"Topic1\", \"Topic1\", \"Topic1\", \"Topic1\", \"Topic1\", \"Topic1\", \"Topic1\", \"Topic1\", \"Topic1\", \"Topic1\", \"Topic1\", \"Topic1\", \"Topic1\", \"Topic1\", \"Topic1\", \"Topic1\", \"Topic1\", \"Topic1\", \"Topic1\", \"Topic1\", \"Topic1\", \"Topic1\", \"Topic1\", \"Topic1\", \"Topic1\", \"Topic1\", \"Topic1\", \"Topic1\", \"Topic1\", \"Topic1\", \"Topic1\", \"Topic1\", \"Topic1\", \"Topic1\", \"Topic1\", \"Topic1\", \"Topic1\", \"Topic1\", \"Topic1\", \"Topic2\", \"Topic2\", \"Topic2\", \"Topic2\", \"Topic2\", \"Topic2\", \"Topic2\", \"Topic2\", \"Topic2\", \"Topic2\", \"Topic2\", \"Topic2\", \"Topic2\", \"Topic2\", \"Topic2\", \"Topic2\", \"Topic2\", \"Topic2\", \"Topic2\", \"Topic2\", \"Topic2\", \"Topic2\", \"Topic2\", \"Topic2\", \"Topic2\", \"Topic2\", \"Topic2\", \"Topic2\", \"Topic2\", \"Topic2\", \"Topic2\", \"Topic2\", \"Topic2\", \"Topic2\", \"Topic2\", \"Topic2\", \"Topic2\", \"Topic2\", \"Topic2\", \"Topic2\", \"Topic2\", \"Topic2\", \"Topic2\", \"Topic2\", \"Topic2\", \"Topic2\", \"Topic2\", \"Topic2\", \"Topic2\", \"Topic2\", \"Topic2\", \"Topic2\", \"Topic2\", \"Topic2\", \"Topic2\", \"Topic2\", \"Topic2\", \"Topic2\", \"Topic2\", \"Topic3\", \"Topic3\", \"Topic3\", \"Topic3\", \"Topic3\", \"Topic3\", \"Topic3\", \"Topic3\", \"Topic3\", \"Topic3\", \"Topic3\", \"Topic3\", \"Topic3\", \"Topic3\", \"Topic3\", \"Topic3\", \"Topic3\", \"Topic3\", \"Topic3\", \"Topic3\", \"Topic3\", \"Topic3\", \"Topic3\", \"Topic3\", \"Topic3\", \"Topic3\", \"Topic3\", \"Topic3\", \"Topic3\", \"Topic3\", \"Topic3\", \"Topic3\", \"Topic3\", \"Topic3\", \"Topic3\", \"Topic3\", \"Topic3\", \"Topic3\", \"Topic3\", \"Topic3\", \"Topic3\", \"Topic3\", \"Topic3\", \"Topic3\", \"Topic3\", \"Topic3\", \"Topic3\", \"Topic3\", \"Topic3\", \"Topic3\", \"Topic3\", \"Topic3\", \"Topic3\", \"Topic3\", \"Topic3\", \"Topic3\", \"Topic3\", \"Topic3\", \"Topic3\", \"Topic3\", \"Topic4\", \"Topic4\", \"Topic4\", \"Topic4\", \"Topic4\", \"Topic4\", \"Topic4\", \"Topic4\", \"Topic4\", \"Topic4\", \"Topic4\", \"Topic4\", \"Topic4\", \"Topic4\", \"Topic4\", \"Topic4\", \"Topic4\", \"Topic4\", \"Topic4\", \"Topic4\", \"Topic4\", \"Topic4\", \"Topic4\", \"Topic4\", \"Topic4\", \"Topic4\", \"Topic4\", \"Topic4\", \"Topic4\", \"Topic4\", \"Topic4\", \"Topic4\", \"Topic4\", \"Topic4\", \"Topic4\", \"Topic4\", \"Topic4\", \"Topic4\", \"Topic4\", \"Topic4\", \"Topic4\", \"Topic4\", \"Topic4\", \"Topic4\", \"Topic4\", \"Topic4\", \"Topic4\", \"Topic4\", \"Topic4\", \"Topic4\", \"Topic4\", \"Topic4\", \"Topic4\", \"Topic4\", \"Topic4\", \"Topic4\", \"Topic4\", \"Topic4\", \"Topic4\", \"Topic4\", \"Topic5\", \"Topic5\", \"Topic5\", \"Topic5\", \"Topic5\", \"Topic5\", \"Topic5\", \"Topic5\", \"Topic5\", \"Topic5\", \"Topic5\", \"Topic5\", \"Topic5\", \"Topic5\", \"Topic5\", \"Topic5\", \"Topic5\", \"Topic5\", \"Topic5\", \"Topic5\", \"Topic5\", \"Topic5\", \"Topic5\", \"Topic5\", \"Topic5\", \"Topic5\", \"Topic5\", \"Topic5\", \"Topic5\", \"Topic5\", \"Topic5\", \"Topic5\", \"Topic5\", \"Topic5\", \"Topic5\", \"Topic5\", \"Topic5\", \"Topic5\", \"Topic5\", \"Topic5\", \"Topic5\", \"Topic5\", \"Topic5\", \"Topic5\", \"Topic5\", \"Topic5\", \"Topic5\", \"Topic5\", \"Topic5\", \"Topic5\", \"Topic5\", \"Topic5\", \"Topic5\", \"Topic5\", \"Topic5\", \"Topic5\", \"Topic5\", \"Topic5\", \"Topic5\", \"Topic6\", \"Topic6\", \"Topic6\", \"Topic6\", \"Topic6\", \"Topic6\", \"Topic6\", \"Topic6\", \"Topic6\", \"Topic6\", \"Topic6\", \"Topic6\", \"Topic6\", \"Topic6\", \"Topic6\", \"Topic6\", \"Topic6\", \"Topic6\", \"Topic6\", \"Topic6\", \"Topic6\", \"Topic6\", \"Topic6\", \"Topic6\", \"Topic6\", \"Topic6\", \"Topic6\", \"Topic6\", \"Topic6\", \"Topic6\", \"Topic6\", \"Topic6\", \"Topic6\", \"Topic6\", \"Topic6\", \"Topic6\", \"Topic6\", \"Topic6\", \"Topic6\", \"Topic6\", \"Topic6\", \"Topic6\", \"Topic6\", \"Topic6\", \"Topic6\", \"Topic6\", \"Topic6\", \"Topic6\", \"Topic6\", \"Topic6\", \"Topic6\", \"Topic6\", \"Topic6\", \"Topic7\", \"Topic7\", \"Topic7\", \"Topic7\", \"Topic7\", \"Topic7\", \"Topic7\", \"Topic7\", \"Topic7\", \"Topic7\", \"Topic7\", \"Topic7\", \"Topic7\", \"Topic7\", \"Topic7\", \"Topic7\", \"Topic7\", \"Topic7\", \"Topic7\", \"Topic7\", \"Topic7\", \"Topic7\", \"Topic7\", \"Topic7\", \"Topic7\", \"Topic7\", \"Topic7\", \"Topic7\", \"Topic7\", \"Topic7\", \"Topic7\", \"Topic7\", \"Topic7\", \"Topic7\", \"Topic7\", \"Topic7\", \"Topic7\", \"Topic7\", \"Topic7\", \"Topic7\", \"Topic7\", \"Topic7\", \"Topic7\", \"Topic7\", \"Topic7\", \"Topic7\", \"Topic7\", \"Topic7\", \"Topic7\", \"Topic7\", \"Topic7\", \"Topic7\", \"Topic8\", \"Topic8\", \"Topic8\", \"Topic8\", \"Topic8\", \"Topic8\", \"Topic8\", \"Topic8\", \"Topic8\", \"Topic8\", \"Topic8\", \"Topic8\", \"Topic8\", \"Topic8\", \"Topic8\", \"Topic8\", \"Topic8\", \"Topic8\", \"Topic8\", \"Topic8\", \"Topic8\", \"Topic8\", \"Topic8\", \"Topic8\", \"Topic8\", \"Topic8\", \"Topic8\", \"Topic8\", \"Topic8\", \"Topic8\", \"Topic8\", \"Topic8\", \"Topic8\", \"Topic8\", \"Topic8\", \"Topic8\", \"Topic8\", \"Topic8\", \"Topic8\", \"Topic8\", \"Topic8\", \"Topic8\", \"Topic8\", \"Topic8\", \"Topic8\", \"Topic8\", \"Topic8\", \"Topic8\", \"Topic9\", \"Topic9\", \"Topic9\", \"Topic9\", \"Topic9\", \"Topic9\", \"Topic9\", \"Topic9\", \"Topic9\", \"Topic9\", \"Topic9\", \"Topic9\", \"Topic9\", \"Topic9\", \"Topic9\", \"Topic9\", \"Topic9\", \"Topic9\", \"Topic9\", \"Topic9\", \"Topic9\", \"Topic9\", \"Topic9\", \"Topic9\", \"Topic9\", \"Topic9\", \"Topic9\", \"Topic9\", \"Topic9\", \"Topic9\", \"Topic9\", \"Topic9\", \"Topic9\", \"Topic9\", \"Topic9\", \"Topic9\", \"Topic9\", \"Topic9\", \"Topic9\", \"Topic9\", \"Topic9\", \"Topic9\", \"Topic9\", \"Topic10\", \"Topic10\", \"Topic10\", \"Topic10\", \"Topic10\", \"Topic10\", \"Topic10\", \"Topic10\", \"Topic10\", \"Topic10\", \"Topic10\", \"Topic10\", \"Topic10\", \"Topic10\", \"Topic10\", \"Topic10\", \"Topic10\", \"Topic10\", \"Topic10\", \"Topic10\", \"Topic10\", \"Topic10\", \"Topic10\", \"Topic10\", \"Topic10\", \"Topic10\", \"Topic10\", \"Topic10\", \"Topic10\", \"Topic10\", \"Topic10\", \"Topic10\", \"Topic10\", \"Topic10\", \"Topic10\", \"Topic10\", \"Topic10\"], \"logprob\": [30.0, 29.0, 28.0, 27.0, 26.0, 25.0, 24.0, 23.0, 22.0, 21.0, 20.0, 19.0, 18.0, 17.0, 16.0, 15.0, 14.0, 13.0, 12.0, 11.0, 10.0, 9.0, 8.0, 7.0, 6.0, 5.0, 4.0, 3.0, 2.0, 1.0, -3.9762001037597656, -4.338500022888184, -4.670899868011475, -4.8495001792907715, -4.9496002197265625, -4.979599952697754, -5.007999897003174, -5.011099815368652, -5.150300025939941, -5.159800052642822, -5.3267998695373535, -5.346099853515625, -5.35860013961792, -5.361100196838379, -5.368800163269043, -5.3815999031066895, -5.392399787902832, -5.431099891662598, -5.43179988861084, -5.464399814605713, -5.473700046539307, -5.490099906921387, -5.490099906921387, -5.490099906921387, -5.505799770355225, -5.518400192260742, -5.527200222015381, -5.5304999351501465, -5.535099983215332, -5.551700115203857, -4.702300071716309, -4.921599864959717, -4.143799781799316, -4.92080020904541, -4.199699878692627, -4.575799942016602, -3.187999963760376, -3.5016000270843506, -4.528800010681152, -4.331699848175049, -4.2221999168396, -4.904300212860107, -4.5320000648498535, -4.414400100708008, -5.137199878692627, -4.547599792480469, -4.8557000160217285, -4.604599952697754, -4.901700019836426, -4.94290018081665, -4.903800010681152, -4.847799777984619, -5.057499885559082, -5.049200057983398, -5.048399925231934, -4.281499862670898, -4.39709997177124, -4.6178998947143555, -4.803199768066406, -4.918799877166748, -4.939599990844727, -4.988800048828125, -5.062399864196777, -5.245800018310547, -5.250400066375732, -5.3531999588012695, -5.391200065612793, -5.477099895477295, -5.505899906158447, -5.569300174713135, -5.612599849700928, -5.65310001373291, -5.662499904632568, -5.664599895477295, -5.67609977722168, -5.73390007019043, -5.734799861907959, -5.743500232696533, -5.758999824523926, -5.8053998947143555, -5.822700023651123, -5.833899974822998, -5.865099906921387, -5.8979997634887695, -5.939199924468994, -5.337699890136719, -4.101200103759766, -3.5171000957489014, -3.0676000118255615, -4.731800079345703, -4.982600212097168, -3.5030999183654785, -4.749199867248535, -4.044300079345703, -4.683800220489502, -4.678199768066406, -4.036399841308594, -4.447199821472168, -5.295300006866455, -4.535099983215332, -4.581099987030029, -4.699900150299072, -3.9688000679016113, -4.354100227355957, -3.886199951171875, -4.700500011444092, -4.973100185394287, -4.816199779510498, -4.783599853515625, -4.291900157928467, -4.884300231933594, -4.88700008392334, -4.8470001220703125, -4.914599895477295, -4.420000076293945, -4.511899948120117, -4.529200077056885, -4.803400039672852, -4.933800220489502, -4.933800220489502, -4.98360013961792, -5.111800193786621, -5.219799995422363, -5.312300205230713, -5.314599990844727, -5.348800182342529, -5.350900173187256, -5.3790998458862305, -5.389999866485596, -5.414700031280518, -5.419000148773193, -5.4355998039245605, -5.554100036621094, -5.584700107574463, -5.584700107574463, -5.59250020980835, -5.616000175476074, -5.624199867248535, -5.624199867248535, -5.624199867248535, -5.624199867248535, -5.624199867248535, -5.624199867248535, -5.624199867248535, -5.624199867248535, -3.2929999828338623, -4.872900009155273, -4.693399906158447, -4.870800018310547, -3.7620999813079834, -4.42080020904541, -4.428599834442139, -3.559299945831299, -3.918299913406372, -3.2934999465942383, -4.34630012512207, -4.849599838256836, -3.661600112915039, -4.753699779510498, -4.493899822235107, -4.690700054168701, -4.399600028991699, -4.559299945831299, -4.682000160217285, -4.57450008392334, -4.04040002822876, -3.9372000694274902, -4.458600044250488, -4.369900226593018, -4.474699974060059, -4.804800033569336, -4.532100200653076, -4.803500175476074, -4.779900074005127, -4.241399765014648, -4.307000160217285, -4.596700191497803, -4.534599781036377, -4.7322998046875, -4.855899810791016, -4.856400012969971, -5.002399921417236, -5.053299903869629, -5.155799865722656, -5.228400230407715, -5.236400127410889, -5.298999786376953, -5.300300121307373, -5.307600021362305, -5.347099781036377, -5.350500106811523, -5.388999938964844, -5.402200222015381, -5.402200222015381, -5.416100025177002, -5.4197998046875, -5.443600177764893, -5.443600177764893, -5.443600177764893, -5.443600177764893, -5.443600177764893, -5.443600177764893, -5.443600177764893, -5.446499824523926, -4.499899864196777, -3.6426000595092773, -5.1209001541137695, -4.191999912261963, -3.9333999156951904, -4.321800231933594, -3.9368999004364014, -5.182799816131592, -3.330399990081787, -4.55210018157959, -4.32889986038208, -4.332099914550781, -4.1346001625061035, -4.3993000984191895, -5.2129998207092285, -4.017199993133545, -4.497900009155273, -4.34250020980835, -4.522799968719482, -4.358500003814697, -3.7962000370025635, -4.8206000328063965, -4.488800048828125, -4.5208001136779785, -4.554500102996826, -4.549200057983398, -4.681700229644775, -4.69290018081665, -4.752399921417236, -4.73199987411499, -3.887500047683716, -4.341800212860107, -4.488100051879883, -4.50600004196167, -4.514999866485596, -4.75439977645874, -4.871399879455566, -4.879499912261963, -4.925899982452393, -4.954599857330322, -4.961299896240234, -4.964200019836426, -4.964200019836426, -4.964200019836426, -4.973400115966797, -4.980899810791016, -4.980899810791016, -4.982900142669678, -5.070300102233887, -5.075099945068359, -5.080900192260742, -5.1921000480651855, -5.1930999755859375, -5.254199981689453, -5.254300117492676, -5.383699893951416, -6.074399948120117, -6.079400062561035, -6.133500099182129, -6.230100154876709, -4.782299995422363, -3.3587000370025635, -4.685500144958496, -4.331900119781494, -3.6161000728607178, -3.689500093460083, -4.697299957275391, -3.7432000637054443, -3.722399950027466, -3.9783999919891357, -3.9330999851226807, -4.139599800109863, -3.7058000564575195, -4.523600101470947, -4.820899963378906, -4.3678998947143555, -4.139500141143799, -4.467400074005127, -4.665800094604492, -4.410799980163574, -4.099100112915039, -4.5808000564575195, -4.4918999671936035, -4.522900104522705, -4.6656999588012695, -4.56790018081665, -4.627500057220459, -4.5584001541137695, -4.664999961853027, -4.030399799346924, -4.457699775695801, -4.6072001457214355, -4.642099857330322, -4.649899959564209, -4.656499862670898, -4.686999797821045, -4.704100131988525, -4.716400146484375, -4.716400146484375, -4.73859977722168, -4.73859977722168, -4.73859977722168, -4.73859977722168, -4.786799907684326, -4.804599761962891, -4.804599761962891, -4.835000038146973, -4.835000038146973, -4.835000038146973, -4.835000038146973, -4.886300086975098, -4.992499828338623, -5.008900165557861, -5.03879976272583, -5.054200172424316, -5.067599773406982, -5.077400207519531, -5.077400207519531, -5.085299968719482, -4.006800174713135, -3.818000078201294, -3.3803000450134277, -4.115300178527832, -3.475800037384033, -3.1672000885009766, -4.22629976272583, -3.79259991645813, -3.9988999366760254, -4.58459997177124, -4.244999885559082, -4.482500076293945, -4.594399929046631, -3.746999979019165, -4.522500038146973, -4.495800018310547, -4.6596999168396, -4.555200099945068, -4.446300029754639, -4.662199974060059, -4.6666998863220215, -4.6722002029418945, -4.692800045013428, -4.375, -4.429500102996826, -4.4567999839782715, -4.491700172424316, -4.491700172424316, -4.491700172424316, -4.51170015335083, -4.601500034332275, -4.6585001945495605, -4.701300144195557, -4.701300144195557, -4.883399963378906, -5.007599830627441, -5.135799884796143, -5.23330020904541, -5.533199787139893, -5.5746002197265625, -5.575500011444092, -5.723400115966797, -5.886000156402588, -5.994100093841553, -6.021599769592285, -6.057600021362305, -4.15310001373291, -6.095399856567383, -6.183300018310547, -4.4847002029418945, -6.2982001304626465, -6.398200035095215, -4.654099941253662, -3.7741000652313232, -3.7890000343322754, -4.090099811553955, -3.7126998901367188, -4.879499912261963, -3.3578999042510986, -3.3682000637054443, -3.2797999382019043, -3.749799966812134, -3.576200008392334, -3.9772000312805176, -3.7444000244140625, -2.9911999702453613, -4.2692999839782715, -3.9574999809265137, -4.355999946594238, -4.39169979095459, -4.135000228881836, -4.280099868774414, -4.339600086212158, -4.425899982452393, -4.396999835968018, -3.156599998474121, -4.236700057983398, -4.267899990081787, -4.347700119018555, -4.422399997711182, -4.578800201416016, -4.759399890899658, -4.7652997970581055, -4.823200225830078, -4.841700077056885, -4.845300197601318, -4.861700057983398, -4.92080020904541, -5.023900032043457, -5.023900032043457, -5.023900032043457, -5.023900032043457, -5.113100051879883, -5.261099815368652, -5.410399913787842, -5.434700012207031, -5.556700229644775, -5.6107001304626465, -5.691400051116943, -5.733399868011475, -5.761300086975098, -5.76140022277832, -5.801199913024902, -5.824900150299072, -5.846700191497803, -4.652400016784668, -4.2642998695373535, -3.5490000247955322, -3.6591999530792236, -3.5829999446868896, -5.328100204467773, -4.888199806213379, -4.827099800109863, -4.736199855804443, -4.1255998611450195, -4.030799865722656, -4.655399799346924, -4.4182000160217285, -4.632400035858154, -4.637800216674805, -4.656199932098389, -4.742300033569336, -4.864999771118164, -3.0051000118255615, -3.726099967956543, -3.9730000495910645, -4.015100002288818, -4.241499900817871, -4.46120023727417, -4.480800151824951, -4.6031999588012695, -4.660900115966797, -4.688700199127197, -4.8358001708984375, -5.034200191497803, -5.034200191497803, -5.123499870300293, -5.185200214385986, -5.205100059509277, -5.250500202178955, -5.311200141906738, -5.321100234985352, -5.369500160217285, -5.524199962615967, -5.553199768066406, -5.636600017547607, -5.636600017547607, -5.6743998527526855, -5.6956000328063965, -5.6956000328063965, -5.6956000328063965, -5.793700218200684, -5.903800010681152, -4.07390022277832, -5.31850004196167, -3.9639999866485596, -4.407299995422363, -4.384200096130371, -4.619100093841553, -4.627200126647949, -4.441699981689453, -5.116700172424316, -4.921000003814697, -5.271200180053711, -5.301300048828125, -5.316800117492676, -3.1658999919891357, -3.449399948120117, -3.6570000648498535, -3.9535000324249268, -4.009699821472168, -4.354899883270264, -4.396699905395508, -4.778600215911865, -4.938700199127197, -5.075399875640869, -5.119800090789795, -5.119999885559082, -5.225100040435791, -5.228400230407715, -5.268199920654297, -5.290299892425537, -5.404200077056885, -5.463699817657471, -5.6296000480651855, -5.6417999267578125, -5.6504998207092285, -3.4410998821258545, -5.6828999519348145, -5.772600173950195, -5.77269983291626, -5.772799968719482, -5.846199989318848, -5.84630012512207, -5.860099792480469, -5.860899925231934, -5.860899925231934, -5.860899925231934, -3.194999933242798, -4.324900150299072, -5.753200054168701, -5.545100212097168, -5.454400062561035], \"loglift\": [30.0, 29.0, 28.0, 27.0, 26.0, 25.0, 24.0, 23.0, 22.0, 21.0, 20.0, 19.0, 18.0, 17.0, 16.0, 15.0, 14.0, 13.0, 12.0, 11.0, 10.0, 9.0, 8.0, 7.0, 6.0, 5.0, 4.0, 3.0, 2.0, 1.0, 1.3193, 1.3171, 1.3142, 1.3123, 1.311, 1.3106, 1.3102, 1.3101, 1.308, 1.3079, 1.3049, 1.3045, 1.3043, 1.3042, 1.3041, 1.3038, 1.3036, 1.3028, 1.3027, 1.302, 1.3018, 1.3015, 1.3015, 1.3015, 1.3011, 1.3008, 1.3006, 1.3005, 1.3004, 1.3, 1.2563, 1.264, 1.2127, 1.2551, 1.1346, 1.0376, 0.59, 0.6221, 0.9401, 0.784, 0.5679, 0.9671, 0.6733, 0.5731, 1.096, 0.5787, 0.8036, 0.3301, 0.4443, 0.5104, 0.2591, 0.0478, 0.6594, 0.5524, 0.4876, 1.4057, 1.4048, 1.4027, 1.4006, 1.399, 1.3987, 1.398, 1.3969, 1.3936, 1.3936, 1.3915, 1.3906, 1.3886, 1.3879, 1.3863, 1.3851, 1.384, 1.3837, 1.3836, 1.3833, 1.3816, 1.3815, 1.3813, 1.3808, 1.3793, 1.3787, 1.3783, 1.3772, 1.376, 1.3745, 1.3671, 1.2027, 1.1332, 1.0535, 1.2394, 1.2547, 0.9704, 1.1939, 0.948, 1.1096, 1.0851, 0.8414, 0.9053, 1.2225, 0.8513, 0.8455, 0.8565, 0.3885, 0.6333, 0.2375, 0.8356, 0.9459, 0.6522, 0.5179, -0.5139, 0.6425, 0.6419, -0.1679, 0.4717, 2.0133, 2.0118, 2.0115, 2.0058, 2.0026, 2.0026, 2.0012, 1.9974, 1.9938, 1.9904, 1.9904, 1.989, 1.9889, 1.9878, 1.9874, 1.9863, 1.9862, 1.9855, 1.98, 1.9786, 1.9785, 1.9782, 1.9769, 1.9765, 1.9765, 1.9765, 1.9765, 1.9765, 1.9765, 1.9765, 1.9765, 1.6026, 1.826, 1.7499, 1.7847, 1.4304, 1.5581, 1.5604, 1.1198, 1.2349, 0.8277, 1.3543, 1.606, 0.8119, 1.5121, 1.2848, 1.4241, 1.1726, 1.2047, 1.3239, 1.194, 0.6099, 0.4201, 0.9658, 0.4202, 0.4601, 1.4158, -0.7542, 1.2446, 0.0979, 2.1069, 2.106, 2.1008, 2.098, 2.0978, 2.0947, 2.0947, 2.0905, 2.0889, 2.0855, 2.0828, 2.0825, 2.08, 2.08, 2.0797, 2.078, 2.0779, 2.0762, 2.0756, 2.0756, 2.0749, 2.0748, 2.0737, 2.0737, 2.0737, 2.0737, 2.0737, 2.0737, 2.0737, 2.0736, 2.0488, 1.8428, 2.011, 1.7316, 1.5318, 1.6364, 1.409, 1.958, 1.0269, 1.6399, 1.4926, 1.4365, 1.2517, 1.3229, 1.9628, 0.7729, 1.2104, 0.981, 1.1148, 0.8045, -0.0182, 1.4493, 0.8126, 0.8656, 0.8699, 0.4431, 0.6116, 0.1849, 0.8872, 0.4212, 2.4955, 2.4868, 2.4831, 2.4826, 2.4824, 2.4748, 2.4705, 2.4702, 2.4683, 2.4671, 2.4668, 2.4667, 2.4667, 2.4667, 2.4663, 2.466, 2.466, 2.4659, 2.4618, 2.4616, 2.4613, 2.4557, 2.4556, 2.4523, 2.4523, 2.4445, 2.3826, 2.382, 2.3753, 2.3625, 2.36, 2.0421, 2.1692, 2.0731, 1.6771, 1.5158, 2.0996, 1.3831, 1.2124, 1.3741, 1.1827, 1.4049, 0.4179, 1.694, 2.1286, 1.1005, 0.5396, 1.2965, 1.7482, 1.0746, 0.2581, 1.4232, 1.1477, 1.1993, 1.4087, 0.8587, 0.8258, -0.7805, 1.0519, 2.9304, 2.9158, 2.9091, 2.9073, 2.907, 2.9066, 2.9051, 2.9042, 2.9035, 2.9035, 2.9023, 2.9023, 2.9023, 2.9023, 2.8996, 2.8986, 2.8986, 2.8968, 2.8968, 2.8968, 2.8968, 2.8936, 2.8867, 2.8855, 2.8834, 2.8822, 2.8813, 2.8805, 2.8805, 2.8799, 2.7967, 2.7444, 2.5838, 2.6514, 2.4749, 2.0312, 2.4191, 2.0707, 2.0336, 2.5445, 2.0207, 2.241, 2.4228, 0.0309, 2.039, 1.6632, 2.3458, 0.9892, -0.3226, 1.2568, 1.2607, 0.7962, 0.6637, 3.0598, 3.0574, 3.0562, 3.0545, 3.0545, 3.0545, 3.0535, 3.049, 3.0458, 3.0434, 3.0434, 3.0317, 3.0225, 3.012, 3.0031, 2.9701, 2.9648, 2.9647, 2.9443, 2.9186, 2.8995, 2.8944, 2.8875, 2.8827, 2.88, 2.8618, 2.8364, 2.8358, 2.8115, 2.8042, 2.7341, 2.7289, 2.6149, 2.4947, 2.6686, 2.3777, 2.3698, 2.1639, 2.2541, 1.8839, 1.9355, 1.4481, 0.7867, 1.7366, 1.241, 1.7446, 1.8132, 1.028, 1.0433, 0.9536, 1.2824, -0.2733, 3.2387, 3.2105, 3.2091, 3.2055, 3.2019, 3.1934, 3.1819, 3.1815, 3.1773, 3.176, 3.1757, 3.1744, 3.1698, 3.1611, 3.1611, 3.1611, 3.1611, 3.1529, 3.1377, 3.1203, 3.1172, 3.1008, 3.093, 3.0806, 3.0738, 3.0691, 3.0691, 3.0623, 3.0582, 3.0542, 3.0445, 2.7209, 2.3637, 2.3253, 2.1252, 2.7664, 2.3662, 2.2247, 1.9529, 1.0374, 0.4427, 1.6145, 0.875, 1.0845, 0.7867, 0.4969, 0.6103, 0.5883, 4.3966, 4.3528, 4.3297, 4.3252, 4.2981, 4.2661, 4.263, 4.2421, 4.2315, 4.2262, 4.1961, 4.1498, 4.1498, 4.1264, 4.1095, 4.1039, 4.0907, 4.0725, 4.0694, 4.0542, 4.002, 3.9916, 3.9606, 3.9606, 3.9461, 3.9378, 3.9378, 3.9378, 3.8979, 3.8503, 3.706, 3.6843, 2.5069, 2.3348, 1.5743, 1.5568, 1.4472, 0.8597, 1.8836, 0.8429, 1.2857, 0.4209, 0.1484, 4.4553, 4.4381, 4.4222, 4.3937, 4.3874, 4.341, 4.3344, 4.2623, 4.2249, 4.1892, 4.1768, 4.1768, 4.1459, 4.1449, 4.1325, 4.1255, 4.0877, 4.0668, 4.0043, 3.9994, 3.9959, 3.9958, 3.9825, 3.9451, 3.945, 3.945, 3.9126, 3.9126, 3.9063, 3.9061, 3.9061, 3.9061, 3.51, 2.4401, 3.6894, 1.6933, 0.6208]}, \"token.table\": {\"Topic\": [5, 3, 3, 3, 1, 3, 4, 5, 8, 9, 3, 3, 10, 4, 6, 2, 8, 7, 4, 4, 3, 5, 1, 2, 3, 5, 6, 4, 1, 7, 8, 1, 2, 9, 4, 8, 9, 1, 2, 6, 1, 10, 3, 9, 4, 1, 2, 8, 1, 5, 2, 6, 1, 5, 2, 1, 3, 1, 3, 4, 3, 5, 10, 1, 3, 4, 7, 6, 2, 3, 6, 9, 5, 5, 6, 1, 2, 3, 4, 2, 3, 1, 2, 3, 9, 1, 8, 6, 3, 10, 8, 1, 5, 9, 6, 6, 3, 7, 9, 7, 10, 2, 9, 7, 4, 1, 3, 5, 9, 1, 8, 1, 3, 4, 7, 1, 9, 3, 4, 6, 8, 10, 10, 1, 2, 3, 4, 5, 6, 7, 8, 6, 1, 2, 10, 2, 4, 1, 5, 1, 7, 2, 1, 7, 7, 9, 1, 6, 9, 1, 2, 3, 1, 5, 4, 6, 2, 1, 3, 3, 4, 5, 9, 7, 2, 3, 5, 7, 3, 1, 10, 2, 5, 8, 7, 1, 5, 8, 2, 4, 6, 1, 4, 4, 5, 10, 4, 5, 10, 2, 9, 6, 9, 4, 1, 2, 3, 6, 1, 9, 4, 6, 2, 1, 2, 4, 5, 8, 2, 7, 9, 9, 3, 1, 2, 6, 3, 1, 2, 5, 6, 7, 3, 8, 10, 1, 3, 9, 1, 2, 3, 4, 2, 1, 4, 5, 8, 5, 9, 9, 3, 1, 3, 7, 1, 9, 3, 6, 2, 4, 5, 6, 7, 8, 9, 1, 1, 8, 3, 2, 4, 1, 2, 5, 1, 1, 2, 3, 3, 1, 3, 1, 9, 6, 3, 9, 3, 1, 3, 4, 7, 1, 2, 3, 8, 4, 1, 2, 3, 4, 5, 7, 8, 10, 2, 2, 4, 7, 8, 1, 4, 8, 1, 2, 5, 9, 10, 3, 4, 9, 6, 5, 3, 2, 5, 8, 2, 6, 3, 1, 1, 2, 7, 8, 1, 2, 3, 4, 7, 10, 6, 7, 7, 9, 7, 10, 8, 10, 8, 7, 1, 2, 5, 1, 3, 4, 7, 1, 7, 1, 3, 4, 8, 2, 4, 2, 8, 8, 8, 8, 10, 7, 7, 9, 1, 2, 3, 4, 9, 7, 1, 7, 1, 3, 7, 8, 1, 2, 4, 5, 2, 9, 1, 2, 4, 10, 5, 5, 1, 3, 4, 8, 1, 1, 3, 6, 2, 2, 8, 4, 7, 3, 5, 6, 1, 6, 2, 3, 1, 8, 2, 10, 4, 2, 4, 9, 1, 1, 2, 3, 9, 10, 6, 1, 2, 4, 7, 9, 2, 4, 5, 7, 8, 3, 4, 1, 2, 3, 7, 6, 1, 2, 3, 4, 1, 3, 4, 8, 2, 4, 7, 8, 2, 7, 8, 2, 3, 7, 10, 2, 3, 5, 6, 2, 5, 1, 3, 8, 5, 10, 10, 2, 4, 6, 7, 8, 2, 5, 4, 2, 7, 2, 4, 6, 2, 8, 2, 3, 4, 8, 10, 2, 1, 7, 4, 2, 2, 4, 5, 8, 9, 5, 6, 3, 1, 9, 2, 7, 2, 2, 3, 4, 5, 1, 3, 4, 1, 6, 2, 1, 3, 6, 9, 4, 6, 4, 3, 4, 7, 4, 1, 5, 7, 8, 5, 5, 5, 2, 3, 6, 6, 2, 3, 1, 3, 9, 10, 1, 4, 5, 7, 1, 10, 4, 5, 5, 8, 9, 1, 8, 1, 2, 3, 9, 1, 9, 5, 6, 5, 6, 5, 1, 2, 3, 4, 7, 3, 8, 5, 5, 2, 4, 8, 2, 3, 5, 5, 2, 1, 2, 1, 2, 3, 1, 3, 7, 8, 9, 10, 2, 4, 10, 6, 8, 6, 5, 1, 3, 4, 5, 7, 8, 2, 4, 8, 5, 7, 6, 5, 2, 5, 6, 8, 4, 3, 2, 2, 3, 3, 3, 6, 1, 2, 5, 8, 1, 2, 5, 2, 5, 1, 10, 1, 7, 1, 4, 5, 4, 5, 1, 2, 2, 3, 4, 5, 10, 4, 2, 9, 2, 8, 4, 4, 3, 10, 1, 6, 6, 4, 7, 8, 5, 1, 2, 3, 5, 9, 1, 2, 3, 4, 7, 3, 7, 7, 3, 7, 7, 1, 2, 4, 7, 8, 10, 6, 9, 2, 10, 9, 4, 1, 10, 1, 4, 4, 5, 7, 5, 9, 3, 5, 7, 1, 2, 3, 8, 8, 4, 5, 8, 2, 3, 4, 9, 3, 8, 6, 2, 3, 4, 1, 5, 9, 10, 6, 1, 2, 3, 10, 5, 6, 8], \"Freq\": [0.9691083383458942, 0.9824389168956682, 0.9681239645490501, 0.9406780951235342, 0.3706288962633246, 0.20929631788987743, 0.1351705386372125, 0.2747014172304641, 0.01308101986811734, 0.43813688775469506, 0.9793835742308723, 0.9776325610285014, 0.4850302747313171, 0.9586921684923261, 0.9477679238338655, 0.40664122949348686, 0.576075075115773, 0.9683728507794078, 0.9545425388705486, 0.962438573887732, 0.9406780951235342, 0.9463034676103128, 0.9850829976543469, 0.46841784929163593, 0.17100969101123217, 0.24536173058133312, 0.11152805935515142, 0.9807186089685134, 0.9843316810424778, 0.9414153586813799, 0.8998378198225562, 0.269606836261603, 0.7189515633642746, 0.5401942801103299, 0.30823288311541724, 0.6164657662308345, 0.714863203558448, 0.980181596698359, 0.384825393145905, 0.5947301530436714, 0.9912536883719892, 0.5427771949021221, 0.9775218766985946, 0.4617664407796815, 0.930914627457531, 0.4484432093024564, 0.13702431395352835, 0.3986161860466279, 0.2942570873688702, 0.6865998705273637, 0.576730480744278, 0.39927494820757703, 0.9846950035075535, 0.9758844357140612, 0.9871756459212228, 0.7008833912925396, 0.28925346307311156, 0.4144254132405764, 0.09209453627568365, 0.4933635871911624, 0.5167690641509037, 0.45935027924524774, 0.8311899839413802, 0.18859782223811417, 0.2321203966007559, 0.18134405984434054, 0.3917031692637756, 0.9513263167770052, 0.6300112002298546, 0.16333623709662898, 0.18666998525329026, 0.023333748156661283, 0.9689922184100397, 0.9695846211556456, 0.9531411075974613, 0.1441532716838081, 0.5642570920194774, 0.1441532716838081, 0.1441532716838081, 0.23650515371490208, 0.7489329867638566, 0.42549708972743017, 0.3849735573724368, 0.04052353235499335, 0.14183236324247672, 0.9699590193738171, 0.9768863135889612, 0.8882352088484045, 0.3955550840917555, 0.3955550840917555, 0.9514472092698107, 0.9443112959660996, 0.03046165470858386, 0.01523082735429193, 0.9138962068394977, 0.9294025623608406, 0.21754535484175863, 0.7614087419461552, 0.4787464948831181, 0.94730481957412, 0.8343084067738564, 0.9491553397116876, 0.6525491618328647, 0.9138136649536369, 0.9807186089685134, 0.5799957177881657, 0.14630522610872648, 0.2664845189837518, 0.005225186646740232, 0.9944340697278872, 0.9211112420470841, 0.4876416193289249, 0.5063970662261912, 0.9764426666362953, 0.7215657761414678, 0.25483100859503666, 0.5096620171900733, 0.04971011543310858, 0.5136711928087887, 0.2485505771655429, 0.19884046173243433, 0.9260371477438746, 0.7364937460829983, 0.47993625351612107, 0.1453521224934538, 0.061706089737787, 0.11792719372110404, 0.0370236538426722, 0.05347861110608206, 0.09872974358045919, 0.005484985754469955, 0.9138962068394977, 0.4295664036402687, 0.5648002714529459, 0.431942463058855, 0.9471395873991567, 0.025598367227004235, 0.36827452943983113, 0.6253718424449963, 0.17821979720935505, 0.7841671077211622, 0.9412596019931986, 0.2972848779862929, 0.6795082925400979, 0.7974423343485263, 0.7001266137203142, 0.38039506550444385, 0.5533019134610092, 0.034581369591313076, 0.08671638771178929, 0.2849252739101648, 0.6194027693699234, 0.975809654793556, 0.9851284416616691, 0.9630527985918415, 0.932485711907968, 0.9650222750151578, 0.5171408940840975, 0.4765808239598545, 0.258736856678895, 0.45039378755215054, 0.26831970322255777, 0.019165693087325554, 0.8716706241703658, 0.1524156147502141, 0.07620780737510705, 0.34293513318798174, 0.43184424179227326, 0.9406780951235342, 0.8428158229762136, 0.1359380359639054, 0.602533849526538, 0.31782005249751455, 0.07283376203068041, 0.7438078463469685, 0.26765871771166233, 0.7137565805644329, 0.8579584219137152, 0.14451560253274828, 0.22881637067685148, 0.6141913107641802, 0.7477002033306704, 0.2406391458995261, 0.7562455087842828, 0.23443610772312765, 0.5427468680953279, 0.9255992043093463, 0.9524645878841349, 0.5209003676088371, 0.9909282431898149, 0.4787464948831181, 0.9138962068394977, 0.801769416936215, 0.9910752129544216, 0.10589168217301818, 0.40003524376473537, 0.30590930405538586, 0.18825187941869898, 0.9346367807584037, 0.060690700049246996, 0.9427519871476449, 0.9588377550633705, 0.9962412354646357, 0.4394020722779831, 0.16843746103989352, 0.12449725381209521, 0.18308419678249296, 0.07323367871299719, 0.9621816727853391, 0.7008559342498221, 0.7510131699270421, 0.5074273589155011, 0.9333395919746814, 0.7987000091637273, 0.19168800219929455, 0.9029297588137913, 0.9798437940331277, 0.49602669419429657, 0.30807907959723885, 0.12400667354857414, 0.03681448120973295, 0.034876876935536476, 0.9387236697254238, 0.9696885838354468, 0.9106926065783708, 0.6182449745633136, 0.3312026649446323, 0.04416035532595097, 0.46784871497419506, 0.06791352314141541, 0.19996759591638982, 0.2603351720420924, 0.9779501051981343, 0.03640252478568992, 0.6188429213567286, 0.26695184842839276, 0.07280504957137984, 0.9834414174830604, 0.8707773175062243, 0.47261566647177067, 0.9681239645490501, 0.23306966637253237, 0.2816258468668099, 0.48556180494277573, 0.977228973592185, 0.8601665903194561, 0.9529760023407609, 0.8963316776533581, 0.16459532043733252, 0.1248654155041833, 0.1248654155041833, 0.3972990493314923, 0.15324391902786133, 0.02270280281894242, 0.005675700704735605, 0.9891109321563724, 0.979179098006177, 0.9691627130318686, 0.9406780951235342, 0.9498214175226966, 0.97514712825281, 0.235307450213457, 0.5633117747534273, 0.1925242774473739, 0.9755805238753239, 0.23894892126494213, 0.2920486815460404, 0.45134796238933517, 0.9663937649985826, 0.33919761421516176, 0.6584424275941375, 0.9352538125931222, 0.06033895565116918, 0.8963316776533581, 0.982277904874033, 0.9104203128564323, 0.975832795246127, 0.13540704549323845, 0.5472701422018388, 0.11848116480658365, 0.19182664778208783, 0.991817322322673, 0.6432659847640871, 0.29689199296804025, 0.06047799856756375, 0.9460986523565413, 0.12155735863977415, 0.2059721910285062, 0.4018146021703646, 0.06753186591098564, 0.13844032511752055, 0.043895712842140666, 0.02025955977329569, 0.5208591072015631, 0.9640717146153536, 0.3217883716335229, 0.36376076793354767, 0.2518343778001484, 0.04197239630002473, 0.12300765010899596, 0.8610535507629717, 0.9630378337153545, 0.16353079121567526, 0.44970967584310695, 0.32706158243135053, 0.05451026373855842, 0.4789856997579164, 0.9406780951235342, 0.45010916921041877, 0.45010916921041877, 0.9253016871857453, 0.8897689683956924, 0.9661626995760774, 0.9943946834425358, 0.8723151669693018, 0.11895206822308661, 0.9857227158096425, 0.9294025623608406, 0.9406780951235342, 0.9808419783083288, 0.8257169558790425, 0.16904441616421342, 0.8022768181426007, 0.8579916618224385, 0.284335339950096, 0.4659940293626574, 0.1263712622000427, 0.1263712622000427, 0.6144775278323642, 0.35844522456887906, 0.9603067169820311, 0.9765171934858362, 0.9500688567862133, 0.7866977839431841, 0.9634065660828512, 0.9600489426604352, 0.9447400947372179, 0.48253411451888756, 0.8092087861859598, 0.8360649758754125, 0.47340631923294624, 0.4596177856630546, 0.06894266784945818, 0.9784869030240358, 0.9642520463050668, 0.9807186089685134, 0.9446749323911725, 0.9895825135276571, 0.9737689678354593, 0.2809208617156852, 0.6540843944424909, 0.06708557891717856, 0.9567742852167955, 0.8500297976134931, 0.12830638454543292, 0.9831305344969227, 0.8537803293852689, 0.9353209821316371, 0.8867728948765619, 0.8998378198225562, 0.6621569725545754, 0.866988062982321, 0.9500688567862133, 0.6922341236465906, 0.18245480884821444, 0.40895043362530825, 0.10695626725584985, 0.27053644070597316, 0.025166180530788198, 0.9513733950120966, 0.45143446427484546, 0.5448346982627446, 0.16544063199776338, 0.49632189599329013, 0.25452404922732824, 0.07635721476819848, 0.4586745820909492, 0.18686742233334966, 0.19536139607577466, 0.15289152736364972, 0.967713822117714, 0.4617664407796815, 0.3152726596503888, 0.4650271729843235, 0.21280904526401245, 0.6838144235591705, 0.9329400458262533, 0.9604007725772997, 0.18929058641053723, 0.5363233281631887, 0.26816166408159436, 0.9420007121443421, 0.9751118124055361, 0.15652050570997675, 0.15652050570997675, 0.6652121492674011, 0.9607047238617005, 0.9658433760831908, 0.8381396121229195, 0.9807186089685134, 0.8016530553222126, 0.07824418782104128, 0.41730233504555353, 0.4955465228665948, 0.30514850064884275, 0.6835326414534078, 0.7545364046991413, 0.24276388672928895, 0.6157138553156543, 0.3621846207739143, 0.963577400855206, 0.9373936759585388, 0.950022086663703, 0.35260464639009, 0.6132254719827651, 0.01533063679956913, 0.9639731626215245, 0.977228973592185, 0.7912060255516921, 0.10320078594152506, 0.0688005239610167, 0.5468642377691968, 0.972626193353355, 0.9819472580116437, 0.043800504199499275, 0.9198105881894848, 0.9500688567862133, 0.7738748071791413, 0.13104628965132076, 0.21841048275220126, 0.4368209655044025, 0.11856569063690926, 0.09360449260808626, 0.9735995012605313, 0.9824073089554478, 0.5938886053103022, 0.2789476782518086, 0.0989814342183837, 0.01799662440334249, 0.9564501555467383, 0.15240910723822634, 0.6281102601332964, 0.027710746770586606, 0.1847383118039107, 0.3522131742375486, 0.2817705393900389, 0.36101850359348736, 0.904225672253227, 0.10395163865523795, 0.40635640565229375, 0.16065253246718592, 0.32130506493437183, 0.5796365591344719, 0.12600794763792866, 0.27721748480344305, 0.1218371926122386, 0.779758032718327, 0.09746975408979087, 0.6837193621125196, 0.43318683436047445, 0.08824176255491147, 0.32890111497739727, 0.1363736330394086, 0.34142287477592087, 0.6449098745767393, 0.2627850022196112, 0.62567857671336, 0.10010857227413761, 0.9202598001034571, 0.8977714751465131, 0.7941192267662065, 0.2979615029368611, 0.16553416829825615, 0.40831761513569853, 0.044142444879534976, 0.0772492785391862, 0.8006992042864612, 0.1912117502773639, 0.9427647811621109, 0.986927041043094, 0.9561344991836225, 0.38564516261842574, 0.32631513760020636, 0.26698511258198704, 0.8281423943354047, 0.14864094257302138, 0.2983494467954987, 0.4502364378913889, 0.184434203473581, 0.06509442475538153, 0.5471329547849014, 0.981271194162548, 0.9627586071801486, 0.9414153586813799, 0.9388425174537625, 0.972489061332472, 0.20750853327555002, 0.5558264284166519, 0.1778644570933286, 0.051877133318887506, 0.014822038091110715, 0.9410861368803531, 0.9662864062460181, 0.9430542950223147, 0.8503055142389941, 0.13286023659984283, 0.2974629041209429, 0.6544183890660744, 0.9853912066577658, 0.3597800872627337, 0.20069365411934806, 0.33530525139452055, 0.10524179423331667, 0.6843294940387807, 0.1413289172471395, 0.17108237350969518, 0.8974285307717788, 0.0997142811968643, 0.9876413566742319, 0.9758883613012203, 0.5940852205729117, 0.39605681371527446, 0.8857278147488, 0.9553374622871865, 0.9294025623608406, 0.9515255910164825, 0.4316255560520402, 0.5018901814558607, 0.06022682177470329, 0.9811926054940002, 0.26398811011234213, 0.37268909662918887, 0.2795168224718917, 0.07764356179774769, 0.9681246387392253, 0.8454541200700599, 0.9758715225145839, 0.2178666236797456, 0.0272333279599682, 0.7352998549191414, 0.9492170509807752, 0.9895810300235957, 0.9797312791724127, 0.17813584322147732, 0.814335283298182, 0.9127394862153457, 0.5471329547849014, 0.4146935794265675, 0.2911678323633346, 0.2558747617738395, 0.03529307058949511, 0.98428559173526, 0.7587530516472543, 0.9807186089685134, 0.9523907847359335, 0.9497891585487857, 0.811686144552086, 0.9196707990884133, 0.9803088126878228, 0.8998378198225562, 0.0756825497779767, 0.8072805309650848, 0.10721694551880033, 0.6824238241066408, 0.9874757806042671, 0.6108702577320516, 0.17761493879787213, 0.7992672245904247, 0.14126820949041344, 0.8476092569424806, 0.9437270288028474, 0.25725570847129, 0.13505924694742721, 0.15435342508277397, 0.32156963558911245, 0.128627854235645, 0.13806595843099836, 0.8283957505859902, 0.9368422260792691, 0.952391663368718, 0.4550523794949989, 0.529130673831394, 0.9535988591641066, 0.4371553802117175, 0.4206589507697659, 0.13197143553561283, 0.9515401113753859, 0.9927060753631243, 0.25724018652960645, 0.7408517372052665, 0.977228973592185, 0.4399205872501474, 0.5392574940485677, 0.23364971411463814, 0.2823267378885211, 0.4770348329840529, 0.9020966266111913, 0.776302499532402, 0.4942838532905746, 0.11876445644609024, 0.8313511951226317, 0.5208419360514811, 0.9002351162369805, 0.8998378198225562, 0.9112586229965735, 0.9608917347149022, 0.08537976914268955, 0.34863405733264896, 0.28459923047563185, 0.1565295767615975, 0.03557490380945398, 0.08537976914268955, 0.974467359256817, 0.9557314045639775, 0.9546678749344608, 0.9211162989824184, 0.6267790063655225, 0.9294025623608406, 0.9677865755643236, 0.2352319294497282, 0.2875056915496678, 0.392053215749547, 0.0784106431499094, 0.9858382716827149, 0.9430867545283373, 0.9900795241351842, 0.9937642338117569, 0.9664540062791427, 0.9406780951235342, 0.9406780951235342, 0.9138962068394977, 0.5147426001664577, 0.1334517852283409, 0.2287744889628701, 0.11438724448143504, 0.4752932965697524, 0.20067939188500655, 0.32214323434172104, 0.8358306294171385, 0.14749952283831858, 0.9165881826280242, 0.0436470563156202, 0.29443582411726704, 0.6940272997049866, 0.5200466680375018, 0.10286637389752783, 0.3714619057410727, 0.9025226432424224, 0.07848022984716717, 0.9942946041362627, 0.9513779562821559, 0.3903890689473339, 0.18492113792242132, 0.4177847930839889, 0.9860218141294456, 0.7381608221361088, 0.9469468768461788, 0.9739896707647436, 0.4787464948831181, 0.5765756025825655, 0.399167724864853, 0.9807186089685134, 0.9807186089685134, 0.9756669464133846, 0.776795668360695, 0.995144288603089, 0.9797138345437434, 0.9589463591558703, 0.2666586747528668, 0.31303409644901753, 0.405784939841319, 0.9677867574682947, 0.1998293403696549, 0.029974401055448237, 0.4396245488132408, 0.2997440105544824, 0.029974401055448237, 0.16221410974938688, 0.22120105874916393, 0.10322716074960984, 0.2138276901241918, 0.2949347449988853, 0.9661741345533338, 0.9278262777220632, 0.9113365056784327, 0.18964566586879852, 0.7585826634751941, 0.9226940978985085, 0.34510971942770813, 0.15338209752342583, 0.2684186706659952, 0.1259924372513855, 0.10955864108816131, 0.5471329547849014, 0.9650176633728806, 0.9764235317579851, 0.9674095372795813, 0.9188817773178942, 0.7870996599677548, 0.9819354138815662, 0.3726243460441893, 0.585552543783726, 0.3164447029058621, 0.6797701025385186, 0.3774306410421158, 0.4403357478824685, 0.17298904381096977, 0.9757091054974898, 0.6108702577320516, 0.2526182655805961, 0.6736487082149228, 0.08420608852686536, 0.9816325648389551, 0.6977240965091003, 0.30150958187096855, 0.8358052765527486, 0.9680865230492302, 0.9865907645657152, 0.9447094797415203, 0.8863138774800193, 0.568540834756899, 0.1301479019323022, 0.28769536216614167, 0.006849889575384325, 0.9590153368932662, 0.9206017447040508, 0.9588363208413518, 0.5764528764957377, 0.17050014656916188, 0.25169069255447707, 0.9895756305078003, 0.8858277147759073, 0.7458542070503671, 0.7702665011916188, 0.9726357504662896, 0.2591718050097152, 0.5592654739683328, 0.13640621316300802, 0.0272812426326016, 0.4100799060012752, 0.5789363378841532, 0.9676865521336269], \"Term\": [\"Cartao\", \"Entao\", \"Flavia\", \"Guilherme\", \"Internet\", \"Internet\", \"Internet\", \"Internet\", \"Internet\", \"Reclame\", \"abater\", \"abatimento\", \"abro\", \"abusivo\", \"abuso\", \"acesso\", \"acesso\", \"adicional\", \"adquiri\", \"adquirir\", \"agencia\", \"agendamento\", \"agendar\", \"agora\", \"agora\", \"agora\", \"agora\", \"agradecer\", \"aguardar\", \"aguento\", \"ahahhahah\", \"ainda\", \"ainda\", \"ajeitar\", \"ajudar\", \"ajudar\", \"ajustar\", \"alem\", \"algo\", \"algo\", \"algum\", \"alternativa\", \"ambiente\", \"amigavel\", \"amor\", \"ano\", \"ano\", \"ano\", \"antes\", \"antes\", \"aparecer\", \"aparecer\", \"aparelho\", \"apesar\", \"aplicar\", \"aplicativo\", \"aplicativo\", \"apos\", \"apos\", \"apos\", \"app\", \"app\", \"apresentar\", \"aqui\", \"aqui\", \"aqui\", \"aqui\", \"assegurar\", \"assim\", \"assim\", \"assim\", \"assim\", \"assinar\", \"assinatura\", \"atencao\", \"atendente\", \"atendente\", \"atendente\", \"atendente\", \"atender\", \"atender\", \"atendimento\", \"atendimento\", \"atendimento\", \"atendimento\", \"ativar\", \"aumentar\", \"autorizeir\", \"bastante\", \"bastante\", \"bastar\", \"bem\", \"bem\", \"bem\", \"biometrico\", \"bloco\", \"bloquear\", \"bloquear\", \"bonus\", \"box\", \"brincadeira\", \"cada\", \"cadastrar\", \"cadastro\", \"calma\", \"cancelamento\", \"cancelamento\", \"cancelamento\", \"cancelamento\", \"cancelar\", \"carta\", \"celular\", \"celular\", \"central\", \"chamado\", \"chat\", \"chat\", \"chip\", \"chip\", \"chip\", \"chip\", \"cidade\", \"cima\", \"claro\", \"claro\", \"claro\", \"claro\", \"claro\", \"claro\", \"claro\", \"claro\", \"clicar\", \"cliente\", \"cliente\", \"cobertura\", \"cobranca\", \"cobranca\", \"cobrar\", \"cobrar\", \"colocar\", \"colocar\", \"coloquei\", \"com\", \"com\", \"comigo\", \"compra\", \"comprar\", \"comprar\", \"comprar\", \"comprovante\", \"comprovante\", \"comprovante\", \"computador\", \"comunicacao\", \"concordar\", \"condominio\", \"confirmar\", \"conforme\", \"conforme\", \"conseguir\", \"conseguir\", \"conseguir\", \"conseguir\", \"consentimento\", \"consigo\", \"consigo\", \"consigo\", \"consigo\", \"constrangedor\", \"conta\", \"conta\", \"contato\", \"contato\", \"contato\", \"contestar\", \"continuar\", \"continuar\", \"conto\", \"contratar\", \"contratar\", \"contratar\", \"contrato\", \"contrato\", \"controle\", \"controle\", \"correr\", \"correta\", \"creditar\", \"crediter\", \"credito\", \"criterio\", \"cuidado\", \"d\", \"dado\", \"dar\", \"dar\", \"dar\", \"dar\", \"de\", \"de\", \"derrubar\", \"desbloquear\", \"desconto\", \"desde\", \"desde\", \"desde\", \"desde\", \"desde\", \"desfecho\", \"desistir\", \"desrespeitoso\", \"destratar\", \"deus\", \"dever\", \"dever\", \"devidamente\", \"devolver\", \"dia\", \"dia\", \"dia\", \"dia\", \"dia\", \"dias\", \"diferente\", \"dinheiro\", \"direito\", \"direito\", \"direito\", \"dizer\", \"dizer\", \"dizer\", \"dizer\", \"documento\", \"dois\", \"dois\", \"dois\", \"dois\", \"domingo\", \"dor\", \"duplicar\", \"duplicidade\", \"editar\", \"editar\", \"editar\", \"efetivamente\", \"eh\", \"email\", \"embora\", \"empresa\", \"empresa\", \"empresa\", \"empresa\", \"empresa\", \"empresa\", \"empresa\", \"encerrar\", \"endereco\", \"enfim\", \"enformar\", \"entanto\", \"entao\", \"entrar\", \"entrar\", \"entrar\", \"entregar\", \"enviar\", \"enviar\", \"enviar\", \"enviei\", \"esperar\", \"esperar\", \"esse\", \"esse\", \"estabelecer\", \"eu\", \"exijo\", \"facil\", \"falar\", \"falar\", \"falar\", \"falar\", \"falta\", \"fatura\", \"fatura\", \"fatura\", \"favor\", \"fazer\", \"fazer\", \"fazer\", \"fazer\", \"fazer\", \"fazer\", \"fazer\", \"fazir\", \"fechamento\", \"ficar\", \"ficar\", \"ficar\", \"ficar\", \"final\", \"final\", \"fixo\", \"fiz\", \"fiz\", \"fiz\", \"fiz\", \"fizemos\", \"flavia\", \"forma\", \"forma\", \"fornecer\", \"funcionalidade\", \"funcionar\", \"funcionario\", \"gostar\", \"gostar\", \"grande\", \"grupo\", \"guilherme\", \"h\", \"haver\", \"haver\", \"hd\", \"historiar\", \"hoje\", \"hoje\", \"hoje\", \"hoje\", \"hora\", \"hora\", \"horario\", \"humano\", \"humanooooo\", \"humilhacao\", \"ignorar\", \"imediato\", \"impossivel\", \"incompetente\", \"indevidamente\", \"infelizmente\", \"informar\", \"informar\", \"informar\", \"informei\", \"inicio\", \"insistentemente\", \"instalacao\", \"interesse\", \"inumero\", \"ir\", \"ir\", \"ir\", \"isso\", \"julho\", \"julho\", \"junho\", \"junto\", \"justificar\", \"justo\", \"lado\", \"lamentavel\", \"lancar\", \"lascar\", \"legal\", \"ligacao\", \"ligacao\", \"ligacao\", \"ligacao\", \"ligacao\", \"ligacoe\", \"ligacoes\", \"ligacoes\", \"ligar\", \"ligar\", \"ligar\", \"ligar\", \"liguar\", \"liguar\", \"liguar\", \"liguar\", \"ligueer\", \"limite\", \"linha\", \"linha\", \"linha\", \"linhar\", \"lixo\", \"local\", \"logo\", \"logo\", \"logo\", \"m\", \"mail\", \"mandar\", \"mandar\", \"mandar\", \"mao\", \"mau\", \"medida\", \"medo\", \"mega\", \"meio\", \"meio\", \"meio\", \"mensagem\", \"mensagem\", \"mes\", \"mes\", \"mesmo\", \"mesmo\", \"meter\", \"migracao\", \"min\", \"minuto\", \"minuto\", \"minuto\", \"modem\", \"moldem\", \"momento\", \"momento\", \"momento\", \"morar\", \"morer\", \"mudanca\", \"muito\", \"muito\", \"muuuiiiiita\", \"n\", \"nada\", \"nada\", \"nada\", \"nada\", \"nada\", \"necessario\", \"negar\", \"nenhum\", \"nenhum\", \"nenhum\", \"nenhum\", \"niteroi\", \"novamente\", \"novamente\", \"novamente\", \"novamente\", \"novo\", \"novo\", \"novo\", \"nr\", \"numero\", \"numero\", \"numero\", \"numero\", \"nunca\", \"nunca\", \"nunca\", \"oferecer\", \"oferecer\", \"oferecer\", \"oi\", \"onde\", \"onde\", \"onde\", \"onde\", \"ontem\", \"ontem\", \"operadora\", \"operadora\", \"operadora\", \"or\", \"orientacao\", \"orientar\", \"outro\", \"outro\", \"outro\", \"outro\", \"outro\", \"outubro\", \"outubro\", \"ouver\", \"ouvidoria\", \"paciencia\", \"pacote\", \"pacote\", \"pacote\", \"pagamento\", \"pagamento\", \"pagar\", \"pagar\", \"pagar\", \"pagar\", \"pagassemo\", \"paguar\", \"pagueer\", \"par\", \"parecer\", \"passado\", \"pedir\", \"pedir\", \"pedir\", \"pedir\", \"pedir\", \"pena\", \"pequeno\", \"perguntar\", \"pessimo\", \"pessimo\", \"pessoa\", \"pessoa\", \"pix\", \"plano\", \"plano\", \"plano\", \"plano\", \"poder\", \"poder\", \"poder\", \"pois\", \"pois\", \"por\", \"porem\", \"porque\", \"porque\", \"porte\", \"possuir\", \"postar\", \"pouco\", \"pra\", \"pra\", \"pra\", \"pre\", \"preciso\", \"preciso\", \"preciso\", \"preciso\", \"prejudicar\", \"prejuizo\", \"presenca\", \"prestar\", \"prestar\", \"prestar\", \"prever\", \"prezao\", \"primeira\", \"primeiro\", \"primeiro\", \"print\", \"priscila\", \"problema\", \"problema\", \"problema\", \"problema\", \"procedimento\", \"procuracao\", \"profundo\", \"promessa\", \"prometer\", \"propaganda\", \"propagandar\", \"proprio\", \"propuser\", \"protocolo\", \"protocolo\", \"protocolo\", \"prova\", \"q\", \"qnd\", \"qualquer\", \"qualquer\", \"quase\", \"quase\", \"quatro\", \"querer\", \"querer\", \"querer\", \"querer\", \"querer\", \"questao\", \"questao\", \"questionar\", \"quinta\", \"r\", \"r\", \"rapido\", \"real\", \"real\", \"real\", \"realmente\", \"recarga\", \"recebi\", \"recebi\", \"recife\", \"reclamar\", \"reclamar\", \"reclame\", \"reclame\", \"reclame\", \"recomendo\", \"recusar\", \"reembolso\", \"referente\", \"referente\", \"refiz\", \"registro\", \"reiniciar\", \"relacao\", \"reser\", \"resolver\", \"resolver\", \"resolver\", \"resolver\", \"resolver\", \"resolver\", \"respeito\", \"responder\", \"ressarcimento\", \"retirada\", \"ridiculo\", \"rj\", \"sabar\", \"saber\", \"saber\", \"saber\", \"saber\", \"sac\", \"sair\", \"saldo\", \"seguir\", \"senhor\", \"senhorita\", \"senhorito\", \"sensor\", \"ser\", \"ser\", \"ser\", \"ser\", \"servico\", \"servico\", \"servico\", \"setembro\", \"setembro\", \"shopping\", \"shopping\", \"si\", \"si\", \"sinal\", \"sinal\", \"sinal\", \"site\", \"site\", \"situacao\", \"sms\", \"solicitar\", \"solicitar\", \"solicitar\", \"solucao\", \"spc\", \"sr\", \"suporte\", \"supostar\", \"surpresa\", \"surpresa\", \"suspirar\", \"s\\u00f2\", \"ta\", \"tarde\", \"tecnico\", \"tela\", \"telar\", \"telefone\", \"telefone\", \"telefone\", \"temporal\", \"tentar\", \"tentar\", \"tentar\", \"tentar\", \"tentar\", \"ter\", \"ter\", \"ter\", \"ter\", \"ter\", \"terceiro\", \"tirar\", \"titular\", \"to\", \"to\", \"toda\", \"todo\", \"todo\", \"todo\", \"todo\", \"todo\", \"trabalhador\", \"transferencia\", \"transferir\", \"transtorno\", \"trar\", \"tres\", \"troca\", \"trocar\", \"trocar\", \"tudo\", \"tudo\", \"tv\", \"tv\", \"tv\", \"ultima\", \"ura\", \"usar\", \"usar\", \"usar\", \"utilizar\", \"valor\", \"valor\", \"vao\", \"velocidade\", \"venda\", \"vendedor\", \"verificar\", \"vez\", \"vez\", \"vez\", \"vez\", \"vim\", \"vincular\", \"vinculo\", \"vir\", \"vir\", \"vir\", \"visita\", \"visitar\", \"vitoria\", \"viver\", \"vizinho\", \"voltar\", \"voltar\", \"voltar\", \"voltar\", \"whatsapp\", \"whatsapp\", \"x\"]}, \"R\": 30, \"lambda.step\": 0.01, \"plot.opts\": {\"xlab\": \"PC1\", \"ylab\": \"PC2\"}, \"topic.order\": [5, 7, 10, 1, 4, 2, 3, 9, 8, 6]};\n",
              "\n",
              "function LDAvis_load_lib(url, callback){\n",
              "  var s = document.createElement('script');\n",
              "  s.src = url;\n",
              "  s.async = true;\n",
              "  s.onreadystatechange = s.onload = callback;\n",
              "  s.onerror = function(){console.warn(\"failed to load library \" + url);};\n",
              "  document.getElementsByTagName(\"head\")[0].appendChild(s);\n",
              "}\n",
              "\n",
              "if(typeof(LDAvis) !== \"undefined\"){\n",
              "   // already loaded: just create the visualization\n",
              "   !function(LDAvis){\n",
              "       new LDAvis(\"#\" + \"ldavis_el4591385408957179689633515466\", ldavis_el4591385408957179689633515466_data);\n",
              "   }(LDAvis);\n",
              "}else if(typeof define === \"function\" && define.amd){\n",
              "   // require.js is available: use it to load d3/LDAvis\n",
              "   require.config({paths: {d3: \"https://cdnjs.cloudflare.com/ajax/libs/d3/3.5.5/d3.min\"}});\n",
              "   require([\"d3\"], function(d3){\n",
              "      window.d3 = d3;\n",
              "      LDAvis_load_lib(\"https://cdn.rawgit.com/bmabey/pyLDAvis/files/ldavis.v1.0.0.js\", function(){\n",
              "        new LDAvis(\"#\" + \"ldavis_el4591385408957179689633515466\", ldavis_el4591385408957179689633515466_data);\n",
              "      });\n",
              "    });\n",
              "}else{\n",
              "    // require.js not available: dynamically load d3 & LDAvis\n",
              "    LDAvis_load_lib(\"https://cdnjs.cloudflare.com/ajax/libs/d3/3.5.5/d3.min.js\", function(){\n",
              "         LDAvis_load_lib(\"https://cdn.rawgit.com/bmabey/pyLDAvis/files/ldavis.v1.0.0.js\", function(){\n",
              "                 new LDAvis(\"#\" + \"ldavis_el4591385408957179689633515466\", ldavis_el4591385408957179689633515466_data);\n",
              "            })\n",
              "         });\n",
              "}\n",
              "</script>"
            ]
          },
          "metadata": {},
          "execution_count": 23
        }
      ]
    }
  ]
}