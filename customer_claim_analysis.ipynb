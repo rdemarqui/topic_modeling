{
  "nbformat": 4,
  "nbformat_minor": 0,
  "metadata": {
    "colab": {
      "provenance": [],
      "toc_visible": true,
      "authorship_tag": "ABX9TyMHeuzVIO3uTg63YjuJPKTN",
      "include_colab_link": true
    },
    "kernelspec": {
      "name": "python3",
      "display_name": "Python 3"
    },
    "language_info": {
      "name": "python"
    }
  },
  "cells": [
    {
      "cell_type": "markdown",
      "metadata": {
        "id": "view-in-github",
        "colab_type": "text"
      },
      "source": [
        "<a href=\"https://colab.research.google.com/github/rdemarqui/topic_modeling/blob/main/customer_claim_analysis.ipynb\" target=\"_parent\"><img src=\"https://colab.research.google.com/assets/colab-badge.svg\" alt=\"Open In Colab\"/></a>"
      ]
    },
    {
      "cell_type": "markdown",
      "source": [
        "# Customer claims analysis"
      ],
      "metadata": {
        "id": "SYGjlAwUQLsI"
      }
    },
    {
      "cell_type": "markdown",
      "source": [
        "## Open Dataset"
      ],
      "metadata": {
        "id": "8adBRjDEQsTx"
      }
    },
    {
      "cell_type": "code",
      "source": [
        "import warnings\n",
        "warnings.filterwarnings('ignore', 'error')"
      ],
      "metadata": {
        "id": "qpIyT-1VY2qO"
      },
      "execution_count": 29,
      "outputs": []
    },
    {
      "cell_type": "code",
      "execution_count": 1,
      "metadata": {
        "id": "Ez3anRREQBSZ"
      },
      "outputs": [],
      "source": [
        "import pandas as pd"
      ]
    },
    {
      "cell_type": "code",
      "source": [
        "data_url = 'https://raw.githubusercontent.com/rdemarqui/topic_modeling/main/datasets/reclame_aqui_full.csv'\n",
        "df = pd.read_csv(data_url)\n",
        "print(df.shape)\n",
        "df.head()"
      ],
      "metadata": {
        "colab": {
          "base_uri": "https://localhost:8080/",
          "height": 310
        },
        "id": "MvciBgf2QQb4",
        "outputId": "1fc22790-04f2-4def-94ba-78f3ae43acff"
      },
      "execution_count": 2,
      "outputs": [
        {
          "output_type": "stream",
          "name": "stdout",
          "text": [
            "(500, 5)\n"
          ]
        },
        {
          "output_type": "execute_result",
          "data": {
            "text/plain": [
              "   Unnamed: 0.1  Unnamed: 0                                     Title  \\\n",
              "0             0           0                          Claro residência   \n",
              "1             1           1            NO CONSIGO FALAR COM UM HUMANO   \n",
              "2             2           2   Oi virou claro e não recebe ligações!!!   \n",
              "3             3           3  Mudança de plano sem a minha autorização   \n",
              "4             4           4                              Plano PREZAO   \n",
              "\n",
              "                                                link  \\\n",
              "0          /claro/claro-residencia_h-VgVeL0ez_dO42I/   \n",
              "1  /claro/no-consigo-falar-com-um-humano_0kiSV_xg...   \n",
              "2  /claro/oi-virou-claro-e-nao-recebe-ligacoes_MG...   \n",
              "3  /claro/mudanca-de-plano-sem-a-minha-autorizaca...   \n",
              "4              /claro/plano-prezao_iW3NARVJ71tk_jVM/   \n",
              "\n",
              "                                         description  \n",
              "0  Estou há mais de 7 dias tentando efetuar a con...  \n",
              "1  Realizei o pagamento das faturas atrasadas e s...  \n",
              "2  Minha mãe tinha um chip da Oi que virou Claro ...  \n",
              "3  Na sexta-feira dia 6 de outubro fiz uma recarg...  \n",
              "4  Bom diaNa data de 08/10/2023, recebi um SMS in...  "
            ],
            "text/html": [
              "\n",
              "  <div id=\"df-4a865b41-b4e6-45e4-89dd-f650405c1f82\" class=\"colab-df-container\">\n",
              "    <div>\n",
              "<style scoped>\n",
              "    .dataframe tbody tr th:only-of-type {\n",
              "        vertical-align: middle;\n",
              "    }\n",
              "\n",
              "    .dataframe tbody tr th {\n",
              "        vertical-align: top;\n",
              "    }\n",
              "\n",
              "    .dataframe thead th {\n",
              "        text-align: right;\n",
              "    }\n",
              "</style>\n",
              "<table border=\"1\" class=\"dataframe\">\n",
              "  <thead>\n",
              "    <tr style=\"text-align: right;\">\n",
              "      <th></th>\n",
              "      <th>Unnamed: 0.1</th>\n",
              "      <th>Unnamed: 0</th>\n",
              "      <th>Title</th>\n",
              "      <th>link</th>\n",
              "      <th>description</th>\n",
              "    </tr>\n",
              "  </thead>\n",
              "  <tbody>\n",
              "    <tr>\n",
              "      <th>0</th>\n",
              "      <td>0</td>\n",
              "      <td>0</td>\n",
              "      <td>Claro residência</td>\n",
              "      <td>/claro/claro-residencia_h-VgVeL0ez_dO42I/</td>\n",
              "      <td>Estou há mais de 7 dias tentando efetuar a con...</td>\n",
              "    </tr>\n",
              "    <tr>\n",
              "      <th>1</th>\n",
              "      <td>1</td>\n",
              "      <td>1</td>\n",
              "      <td>NO CONSIGO FALAR COM UM HUMANO</td>\n",
              "      <td>/claro/no-consigo-falar-com-um-humano_0kiSV_xg...</td>\n",
              "      <td>Realizei o pagamento das faturas atrasadas e s...</td>\n",
              "    </tr>\n",
              "    <tr>\n",
              "      <th>2</th>\n",
              "      <td>2</td>\n",
              "      <td>2</td>\n",
              "      <td>Oi virou claro e não recebe ligações!!!</td>\n",
              "      <td>/claro/oi-virou-claro-e-nao-recebe-ligacoes_MG...</td>\n",
              "      <td>Minha mãe tinha um chip da Oi que virou Claro ...</td>\n",
              "    </tr>\n",
              "    <tr>\n",
              "      <th>3</th>\n",
              "      <td>3</td>\n",
              "      <td>3</td>\n",
              "      <td>Mudança de plano sem a minha autorização</td>\n",
              "      <td>/claro/mudanca-de-plano-sem-a-minha-autorizaca...</td>\n",
              "      <td>Na sexta-feira dia 6 de outubro fiz uma recarg...</td>\n",
              "    </tr>\n",
              "    <tr>\n",
              "      <th>4</th>\n",
              "      <td>4</td>\n",
              "      <td>4</td>\n",
              "      <td>Plano PREZAO</td>\n",
              "      <td>/claro/plano-prezao_iW3NARVJ71tk_jVM/</td>\n",
              "      <td>Bom diaNa data de 08/10/2023, recebi um SMS in...</td>\n",
              "    </tr>\n",
              "  </tbody>\n",
              "</table>\n",
              "</div>\n",
              "    <div class=\"colab-df-buttons\">\n",
              "\n",
              "  <div class=\"colab-df-container\">\n",
              "    <button class=\"colab-df-convert\" onclick=\"convertToInteractive('df-4a865b41-b4e6-45e4-89dd-f650405c1f82')\"\n",
              "            title=\"Convert this dataframe to an interactive table.\"\n",
              "            style=\"display:none;\">\n",
              "\n",
              "  <svg xmlns=\"http://www.w3.org/2000/svg\" height=\"24px\" viewBox=\"0 -960 960 960\">\n",
              "    <path d=\"M120-120v-720h720v720H120Zm60-500h600v-160H180v160Zm220 220h160v-160H400v160Zm0 220h160v-160H400v160ZM180-400h160v-160H180v160Zm440 0h160v-160H620v160ZM180-180h160v-160H180v160Zm440 0h160v-160H620v160Z\"/>\n",
              "  </svg>\n",
              "    </button>\n",
              "\n",
              "  <style>\n",
              "    .colab-df-container {\n",
              "      display:flex;\n",
              "      gap: 12px;\n",
              "    }\n",
              "\n",
              "    .colab-df-convert {\n",
              "      background-color: #E8F0FE;\n",
              "      border: none;\n",
              "      border-radius: 50%;\n",
              "      cursor: pointer;\n",
              "      display: none;\n",
              "      fill: #1967D2;\n",
              "      height: 32px;\n",
              "      padding: 0 0 0 0;\n",
              "      width: 32px;\n",
              "    }\n",
              "\n",
              "    .colab-df-convert:hover {\n",
              "      background-color: #E2EBFA;\n",
              "      box-shadow: 0px 1px 2px rgba(60, 64, 67, 0.3), 0px 1px 3px 1px rgba(60, 64, 67, 0.15);\n",
              "      fill: #174EA6;\n",
              "    }\n",
              "\n",
              "    .colab-df-buttons div {\n",
              "      margin-bottom: 4px;\n",
              "    }\n",
              "\n",
              "    [theme=dark] .colab-df-convert {\n",
              "      background-color: #3B4455;\n",
              "      fill: #D2E3FC;\n",
              "    }\n",
              "\n",
              "    [theme=dark] .colab-df-convert:hover {\n",
              "      background-color: #434B5C;\n",
              "      box-shadow: 0px 1px 3px 1px rgba(0, 0, 0, 0.15);\n",
              "      filter: drop-shadow(0px 1px 2px rgba(0, 0, 0, 0.3));\n",
              "      fill: #FFFFFF;\n",
              "    }\n",
              "  </style>\n",
              "\n",
              "    <script>\n",
              "      const buttonEl =\n",
              "        document.querySelector('#df-4a865b41-b4e6-45e4-89dd-f650405c1f82 button.colab-df-convert');\n",
              "      buttonEl.style.display =\n",
              "        google.colab.kernel.accessAllowed ? 'block' : 'none';\n",
              "\n",
              "      async function convertToInteractive(key) {\n",
              "        const element = document.querySelector('#df-4a865b41-b4e6-45e4-89dd-f650405c1f82');\n",
              "        const dataTable =\n",
              "          await google.colab.kernel.invokeFunction('convertToInteractive',\n",
              "                                                    [key], {});\n",
              "        if (!dataTable) return;\n",
              "\n",
              "        const docLinkHtml = 'Like what you see? Visit the ' +\n",
              "          '<a target=\"_blank\" href=https://colab.research.google.com/notebooks/data_table.ipynb>data table notebook</a>'\n",
              "          + ' to learn more about interactive tables.';\n",
              "        element.innerHTML = '';\n",
              "        dataTable['output_type'] = 'display_data';\n",
              "        await google.colab.output.renderOutput(dataTable, element);\n",
              "        const docLink = document.createElement('div');\n",
              "        docLink.innerHTML = docLinkHtml;\n",
              "        element.appendChild(docLink);\n",
              "      }\n",
              "    </script>\n",
              "  </div>\n",
              "\n",
              "\n",
              "<div id=\"df-02c8420f-bc37-4878-8fcd-b2098008a2d1\">\n",
              "  <button class=\"colab-df-quickchart\" onclick=\"quickchart('df-02c8420f-bc37-4878-8fcd-b2098008a2d1')\"\n",
              "            title=\"Suggest charts.\"\n",
              "            style=\"display:none;\">\n",
              "\n",
              "<svg xmlns=\"http://www.w3.org/2000/svg\" height=\"24px\"viewBox=\"0 0 24 24\"\n",
              "     width=\"24px\">\n",
              "    <g>\n",
              "        <path d=\"M19 3H5c-1.1 0-2 .9-2 2v14c0 1.1.9 2 2 2h14c1.1 0 2-.9 2-2V5c0-1.1-.9-2-2-2zM9 17H7v-7h2v7zm4 0h-2V7h2v10zm4 0h-2v-4h2v4z\"/>\n",
              "    </g>\n",
              "</svg>\n",
              "  </button>\n",
              "\n",
              "<style>\n",
              "  .colab-df-quickchart {\n",
              "      --bg-color: #E8F0FE;\n",
              "      --fill-color: #1967D2;\n",
              "      --hover-bg-color: #E2EBFA;\n",
              "      --hover-fill-color: #174EA6;\n",
              "      --disabled-fill-color: #AAA;\n",
              "      --disabled-bg-color: #DDD;\n",
              "  }\n",
              "\n",
              "  [theme=dark] .colab-df-quickchart {\n",
              "      --bg-color: #3B4455;\n",
              "      --fill-color: #D2E3FC;\n",
              "      --hover-bg-color: #434B5C;\n",
              "      --hover-fill-color: #FFFFFF;\n",
              "      --disabled-bg-color: #3B4455;\n",
              "      --disabled-fill-color: #666;\n",
              "  }\n",
              "\n",
              "  .colab-df-quickchart {\n",
              "    background-color: var(--bg-color);\n",
              "    border: none;\n",
              "    border-radius: 50%;\n",
              "    cursor: pointer;\n",
              "    display: none;\n",
              "    fill: var(--fill-color);\n",
              "    height: 32px;\n",
              "    padding: 0;\n",
              "    width: 32px;\n",
              "  }\n",
              "\n",
              "  .colab-df-quickchart:hover {\n",
              "    background-color: var(--hover-bg-color);\n",
              "    box-shadow: 0 1px 2px rgba(60, 64, 67, 0.3), 0 1px 3px 1px rgba(60, 64, 67, 0.15);\n",
              "    fill: var(--button-hover-fill-color);\n",
              "  }\n",
              "\n",
              "  .colab-df-quickchart-complete:disabled,\n",
              "  .colab-df-quickchart-complete:disabled:hover {\n",
              "    background-color: var(--disabled-bg-color);\n",
              "    fill: var(--disabled-fill-color);\n",
              "    box-shadow: none;\n",
              "  }\n",
              "\n",
              "  .colab-df-spinner {\n",
              "    border: 2px solid var(--fill-color);\n",
              "    border-color: transparent;\n",
              "    border-bottom-color: var(--fill-color);\n",
              "    animation:\n",
              "      spin 1s steps(1) infinite;\n",
              "  }\n",
              "\n",
              "  @keyframes spin {\n",
              "    0% {\n",
              "      border-color: transparent;\n",
              "      border-bottom-color: var(--fill-color);\n",
              "      border-left-color: var(--fill-color);\n",
              "    }\n",
              "    20% {\n",
              "      border-color: transparent;\n",
              "      border-left-color: var(--fill-color);\n",
              "      border-top-color: var(--fill-color);\n",
              "    }\n",
              "    30% {\n",
              "      border-color: transparent;\n",
              "      border-left-color: var(--fill-color);\n",
              "      border-top-color: var(--fill-color);\n",
              "      border-right-color: var(--fill-color);\n",
              "    }\n",
              "    40% {\n",
              "      border-color: transparent;\n",
              "      border-right-color: var(--fill-color);\n",
              "      border-top-color: var(--fill-color);\n",
              "    }\n",
              "    60% {\n",
              "      border-color: transparent;\n",
              "      border-right-color: var(--fill-color);\n",
              "    }\n",
              "    80% {\n",
              "      border-color: transparent;\n",
              "      border-right-color: var(--fill-color);\n",
              "      border-bottom-color: var(--fill-color);\n",
              "    }\n",
              "    90% {\n",
              "      border-color: transparent;\n",
              "      border-bottom-color: var(--fill-color);\n",
              "    }\n",
              "  }\n",
              "</style>\n",
              "\n",
              "  <script>\n",
              "    async function quickchart(key) {\n",
              "      const quickchartButtonEl =\n",
              "        document.querySelector('#' + key + ' button');\n",
              "      quickchartButtonEl.disabled = true;  // To prevent multiple clicks.\n",
              "      quickchartButtonEl.classList.add('colab-df-spinner');\n",
              "      try {\n",
              "        const charts = await google.colab.kernel.invokeFunction(\n",
              "            'suggestCharts', [key], {});\n",
              "      } catch (error) {\n",
              "        console.error('Error during call to suggestCharts:', error);\n",
              "      }\n",
              "      quickchartButtonEl.classList.remove('colab-df-spinner');\n",
              "      quickchartButtonEl.classList.add('colab-df-quickchart-complete');\n",
              "    }\n",
              "    (() => {\n",
              "      let quickchartButtonEl =\n",
              "        document.querySelector('#df-02c8420f-bc37-4878-8fcd-b2098008a2d1 button');\n",
              "      quickchartButtonEl.style.display =\n",
              "        google.colab.kernel.accessAllowed ? 'block' : 'none';\n",
              "    })();\n",
              "  </script>\n",
              "</div>\n",
              "    </div>\n",
              "  </div>\n"
            ]
          },
          "metadata": {},
          "execution_count": 2
        }
      ]
    },
    {
      "cell_type": "markdown",
      "source": [
        "## Text Preprocess"
      ],
      "metadata": {
        "id": "SUABsKOpxMXC"
      }
    },
    {
      "cell_type": "markdown",
      "source": [
        "The dataset that we will use was acquired through web scrapping on reclameaqui.com.br. This data is messy, since the users can write everithing they want. Because of that, we'll need to clean and make some modifications bofore we create our model."
      ],
      "metadata": {
        "id": "gbK3rTv5zIR4"
      }
    },
    {
      "cell_type": "markdown",
      "source": [
        "### Normalize"
      ],
      "metadata": {
        "id": "AtR1HPKU2NAD"
      }
    },
    {
      "cell_type": "markdown",
      "source": [
        "Firstly, we will normalize our text. This proccess goes through some steps such as removing punctuation, accentuation, special characters and masked words."
      ],
      "metadata": {
        "id": "_2k88R6__OT8"
      }
    },
    {
      "cell_type": "code",
      "source": [
        "import string"
      ],
      "metadata": {
        "id": "oe2tnuGgyb76"
      },
      "execution_count": 3,
      "outputs": []
    },
    {
      "cell_type": "code",
      "source": [
        "punctuations = list(string.punctuation)\n",
        "\n",
        "def remove_punctuation(text):\n",
        "  return ''.join([char if char not in punctuations else ' ' for char in text])"
      ],
      "metadata": {
        "id": "WuEr47zNSFlS"
      },
      "execution_count": 4,
      "outputs": []
    },
    {
      "cell_type": "code",
      "source": [
        "accentuation = {\n",
        "    \"á\": \"a\", \"ã\": \"a\", \"à\": \"a\",\"â\": \"a\",\n",
        "    \"é\": \"e\",\"ê\": \"e\",\n",
        "    \"í\": \"i\",\n",
        "    \"ó\": \"o\",\"õ\": \"o\", \"ô\":\"o\",\n",
        "    \"ú\": \"u\",\n",
        "    \"ç\": \"c\"\n",
        "    }\n",
        "\n",
        "def remove_accentuation(text):\n",
        "  return ''.join(accentuation.get(char, char) for char in text)"
      ],
      "metadata": {
        "id": "DIXdfnSWyArZ"
      },
      "execution_count": 5,
      "outputs": []
    },
    {
      "cell_type": "code",
      "source": [
        "special_charaters = [\n",
        "    \"1\",\"2\",\"3\",\"4\",\"5\",\"6\",\"7\",\"8\",\"9\",\"0\",\n",
        "    \" a \",\" b \",\" c \",\" d \",\" e \",\" f \",\" g \",\" h \",\" i \",\" j \",\" k \",\" l \",\n",
        "    \" m \",\" n \",\" o \",\" p \",\" q \",\" r \",\" s \",\" t \",\" u \",\" v \",\" x \",\" z \",\n",
        "    \"r$\", \"$\",\n",
        "    ]\n",
        "\n",
        "def remove_special_characters(text):\n",
        "  return ''.join([char if char not in special_charaters else ' ' for char in text])"
      ],
      "metadata": {
        "id": "x_1vhubLyFvB"
      },
      "execution_count": 6,
      "outputs": []
    },
    {
      "cell_type": "markdown",
      "source": [
        "Reclame Aqui website often masks data when it is sensitive information or offensive words using \"editado por reclame aqui\" in place. We will remove it from our database."
      ],
      "metadata": {
        "id": "-3RwDCMtH9N-"
      }
    },
    {
      "cell_type": "code",
      "source": [
        "def remove_mask(text):\n",
        "  return text.replace(\"editado pelo reclame aqui\", \"\")"
      ],
      "metadata": {
        "id": "DV0bGfcwWxo8"
      },
      "execution_count": 7,
      "outputs": []
    },
    {
      "cell_type": "code",
      "source": [
        "def normalize_text(df, text_field, lower=True, rem_punct=True, rem_accent=True, rem_spec_caract=True, rem_mask=True):\n",
        "  df[text_field + \"_clean\"] = df[text_field].astype(str)\n",
        "  if lower: df[text_field + \"_clean\"] = df[text_field + \"_clean\"].str.lower()\n",
        "  if rem_punct: df[text_field + \"_clean\"] = df[text_field + \"_clean\"].apply(remove_punctuation)\n",
        "  if rem_accent: df[text_field + \"_clean\"] = df[text_field + \"_clean\"].apply(remove_accentuation)\n",
        "  if rem_spec_caract: df[text_field + \"_clean\"] = df[text_field + \"_clean\"].apply(remove_special_characters)\n",
        "  if rem_mask: df[text_field + \"_clean\"] = df[text_field + \"_clean\"].apply(remove_mask)\n",
        "  df[text_field + \"_clean\"] = df[text_field + \"_clean\"].replace(r'\\s+', ' ', regex=True) #remove spaces"
      ],
      "metadata": {
        "id": "4fjCjaD5yH1h"
      },
      "execution_count": 8,
      "outputs": []
    },
    {
      "cell_type": "code",
      "source": [
        "# Normalizing text in a new column\n",
        "normalize_text(df, 'description')"
      ],
      "metadata": {
        "id": "vbK0R0ALyNNZ"
      },
      "execution_count": 9,
      "outputs": []
    },
    {
      "cell_type": "markdown",
      "source": [
        "### Stop Words"
      ],
      "metadata": {
        "id": "4MVOh6CAoDPv"
      }
    },
    {
      "cell_type": "markdown",
      "source": [
        "Stop words make the topics poor. Removing stop words can reduce noise and improve the efficiency of text analysis algorithms."
      ],
      "metadata": {
        "id": "iZjJ-oDQA3g-"
      }
    },
    {
      "cell_type": "code",
      "source": [
        "import nltk\n",
        "nltk.download('stopwords')"
      ],
      "metadata": {
        "colab": {
          "base_uri": "https://localhost:8080/"
        },
        "id": "OwV-4FhmoHSb",
        "outputId": "b022fb15-9a0c-4488-930b-5b7ed7fafb5e"
      },
      "execution_count": 10,
      "outputs": [
        {
          "output_type": "stream",
          "name": "stderr",
          "text": [
            "[nltk_data] Downloading package stopwords to /root/nltk_data...\n",
            "[nltk_data]   Unzipping corpora/stopwords.zip.\n"
          ]
        },
        {
          "output_type": "execute_result",
          "data": {
            "text/plain": [
              "True"
            ]
          },
          "metadata": {},
          "execution_count": 10
        }
      ]
    },
    {
      "cell_type": "code",
      "source": [
        "stops_nltk = nltk.corpus.stopwords.words('portuguese')\n",
        "stop_words = list(stops_nltk)\n",
        "stop_words = [remove_accentuation(word) for word in stop_words]\n",
        "stop_words = list(set(stop_words))\n",
        "\n",
        "def remove_stop_words(text):\n",
        "    words_list = text.split()\n",
        "    words_list = [word for word in words_list if word not in stop_words]\n",
        "    text = ' '.join(words_list)\n",
        "\n",
        "    return text"
      ],
      "metadata": {
        "id": "U7I63K2h83M1"
      },
      "execution_count": 11,
      "outputs": []
    },
    {
      "cell_type": "code",
      "source": [
        "# Removing Stop Words\n",
        "df[\"description_clean_stop\"] = df[\"description_clean\"].apply(remove_stop_words)"
      ],
      "metadata": {
        "id": "6j0DnvGT89g6"
      },
      "execution_count": 12,
      "outputs": []
    },
    {
      "cell_type": "markdown",
      "source": [
        "### Lemmatize"
      ],
      "metadata": {
        "id": "I-vb3e4rscjR"
      }
    },
    {
      "cell_type": "markdown",
      "source": [
        "Lemmatization is a natural language processing technique that reduces words to their base or root form. It helps in standardizing words, improving text analysis, and simplifying language understanding."
      ],
      "metadata": {
        "id": "q8W9NVY-CCBW"
      }
    },
    {
      "cell_type": "code",
      "source": [
        "import spacy.cli\n",
        "\n",
        "language_models = ['pt_core_news_sm', 'pt_core_news_md', 'pt_core_news_lg']\n",
        "spacy_model = language_models[2]\n",
        "\n",
        "disable = ['tagger', 'parser', 'ner', 'entity_ruler', 'entity_linker', 'textcat',\n",
        "           'morphologizer','attribute_ruler']\n",
        "\n",
        "try:\n",
        "  nlp = spacy.load(spacy_model, disable=disable)\n",
        "except:\n",
        "  spacy.cli.download(spacy_model)\n",
        "  nlp = spacy.load(spacy_model, disable=disable)\n",
        "\n",
        "print(nlp.pipe_names)"
      ],
      "metadata": {
        "colab": {
          "base_uri": "https://localhost:8080/"
        },
        "id": "D8j8QKdTsg2N",
        "outputId": "0a44a682-d95f-4109-cb74-4db45e86ab18"
      },
      "execution_count": 13,
      "outputs": [
        {
          "output_type": "stream",
          "name": "stdout",
          "text": [
            "\u001b[38;5;2m✔ Download and installation successful\u001b[0m\n",
            "You can now load the package via spacy.load('pt_core_news_lg')\n",
            "['tok2vec', 'lemmatizer']\n"
          ]
        }
      ]
    },
    {
      "cell_type": "code",
      "source": [
        "def lemma_pipe(doc_list):\n",
        "  lemma_text_list = []\n",
        "  for doc in nlp.pipe(doc_list, n_process=-1):\n",
        "      lemma_text_list.append(\" \".join(token.lemma_ for token in doc))\n",
        "\n",
        "  return lemma_text_list"
      ],
      "metadata": {
        "id": "eCARQ0Swsg5r"
      },
      "execution_count": 14,
      "outputs": []
    },
    {
      "cell_type": "code",
      "source": [
        "# Applying lemmatization\n",
        "df[\"description_clean_stop_lemma\"] = lemma_pipe(df[\"description_clean_stop\"])"
      ],
      "metadata": {
        "id": "BtQ_3lSGsg9M"
      },
      "execution_count": 15,
      "outputs": []
    },
    {
      "cell_type": "markdown",
      "source": [
        "### TF-IDF"
      ],
      "metadata": {
        "id": "ao40DPu5BU4t"
      }
    },
    {
      "cell_type": "markdown",
      "source": [
        "Removing low TF-IDF words is essential in topic modeling because these words probably provide little discriminatory power and can dominate topics. By excluding them, the model focuses on more meaningful and distinctive terms, improving topic quality and helping to identify relevant keywords that truly characterize the underlying topics in a corpus."
      ],
      "metadata": {
        "id": "oG5NDLdGE-8f"
      }
    },
    {
      "cell_type": "code",
      "source": [
        "import nltk\n",
        "nltk.download('punkt')\n",
        "from nltk.tokenize import word_tokenize\n",
        "\n",
        "import gensim\n",
        "import gensim.corpora as corpora\n",
        "from gensim.models import TfidfModel"
      ],
      "metadata": {
        "colab": {
          "base_uri": "https://localhost:8080/"
        },
        "id": "sSxqTNx4JzSz",
        "outputId": "8677d511-0d04-4585-a883-07c8ff07e4d3"
      },
      "execution_count": 16,
      "outputs": [
        {
          "output_type": "stream",
          "name": "stderr",
          "text": [
            "[nltk_data] Downloading package punkt to /root/nltk_data...\n",
            "[nltk_data]   Unzipping tokenizers/punkt.zip.\n"
          ]
        }
      ]
    },
    {
      "cell_type": "code",
      "source": [
        "documents = df[\"description_clean_stop_lemma\"]"
      ],
      "metadata": {
        "id": "YJBgVhd9WevO"
      },
      "execution_count": 48,
      "outputs": []
    },
    {
      "cell_type": "code",
      "source": [
        "# Tokenize text\n",
        "token_docs = [word_tokenize(text) for text in documents]\n",
        "\n",
        "# Convert text to frequency dictionary\n",
        "dictionary = corpora.Dictionary(token_docs)\n",
        "\n",
        "# Convert text in bag of words\n",
        "corpus = [dictionary.doc2bow(text) for text in token_docs]\n",
        "\n",
        "# Calculating TF-IDF\n",
        "tfidf = TfidfModel(corpus, id2word=dictionary)"
      ],
      "metadata": {
        "id": "WLreYIJoJw5M"
      },
      "execution_count": 49,
      "outputs": []
    },
    {
      "cell_type": "code",
      "source": [
        "# Filtering low TF-IDF values\n",
        "low_value = 0\n",
        "low_value_words = []\n",
        "for bow in corpus:\n",
        "    low_value_words += [id for id, value in tfidf[bow] if value < low_value]\n",
        "\n",
        "# Removing low TF-IDF from dictionary\n",
        "dictionary.filter_tokens(bad_ids=low_value_words)\n",
        "\n",
        "# Recompute the corpus with low value words are filtered out:\n",
        "corpus = [dictionary.doc2bow(doc) for doc in token_docs]"
      ],
      "metadata": {
        "id": "asufuDahFfpH"
      },
      "execution_count": 44,
      "outputs": []
    },
    {
      "cell_type": "code",
      "source": [
        "qtd = 0\n",
        "for item in corpus:\n",
        "  if len(item) == 0: qtd += 1\n",
        "\n",
        "print(qtd)"
      ],
      "metadata": {
        "colab": {
          "base_uri": "https://localhost:8080/"
        },
        "id": "h_K5yCwSZouS",
        "outputId": "99d33f7d-358e-4066-db1a-ca8bddf79b1a"
      },
      "execution_count": 45,
      "outputs": [
        {
          "output_type": "stream",
          "name": "stdout",
          "text": [
            "0\n"
          ]
        }
      ]
    },
    {
      "cell_type": "markdown",
      "source": [
        "## Latent Dirichlet Allocation (LDA)"
      ],
      "metadata": {
        "id": "iOyhkzaagdBB"
      }
    },
    {
      "cell_type": "code",
      "source": [
        "lda_model = gensim.models.LdaModel(corpus,\n",
        "                                   num_topics=10,\n",
        "                                   id2word=dictionary,\n",
        "                                   random_state=42,\n",
        "                                   update_every=1,\n",
        "                                   chunksize=50,\n",
        "                                   passes=15,\n",
        "                                   alpha=\"auto\")"
      ],
      "metadata": {
        "id": "Zm7I19zbInqZ"
      },
      "execution_count": 50,
      "outputs": []
    },
    {
      "cell_type": "markdown",
      "source": [
        "## Visualization"
      ],
      "metadata": {
        "id": "Nj4xkvCqtSFL"
      }
    },
    {
      "cell_type": "code",
      "source": [
        "try:\n",
        "  import pyLDAvis.gensim\n",
        "except:\n",
        "  !pip install pyLDAvis==2.1.2 -q\n",
        "  import pyLDAvis.gensim"
      ],
      "metadata": {
        "colab": {
          "base_uri": "https://localhost:8080/"
        },
        "id": "rmoF8Inqu2H7",
        "outputId": "200f6d62-6797-4a1a-c1dc-57050562a34a"
      },
      "execution_count": 21,
      "outputs": [
        {
          "output_type": "stream",
          "name": "stdout",
          "text": [
            "\u001b[?25l     \u001b[90m━━━━━━━━━━━━━━━━━━━━━━━━━━━━━━━━━━━━━━━━\u001b[0m \u001b[32m0.0/1.6 MB\u001b[0m \u001b[31m?\u001b[0m eta \u001b[36m-:--:--\u001b[0m\r\u001b[2K     \u001b[91m━━\u001b[0m\u001b[90m╺\u001b[0m\u001b[90m━━━━━━━━━━━━━━━━━━━━━━━━━━━━━━━━━━━━━\u001b[0m \u001b[32m0.1/1.6 MB\u001b[0m \u001b[31m2.7 MB/s\u001b[0m eta \u001b[36m0:00:01\u001b[0m\r\u001b[2K     \u001b[91m━━━━━━━━━━━━━━━━━━━━\u001b[0m\u001b[91m╸\u001b[0m\u001b[90m━━━━━━━━━━━━━━━━━━━\u001b[0m \u001b[32m0.8/1.6 MB\u001b[0m \u001b[31m12.6 MB/s\u001b[0m eta \u001b[36m0:00:01\u001b[0m\r\u001b[2K     \u001b[90m━━━━━━━━━━━━━━━━━━━━━━━━━━━━━━━━━━━━━━━━\u001b[0m \u001b[32m1.6/1.6 MB\u001b[0m \u001b[31m17.1 MB/s\u001b[0m eta \u001b[36m0:00:00\u001b[0m\n",
            "\u001b[?25h  Preparing metadata (setup.py) ... \u001b[?25l\u001b[?25hdone\n",
            "  Building wheel for pyLDAvis (setup.py) ... \u001b[?25l\u001b[?25hdone\n"
          ]
        }
      ]
    },
    {
      "cell_type": "code",
      "source": [
        "vis = pyLDAvis.gensim.prepare(lda_model, corpus, lda_model.id2word, mds=\"mmds\", R=20)\n",
        "pyLDAvis.display(vis)"
      ],
      "metadata": {
        "colab": {
          "base_uri": "https://localhost:8080/",
          "height": 882
        },
        "id": "Rsjf9PLaq8Uz",
        "outputId": "5727d172-6f9c-4438-f613-7d5414afe2aa"
      },
      "execution_count": 51,
      "outputs": [
        {
          "output_type": "execute_result",
          "data": {
            "text/plain": [
              "<IPython.core.display.HTML object>"
            ],
            "text/html": [
              "\n",
              "<link rel=\"stylesheet\" type=\"text/css\" href=\"https://cdn.rawgit.com/bmabey/pyLDAvis/files/ldavis.v1.0.0.css\">\n",
              "\n",
              "\n",
              "<div id=\"ldavis_el2161371271885345925376719265\"></div>\n",
              "<script type=\"text/javascript\">\n",
              "\n",
              "var ldavis_el2161371271885345925376719265_data = {\"mdsDat\": {\"x\": [-0.1224957105460895, 0.10299180091407725, 0.24445960942884823, -0.1309910525362402, -0.35063060041522975, 0.005264193231620182, 0.34259632924087013, -0.35942223505119264, 0.2583052396632109, 0.009922426070125383], \"y\": [0.1858555982912803, -0.3215772398597269, 0.2644702771417304, -0.2674157975620692, 0.1551127143254512, 0.36964165914615654, -0.19217241862578296, -0.15726880550865044, 0.026694952031784503, -0.06334093938017353], \"topics\": [1, 2, 3, 4, 5, 6, 7, 8, 9, 10], \"cluster\": [1, 1, 1, 1, 1, 1, 1, 1, 1, 1], \"Freq\": [20.419434774439004, 19.58964917646322, 17.23631438505207, 10.030135430340515, 7.932118659468067, 7.513015826436077, 6.9945529286476775, 5.455418988966189, 2.5645914288195715, 2.264768401367611]}, \"tinfo\": {\"Term\": [\"valor\", \"ir\", \"fatura\", \"mes\", \"empresa\", \"cancelar\", \"plano\", \"dia\", \"cancelamento\", \"haver\", \"atendente\", \"r\", \"claro\", \"desconto\", \"contato\", \"sinal\", \"tecnico\", \"Internet\", \"numero\", \"controle\", \"saldo\", \"aparelho\", \"reclamar\", \"utilizar\", \"credito\", \"renovacao\", \"semana\", \"hora\", \"existir\", \"computador\", \"principalmente\", \"eu\", \"pegar\", \"pix\", \"site\", \"mau\", \"confirmar\", \"estar\", \"abrir\", \"trocar\", \"um\", \"pessimo\", \"prezao\", \"Internet\", \"porque\", \"ligar\", \"tentar\", \"resolver\", \"claro\", \"cliente\", \"dia\", \"pra\", \"plano\", \"entrar\", \"pois\", \"todo\", \"problema\", \"real\", \"agora\", \"fazer\", \"conforme\", \"enviar\", \"ligacoes\", \"situacao\", \"abatimento\", \"aplicar\", \"paguar\", \"si\", \"com\", \"junho\", \"modem\", \"pagueer\", \"Flavia\", \"duplicidade\", \"em\", \"cobranco\", \"comecar\", \"setor\", \"cobrancar\", \"cobranca\", \"protocolo\", \"recebi\", \"fatura\", \"falar\", \"fazer\", \"valor\", \"comprovante\", \"setembro\", \"claro\", \"mes\", \"informar\", \"dia\", \"solicitar\", \"servico\", \"ligacao\", \"ir\", \"mudar\", \"funcionario\", \"informacao\", \"direito\", \"ativar\", \"expliquei\", \"aceitar\", \"informei\", \"proporcional\", \"caso\", \"combinar\", \"vim\", \"cortar\", \"pre\", \"primeira\", \"realmente\", \"shopping\", \"terceiro\", \"fato\", \"perguntar\", \"novo\", \"ontem\", \"datar\", \"ir\", \"dizer\", \"cancelamento\", \"passar\", \"novamente\", \"plano\", \"atendente\", \"liguar\", \"vez\", \"pagar\", \"valor\", \"cobrar\", \"linha\", \"fatura\", \"real\", \"ocorrer\", \"pedir\", \"claro\", \"fazer\", \"mes\", \"aumentar\", \"falta\", \"alem\", \"informacoes\", \"este\", \"residencia\", \"atendir\", \"canal\", \"consumidor\", \"registro\", \"portabilidade\", \"finalizar\", \"pecar\", \"anexo\", \"enganoso\", \"descaso\", \"comparecer\", \"tipo\", \"x\", \"custo\", \"numero\", \"absurdo\", \"chamar\", \"de\", \"surpresa\", \"operadora\", \"contato\", \"atendente\", \"haver\", \"acesso\", \"protocolo\", \"mesmo\", \"chip\", \"cliente\", \"claro\", \"informar\", \"servico\", \"nenhum\", \"resolver\", \"agendar\", \"h\", \"sac\", \"visita\", \"endereco\", \"interesse\", \"recife\", \"moldem\", \"efetivamente\", \"local\", \"alto\", \"vejor\", \"assinatura\", \"agenciar\", \"insistir\", \"reverter\", \"obstaculizar\", \"natal\", \"cliquei\", \"moldar\", \"diretamente\", \"admitir\", \"chegada\", \"cancelar\", \"mudanca\", \"procedimento\", \"tecnico\", \"haver\", \"contrato\", \"aguardar\", \"solicitacao\", \"entregar\", \"dia\", \"servico\", \"cancelamento\", \"poder\", \"claro\", \"desde\", \"sinal\", \"pois\", \"apos\", \"informar\", \"Internet\", \"quase\", \"muito\", \"telar\", \"dado\", \"q\", \"venda\", \"negar\", \"tocar\", \"final\", \"tela\", \"concordar\", \"atencao\", \"pequeno\", \"abuso\", \"vinculo\", \"desbloquear\", \"favor\", \"biometrico\", \"cuidado\", \"clicar\", \"sensor\", \"oferecer\", \"contratar\", \"central\", \"mensagem\", \"controle\", \"dois\", \"apos\", \"mandar\", \"chip\", \"pacote\", \"minuto\", \"saber\", \"outro\", \"plano\", \"claro\", \"querer\", \"pedir\", \"todo\", \"r\", \"desconto\", \"entao\", \"desfecho\", \"meter\", \"principal\", \"pouco\", \"liguei\", \"mensal\", \"parecer\", \"adquiri\", \"adquirir\", \"falha\", \"comunicar\", \"abusivo\", \"correta\", \"questionei\", \"sequer\", \"susto\", \"altamente\", \"realidade\", \"arrogante\", \"antecipar\", \"produto\", \"total\", \"vir\", \"contato\", \"mes\", \"valor\", \"ficar\", \"julho\", \"hoje\", \"entrar\", \"fatura\", \"desde\", \"linha\", \"empresa\", \"receber\", \"parte\", \"identificar\", \"suporte\", \"horario\", \"condominio\", \"prejudicar\", \"ultima\", \"quatro\", \"prometer\", \"niteroi\", \"promessa\", \"quinta\", \"reser\", \"temporal\", \"sabar\", \"morer\", \"vizinho\", \"postar\", \"rj\", \"grupo\", \"whatsapp\", \"bloco\", \"empresa\", \"qualquer\", \"nada\", \"sinal\", \"onde\", \"preciso\", \"contato\", \"servico\", \"dia\", \"bem\", \"continuar\", \"tentar\", \"desde\", \"conseguir\", \"prever\", \"prazo\", \"desejo\", \"notar\", \"internet\", \"fornecer\", \"diario\", \"sob\", \"satisfacao\", \"instalacao\", \"motivo\", \"realizei\", \"horrivel\", \"ne\", \"fibra\", \"mega\", \"anatel\", \"pessoal\", \"g\", \"cabo\", \"aqui\", \"comunicacao\", \"acabar\", \"ficar\", \"registrar\", \"ir\", \"deixar\", \"m\", \"procurar\", \"bastar\", \"ressarcimento\", \"ahahhahah\", \"lado\", \"propuser\", \"reiniciar\", \"vc\", \"junto\", \"procon\", \"vao\", \"promocao\", \"desistir\", \"alguem\", \"nr\", \"Serasa\", \"oi\", \"epoca\", \"diminuir\", \"fixo\", \"telefone\", \"ano\", \"net\", \"fatura\", \"ser\", \"todo\", \"desde\", \"mes\"], \"Freq\": [492.0, 247.0, 341.0, 288.0, 165.0, 140.0, 402.0, 488.0, 183.0, 149.0, 247.0, 90.0, 728.0, 89.0, 148.0, 163.0, 103.0, 237.0, 122.0, 113.0, 113.86234944387692, 91.7643924911358, 82.14382244466307, 76.7610980729203, 60.20463661526652, 55.596495203833435, 49.09026147387524, 45.95980953989545, 44.65890823584389, 42.87698053215876, 36.855600097761574, 36.572247591611, 36.261259730254395, 28.218743562120196, 27.611237350931702, 26.624510985614315, 26.63346544146966, 26.10325111341231, 25.19825631111677, 23.26394815997845, 39.210946402757145, 40.47429666600103, 32.427635194585925, 155.7252025552629, 57.22474029414344, 62.10177371173124, 75.56916117214037, 92.14562221620304, 239.96295586388723, 80.53698273926591, 143.37823049482333, 64.31593639389651, 116.9486298671714, 71.63257691527167, 71.25086657533127, 73.44830986759688, 59.31307800251844, 59.818907133449414, 60.445478735887114, 65.09759640821328, 96.18215528243665, 71.45933290562513, 57.74689342530038, 52.95508841847528, 46.743567997355576, 45.518409901833564, 42.29059064316043, 42.20170515532517, 41.79821045733719, 35.20274530417019, 32.27845771009023, 31.36472158086328, 31.19050959810797, 31.19050959810797, 30.81597962707603, 30.658551105647152, 30.501704702897527, 26.390745126965626, 25.895408239335914, 25.78287490060012, 111.25856799085456, 66.02418877785937, 175.81196764475442, 107.12414211588742, 148.37017842465033, 203.28621718566566, 57.81832111630948, 52.25753733419792, 197.6756536111515, 113.07219619913467, 85.15987065255733, 127.48423282444107, 59.96594135769588, 63.506928938701826, 60.33146001630204, 64.98445565410728, 78.05677626758913, 68.87953611610705, 53.46825462723645, 45.2168675715533, 39.554288433110635, 37.49870104470546, 35.247009094039406, 32.19966118832733, 31.74610615698591, 27.58211517619715, 27.31248376405793, 27.25667557156802, 24.740796106503584, 24.250690639235675, 22.260275353128005, 22.07242157952511, 21.864184250291753, 21.468752399161428, 21.047788490135726, 20.864855016284157, 95.61887151820207, 46.19786453696926, 46.95244403956928, 164.13720362463363, 170.29343804722225, 125.90914452624669, 73.66859406628367, 127.84198938934284, 196.11855868171136, 136.61680201486138, 73.77887166318376, 81.6185864555195, 91.2696155945479, 158.84082613091402, 75.35322559093267, 67.8142309998374, 103.02861727676753, 61.316042717386274, 51.815165761132405, 60.07885546788148, 89.99614414538247, 70.50510375907227, 65.36654098141682, 54.957041858608385, 54.09691172857941, 49.181147191710345, 40.637543988316764, 33.463161007420744, 28.77710288740918, 24.671276271022315, 23.00819325505253, 23.00757944551108, 22.65378021602158, 19.607127704019167, 18.771033529351243, 18.280052293859097, 17.70685894290918, 16.66569778776032, 14.807666795721264, 14.744528516663266, 14.44741813953544, 13.253089371239572, 13.009697657514437, 87.08614094582397, 16.053291450335546, 18.75762120066911, 47.66220760822531, 20.258479961748108, 42.32007266762009, 54.99220016090078, 71.51375746718377, 45.66974347358677, 21.586467233198118, 41.658046616086246, 21.724721930394598, 25.829052386024177, 32.03287263756387, 40.91678306456472, 29.880168800518316, 28.465190257108727, 25.985877772856888, 25.15933600917776, 51.91493325714383, 50.380727082037495, 45.832606082739225, 42.07339698311573, 33.70472682878419, 33.34345901347664, 30.238346248130277, 30.238346248130277, 30.238346248130277, 24.74126303946093, 18.205037191457624, 16.98543567506477, 15.495849466074974, 15.15825278841852, 15.15825278841852, 15.15825278841852, 15.15825278841852, 15.15825278841852, 15.15825278841852, 15.15825278841852, 15.15825278841852, 15.15825278841852, 15.15825278841852, 117.15625726482357, 30.57036528416333, 26.65473950999317, 74.93727216663086, 89.67104892444942, 65.95016057706917, 28.29741331161508, 22.394441154651016, 27.858938334036896, 112.42549300664234, 55.313350624677845, 56.57155455533539, 47.94625220905471, 94.90517316860017, 45.699657510353596, 41.024926379945484, 38.19288701376031, 36.59127072221389, 36.21967610180863, 35.482799631119995, 35.87507087017526, 34.87697091650842, 31.48982807378851, 30.046427087951766, 27.162054384668856, 26.235888626847746, 23.175169606065637, 22.764979128141302, 18.459987290402402, 17.686624503740173, 17.17702080358483, 17.07967765400876, 16.836601610568845, 16.05309734676744, 15.857434035214352, 15.857359985631929, 15.848918333235565, 15.509553517855888, 15.509553517855888, 15.509553517855888, 15.509553517855888, 31.798513152473944, 65.22553798423344, 28.34548386487883, 52.80887747811416, 59.344918026454025, 37.43419035420577, 54.20036860145387, 21.23673279389346, 32.69686721339769, 32.840735605089144, 29.291735848236925, 34.61046536414595, 36.15332488613728, 64.19404277411093, 64.55232781040881, 31.959801984735112, 30.695181005658732, 29.645949262719135, 89.22506960114742, 88.60468798290907, 50.135076216337495, 30.091770250028087, 25.23515786896523, 24.3990305295367, 23.77897611679319, 20.15760152092607, 20.084791095684945, 19.9615539821052, 18.599850244201274, 18.438221019225622, 17.218238418516258, 17.160919835823822, 16.483590056207948, 16.04884507994484, 15.939926808083186, 14.837368793153516, 12.662486345228832, 12.662486345228832, 12.662486345228832, 12.662486345228832, 12.662486345228832, 24.033418518015978, 39.96389546677616, 58.45909345792601, 62.2521624490538, 92.78756778690322, 96.56354389224336, 31.15473948692502, 26.8454554671085, 34.60384141870094, 35.85861481246665, 40.64757385615063, 31.253757220197176, 29.724855590216542, 31.0683695836614, 24.14370117505428, 36.00848051746333, 25.23446022698323, 17.781493066448064, 16.33596526050069, 15.742007524071838, 15.616909049049976, 15.488287464550659, 14.36877007245484, 14.273140522264919, 14.247221992951948, 14.232396042043852, 14.230774930165843, 14.101021777474449, 13.996183990805179, 13.996044350475092, 13.99601385431105, 13.99598977839207, 13.576709254410666, 13.576709254410666, 13.576709254410666, 36.643481275508606, 13.576709254410666, 91.36438236802027, 27.253375304182654, 45.27273363497271, 46.34764958462681, 31.95584206783031, 22.27212544935528, 30.511328660602643, 26.314846225429665, 31.417039051662893, 19.275089247170328, 16.43555770695478, 17.732334855074, 16.704776238054237, 15.834656475491993, 28.35900407537319, 17.74145125549799, 17.538356521318327, 16.542725716923186, 16.385416408989315, 16.319080358662603, 14.929113893527148, 14.928345772829749, 14.469694717192622, 11.458624610974999, 10.472279917997243, 8.142758477532809, 6.815492693843837, 6.272293280146073, 6.129790668190024, 5.740996341832524, 5.368162024307439, 4.9499270954242585, 4.913976330445568, 4.541991623829394, 14.556311266639874, 14.171208145048267, 19.14836617554994, 15.770289056469329, 8.582880319057907, 18.189973379659776, 9.200942828270314, 16.14611055192276, 9.265865589788701, 9.096545279259699, 9.063632065538949, 7.581194133217796, 7.581194133217796, 7.581194133217796, 7.581194133217796, 7.112891641841979, 6.932454334497166, 6.490357810980919, 5.978920652326779, 4.8830072528159825, 4.021314396983315, 3.8661172167593683, 3.404075865432687, 3.1058153165417295, 3.058220590633183, 2.622186808352722, 2.614182890482216, 10.271197520668675, 19.813609400643365, 13.961522061245098, 8.038982653558088, 15.306353508465715, 9.793622425139848, 11.292751178201785, 6.461567827678308, 6.337834267158521], \"Total\": [492.0, 247.0, 341.0, 288.0, 165.0, 140.0, 402.0, 488.0, 183.0, 149.0, 247.0, 90.0, 728.0, 89.0, 148.0, 163.0, 103.0, 237.0, 122.0, 113.0, 114.69692430361742, 92.59937225504524, 82.97843975526688, 77.59578268470577, 61.03918335983398, 56.4310717114652, 49.924821471298266, 46.794341941016036, 45.49360357770401, 43.71145863300414, 37.69053992747874, 37.40894520989789, 37.09591402928015, 29.060676434527526, 28.445821547849075, 27.459045741691035, 27.468621427740988, 26.937825543071646, 26.032864419098058, 24.098514313365033, 41.297762705286345, 43.744750498843445, 34.49721800488961, 237.9506801365116, 75.58240712552319, 87.82647236913004, 116.14897382475867, 159.98316703222574, 728.3881994316196, 139.14066964280786, 488.5185660421914, 113.22466858204135, 402.82208458084034, 146.02324198966755, 160.345930264795, 180.3839135258274, 122.94938915435444, 129.2205521002907, 139.72944477229586, 303.566080742363, 97.03689521351822, 72.31402053081975, 58.60152630530631, 53.809929982011894, 47.59811730555252, 46.37313240023003, 43.14526747659994, 43.05642293944822, 42.65292865391901, 36.05739471315599, 33.13373312693846, 32.21930325148064, 32.045058918038684, 32.045058918038684, 31.670795405178094, 31.51347489295194, 31.3564315399197, 27.24577002383182, 26.750688259947996, 26.637532350334137, 153.6455522926219, 88.25763718076345, 341.5514318279783, 180.02024995586555, 303.566080742363, 492.3100726725629, 83.61778171828165, 72.03946383626737, 728.3881994316196, 288.0280997277045, 205.08934919777784, 488.5185660421914, 132.1615445317935, 174.21112984179535, 146.35146850458378, 247.9739645775663, 78.90792893393292, 69.73074034791026, 54.31923424532489, 46.14202596463928, 40.40518610411404, 38.34967623838993, 36.09796279778116, 33.05072818457939, 32.597047376767385, 28.433006251955533, 28.163567892534914, 28.10742289816729, 25.591804802025273, 25.101627229638208, 23.11109244176312, 22.923254452706377, 22.715139541603175, 22.319593139755597, 21.898808183410825, 21.71567865317787, 110.08491408302146, 51.20378574069843, 52.18290037954626, 247.9739645775663, 259.26821840428, 183.252159757492, 97.31225808546078, 198.0213469811635, 402.82208458084034, 247.7203123771212, 113.73189063911185, 141.7274018913127, 185.8718834007304, 492.3100726725629, 144.89256652368064, 119.38238755747118, 341.5514318279783, 129.2205521002907, 73.09263206134682, 125.25939711958944, 728.3881994316196, 303.566080742363, 288.0280997277045, 55.77210889370891, 54.91253599360504, 49.99619828541903, 41.453075664048065, 34.27812008555765, 29.592927054947317, 25.48642697300345, 23.823118230614693, 23.82271619166617, 23.46987488616822, 20.422025920960994, 19.586041751746357, 19.095005705157977, 18.52180136898072, 17.480665472698778, 15.622581717868792, 15.55947824525199, 15.262797004022142, 14.06808778583215, 13.824651348881007, 122.77364237250971, 18.125860011098933, 22.469603971749642, 96.96286029975295, 25.679473667384038, 91.93005610671493, 148.40634236769247, 247.7203123771212, 149.60686258095419, 29.8643231909016, 153.6455522926219, 32.73286770185176, 60.956218335105945, 139.14066964280786, 728.3881994316196, 205.08934919777784, 174.21112984179535, 119.2698686054795, 159.98316703222574, 52.77629025756008, 51.242125776761846, 46.69402245596465, 42.9347029579105, 34.566096705644384, 34.20477427399031, 31.099640532683313, 31.099640532683313, 31.099640532683313, 25.602699430709954, 19.066476553232047, 17.846768680638608, 16.357270597327965, 16.019547894706445, 16.019547894706445, 16.019547894706445, 16.019547894706445, 16.019547894706445, 16.019547894706445, 16.019547894706445, 16.019547894706445, 16.019547894706445, 16.019547894706445, 140.88459460553196, 35.86785925723183, 30.836402074101272, 103.5113901780127, 149.60686258095419, 104.18659978472822, 36.072572618267905, 27.565267186906922, 39.8732534251614, 488.5185660421914, 174.21112984179535, 183.252159757492, 131.09022340320635, 728.3881994316196, 124.15155201033838, 163.36341196078763, 160.345930264795, 129.68055066782685, 205.08934919777784, 237.9506801365116, 36.74156671997365, 35.743549531707764, 32.3562467362409, 30.912927279957586, 28.028521052342818, 27.102312823685494, 24.041655034759145, 23.631514746011387, 19.326558414723866, 18.553054289819794, 18.043638611484873, 17.946358811244828, 17.70305412392384, 16.919557137606112, 16.72385369337541, 16.7237887712276, 16.715404444082306, 16.3759650328323, 16.3759650328323, 16.3759650328323, 16.3759650328323, 36.222274020851074, 85.16557305998698, 34.61416012626102, 85.58788193905252, 113.81967871531397, 67.0827820624086, 129.68055066782685, 27.148650286735247, 60.956218335105945, 67.29370587386661, 53.632539944572464, 78.85496316779958, 93.67525058386747, 402.82208458084034, 728.3881994316196, 152.80290893710927, 125.25939711958944, 180.3839135258274, 90.07307993406697, 89.45269045809394, 50.98451024950913, 30.939728734149863, 26.08320365923001, 25.246981145246203, 24.626917872521002, 21.005657759458103, 20.932728348944647, 20.809520351105558, 19.447794028673275, 19.286351067514854, 18.066213574513785, 18.009057672914416, 17.33149020668092, 16.896743730016148, 16.788068378748385, 15.68541254787601, 13.51053825069454, 13.51053825069454, 13.51053825069454, 13.51053825069454, 13.51053825069454, 27.950224223155804, 51.10106191318828, 119.58386424978545, 148.40634236769247, 288.0280997277045, 492.3100726725629, 71.3559047004273, 56.11379904983337, 124.5106475934569, 146.02324198966755, 341.5514318279783, 124.15155201033838, 119.38238755747118, 165.95377660320767, 77.78302783321423, 36.878060587530584, 26.103589329067738, 18.651051136996244, 17.205124659269515, 16.6111601566348, 16.48604926544211, 16.357591551050234, 15.237920161110585, 15.142281324564491, 15.116338409006328, 15.101531916836931, 15.10004242769769, 14.9701332750667, 14.865275658659328, 14.86514771742582, 14.865122556682941, 14.86509823883481, 14.445800025933819, 14.445800025933819, 14.445800025933819, 39.71210275897119, 14.445800025933819, 165.95377660320767, 45.191510203829104, 148.43087203817578, 163.36341196078763, 110.50896089602509, 58.28375368192467, 148.40634236769247, 174.21112984179535, 488.5185660421914, 56.48856941346725, 31.694105691567735, 116.14897382475867, 124.15155201033838, 106.68025633448325, 29.197306217365053, 18.57979670018253, 18.377452958479836, 17.381014096562875, 17.223708107867484, 17.158358824243336, 15.767415088648432, 15.766697732182072, 15.307990297818757, 12.296964676977295, 11.310572293046976, 8.981017037607089, 7.653857928931233, 7.110602160564552, 6.9680392465683045, 6.579363928366262, 6.206591376825959, 5.788286715080923, 5.752218148264658, 5.380184612860648, 32.48378547400067, 39.671874619667115, 79.31980375870627, 71.3559047004273, 22.66337725156947, 247.9739645775663, 31.484927631237586, 16.97449123287264, 10.094320122409629, 9.924917445034755, 9.892008270171479, 8.40959529999584, 8.40959529999584, 8.40959529999584, 8.40959529999584, 7.941336379301114, 7.76102162397036, 7.3188440945958595, 6.80736749072093, 5.711437153279173, 4.849837171349381, 4.694543152567277, 4.232492005507154, 3.934311966782151, 3.8866043830267056, 3.450601086234517, 3.443170758905989, 14.46722934318409, 84.60584218764723, 85.05752400987649, 53.06947761783443, 341.5514318279783, 101.09234165668754, 180.3839135258274, 124.15155201033838, 288.0280997277045], \"Category\": [\"Default\", \"Default\", \"Default\", \"Default\", \"Default\", \"Default\", \"Default\", \"Default\", \"Default\", \"Default\", \"Default\", \"Default\", \"Default\", \"Default\", \"Default\", \"Default\", \"Default\", \"Default\", \"Default\", \"Default\", \"Topic1\", \"Topic1\", \"Topic1\", \"Topic1\", \"Topic1\", \"Topic1\", \"Topic1\", \"Topic1\", \"Topic1\", \"Topic1\", \"Topic1\", \"Topic1\", \"Topic1\", \"Topic1\", \"Topic1\", \"Topic1\", \"Topic1\", \"Topic1\", \"Topic1\", \"Topic1\", \"Topic1\", \"Topic1\", \"Topic1\", \"Topic1\", \"Topic1\", \"Topic1\", \"Topic1\", \"Topic1\", \"Topic1\", \"Topic1\", \"Topic1\", \"Topic1\", \"Topic1\", \"Topic1\", \"Topic1\", \"Topic1\", \"Topic1\", \"Topic1\", \"Topic1\", \"Topic1\", \"Topic2\", \"Topic2\", \"Topic2\", \"Topic2\", \"Topic2\", \"Topic2\", \"Topic2\", \"Topic2\", \"Topic2\", \"Topic2\", \"Topic2\", \"Topic2\", \"Topic2\", \"Topic2\", \"Topic2\", \"Topic2\", \"Topic2\", \"Topic2\", \"Topic2\", \"Topic2\", \"Topic2\", \"Topic2\", \"Topic2\", \"Topic2\", \"Topic2\", \"Topic2\", \"Topic2\", \"Topic2\", \"Topic2\", \"Topic2\", \"Topic2\", \"Topic2\", \"Topic2\", \"Topic2\", \"Topic2\", \"Topic2\", \"Topic3\", \"Topic3\", \"Topic3\", \"Topic3\", \"Topic3\", \"Topic3\", \"Topic3\", \"Topic3\", \"Topic3\", \"Topic3\", \"Topic3\", \"Topic3\", \"Topic3\", \"Topic3\", \"Topic3\", \"Topic3\", \"Topic3\", \"Topic3\", \"Topic3\", \"Topic3\", \"Topic3\", \"Topic3\", \"Topic3\", \"Topic3\", \"Topic3\", \"Topic3\", \"Topic3\", \"Topic3\", \"Topic3\", \"Topic3\", \"Topic3\", \"Topic3\", \"Topic3\", \"Topic3\", \"Topic3\", \"Topic3\", \"Topic3\", \"Topic3\", \"Topic3\", \"Topic3\", \"Topic3\", \"Topic3\", \"Topic3\", \"Topic4\", \"Topic4\", \"Topic4\", \"Topic4\", \"Topic4\", \"Topic4\", \"Topic4\", \"Topic4\", \"Topic4\", \"Topic4\", \"Topic4\", \"Topic4\", \"Topic4\", \"Topic4\", \"Topic4\", \"Topic4\", \"Topic4\", \"Topic4\", \"Topic4\", \"Topic4\", \"Topic4\", \"Topic4\", \"Topic4\", \"Topic4\", \"Topic4\", \"Topic4\", \"Topic4\", \"Topic4\", \"Topic4\", \"Topic4\", \"Topic4\", \"Topic4\", \"Topic4\", \"Topic4\", \"Topic4\", \"Topic4\", \"Topic4\", \"Topic4\", \"Topic4\", \"Topic5\", \"Topic5\", \"Topic5\", \"Topic5\", \"Topic5\", \"Topic5\", \"Topic5\", \"Topic5\", \"Topic5\", \"Topic5\", \"Topic5\", \"Topic5\", \"Topic5\", \"Topic5\", \"Topic5\", \"Topic5\", \"Topic5\", \"Topic5\", \"Topic5\", \"Topic5\", \"Topic5\", \"Topic5\", \"Topic5\", \"Topic5\", \"Topic5\", \"Topic5\", \"Topic5\", \"Topic5\", \"Topic5\", \"Topic5\", \"Topic5\", \"Topic5\", \"Topic5\", \"Topic5\", \"Topic5\", \"Topic5\", \"Topic5\", \"Topic5\", \"Topic5\", \"Topic5\", \"Topic5\", \"Topic5\", \"Topic5\", \"Topic6\", \"Topic6\", \"Topic6\", \"Topic6\", \"Topic6\", \"Topic6\", \"Topic6\", \"Topic6\", \"Topic6\", \"Topic6\", \"Topic6\", \"Topic6\", \"Topic6\", \"Topic6\", \"Topic6\", \"Topic6\", \"Topic6\", \"Topic6\", \"Topic6\", \"Topic6\", \"Topic6\", \"Topic6\", \"Topic6\", \"Topic6\", \"Topic6\", \"Topic6\", \"Topic6\", \"Topic6\", \"Topic6\", \"Topic6\", \"Topic6\", \"Topic6\", \"Topic6\", \"Topic6\", \"Topic6\", \"Topic6\", \"Topic6\", \"Topic6\", \"Topic6\", \"Topic7\", \"Topic7\", \"Topic7\", \"Topic7\", \"Topic7\", \"Topic7\", \"Topic7\", \"Topic7\", \"Topic7\", \"Topic7\", \"Topic7\", \"Topic7\", \"Topic7\", \"Topic7\", \"Topic7\", \"Topic7\", \"Topic7\", \"Topic7\", \"Topic7\", \"Topic7\", \"Topic7\", \"Topic7\", \"Topic7\", \"Topic7\", \"Topic7\", \"Topic7\", \"Topic7\", \"Topic7\", \"Topic7\", \"Topic7\", \"Topic7\", \"Topic7\", \"Topic7\", \"Topic7\", \"Topic7\", \"Topic7\", \"Topic7\", \"Topic7\", \"Topic8\", \"Topic8\", \"Topic8\", \"Topic8\", \"Topic8\", \"Topic8\", \"Topic8\", \"Topic8\", \"Topic8\", \"Topic8\", \"Topic8\", \"Topic8\", \"Topic8\", \"Topic8\", \"Topic8\", \"Topic8\", \"Topic8\", \"Topic8\", \"Topic8\", \"Topic8\", \"Topic8\", \"Topic8\", \"Topic8\", \"Topic8\", \"Topic8\", \"Topic8\", \"Topic8\", \"Topic8\", \"Topic8\", \"Topic8\", \"Topic8\", \"Topic8\", \"Topic8\", \"Topic8\", \"Topic8\", \"Topic8\", \"Topic9\", \"Topic9\", \"Topic9\", \"Topic9\", \"Topic9\", \"Topic9\", \"Topic9\", \"Topic9\", \"Topic9\", \"Topic9\", \"Topic9\", \"Topic9\", \"Topic9\", \"Topic9\", \"Topic9\", \"Topic9\", \"Topic9\", \"Topic9\", \"Topic9\", \"Topic9\", \"Topic9\", \"Topic9\", \"Topic9\", \"Topic9\", \"Topic9\", \"Topic9\", \"Topic9\", \"Topic10\", \"Topic10\", \"Topic10\", \"Topic10\", \"Topic10\", \"Topic10\", \"Topic10\", \"Topic10\", \"Topic10\", \"Topic10\", \"Topic10\", \"Topic10\", \"Topic10\", \"Topic10\", \"Topic10\", \"Topic10\", \"Topic10\", \"Topic10\", \"Topic10\", \"Topic10\", \"Topic10\", \"Topic10\", \"Topic10\", \"Topic10\", \"Topic10\", \"Topic10\", \"Topic10\", \"Topic10\", \"Topic10\"], \"logprob\": [20.0, 19.0, 18.0, 17.0, 16.0, 15.0, 14.0, 13.0, 12.0, 11.0, 10.0, 9.0, 8.0, 7.0, 6.0, 5.0, 4.0, 3.0, 2.0, 1.0, -4.0370001792907715, -4.252699851989746, -4.363500118255615, -4.43120002746582, -4.674200057983398, -4.753799915313721, -4.878300189971924, -4.944200038909912, -4.972899913787842, -5.013599872589111, -5.164899826049805, -5.172699928283691, -5.18120002746582, -5.432000160217285, -5.453700065612793, -5.490099906921387, -5.489799976348877, -5.509900093078613, -5.545199871063232, -5.625, -5.103000164031982, -5.071300029754639, -5.292900085449219, -3.723900079727173, -4.724999904632568, -4.643199920654297, -4.446899890899658, -4.248600006103516, -3.2915000915527344, -4.383200168609619, -3.80649995803833, -4.608099937438965, -4.010200023651123, -4.500400066375732, -4.50570011138916, -4.475399971008301, -4.6890997886657715, -4.680600166320801, -4.670199871063232, -4.596099853515625, -4.1641998291015625, -4.461299896240234, -4.6743998527526855, -4.761000156402588, -4.885799884796143, -4.912300109863281, -4.985899925231934, -4.98799991607666, -4.997600078582764, -5.169300079345703, -5.256100177764893, -5.284800052642822, -5.290299892425537, -5.290299892425537, -5.3024001121521, -5.307499885559082, -5.312699794769287, -5.457399845123291, -5.476399898529053, -5.4807000160217285, -4.018599987030029, -4.54040002822876, -3.561000108718872, -4.05649995803833, -3.7307000160217285, -3.415800094604492, -4.6732001304626465, -4.7743000984191895, -3.4437999725341797, -4.002399921417236, -4.285900115966797, -3.882499933242798, -4.63670015335083, -4.5792999267578125, -4.6305999755859375, -4.556300163269043, -4.244999885559082, -4.370100021362305, -4.6234002113342285, -4.790999889373779, -4.924799919128418, -4.9781999588012695, -5.04010009765625, -5.130499839782715, -5.144700050354004, -5.285299777984619, -5.295100212097168, -5.2972002029418945, -5.394000053405762, -5.414000034332275, -5.49970006942749, -5.5081000328063965, -5.517600059509277, -5.535900115966797, -5.555699825286865, -5.5644001960754395, -4.042099952697754, -4.769499778747559, -4.753300189971924, -3.501800060272217, -3.4649999141693115, -3.766900062561035, -4.3028998374938965, -3.751699924468994, -3.3238000869750977, -3.68530011177063, -4.301400184631348, -4.200399875640869, -4.088699817657471, -3.534600019454956, -4.280300140380859, -4.385700225830078, -3.9674999713897705, -4.486400127410889, -4.654799938201904, -4.506800174713135, -4.102700233459473, -4.346799850463867, -4.422500133514404, -4.054500102996826, -4.070300102233887, -4.165500164031982, -4.356400012969971, -4.550600051879883, -4.701499938964844, -4.855400085449219, -4.92519998550415, -4.92519998550415, -4.940700054168701, -5.08519983291626, -5.128699779510498, -5.155200004577637, -5.187099933624268, -5.247700214385986, -5.365900039672852, -5.370200157165527, -5.390500068664551, -5.476799964904785, -5.4953999519348145, -3.5941998958587646, -5.285099983215332, -5.129499912261963, -4.196899890899658, -5.052499771118164, -4.315800189971924, -4.053899765014648, -3.7911999225616455, -4.23960018157959, -4.988999843597412, -4.331600189208984, -4.982600212097168, -4.809599876403809, -4.594299793243408, -4.3495001792907715, -4.663899898529053, -4.712399959564209, -4.803500175476074, -4.8358001708984375, -3.876800060272217, -3.9068000316619873, -4.001399993896484, -4.086999893188477, -4.308700084686279, -4.319499969482422, -4.417300224304199, -4.417300224304199, -4.417300224304199, -4.6178998947143555, -4.924699783325195, -4.99399995803833, -5.0858001708984375, -5.107800006866455, -5.107800006866455, -5.107800006866455, -5.107800006866455, -5.107800006866455, -5.107800006866455, -5.107800006866455, -5.107800006866455, -5.107800006866455, -5.107800006866455, -3.0629000663757324, -4.406300067901611, -4.543399810791016, -3.509700059890747, -3.330199956893921, -3.637500047683716, -4.48360013961792, -4.717599868774414, -4.499199867248535, -3.104099988937378, -3.8134000301361084, -3.7908999919891357, -3.9563000202178955, -3.2734999656677246, -4.004300117492676, -4.112199783325195, -4.183700084686279, -4.226600170135498, -4.236800193786621, -4.257299900054932, -4.1921000480651855, -4.220300197601318, -4.322400093078613, -4.3694000244140625, -4.470300197601318, -4.505000114440918, -4.629000186920166, -4.646900177001953, -4.856500148773193, -4.8993000984191895, -4.928500175476074, -4.934199810028076, -4.948500156402588, -4.996200084686279, -5.008500099182129, -5.008500099182129, -5.008999824523926, -5.030600070953369, -5.030600070953369, -5.030600070953369, -5.030600070953369, -4.312699794769287, -3.5941998958587646, -4.427599906921387, -3.8053998947143555, -3.688699960708618, -4.149499893188477, -3.779400110244751, -4.716400146484375, -4.284800052642822, -4.280399799346924, -4.394800186157227, -4.22790002822876, -4.184299945831299, -3.6101999282836914, -3.604599952697754, -4.307600021362305, -4.3480000495910645, -4.382800102233887, -3.209399938583374, -3.216399908065796, -3.785900115966797, -4.296299934387207, -4.472400188446045, -4.50600004196167, -4.531799793243408, -4.697000026702881, -4.7006001472473145, -4.7067999839782715, -4.777400016784668, -4.786200046539307, -4.854599952697754, -4.857999801635742, -4.898200035095215, -4.925000190734863, -4.93179988861084, -5.003399848937988, -5.161900043487549, -5.161900043487549, -5.161900043487549, -5.161900043487549, -5.161900043487549, -4.521100044250488, -4.012599945068359, -3.6322999000549316, -3.5694000720977783, -3.170300006866455, -3.1303999423980713, -4.261600017547607, -4.4105000495910645, -4.156599998474121, -4.120999813079834, -3.9955999851226807, -4.258399963378906, -4.308599948883057, -4.264400005340576, -4.516600131988525, -3.868299961090088, -4.223899841308594, -4.57390022277832, -4.658699989318848, -4.695700168609619, -4.703700065612793, -4.711999893188477, -4.7870001792907715, -4.793700218200684, -4.795499801635742, -4.796500205993652, -4.7967000007629395, -4.805799961090088, -4.813300132751465, -4.813300132751465, -4.813300132751465, -4.813300132751465, -4.843699932098389, -4.843699932098389, -4.843699932098389, -3.850800037384033, -4.843699932098389, -2.9372000694274902, -4.146900177001953, -3.639400005340576, -3.6159000396728516, -3.9876999855041504, -4.348700046539307, -4.033999919891357, -4.1819000244140625, -4.004700183868408, -4.493299961090088, -4.652599811553955, -4.576700210571289, -4.63640022277832, -4.689899921417236, -3.352299928665161, -3.8213999271392822, -3.832900047302246, -3.8912999629974365, -3.900899887084961, -3.904900074005127, -3.9939000606536865, -3.99399995803833, -4.025199890136719, -4.258500099182129, -4.348499774932861, -4.600100040435791, -4.77810001373291, -4.861100196838379, -4.884099960327148, -4.9496002197265625, -5.0167999267578125, -5.097899913787842, -5.105199813842773, -5.183899879455566, -4.019199848175049, -4.046000003814697, -3.744999885559082, -3.9391000270843506, -4.547500133514404, -3.7964000701904297, -4.478000164031982, -3.791300058364868, -4.34660005569458, -4.364999771118164, -4.36870002746582, -4.547299861907959, -4.547299861907959, -4.547299861907959, -4.547299861907959, -4.611000061035156, -4.63670015335083, -4.702600002288818, -4.7846999168396, -4.987199783325195, -5.181300163269043, -5.220699787139893, -5.3480000495910645, -5.439700126647949, -5.455100059509277, -5.60890007019043, -5.611999988555908, -4.243599891662598, -3.5866000652313232, -3.9365999698638916, -4.48859977722168, -3.8447000980377197, -4.291200160980225, -4.148799896240234, -4.707099914550781, -4.726399898529053], \"loglift\": [20.0, 19.0, 18.0, 17.0, 16.0, 15.0, 14.0, 13.0, 12.0, 11.0, 10.0, 9.0, 8.0, 7.0, 6.0, 5.0, 4.0, 3.0, 2.0, 1.0, 1.5814, 1.5796, 1.5786, 1.5779, 1.5749, 1.5738, 1.5718, 1.5707, 1.5702, 1.5694, 1.5663, 1.5661, 1.5659, 1.5593, 1.5589, 1.5578, 1.5578, 1.5572, 1.5561, 1.5534, 1.5368, 1.511, 1.5268, 1.1647, 1.3104, 1.2421, 1.1589, 1.037, 0.4783, 1.0419, 0.3628, 1.0231, 0.3519, 0.8765, 0.7776, 0.6902, 0.8597, 0.8185, 0.7507, 0.049, 1.6213, 1.6183, 1.6155, 1.6142, 1.6121, 1.6116, 1.6102, 1.6101, 1.6099, 1.6062, 1.604, 1.6033, 1.6031, 1.6031, 1.6028, 1.6027, 1.6025, 1.5983, 1.5977, 1.5976, 1.3074, 1.3399, 0.9661, 1.1111, 0.9143, 0.7457, 1.2612, 1.3091, 0.326, 0.6951, 0.7513, 0.2868, 0.8399, 0.621, 0.744, 0.291, 1.7473, 1.7459, 1.7424, 1.7379, 1.7369, 1.7357, 1.7343, 1.7321, 1.7317, 1.7278, 1.7275, 1.7274, 1.7243, 1.7237, 1.7206, 1.7203, 1.72, 1.7193, 1.7185, 1.7182, 1.6173, 1.6553, 1.6525, 1.3455, 1.3378, 1.3828, 1.4798, 1.3206, 1.0384, 1.163, 1.3254, 1.2063, 1.0469, 0.6269, 1.1043, 1.1926, 0.5597, 1.0127, 1.4141, 1.0234, -0.3329, 0.2982, 0.2751, 2.2849, 2.2846, 2.2831, 2.2797, 2.2755, 2.2716, 2.2671, 2.2648, 2.2648, 2.2642, 2.2589, 2.2571, 2.256, 2.2546, 2.2518, 2.246, 2.2458, 2.2447, 2.2399, 2.2388, 1.9561, 2.1782, 2.119, 1.5894, 2.0625, 1.5238, 1.3068, 1.0572, 1.113, 1.975, 0.9944, 1.8896, 1.4409, 0.8309, -0.5797, 0.3733, 0.488, 0.7757, 0.4497, 2.5178, 2.5173, 2.5156, 2.514, 2.509, 2.5087, 2.5062, 2.5062, 2.5062, 2.5, 2.488, 2.4848, 2.4801, 2.479, 2.479, 2.479, 2.479, 2.479, 2.479, 2.479, 2.479, 2.479, 2.479, 2.3498, 2.3744, 2.3885, 2.2112, 2.0224, 2.077, 2.2915, 2.3265, 2.1757, 1.0652, 1.387, 1.3589, 1.5284, 0.4963, 1.5348, 1.1525, 1.0996, 1.269, 0.8004, 0.6312, 2.5647, 2.564, 2.5614, 2.5601, 2.5571, 2.556, 2.5518, 2.5512, 2.5427, 2.5407, 2.5393, 2.539, 2.5384, 2.536, 2.5353, 2.5353, 2.5353, 2.5342, 2.5342, 2.5342, 2.5342, 2.4583, 2.3218, 2.3887, 2.1057, 1.9373, 2.0052, 1.7161, 2.3429, 1.9657, 1.8711, 1.9837, 1.7651, 1.6365, 0.7519, 0.1652, 1.0239, 1.1823, 0.7828, 2.6506, 2.6505, 2.6432, 2.6322, 2.627, 2.6259, 2.625, 2.6188, 2.6187, 2.6184, 2.6155, 2.6151, 2.612, 2.6118, 2.6099, 2.6086, 2.6082, 2.6045, 2.5952, 2.5952, 2.5952, 2.5952, 2.5952, 2.5091, 2.4142, 1.9443, 1.7913, 1.5273, 1.0311, 1.8313, 1.9228, 1.3796, 1.2559, 0.5315, 1.2807, 1.2697, 0.9845, 1.4901, 2.8847, 2.8747, 2.8608, 2.8567, 2.8548, 2.8544, 2.854, 2.8498, 2.8494, 2.8493, 2.8493, 2.8493, 2.8488, 2.8483, 2.8483, 2.8483, 2.8483, 2.8465, 2.8465, 2.8465, 2.8281, 2.8465, 2.3117, 2.4028, 1.7211, 1.6488, 1.6678, 1.9466, 1.3267, 1.0184, 0.1645, 1.8333, 2.2519, 1.0291, 0.9028, 1.0009, 3.6342, 3.6172, 3.6166, 3.6139, 3.6135, 3.6132, 3.6087, 3.6087, 3.6071, 3.5928, 3.5864, 3.5654, 3.5474, 3.5379, 3.5352, 3.5271, 3.5182, 3.5069, 3.5059, 3.494, 2.8607, 2.6339, 2.2421, 2.1538, 2.6924, 1.0509, 2.4332, 3.7377, 3.7021, 3.7005, 3.7002, 3.684, 3.684, 3.684, 3.684, 3.6775, 3.6748, 3.6676, 3.6579, 3.631, 3.6004, 3.5935, 3.5699, 3.5512, 3.548, 3.5132, 3.5123, 3.4452, 2.3361, 1.9807, 1.9004, 0.6825, 1.4534, 1.0168, 0.8321, -0.0288]}, \"token.table\": {\"Topic\": [2, 1, 5, 6, 8, 10, 10, 2, 1, 4, 5, 7, 6, 3, 6, 9, 3, 2, 4, 5, 7, 7, 5, 5, 1, 3, 6, 3, 5, 10, 4, 10, 7, 5, 9, 4, 1, 4, 7, 10, 7, 1, 2, 2, 5, 6, 6, 9, 7, 5, 6, 2, 3, 4, 4, 3, 4, 10, 3, 5, 8, 6, 8, 9, 4, 3, 5, 2, 3, 5, 3, 1, 6, 4, 9, 5, 4, 6, 9, 1, 2, 3, 4, 5, 6, 6, 1, 2, 4, 7, 5, 2, 2, 2, 1, 2, 3, 4, 9, 2, 3, 2, 4, 1, 2, 1, 1, 9, 7, 6, 8, 1, 2, 1, 2, 7, 8, 4, 4, 7, 8, 2, 4, 8, 1, 6, 1, 5, 6, 3, 6, 7, 3, 1, 6, 4, 6, 2, 3, 10, 1, 2, 4, 8, 1, 8, 9, 6, 4, 7, 2, 4, 5, 7, 8, 10, 9, 7, 10, 1, 2, 3, 5, 6, 8, 10, 9, 10, 3, 5, 2, 3, 4, 5, 6, 2, 6, 8, 10, 2, 5, 2, 2, 7, 8, 10, 5, 4, 7, 1, 4, 7, 8, 1, 4, 5, 2, 10, 1, 4, 1, 1, 3, 1, 2, 3, 6, 7, 4, 3, 2, 3, 4, 7, 10, 6, 1, 2, 3, 4, 9, 1, 7, 9, 10, 6, 4, 1, 10, 9, 3, 9, 8, 5, 3, 4, 5, 1, 2, 5, 7, 10, 1, 8, 9, 8, 3, 4, 2, 3, 4, 5, 3, 5, 9, 5, 9, 2, 3, 9, 2, 7, 2, 10, 10, 2, 3, 4, 6, 2, 1, 3, 5, 10, 1, 3, 5, 6, 7, 1, 2, 3, 7, 5, 10, 1, 6, 1, 9, 2, 6, 7, 1, 2, 3, 7, 10, 1, 4, 10, 7, 2, 6, 2, 5, 5, 8, 9, 3, 5, 3, 6, 1, 2, 4, 6, 8, 9, 10, 5, 9, 6, 1, 2, 4, 1, 5, 10, 8, 9, 2, 3, 6, 7, 3, 6, 10, 1, 4, 10, 5, 2, 3, 6, 3, 6, 10, 2, 3, 6, 8, 1, 3, 1, 3, 4, 6, 1, 3, 6, 10, 1, 6, 1, 2, 3, 10, 2, 2, 7, 8, 3, 4, 5, 4, 1, 3, 6, 10, 1, 6, 3, 1, 7, 9, 1, 1, 3, 4, 6, 7, 3, 4, 5, 6, 9, 1, 3, 4, 5, 6, 1, 6, 4, 8, 7, 1, 3, 4, 7, 9, 3, 2, 4, 5, 8, 8, 9, 1, 4, 3, 7, 1, 1, 4, 7, 8, 1, 5, 10, 10, 5, 7, 8, 8, 10, 3, 10, 2, 4, 6, 6, 8, 6, 8, 1, 2, 3, 4, 5, 6, 7, 8, 7, 1, 3, 7, 7, 9, 3, 2, 7, 9, 10, 2, 4, 7, 5, 1, 3, 9, 4, 10, 1, 8, 4, 1, 2, 4, 7, 10, 10, 5, 8, 8, 1, 2, 3, 4, 6, 10, 5, 1, 9, 1, 6, 7, 1, 3, 5, 10, 2, 4, 5, 8, 2, 3, 2, 3, 2, 1, 5, 7, 8, 1, 2, 9, 4, 5, 2, 3, 4, 6, 8, 4, 10, 7, 1, 5, 6, 6, 1, 2, 3, 4, 10, 8, 1, 4, 8, 3, 4, 6, 1, 2, 4, 6, 10, 4, 7, 1, 8, 1, 10, 1, 1, 2, 3, 7, 10, 10, 5, 6, 1, 2, 3, 6, 3, 6, 1, 2, 3, 7, 5, 8, 4, 8, 4], \"Freq\": [0.9673878297209058, 0.6555980420417511, 0.14708930430423903, 0.1218739949949409, 0.0630382732732453, 0.01260765465464906, 0.762522144997485, 0.9874340133725679, 0.9603245957697865, 0.8827167367618853, 0.05516979604761783, 0.9231750881890317, 0.9456512289224009, 0.39082295380234583, 0.3656085696860655, 0.23953664910466357, 0.9695838016141829, 0.2678781618073723, 0.7366649449702738, 0.9363560132028852, 0.9769745592732492, 0.9333025172562823, 0.9363560132028852, 0.9852909279191165, 0.42940126254546024, 0.43655795025455124, 0.12882037876363805, 0.194053251318567, 0.776213005274268, 0.9512942911775978, 0.9800745192718071, 0.8520530901526687, 0.9622118496523783, 0.9440653573168314, 0.8055951643069166, 0.971827720285641, 0.5172969765131057, 0.1998647409255181, 0.10581074519586253, 0.16459449252689726, 0.9622118496523783, 0.9935272535822987, 0.991953694285526, 0.2930277501468663, 0.28531649356405403, 0.4164078554718626, 0.5233380208598668, 0.4617688419351766, 0.9622118496523783, 0.9170234062429902, 0.9472673637478005, 0.15743561610170947, 0.5530430616906205, 0.29065036818777135, 0.9809142735653492, 0.9899719282799496, 0.9861560032599734, 0.90680855028195, 0.23013505448946125, 0.4071620194813545, 0.3363512334845972, 0.9770416563495021, 0.9691398174463515, 0.9293361398878646, 0.9654487618855487, 0.6875771623469157, 0.31104681153789043, 0.014196016289785798, 0.14905817104275088, 0.8304669529524692, 0.984771000008986, 0.17333946506614584, 0.8089175036420139, 0.8455867768692377, 0.13351370161093226, 0.9363560132028852, 0.4265356465695652, 0.5413721667998328, 0.03281043435150502, 0.3294946296319439, 0.2718330694463537, 0.12356048611197898, 0.056288665895457085, 0.13042495756264447, 0.08923812885865148, 0.9770416563495021, 0.5821446756576456, 0.05030879913090765, 0.2299830817412921, 0.1365524547838922, 0.9363560132028852, 0.9760663885096647, 0.9719376095054739, 0.9837061798263708, 0.1311316408830036, 0.2829682776949025, 0.5176248982223827, 0.04140999185779061, 0.020704995928895305, 0.9846920557503378, 0.9586853520486184, 0.9886329048805848, 0.9640426088565845, 0.2989794692739877, 0.6936323687156515, 0.9837237498986832, 0.6301693640563782, 0.35289484387157183, 0.9439694352008191, 0.9421603018129286, 0.9632078583993009, 0.9829397544039935, 0.989314423021917, 0.44056887014441637, 0.1874761149550708, 0.21559753219833142, 0.14998089196405665, 0.9654650550740315, 0.3706041070922135, 0.4177719025403134, 0.2088859512701567, 0.12620643216521507, 0.31551608041303764, 0.5048257286608603, 0.22309484122906345, 0.763219193678375, 0.21115959293668, 0.6334787788100399, 0.15357061304485817, 0.4744346549691545, 0.5183637896885206, 0.946928014986513, 0.976875222103193, 0.982975143135388, 0.9770416563495021, 0.9403492118484597, 0.9704677828893453, 0.05749009691258724, 0.9006781849638668, 0.01916336563752908, 0.3093968134526704, 0.11344549826597913, 0.4950349015242726, 0.0825058169207121, 0.381134749317139, 0.31761229109761585, 0.28585106198785426, 0.9567210049631313, 0.9601486022533205, 0.994939330994119, 0.09665606112600778, 0.09665606112600778, 0.3705149009830298, 0.24969482457552009, 0.13692941992851101, 0.04832803056300389, 0.9794610842246412, 0.969627117864397, 0.8247699579751192, 0.2927217304319395, 0.25996964870528894, 0.11053827582744569, 0.229264572086554, 0.034799086834566235, 0.06345715834538548, 0.006141015323746983, 0.9513290489066325, 0.8712899272393916, 0.9752497654629542, 0.9363560132028852, 0.09256822971867888, 0.6556916271739754, 0.09256822971867888, 0.04628411485933944, 0.10799626800512536, 0.11925563839253749, 0.5515573275654859, 0.2236043219860078, 0.08944172879440311, 0.9673878297209058, 0.9646413748246486, 0.9788197487118236, 0.24103097150744113, 0.18679900291826687, 0.5483454601794285, 0.018077322863058087, 0.9836227760841755, 0.972503022070328, 0.9806900126196935, 0.4930721919260952, 0.15750917242083595, 0.2465360959630476, 0.10272337331793649, 0.1504768105081135, 0.1253973420900946, 0.7022251157045297, 0.9818289659297851, 0.8694137412660942, 0.9651855513886178, 0.9627132385799605, 0.9890682507190904, 0.9891500444263351, 0.9648060591176819, 0.2333070863433246, 0.5943775771127555, 0.09443382066277424, 0.06665916752666418, 0.940983008414231, 0.983382009643275, 0.9589562968046952, 0.5152957464064798, 0.30156512431742855, 0.017566900445675448, 0.12004048637878223, 0.04391725111418862, 0.9572008893667195, 0.2141214191027014, 0.4875380004184586, 0.23388647317372, 0.06258933789155888, 0.8610743693722657, 0.30831365802679334, 0.43444197267411794, 0.224228114928577, 0.028028514366072125, 0.9313608565861766, 0.9700786019362946, 0.207365206483948, 0.6912173549464933, 0.9324901153945637, 0.9895205422419963, 0.8692298989926888, 0.9691398174463515, 0.9757596751123634, 0.09357859498206121, 0.3074725263696297, 0.6015766820275363, 0.35338343226408714, 0.17669171613204357, 0.17669171613204357, 0.2811004574827966, 0.008031441642365618, 0.9830248293262186, 0.9299554822684626, 0.9145714572961069, 0.9577226980107738, 0.9757133129055766, 0.9890701556690277, 0.41445350688606597, 0.2584239513524882, 0.14627770831272915, 0.175533249975275, 0.968208622251487, 0.9363560132028852, 0.8945296899644262, 0.9647775990468549, 0.9289521106486637, 0.2621242924059795, 0.6613597531473945, 0.07258826558934818, 0.5168069261224992, 0.48116506914853374, 0.9706746779247978, 0.9019431125381868, 0.9512942911775978, 0.40997197098928173, 0.32797757679142536, 0.07516152801470165, 0.1776545207620221, 0.989735313340263, 0.7059374961505599, 0.20494959565661416, 0.05693044323794838, 0.022772177295179354, 0.19343738925267023, 0.6506530365771634, 0.11430391183112332, 0.0351704344095764, 0.9521244337609333, 0.03350577988796198, 0.1423995645238384, 0.5695982580953536, 0.25129334915971485, 0.9764595357477412, 0.9425908429593783, 0.18417121835493183, 0.7735191170907137, 0.9832825311553319, 0.9119422584501835, 0.3738847051126622, 0.6192465428428467, 0.9554416255064203, 0.0347188347576288, 0.3923228327612054, 0.22567242592458717, 0.3228851632459478, 0.020831300854577278, 0.21385232921721664, 0.6721073203969666, 0.12220133098126665, 0.958471218743611, 0.44748952827524563, 0.5407165133325884, 0.9657831152742427, 0.9363560132028852, 0.9646413748246486, 0.9418018550883722, 0.8841285605103614, 0.13940056929915268, 0.8642835296547465, 0.9884938187302685, 0.9791976582782254, 0.350331432308946, 0.06737142929018192, 0.10105714393527288, 0.11453142979330926, 0.3031714318058186, 0.03368571464509096, 0.026948571716072768, 0.9363560132028852, 0.8438103924975638, 0.9566729065343824, 0.3437582390202816, 0.4276017119520576, 0.21799302962261757, 0.48992379738937714, 0.3391780135772611, 0.15074578381211604, 0.9261502105337088, 0.9780787188569037, 0.2070483845557321, 0.6463949566617978, 0.03029976359352177, 0.11614909377516679, 0.8720540938752134, 0.12717455535680194, 0.7088022838782723, 0.26878733384706555, 0.7086211528695364, 0.0162901414452767, 0.9363560132028852, 0.23258158203595486, 0.7114260156393913, 0.04104380859458027, 0.1104292899362815, 0.883434319490252, 0.7718820091649617, 0.3891087170791294, 0.13573559898109167, 0.18098079864145553, 0.28956927782632885, 0.07811922384521405, 0.8983710742199617, 0.15228969276107496, 0.19580103354995354, 0.45686907828322487, 0.18492319835273388, 0.29890499171850726, 0.25620427861586337, 0.3843064179237951, 0.0427007131026439, 0.5052478468599816, 0.4903876160699821, 0.22058204420087607, 0.25824239321078174, 0.48958453712877376, 0.026900249292789766, 0.9734555481149565, 0.9621561260352641, 0.9610985578981618, 0.9761901636490212, 0.7604386277318971, 0.17469536042489525, 0.06165718603231598, 0.9426548636818584, 0.23151955595245846, 0.4790059778326727, 0.24748642188021422, 0.03991716481938939, 0.9704572846374634, 0.9602862806043316, 0.9670432287837738, 0.9143954313114107, 0.0685796573483558, 0.8638134643491132, 0.9635013163951229, 0.2904508081321938, 0.4865671657599144, 0.0546146818710108, 0.1588790745338496, 0.0074474566187742, 0.3585316950405809, 0.17545168055177363, 0.3661600289776145, 0.07628333937033636, 0.022885001811100907, 0.44279265387497346, 0.06860167876936209, 0.13720335753872417, 0.23698761756688722, 0.11225729253168341, 0.7541437507452954, 0.23815065813009328, 0.9793347671482568, 0.9691398174463515, 0.9745433888330571, 0.5652478457344859, 0.15897595661282415, 0.08831997589601343, 0.17663995179202685, 0.9687942387347632, 0.9561133141066853, 0.36030623755986146, 0.22304671848943802, 0.017157439883802927, 0.3774636774436644, 0.9705175413699048, 0.9589925793684022, 0.9276110321552405, 0.028987844754851267, 0.9519238458950858, 0.9506087029545313, 0.9816786936773148, 0.4798722499217104, 0.2033356991193688, 0.1870688431898193, 0.12200141947162128, 0.09728761457938134, 0.875588531214432, 0.8198015864869048, 0.8915905074200874, 0.1073336648768135, 0.858669319014508, 0.927058266478991, 0.9245634590930871, 0.8754364034504508, 0.9816840043864552, 0.9512942911775978, 0.7224419994182302, 0.2733564322123033, 0.9633044836571266, 0.3761768509909098, 0.5974573515737979, 0.9798166821348282, 0.9187605560324473, 0.37302954764729057, 0.06544378028899835, 0.20287571889589487, 0.06544378028899835, 0.08507691437569785, 0.20942009692479469, 0.9530578288717253, 0.9271497127928656, 0.9880865633233319, 0.46432242414064895, 0.47206113120965976, 0.054170949483075714, 0.9622118496523783, 0.8907677122202107, 0.9597241109629014, 0.6042449273224417, 0.3085506011859277, 0.03856882514824096, 0.051425100197654616, 0.7478106383566916, 0.045321856870102525, 0.19261789169793572, 0.9646413748246486, 0.9882085062318279, 0.5736126551526971, 0.39711645356725184, 0.9799796595232326, 0.9512942911775978, 0.9923610929512505, 0.9351954149478086, 0.979963892931362, 0.5750604998428882, 0.11251183692578247, 0.15626644017469787, 0.13751446735373413, 0.018751972820963744, 0.9098253614626208, 0.9363560132028852, 0.9691398174463515, 0.9418002609949417, 0.19022264924632226, 0.08877056964828371, 0.16485962934681261, 0.0760890596985289, 0.4438528482414186, 0.025363019899509634, 0.985136802968321, 0.9939237751330404, 0.9145550609602142, 0.9814757180087275, 0.9770416563495021, 0.9563025488947804, 0.17805503072753534, 0.5242731460310762, 0.19783892303059483, 0.09891946151529742, 0.3673703285095487, 0.16072451872292756, 0.3157088760628934, 0.14924419595700417, 0.7218265826934326, 0.26374432829183114, 0.9542765712717186, 0.9685170526778678, 0.9754642195675682, 0.35503665908937937, 0.25097419004594057, 0.11018379075187636, 0.28158079858812846, 0.9843273449810844, 0.9849483174893064, 0.9513723326719753, 0.14511014795822252, 0.7981058137702239, 0.45398985168159917, 0.370758378873306, 0.007566497528026653, 0.1588964480885597, 0.9650930592482898, 0.7788321621794905, 0.19470804054487262, 0.9622118496523783, 0.27050163225368024, 0.7245579435366435, 0.9701906607300094, 0.9580839289767864, 0.1654732065540984, 0.1654732065540984, 0.22457078032341923, 0.21275126556955506, 0.2363902950772834, 0.9417921551858147, 0.6543320831630077, 0.18941191881034436, 0.15497338811755446, 0.9408773658420708, 0.9172630675957125, 0.9732765862536181, 0.40469240617483243, 0.2439241900231867, 0.11641836342015728, 0.16631194774308183, 0.06098104750579667, 0.1956906495796162, 0.7827625983184648, 0.9544156830964555, 0.9170054132472166, 0.9443610850862819, 0.024214386797084153, 0.992321970807014, 0.06703092589768808, 0.4123417562797176, 0.3229671884161335, 0.1970302973356286, 0.8813979865459818, 0.8814637317524185, 0.9525533895916273, 0.9593277211853982, 0.3175109357787382, 0.04233479143716509, 0.5785754829745896, 0.05644638858288679, 0.9606003402667166, 0.9567172909637364, 0.13379731538512066, 0.12543498317355062, 0.25086996634710124, 0.4850152682710624, 0.9782296628713886, 0.9418033957841762, 0.05036248047953564, 0.9317058888714093, 0.9240772589642345], \"Term\": [\"Flavia\", \"Internet\", \"Internet\", \"Internet\", \"Internet\", \"Internet\", \"Serasa\", \"abatimento\", \"abrir\", \"absurdo\", \"absurdo\", \"abusivo\", \"abuso\", \"acabar\", \"acabar\", \"acabar\", \"aceitar\", \"acesso\", \"acesso\", \"admitir\", \"adquiri\", \"adquirir\", \"agenciar\", \"agendar\", \"agora\", \"agora\", \"agora\", \"aguardar\", \"aguardar\", \"ahahhahah\", \"alem\", \"alguem\", \"altamente\", \"alto\", \"anatel\", \"anexo\", \"ano\", \"ano\", \"ano\", \"ano\", \"antecipar\", \"aparelho\", \"aplicar\", \"apos\", \"apos\", \"apos\", \"aqui\", \"aqui\", \"arrogante\", \"assinatura\", \"atencao\", \"atendente\", \"atendente\", \"atendente\", \"atendir\", \"ativar\", \"aumentar\", \"bastar\", \"bem\", \"bem\", \"bem\", \"biometrico\", \"bloco\", \"cabo\", \"canal\", \"cancelamento\", \"cancelamento\", \"cancelar\", \"cancelar\", \"cancelar\", \"caso\", \"central\", \"central\", \"chamar\", \"chamar\", \"chegada\", \"chip\", \"chip\", \"chip\", \"claro\", \"claro\", \"claro\", \"claro\", \"claro\", \"claro\", \"clicar\", \"cliente\", \"cliente\", \"cliente\", \"cliente\", \"cliquei\", \"cobranca\", \"cobrancar\", \"cobranco\", \"cobrar\", \"cobrar\", \"cobrar\", \"cobrar\", \"cobrar\", \"com\", \"combinar\", \"comecar\", \"comparecer\", \"comprovante\", \"comprovante\", \"computador\", \"comunicacao\", \"comunicacao\", \"comunicar\", \"concordar\", \"condominio\", \"confirmar\", \"conforme\", \"conseguir\", \"conseguir\", \"conseguir\", \"conseguir\", \"consumidor\", \"contato\", \"contato\", \"contato\", \"continuar\", \"continuar\", \"continuar\", \"contratar\", \"contratar\", \"contrato\", \"contrato\", \"contrato\", \"controle\", \"controle\", \"correta\", \"cortar\", \"credito\", \"cuidado\", \"custo\", \"dado\", \"datar\", \"datar\", \"datar\", \"de\", \"de\", \"de\", \"de\", \"deixar\", \"deixar\", \"deixar\", \"desbloquear\", \"descaso\", \"desconto\", \"desde\", \"desde\", \"desde\", \"desde\", \"desde\", \"desde\", \"desejo\", \"desfecho\", \"desistir\", \"dia\", \"dia\", \"dia\", \"dia\", \"dia\", \"dia\", \"dia\", \"diario\", \"diminuir\", \"direito\", \"diretamente\", \"dizer\", \"dizer\", \"dizer\", \"dizer\", \"dizer\", \"dois\", \"dois\", \"dois\", \"dois\", \"duplicidade\", \"efetivamente\", \"em\", \"empresa\", \"empresa\", \"empresa\", \"empresa\", \"endereco\", \"enganoso\", \"entao\", \"entrar\", \"entrar\", \"entrar\", \"entrar\", \"entregar\", \"entregar\", \"entregar\", \"enviar\", \"epoca\", \"estar\", \"este\", \"eu\", \"existir\", \"expliquei\", \"falar\", \"falar\", \"falar\", \"falar\", \"falha\", \"falta\", \"fato\", \"fatura\", \"fatura\", \"fatura\", \"fatura\", \"fatura\", \"favor\", \"fazer\", \"fazer\", \"fazer\", \"fazer\", \"fibra\", \"ficar\", \"ficar\", \"ficar\", \"ficar\", \"final\", \"finalizar\", \"fixo\", \"fixo\", \"fornecer\", \"funcionario\", \"g\", \"grupo\", \"h\", \"haver\", \"haver\", \"haver\", \"hoje\", \"hoje\", \"hoje\", \"hoje\", \"hoje\", \"hora\", \"horario\", \"horrivel\", \"identificar\", \"informacao\", \"informacoes\", \"informar\", \"informar\", \"informar\", \"informar\", \"informei\", \"insistir\", \"instalacao\", \"interesse\", \"internet\", \"ir\", \"ir\", \"ir\", \"julho\", \"julho\", \"junho\", \"junto\", \"lado\", \"ligacao\", \"ligacao\", \"ligacao\", \"ligacao\", \"ligacoes\", \"ligar\", \"ligar\", \"ligar\", \"ligar\", \"liguar\", \"liguar\", \"liguar\", \"liguar\", \"liguei\", \"linha\", \"linha\", \"linha\", \"linha\", \"local\", \"m\", \"mandar\", \"mandar\", \"mau\", \"mega\", \"mensagem\", \"mensagem\", \"mensal\", \"mes\", \"mes\", \"mes\", \"mes\", \"mes\", \"mesmo\", \"mesmo\", \"mesmo\", \"meter\", \"minuto\", \"minuto\", \"modem\", \"moldar\", \"moldem\", \"morer\", \"motivo\", \"mudanca\", \"mudanca\", \"mudar\", \"muito\", \"nada\", \"nada\", \"nada\", \"nada\", \"nada\", \"nada\", \"nada\", \"natal\", \"ne\", \"negar\", \"nenhum\", \"nenhum\", \"nenhum\", \"net\", \"net\", \"net\", \"niteroi\", \"notar\", \"novamente\", \"novamente\", \"novamente\", \"novamente\", \"novo\", \"novo\", \"nr\", \"numero\", \"numero\", \"numero\", \"obstaculizar\", \"ocorrer\", \"ocorrer\", \"ocorrer\", \"oferecer\", \"oferecer\", \"oi\", \"onde\", \"onde\", \"onde\", \"onde\", \"ontem\", \"ontem\", \"operadora\", \"operadora\", \"operadora\", \"operadora\", \"outro\", \"outro\", \"outro\", \"outro\", \"pacote\", \"pacote\", \"pagar\", \"pagar\", \"pagar\", \"pagar\", \"paguar\", \"pagueer\", \"parecer\", \"parte\", \"passar\", \"passar\", \"passar\", \"pecar\", \"pedir\", \"pedir\", \"pedir\", \"pedir\", \"pegar\", \"pequeno\", \"perguntar\", \"pessimo\", \"pessimo\", \"pessoal\", \"pix\", \"plano\", \"plano\", \"plano\", \"plano\", \"plano\", \"poder\", \"poder\", \"poder\", \"poder\", \"poder\", \"pois\", \"pois\", \"pois\", \"pois\", \"pois\", \"porque\", \"porque\", \"portabilidade\", \"postar\", \"pouco\", \"pra\", \"pra\", \"pra\", \"pra\", \"prazo\", \"pre\", \"preciso\", \"preciso\", \"preciso\", \"preciso\", \"prejudicar\", \"prever\", \"prezao\", \"prezao\", \"primeira\", \"principal\", \"principalmente\", \"problema\", \"problema\", \"problema\", \"problema\", \"procedimento\", \"procedimento\", \"procon\", \"procurar\", \"produto\", \"produto\", \"promessa\", \"prometer\", \"promocao\", \"proporcional\", \"propuser\", \"protocolo\", \"protocolo\", \"q\", \"qualquer\", \"qualquer\", \"quase\", \"quatro\", \"querer\", \"querer\", \"querer\", \"querer\", \"querer\", \"querer\", \"questionei\", \"quinta\", \"r\", \"real\", \"real\", \"real\", \"realidade\", \"realizei\", \"realmente\", \"receber\", \"receber\", \"receber\", \"receber\", \"recebi\", \"recebi\", \"recebi\", \"recife\", \"reclamar\", \"registrar\", \"registrar\", \"registro\", \"reiniciar\", \"renovacao\", \"reser\", \"residencia\", \"resolver\", \"resolver\", \"resolver\", \"resolver\", \"resolver\", \"ressarcimento\", \"reverter\", \"rj\", \"sabar\", \"saber\", \"saber\", \"saber\", \"saber\", \"saber\", \"saber\", \"sac\", \"saldo\", \"satisfacao\", \"semana\", \"sensor\", \"sequer\", \"ser\", \"ser\", \"ser\", \"ser\", \"servico\", \"servico\", \"servico\", \"servico\", \"setembro\", \"setembro\", \"setor\", \"shopping\", \"si\", \"sinal\", \"sinal\", \"sinal\", \"sinal\", \"site\", \"situacao\", \"sob\", \"solicitacao\", \"solicitacao\", \"solicitar\", \"solicitar\", \"solicitar\", \"solicitar\", \"suporte\", \"surpresa\", \"surpresa\", \"susto\", \"tecnico\", \"tecnico\", \"tela\", \"telar\", \"telefone\", \"telefone\", \"telefone\", \"telefone\", \"telefone\", \"temporal\", \"tentar\", \"tentar\", \"tentar\", \"terceiro\", \"tipo\", \"tocar\", \"todo\", \"todo\", \"todo\", \"todo\", \"todo\", \"total\", \"total\", \"trocar\", \"ultima\", \"um\", \"um\", \"utilizar\", \"valor\", \"valor\", \"valor\", \"valor\", \"vao\", \"vc\", \"vejor\", \"venda\", \"vez\", \"vez\", \"vez\", \"vez\", \"vim\", \"vinculo\", \"vir\", \"vir\", \"vir\", \"vir\", \"visita\", \"vizinho\", \"whatsapp\", \"whatsapp\", \"x\"]}, \"R\": 20, \"lambda.step\": 0.01, \"plot.opts\": {\"xlab\": \"PC1\", \"ylab\": \"PC2\"}, \"topic.order\": [7, 4, 1, 5, 3, 10, 8, 2, 9, 6]};\n",
              "\n",
              "function LDAvis_load_lib(url, callback){\n",
              "  var s = document.createElement('script');\n",
              "  s.src = url;\n",
              "  s.async = true;\n",
              "  s.onreadystatechange = s.onload = callback;\n",
              "  s.onerror = function(){console.warn(\"failed to load library \" + url);};\n",
              "  document.getElementsByTagName(\"head\")[0].appendChild(s);\n",
              "}\n",
              "\n",
              "if(typeof(LDAvis) !== \"undefined\"){\n",
              "   // already loaded: just create the visualization\n",
              "   !function(LDAvis){\n",
              "       new LDAvis(\"#\" + \"ldavis_el2161371271885345925376719265\", ldavis_el2161371271885345925376719265_data);\n",
              "   }(LDAvis);\n",
              "}else if(typeof define === \"function\" && define.amd){\n",
              "   // require.js is available: use it to load d3/LDAvis\n",
              "   require.config({paths: {d3: \"https://cdnjs.cloudflare.com/ajax/libs/d3/3.5.5/d3.min\"}});\n",
              "   require([\"d3\"], function(d3){\n",
              "      window.d3 = d3;\n",
              "      LDAvis_load_lib(\"https://cdn.rawgit.com/bmabey/pyLDAvis/files/ldavis.v1.0.0.js\", function(){\n",
              "        new LDAvis(\"#\" + \"ldavis_el2161371271885345925376719265\", ldavis_el2161371271885345925376719265_data);\n",
              "      });\n",
              "    });\n",
              "}else{\n",
              "    // require.js not available: dynamically load d3 & LDAvis\n",
              "    LDAvis_load_lib(\"https://cdnjs.cloudflare.com/ajax/libs/d3/3.5.5/d3.min.js\", function(){\n",
              "         LDAvis_load_lib(\"https://cdn.rawgit.com/bmabey/pyLDAvis/files/ldavis.v1.0.0.js\", function(){\n",
              "                 new LDAvis(\"#\" + \"ldavis_el2161371271885345925376719265\", ldavis_el2161371271885345925376719265_data);\n",
              "            })\n",
              "         });\n",
              "}\n",
              "</script>"
            ]
          },
          "metadata": {},
          "execution_count": 51
        }
      ]
    }
  ]
}