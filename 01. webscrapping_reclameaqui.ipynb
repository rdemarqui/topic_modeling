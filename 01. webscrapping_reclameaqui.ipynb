{
 "cells": [
  {
   "cell_type": "code",
   "execution_count": null,
   "metadata": {},
   "outputs": [],
   "source": [
    "from selenium import webdriver\n",
    "from bs4 import BeautifulSoup as bs\n",
    "from time import sleep\n",
    "import pandas as pd"
   ]
  },
  {
   "cell_type": "code",
   "execution_count": null,
   "metadata": {},
   "outputs": [],
   "source": [
    "def extract_claim_list(company, ini_page, end_page):\n",
    "    # Selenium configurations\n",
    "    options = webdriver.ChromeOptions()\n",
    "    options.add_experimental_option('excludeSwitches', ['enable-logging'])\n",
    "    options.page_load_strategy = 'eager'\n",
    "    driver = webdriver.Chrome(options=options)\n",
    "\n",
    "    base_url = \"https://www.reclameaqui.com.br/empresa/\" + company\n",
    "    title_link = []\n",
    "\n",
    "    # Extract data\n",
    "    for page_number in range(ini_page, end_page+1):\n",
    "        url = base_url + \"/lista-reclamacoes/?pagina=\" + str(page_number)\n",
    "        driver.get(url)\n",
    "        sleep(3)\n",
    "        page_html = bs(driver.page_source, \"html.parser\")\n",
    "        claims_html = page_html.find_all(class_='sc-1pe7b5t-0 iQGzPh')\n",
    "\n",
    "        for element in claims_html:\n",
    "            element_title_link = [element.find('h4')['title'], element.find('a')['href']]\n",
    "            title_link.append(element_title_link)\n",
    "    \n",
    "    driver.quit()\n",
    "    return title_link"
   ]
  },
  {
   "cell_type": "code",
   "execution_count": null,
   "metadata": {},
   "outputs": [],
   "source": [
    "# Extract data\n",
    "title_link = extract_claim_list('claro', 1, 50)"
   ]
  },
  {
   "cell_type": "code",
   "execution_count": null,
   "metadata": {},
   "outputs": [],
   "source": [
    "# Save into csv file\n",
    "main_page = pd.DataFrame(title_link, columns=['Title', 'link'])\n",
    "main_page.to_csv('reclame_aqui_main.csv')\n",
    "print(main_page.shape)"
   ]
  },
  {
   "cell_type": "code",
   "execution_count": null,
   "metadata": {},
   "outputs": [],
   "source": [
    "# Open list of claims\n",
    "main_page = pd.read_csv('reclame_aqui_main.csv')\n",
    "main_page.head()"
   ]
  },
  {
   "cell_type": "code",
   "execution_count": null,
   "metadata": {},
   "outputs": [],
   "source": [
    "# Get descriptions\n",
    "options = webdriver.ChromeOptions()\n",
    "options.add_experimental_option('excludeSwitches', ['enable-logging'])\n",
    "options.page_load_strategy = 'eager'\n",
    "driver = webdriver.Chrome(options=options)\n",
    "\n",
    "all_descriptions = []\n",
    "\n",
    "for index, url in enumerate(main_page['link']):\n",
    "    # Reset browser each 50 requests\n",
    "    if index%50 == 0 and index!=0:\n",
    "        print(f\"Sample: {index}\")\n",
    "        driver.quit()\n",
    "        driver = webdriver.Chrome(options=options)\n",
    "        driver.get(full_url)\n",
    "    \n",
    "    full_url = \"https://www.reclameaqui.com.br\" + url\n",
    "    driver.get(full_url)\n",
    "    sleep(1.5)\n",
    "    page_html = bs(driver.page_source, \"html.parser\")\n",
    "    try:\n",
    "        description = page_html.find('p', {'data-testid': 'complaint-description'}).get_text()\n",
    "    except:\n",
    "        description = \"\"\n",
    "    all_descriptions.append(description)\n",
    "driver.quit()"
   ]
  },
  {
   "cell_type": "code",
   "execution_count": null,
   "metadata": {},
   "outputs": [],
   "source": [
    "# Add descriptions to dataframe and save new csv\n",
    "claims_full = main_page.copy()\n",
    "claims_full['description'] = all_descriptions\n",
    "claims_full.to_csv('reclame_aqui_full.csv')\n",
    "claims_full.head()"
   ]
  }
 ],
 "metadata": {
  "kernelspec": {
   "display_name": "Python 3",
   "language": "python",
   "name": "python3"
  },
  "language_info": {
   "codemirror_mode": {
    "name": "ipython",
    "version": 3
   },
   "file_extension": ".py",
   "mimetype": "text/x-python",
   "name": "python",
   "nbconvert_exporter": "python",
   "pygments_lexer": "ipython3",
   "version": "3.9.13"
  },
  "orig_nbformat": 4
 },
 "nbformat": 4,
 "nbformat_minor": 2
}
