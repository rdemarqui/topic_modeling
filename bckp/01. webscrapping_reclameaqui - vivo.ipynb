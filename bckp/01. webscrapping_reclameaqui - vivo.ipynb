{
 "cells": [
  {
   "cell_type": "code",
   "execution_count": 1,
   "metadata": {},
   "outputs": [],
   "source": [
    "from selenium import webdriver\n",
    "from selenium.webdriver.common.by import By\n",
    "from selenium.webdriver.support.ui import WebDriverWait\n",
    "from selenium.webdriver.support import expected_conditions as EC\n",
    "\n",
    "from bs4 import BeautifulSoup as bs\n",
    "from time import sleep\n",
    "import pandas as pd"
   ]
  },
  {
   "cell_type": "code",
   "execution_count": 5,
   "metadata": {},
   "outputs": [],
   "source": [
    "def list_problem_qtdy(company):\n",
    "    \"\"\"\n",
    "    This function will extract the quantity os claims by problem category.\n",
    "    \"\"\"\n",
    "    # Selenium configurations\n",
    "    options = webdriver.ChromeOptions()\n",
    "    options.add_experimental_option('excludeSwitches', ['enable-logging'])\n",
    "    options.page_load_strategy = 'eager'\n",
    "    driver = webdriver.Chrome(options=options)\n",
    "\n",
    "    # Filtering only mobile services categories\n",
    "    category = '/?pagina=1&categoria=0000000000000067'\n",
    "\n",
    "    base_url = \"https://www.reclameaqui.com.br/empresa/\" + company.lower() + \"/lista-reclamacoes\" + category\n",
    "    driver.get(base_url)\n",
    "\n",
    "    # Expand problem options\n",
    "    button = WebDriverWait(driver, 30).until(EC.visibility_of_element_located((By.XPATH,\n",
    "                                                                               '//*[@id=\"filter-diderot\"]/div[1]/div[4]/button')))\n",
    "    \n",
    "    button.click() \n",
    "\n",
    "    # Get problem label\n",
    "    page_html = bs(driver.page_source, \"html.parser\")\n",
    "    categories_html = page_html.find_all(class_='sc-1h9pg1g-5 hQqRTk')\n",
    "    divs = categories_html[3].find_all('div', class_='sc-1h9pg1g-7 eGIjvG')\n",
    "    \n",
    "    problem_list = []\n",
    "    for div in divs:\n",
    "        problem_list.append([div['title'], div.find('label')['for']])\n",
    "    \n",
    "    return problem_list"
   ]
  },
  {
   "cell_type": "code",
   "execution_count": null,
   "metadata": {},
   "outputs": [],
   "source": [
    "def extract_claim_list(company, problem_item, ini_page, end_page):\n",
    "    \"\"\"\n",
    "    This function will extract list of titles and link.\n",
    "    \"\"\"\n",
    "    # Selenium configurations\n",
    "    options = webdriver.ChromeOptions()\n",
    "    options.add_experimental_option('excludeSwitches', ['enable-logging'])\n",
    "    options.page_load_strategy = 'eager'\n",
    "    driver = webdriver.Chrome(options=options)\n",
    "\n",
    "    base_url = \"https://www.reclameaqui.com.br/empresa/\" + company.lower()\n",
    "    category = '&categoria=0000000000000067'\n",
    "    cat_problem = '&problema=' + str(problem_item[1])\n",
    "    print(f'Problem category: {problem_item[0].split(\" (\")[0]}')\n",
    "    title_link = []\n",
    "\n",
    "    # Extract data\n",
    "    for page_number in range(ini_page, end_page+1):\n",
    "        url = base_url + \"/lista-reclamacoes/?pagina=\" + str(page_number) + category + cat_problem\n",
    "        driver.get(url)\n",
    "        sleep(1.5)\n",
    "        page_html = bs(driver.page_source, \"html.parser\")\n",
    "        claims_html = page_html.find_all(class_='sc-1pe7b5t-0 iQGzPh')\n",
    "\n",
    "        for element in claims_html:\n",
    "            element_title_link = [element.find('h4')['title'], element.find('a')['href']]\n",
    "            title_link.append(element_title_link)\n",
    "    \n",
    "    driver.quit()\n",
    "    return title_link"
   ]
  },
  {
   "cell_type": "code",
   "execution_count": 4,
   "metadata": {},
   "outputs": [],
   "source": [
    "def extract_company(company, problem_list, top_n, ini_page, end_page):\n",
    "    company_df = pd.DataFrame()\n",
    "    for problem in problem_list[:top_n]:\n",
    "        title_link = extract_claim_list(company, problem, ini_page, end_page)\n",
    "        temp = pd.DataFrame(title_link, columns=['title', 'link'])\n",
    "        temp['problem'] = problem[0].split(\" (\")[0]\n",
    "        company_df = pd.concat([company_df, temp]).reset_index(drop=True)\n",
    "\n",
    "        company_df.to_csv(company + '_temp.csv', index=False)\n",
    "\n",
    "    return company_df"
   ]
  },
  {
   "cell_type": "code",
   "execution_count": 2,
   "metadata": {},
   "outputs": [],
   "source": [
    "def add_description(filename, ini_line=0):\n",
    "    \"\"\"\n",
    "    This function vistit every link on file e gets the description\n",
    "    \"\"\"\n",
    "    options = webdriver.ChromeOptions()\n",
    "    options.add_experimental_option('excludeSwitches', ['enable-logging'])\n",
    "    options.page_load_strategy = 'eager'\n",
    "    driver = webdriver.Chrome(options=options)\n",
    "\n",
    "    temp_dataframe = pd.read_csv(filename)\n",
    "    temp_name = 'full_' + filename\n",
    "    \n",
    "    if 'description' not in temp_dataframe.columns:\n",
    "        temp_dataframe['description'] = \"\"\n",
    "\n",
    "    index = ini_line\n",
    "    for url in temp_dataframe.loc[int(ini_line):, 'link']:\n",
    "        \n",
    "        # Reset browser and save file each 50 requests\n",
    "        if index%50 == 0 and index!=0:\n",
    "            print(f\"Sample: {index}\")\n",
    "            driver.quit()\n",
    "            driver = webdriver.Chrome(options=options)\n",
    "            temp_dataframe.to_csv(temp_name, index=False)\n",
    "\n",
    "        full_url = \"https://www.reclameaqui.com.br\" + url\n",
    "        driver.get(full_url)\n",
    "        sleep(1.3)\n",
    "        page_html = bs(driver.page_source, \"html.parser\")\n",
    "        try:\n",
    "            description = page_html.find('p', {'data-testid': 'complaint-description'}).get_text()\n",
    "        except:\n",
    "            description = \"\"\n",
    "\n",
    "        temp_dataframe.at[index, 'description'] = description\n",
    "        index += 1\n",
    "    \n",
    "    print(f\"Salvando dataframe: {temp_name}\")\n",
    "    temp_dataframe.to_csv(temp_name, index=False)\n",
    "    driver.quit()"
   ]
  },
  {
   "cell_type": "code",
   "execution_count": 8,
   "metadata": {},
   "outputs": [],
   "source": [
    "# Extract problem category for each mobile operator\n",
    "problem_list_claro = list_problem_qtdy('claro')\n",
    "problem_list_tim = list_problem_qtdy('tim-celular')\n",
    "problem_list_vivo = list_problem_qtdy('vivo-celular-fixo-internet-tv')\n",
    "problem_list_oi = list_problem_qtdy('oi-movel-fixo-tv')"
   ]
  },
  {
   "cell_type": "code",
   "execution_count": null,
   "metadata": {},
   "outputs": [],
   "source": [
    "# Check size of lists\n",
    "lists = [problem_list_claro, problem_list_tim,\n",
    "         problem_list_vivo, problem_list_oi]\n",
    "\n",
    "for i in lists:\n",
    "    print(len(i))"
   ]
  },
  {
   "cell_type": "code",
   "execution_count": 18,
   "metadata": {},
   "outputs": [],
   "source": [
    "# Choose parameters\n",
    "top_n = 25   # Top problems \n",
    "ini = 1      # First page problem\n",
    "end = 50     # Last page problem"
   ]
  },
  {
   "cell_type": "code",
   "execution_count": null,
   "metadata": {},
   "outputs": [],
   "source": [
    "# Extract title, link and category from Claro\n",
    "claro_df = extract_company(company='claro', problem_list=problem_list_claro,\n",
    "                           top_n=top_n, ini_page=ini, end_page=end)\n",
    "#claro_df.to_csv('reclame_aqui_main_claro.csv', index=False)"
   ]
  },
  {
   "cell_type": "code",
   "execution_count": null,
   "metadata": {},
   "outputs": [],
   "source": [
    "# Extract title, link and category from Tim\n",
    "tim_df = extract_company(company='tim-celular', problem_list=problem_list_tim,\n",
    "                         top_n=top_n, ini_page=ini, end_page=end)\n",
    "#tim_df.to_csv('reclame_aqui_main_tim.csv', index=False)"
   ]
  },
  {
   "cell_type": "code",
   "execution_count": null,
   "metadata": {},
   "outputs": [],
   "source": [
    "# Extract title, link and category from Vivo\n",
    "vivo_df = extract_company(company='vivo-celular-fixo-internet-tv', problem_list=problem_list_vivo,\n",
    "                          top_n=top_n, ini_page=ini, end_page=end)\n",
    "#vivo_df.to_csv('reclame_aqui_main_vivo.csv', index = False)"
   ]
  },
  {
   "cell_type": "code",
   "execution_count": null,
   "metadata": {},
   "outputs": [],
   "source": [
    "# Extract title, link and category from Oi\n",
    "oi_df = extract_company(company='oi-movel-fixo-tv', problem_list=problem_list_oi,\n",
    "                        top_n=top_n, ini_page=ini, end_page=end)\n",
    "#oi_df.to_csv('reclame_aqui_main_oi.csv', index = False)"
   ]
  },
  {
   "cell_type": "code",
   "execution_count": 3,
   "metadata": {},
   "outputs": [
    {
     "ename": "NoSuchWindowException",
     "evalue": "Message: no such window: target window already closed\nfrom unknown error: web view not found\n  (Session info: chrome=118.0.5993.70)\nStacktrace:\n\tGetHandleVerifier [0x00007FF714068EF2+54786]\n\t(No symbol) [0x00007FF713FD5612]\n\t(No symbol) [0x00007FF713E8A64B]\n\t(No symbol) [0x00007FF713E6A9F5]\n\t(No symbol) [0x00007FF713EF0887]\n\t(No symbol) [0x00007FF713F043CF]\n\t(No symbol) [0x00007FF713EEBC43]\n\t(No symbol) [0x00007FF713EC0941]\n\t(No symbol) [0x00007FF713EC1B84]\n\tGetHandleVerifier [0x00007FF7143B7F52+3524194]\n\tGetHandleVerifier [0x00007FF71440D800+3874576]\n\tGetHandleVerifier [0x00007FF714405D7F+3843215]\n\tGetHandleVerifier [0x00007FF714105086+694166]\n\t(No symbol) [0x00007FF713FE0A88]\n\t(No symbol) [0x00007FF713FDCA94]\n\t(No symbol) [0x00007FF713FDCBC2]\n\t(No symbol) [0x00007FF713FCCC83]\n\tBaseThreadInitThunk [0x00007FFBE2737344+20]\n\tRtlUserThreadStart [0x00007FFBE40626B1+33]\n",
     "output_type": "error",
     "traceback": [
      "\u001b[1;31m---------------------------------------------------------------------------\u001b[0m",
      "\u001b[1;31mNoSuchWindowException\u001b[0m                     Traceback (most recent call last)",
      "\u001b[1;32md:\\Github\\topic_modeling\\01. webscrapping_reclameaqui - vivo.ipynb Cell 13\u001b[0m line \u001b[0;36m<module>\u001b[1;34m\u001b[0m\n\u001b[1;32m----> <a href='vscode-notebook-cell:/d%3A/Github/topic_modeling/01.%20webscrapping_reclameaqui%20-%20vivo.ipynb#X15sZmlsZQ%3D%3D?line=0'>1</a>\u001b[0m add_description(\u001b[39m'\u001b[39;49m\u001b[39mselected_problems_vivo.csv\u001b[39;49m\u001b[39m'\u001b[39;49m)\n",
      "\u001b[1;32md:\\Github\\topic_modeling\\01. webscrapping_reclameaqui - vivo.ipynb Cell 13\u001b[0m line \u001b[0;36madd_description\u001b[1;34m(filename, ini_line)\u001b[0m\n\u001b[0;32m     <a href='vscode-notebook-cell:/d%3A/Github/topic_modeling/01.%20webscrapping_reclameaqui%20-%20vivo.ipynb#X15sZmlsZQ%3D%3D?line=26'>27</a>\u001b[0m driver\u001b[39m.\u001b[39mget(full_url)\n\u001b[0;32m     <a href='vscode-notebook-cell:/d%3A/Github/topic_modeling/01.%20webscrapping_reclameaqui%20-%20vivo.ipynb#X15sZmlsZQ%3D%3D?line=27'>28</a>\u001b[0m sleep(\u001b[39m1.3\u001b[39m)\n\u001b[1;32m---> <a href='vscode-notebook-cell:/d%3A/Github/topic_modeling/01.%20webscrapping_reclameaqui%20-%20vivo.ipynb#X15sZmlsZQ%3D%3D?line=28'>29</a>\u001b[0m page_html \u001b[39m=\u001b[39m bs(driver\u001b[39m.\u001b[39;49mpage_source, \u001b[39m\"\u001b[39m\u001b[39mhtml.parser\u001b[39m\u001b[39m\"\u001b[39m)\n\u001b[0;32m     <a href='vscode-notebook-cell:/d%3A/Github/topic_modeling/01.%20webscrapping_reclameaqui%20-%20vivo.ipynb#X15sZmlsZQ%3D%3D?line=29'>30</a>\u001b[0m \u001b[39mtry\u001b[39;00m:\n\u001b[0;32m     <a href='vscode-notebook-cell:/d%3A/Github/topic_modeling/01.%20webscrapping_reclameaqui%20-%20vivo.ipynb#X15sZmlsZQ%3D%3D?line=30'>31</a>\u001b[0m     description \u001b[39m=\u001b[39m page_html\u001b[39m.\u001b[39mfind(\u001b[39m'\u001b[39m\u001b[39mp\u001b[39m\u001b[39m'\u001b[39m, {\u001b[39m'\u001b[39m\u001b[39mdata-testid\u001b[39m\u001b[39m'\u001b[39m: \u001b[39m'\u001b[39m\u001b[39mcomplaint-description\u001b[39m\u001b[39m'\u001b[39m})\u001b[39m.\u001b[39mget_text()\n",
      "File \u001b[1;32m~\\AppData\\Local\\Packages\\PythonSoftwareFoundation.Python.3.9_qbz5n2kfra8p0\\LocalCache\\local-packages\\Python39\\site-packages\\selenium\\webdriver\\remote\\webdriver.py:446\u001b[0m, in \u001b[0;36mWebDriver.page_source\u001b[1;34m(self)\u001b[0m\n\u001b[0;32m    437\u001b[0m \u001b[39m@property\u001b[39m\n\u001b[0;32m    438\u001b[0m \u001b[39mdef\u001b[39;00m \u001b[39mpage_source\u001b[39m(\u001b[39mself\u001b[39m) \u001b[39m-\u001b[39m\u001b[39m>\u001b[39m \u001b[39mstr\u001b[39m:\n\u001b[0;32m    439\u001b[0m     \u001b[39m\"\"\"Gets the source of the current page.\u001b[39;00m\n\u001b[0;32m    440\u001b[0m \n\u001b[0;32m    441\u001b[0m \u001b[39m    :Usage:\u001b[39;00m\n\u001b[1;32m   (...)\u001b[0m\n\u001b[0;32m    444\u001b[0m \u001b[39m            driver.page_source\u001b[39;00m\n\u001b[0;32m    445\u001b[0m \u001b[39m    \"\"\"\u001b[39;00m\n\u001b[1;32m--> 446\u001b[0m     \u001b[39mreturn\u001b[39;00m \u001b[39mself\u001b[39;49m\u001b[39m.\u001b[39;49mexecute(Command\u001b[39m.\u001b[39;49mGET_PAGE_SOURCE)[\u001b[39m\"\u001b[39m\u001b[39mvalue\u001b[39m\u001b[39m\"\u001b[39m]\n",
      "File \u001b[1;32m~\\AppData\\Local\\Packages\\PythonSoftwareFoundation.Python.3.9_qbz5n2kfra8p0\\LocalCache\\local-packages\\Python39\\site-packages\\selenium\\webdriver\\remote\\webdriver.py:345\u001b[0m, in \u001b[0;36mWebDriver.execute\u001b[1;34m(self, driver_command, params)\u001b[0m\n\u001b[0;32m    343\u001b[0m response \u001b[39m=\u001b[39m \u001b[39mself\u001b[39m\u001b[39m.\u001b[39mcommand_executor\u001b[39m.\u001b[39mexecute(driver_command, params)\n\u001b[0;32m    344\u001b[0m \u001b[39mif\u001b[39;00m response:\n\u001b[1;32m--> 345\u001b[0m     \u001b[39mself\u001b[39;49m\u001b[39m.\u001b[39;49merror_handler\u001b[39m.\u001b[39;49mcheck_response(response)\n\u001b[0;32m    346\u001b[0m     response[\u001b[39m\"\u001b[39m\u001b[39mvalue\u001b[39m\u001b[39m\"\u001b[39m] \u001b[39m=\u001b[39m \u001b[39mself\u001b[39m\u001b[39m.\u001b[39m_unwrap_value(response\u001b[39m.\u001b[39mget(\u001b[39m\"\u001b[39m\u001b[39mvalue\u001b[39m\u001b[39m\"\u001b[39m, \u001b[39mNone\u001b[39;00m))\n\u001b[0;32m    347\u001b[0m     \u001b[39mreturn\u001b[39;00m response\n",
      "File \u001b[1;32m~\\AppData\\Local\\Packages\\PythonSoftwareFoundation.Python.3.9_qbz5n2kfra8p0\\LocalCache\\local-packages\\Python39\\site-packages\\selenium\\webdriver\\remote\\errorhandler.py:229\u001b[0m, in \u001b[0;36mErrorHandler.check_response\u001b[1;34m(self, response)\u001b[0m\n\u001b[0;32m    227\u001b[0m         alert_text \u001b[39m=\u001b[39m value[\u001b[39m\"\u001b[39m\u001b[39malert\u001b[39m\u001b[39m\"\u001b[39m]\u001b[39m.\u001b[39mget(\u001b[39m\"\u001b[39m\u001b[39mtext\u001b[39m\u001b[39m\"\u001b[39m)\n\u001b[0;32m    228\u001b[0m     \u001b[39mraise\u001b[39;00m exception_class(message, screen, stacktrace, alert_text)  \u001b[39m# type: ignore[call-arg]  # mypy is not smart enough here\u001b[39;00m\n\u001b[1;32m--> 229\u001b[0m \u001b[39mraise\u001b[39;00m exception_class(message, screen, stacktrace)\n",
      "\u001b[1;31mNoSuchWindowException\u001b[0m: Message: no such window: target window already closed\nfrom unknown error: web view not found\n  (Session info: chrome=118.0.5993.70)\nStacktrace:\n\tGetHandleVerifier [0x00007FF714068EF2+54786]\n\t(No symbol) [0x00007FF713FD5612]\n\t(No symbol) [0x00007FF713E8A64B]\n\t(No symbol) [0x00007FF713E6A9F5]\n\t(No symbol) [0x00007FF713EF0887]\n\t(No symbol) [0x00007FF713F043CF]\n\t(No symbol) [0x00007FF713EEBC43]\n\t(No symbol) [0x00007FF713EC0941]\n\t(No symbol) [0x00007FF713EC1B84]\n\tGetHandleVerifier [0x00007FF7143B7F52+3524194]\n\tGetHandleVerifier [0x00007FF71440D800+3874576]\n\tGetHandleVerifier [0x00007FF714405D7F+3843215]\n\tGetHandleVerifier [0x00007FF714105086+694166]\n\t(No symbol) [0x00007FF713FE0A88]\n\t(No symbol) [0x00007FF713FDCA94]\n\t(No symbol) [0x00007FF713FDCBC2]\n\t(No symbol) [0x00007FF713FCCC83]\n\tBaseThreadInitThunk [0x00007FFBE2737344+20]\n\tRtlUserThreadStart [0x00007FFBE40626B1+33]\n"
     ]
    }
   ],
   "source": [
    "add_description('selected_problems_vivo.csv')"
   ]
  }
 ],
 "metadata": {
  "kernelspec": {
   "display_name": "Python 3",
   "language": "python",
   "name": "python3"
  },
  "language_info": {
   "codemirror_mode": {
    "name": "ipython",
    "version": 3
   },
   "file_extension": ".py",
   "mimetype": "text/x-python",
   "name": "python",
   "nbconvert_exporter": "python",
   "pygments_lexer": "ipython3",
   "version": "3.9.13"
  },
  "orig_nbformat": 4
 },
 "nbformat": 4,
 "nbformat_minor": 2
}
